{
 "cells": [
  {
   "cell_type": "markdown",
   "metadata": {},
   "source": [
    "# score 1,168,361.39014 얻은 노트북: 참가자 이경준\n",
    "---\n",
    "- 1~4 챕터까지는 노트북 순서대로 따라가면 되고, 5.는 맨밑의 main() 함수부터 위로 올라가면서 보면 됩니다."
   ]
  },
  {
   "cell_type": "markdown",
   "metadata": {},
   "source": [
    "# 목차\n",
    "- [1. Import libs](#1.-Import-libs)\n",
    "- [2. Read data](#2.-Read-data)\n",
    "- [3. EDA & FE](#3.-EDA-%26amp%3B-FE)\n",
    "    - [3.1 title : 영화의 제목](#3.1-title)\n",
    "    - [3.2 distributor : 배급사](#3.2-distributor)\n",
    "    - [3.3 genre : 장르](#3.3-genre)\n",
    "    - [3.4 release_time : 개봉일](#3.4-release_time)\n",
    "    - [3.5 time : 상영시간(분)](#3.5-time)\n",
    "    - [3.6 screening_rat : 상영등급](#3.6-screening_rat)\n",
    "    - [3.7 director : 감독이름](#3.7-director)\n",
    "    - [3.8 dir_prev_bfnum : 해당 감독이 이 영화를 만들기 전 제작에 참여한 영화에서의 평균 관객수](#3.8-dir_prev_bfnum)\n",
    "    - [3.9 dir_prev_num : 해당 감독이 이 영화를 만들기 전 제작에 참여한 영화의 개수](#3.9-dir_prev_num)\n",
    "    - [3.10 num_staff : 스테프수](#3.10-num_staff)\n",
    "    - [3.11 num_actor : 주연배우수](#3.11-num_actor)\n",
    "    - [3.12 feature cleanup](#3.12-feature-cleanup)\n",
    "- [4. Data Preparation](#4.-Data-preparation)\n",
    "- [5. Modelling & Learning](#5.-Modelling-%26amp%3B-Learning)\n",
    "- [Epilogue](#Epilogue)"
   ]
  },
  {
   "cell_type": "markdown",
   "metadata": {},
   "source": [
    "# 1. Import libs"
   ]
  },
  {
   "cell_type": "code",
   "execution_count": 1,
   "metadata": {},
   "outputs": [],
   "source": [
    "import matplotlib\n",
    "%matplotlib inline\n",
    "\n",
    "import matplotlib.pyplot as plt\n",
    "from tqdm import tqdm_notebook\n",
    "import seaborn as sns\n",
    "import pandas as pd\n",
    "import numpy as np\n",
    "import warnings\n",
    "import re\n",
    "import gc\n",
    "import timeit\n",
    "from datetime import datetime\n",
    "\n",
    "warnings.filterwarnings(\"ignore\")"
   ]
  },
  {
   "cell_type": "code",
   "execution_count": 2,
   "metadata": {},
   "outputs": [],
   "source": [
    "# 그래프에 한글표현.\n",
    "plt.rcParams[\"font.family\"] = 'NanumGothic'\n",
    "plt.rcParams[\"font.size\"] = 10\n",
    "pd.options.display.float_format = '{:_.3f}'.format"
   ]
  },
  {
   "cell_type": "markdown",
   "metadata": {},
   "source": [
    "# 2. Read data"
   ]
  },
  {
   "cell_type": "code",
   "execution_count": 3,
   "metadata": {},
   "outputs": [],
   "source": [
    "start_time = timeit.default_timer()"
   ]
  },
  {
   "cell_type": "code",
   "execution_count": 4,
   "metadata": {},
   "outputs": [
    {
     "data": {
      "text/html": [
       "<div>\n",
       "<style scoped>\n",
       "    .dataframe tbody tr th:only-of-type {\n",
       "        vertical-align: middle;\n",
       "    }\n",
       "\n",
       "    .dataframe tbody tr th {\n",
       "        vertical-align: top;\n",
       "    }\n",
       "\n",
       "    .dataframe thead th {\n",
       "        text-align: right;\n",
       "    }\n",
       "</style>\n",
       "<table border=\"1\" class=\"dataframe\">\n",
       "  <thead>\n",
       "    <tr style=\"text-align: right;\">\n",
       "      <th></th>\n",
       "      <th>0</th>\n",
       "      <th>1</th>\n",
       "      <th>2</th>\n",
       "      <th>3</th>\n",
       "      <th>4</th>\n",
       "    </tr>\n",
       "  </thead>\n",
       "  <tbody>\n",
       "    <tr>\n",
       "      <th>title</th>\n",
       "      <td>개들의 전쟁</td>\n",
       "      <td>내부자들</td>\n",
       "      <td>은밀하게 위대하게</td>\n",
       "      <td>나는 공무원이다</td>\n",
       "      <td>불량남녀</td>\n",
       "    </tr>\n",
       "    <tr>\n",
       "      <th>distributor</th>\n",
       "      <td>롯데엔터테인먼트</td>\n",
       "      <td>(주)쇼박스</td>\n",
       "      <td>(주)쇼박스</td>\n",
       "      <td>(주)NEW</td>\n",
       "      <td>쇼박스(주)미디어플렉스</td>\n",
       "    </tr>\n",
       "    <tr>\n",
       "      <th>genre</th>\n",
       "      <td>액션</td>\n",
       "      <td>느와르</td>\n",
       "      <td>액션</td>\n",
       "      <td>코미디</td>\n",
       "      <td>코미디</td>\n",
       "    </tr>\n",
       "    <tr>\n",
       "      <th>release_time</th>\n",
       "      <td>2012-11-22</td>\n",
       "      <td>2015-11-19</td>\n",
       "      <td>2013-06-05</td>\n",
       "      <td>2012-07-12</td>\n",
       "      <td>2010-11-04</td>\n",
       "    </tr>\n",
       "    <tr>\n",
       "      <th>time</th>\n",
       "      <td>96</td>\n",
       "      <td>130</td>\n",
       "      <td>123</td>\n",
       "      <td>101</td>\n",
       "      <td>108</td>\n",
       "    </tr>\n",
       "    <tr>\n",
       "      <th>screening_rat</th>\n",
       "      <td>청소년 관람불가</td>\n",
       "      <td>청소년 관람불가</td>\n",
       "      <td>15세 관람가</td>\n",
       "      <td>전체 관람가</td>\n",
       "      <td>15세 관람가</td>\n",
       "    </tr>\n",
       "    <tr>\n",
       "      <th>director</th>\n",
       "      <td>조병옥</td>\n",
       "      <td>우민호</td>\n",
       "      <td>장철수</td>\n",
       "      <td>구자홍</td>\n",
       "      <td>신근호</td>\n",
       "    </tr>\n",
       "    <tr>\n",
       "      <th>dir_prev_bfnum</th>\n",
       "      <td>NaN</td>\n",
       "      <td>1_161_602.500</td>\n",
       "      <td>220_775.250</td>\n",
       "      <td>23_894.000</td>\n",
       "      <td>1.000</td>\n",
       "    </tr>\n",
       "    <tr>\n",
       "      <th>dir_prev_num</th>\n",
       "      <td>0</td>\n",
       "      <td>2</td>\n",
       "      <td>4</td>\n",
       "      <td>2</td>\n",
       "      <td>1</td>\n",
       "    </tr>\n",
       "    <tr>\n",
       "      <th>num_staff</th>\n",
       "      <td>91</td>\n",
       "      <td>387</td>\n",
       "      <td>343</td>\n",
       "      <td>20</td>\n",
       "      <td>251</td>\n",
       "    </tr>\n",
       "    <tr>\n",
       "      <th>num_actor</th>\n",
       "      <td>2</td>\n",
       "      <td>3</td>\n",
       "      <td>4</td>\n",
       "      <td>6</td>\n",
       "      <td>2</td>\n",
       "    </tr>\n",
       "    <tr>\n",
       "      <th>box_off_num</th>\n",
       "      <td>23398</td>\n",
       "      <td>7072501</td>\n",
       "      <td>6959083</td>\n",
       "      <td>217866</td>\n",
       "      <td>483387</td>\n",
       "    </tr>\n",
       "  </tbody>\n",
       "</table>\n",
       "</div>"
      ],
      "text/plain": [
       "                         0             1           2           3             4\n",
       "title               개들의 전쟁          내부자들   은밀하게 위대하게    나는 공무원이다          불량남녀\n",
       "distributor       롯데엔터테인먼트        (주)쇼박스      (주)쇼박스      (주)NEW  쇼박스(주)미디어플렉스\n",
       "genre                   액션           느와르          액션         코미디           코미디\n",
       "release_time    2012-11-22    2015-11-19  2013-06-05  2012-07-12    2010-11-04\n",
       "time                    96           130         123         101           108\n",
       "screening_rat     청소년 관람불가      청소년 관람불가     15세 관람가      전체 관람가       15세 관람가\n",
       "director               조병옥           우민호         장철수         구자홍           신근호\n",
       "dir_prev_bfnum         NaN 1_161_602.500 220_775.250  23_894.000         1.000\n",
       "dir_prev_num             0             2           4           2             1\n",
       "num_staff               91           387         343          20           251\n",
       "num_actor                2             3           4           6             2\n",
       "box_off_num          23398       7072501     6959083      217866        483387"
      ]
     },
     "execution_count": 4,
     "metadata": {},
     "output_type": "execute_result"
    }
   ],
   "source": [
    "train = pd.read_csv('./movies_train.csv')\n",
    "test = pd.read_csv('./movies_test.csv')\n",
    "\n",
    "train.head(5).T"
   ]
  },
  {
   "cell_type": "code",
   "execution_count": 5,
   "metadata": {},
   "outputs": [
    {
     "name": "stdout",
     "output_type": "stream",
     "text": [
      "<class 'pandas.core.frame.DataFrame'>\n",
      "RangeIndex: 600 entries, 0 to 599\n",
      "Data columns (total 12 columns):\n",
      "title             600 non-null object\n",
      "distributor       600 non-null object\n",
      "genre             600 non-null object\n",
      "release_time      600 non-null object\n",
      "time              600 non-null int64\n",
      "screening_rat     600 non-null object\n",
      "director          600 non-null object\n",
      "dir_prev_bfnum    270 non-null float64\n",
      "dir_prev_num      600 non-null int64\n",
      "num_staff         600 non-null int64\n",
      "num_actor         600 non-null int64\n",
      "box_off_num       600 non-null int64\n",
      "dtypes: float64(1), int64(5), object(6)\n",
      "memory usage: 56.3+ KB\n"
     ]
    }
   ],
   "source": [
    "train.info()"
   ]
  },
  {
   "cell_type": "markdown",
   "metadata": {},
   "source": [
    "- **dir_prev_bfnum** 열에 (600-270=330개) **데이터 누락** 확인\n",
    "---"
   ]
  },
  {
   "cell_type": "code",
   "execution_count": 6,
   "metadata": {},
   "outputs": [
    {
     "data": {
      "text/html": [
       "<div>\n",
       "<style scoped>\n",
       "    .dataframe tbody tr th:only-of-type {\n",
       "        vertical-align: middle;\n",
       "    }\n",
       "\n",
       "    .dataframe tbody tr th {\n",
       "        vertical-align: top;\n",
       "    }\n",
       "\n",
       "    .dataframe thead th {\n",
       "        text-align: right;\n",
       "    }\n",
       "</style>\n",
       "<table border=\"1\" class=\"dataframe\">\n",
       "  <thead>\n",
       "    <tr style=\"text-align: right;\">\n",
       "      <th></th>\n",
       "      <th>count</th>\n",
       "      <th>unique</th>\n",
       "      <th>top</th>\n",
       "      <th>freq</th>\n",
       "      <th>mean</th>\n",
       "      <th>std</th>\n",
       "      <th>min</th>\n",
       "      <th>25%</th>\n",
       "      <th>50%</th>\n",
       "      <th>75%</th>\n",
       "      <th>max</th>\n",
       "    </tr>\n",
       "  </thead>\n",
       "  <tbody>\n",
       "    <tr>\n",
       "      <th>title</th>\n",
       "      <td>600</td>\n",
       "      <td>600</td>\n",
       "      <td>권법형사 : 차이나타운</td>\n",
       "      <td>1</td>\n",
       "      <td>NaN</td>\n",
       "      <td>NaN</td>\n",
       "      <td>NaN</td>\n",
       "      <td>NaN</td>\n",
       "      <td>NaN</td>\n",
       "      <td>NaN</td>\n",
       "      <td>NaN</td>\n",
       "    </tr>\n",
       "    <tr>\n",
       "      <th>distributor</th>\n",
       "      <td>600</td>\n",
       "      <td>169</td>\n",
       "      <td>CJ 엔터테인먼트</td>\n",
       "      <td>54</td>\n",
       "      <td>NaN</td>\n",
       "      <td>NaN</td>\n",
       "      <td>NaN</td>\n",
       "      <td>NaN</td>\n",
       "      <td>NaN</td>\n",
       "      <td>NaN</td>\n",
       "      <td>NaN</td>\n",
       "    </tr>\n",
       "    <tr>\n",
       "      <th>genre</th>\n",
       "      <td>600</td>\n",
       "      <td>12</td>\n",
       "      <td>드라마</td>\n",
       "      <td>221</td>\n",
       "      <td>NaN</td>\n",
       "      <td>NaN</td>\n",
       "      <td>NaN</td>\n",
       "      <td>NaN</td>\n",
       "      <td>NaN</td>\n",
       "      <td>NaN</td>\n",
       "      <td>NaN</td>\n",
       "    </tr>\n",
       "    <tr>\n",
       "      <th>release_time</th>\n",
       "      <td>600</td>\n",
       "      <td>330</td>\n",
       "      <td>2015-10-22</td>\n",
       "      <td>6</td>\n",
       "      <td>NaN</td>\n",
       "      <td>NaN</td>\n",
       "      <td>NaN</td>\n",
       "      <td>NaN</td>\n",
       "      <td>NaN</td>\n",
       "      <td>NaN</td>\n",
       "      <td>NaN</td>\n",
       "    </tr>\n",
       "    <tr>\n",
       "      <th>time</th>\n",
       "      <td>600.000</td>\n",
       "      <td>NaN</td>\n",
       "      <td>NaN</td>\n",
       "      <td>NaN</td>\n",
       "      <td>100.863</td>\n",
       "      <td>18.098</td>\n",
       "      <td>45.000</td>\n",
       "      <td>89.000</td>\n",
       "      <td>100.000</td>\n",
       "      <td>114.000</td>\n",
       "      <td>180.000</td>\n",
       "    </tr>\n",
       "    <tr>\n",
       "      <th>screening_rat</th>\n",
       "      <td>600</td>\n",
       "      <td>4</td>\n",
       "      <td>청소년 관람불가</td>\n",
       "      <td>204</td>\n",
       "      <td>NaN</td>\n",
       "      <td>NaN</td>\n",
       "      <td>NaN</td>\n",
       "      <td>NaN</td>\n",
       "      <td>NaN</td>\n",
       "      <td>NaN</td>\n",
       "      <td>NaN</td>\n",
       "    </tr>\n",
       "    <tr>\n",
       "      <th>director</th>\n",
       "      <td>600</td>\n",
       "      <td>472</td>\n",
       "      <td>홍상수</td>\n",
       "      <td>7</td>\n",
       "      <td>NaN</td>\n",
       "      <td>NaN</td>\n",
       "      <td>NaN</td>\n",
       "      <td>NaN</td>\n",
       "      <td>NaN</td>\n",
       "      <td>NaN</td>\n",
       "      <td>NaN</td>\n",
       "    </tr>\n",
       "    <tr>\n",
       "      <th>dir_prev_bfnum</th>\n",
       "      <td>270.000</td>\n",
       "      <td>NaN</td>\n",
       "      <td>NaN</td>\n",
       "      <td>NaN</td>\n",
       "      <td>1_050_442.891</td>\n",
       "      <td>1_791_408.303</td>\n",
       "      <td>1.000</td>\n",
       "      <td>20_380.000</td>\n",
       "      <td>478_423.625</td>\n",
       "      <td>1_286_568.625</td>\n",
       "      <td>17_615_314.000</td>\n",
       "    </tr>\n",
       "    <tr>\n",
       "      <th>dir_prev_num</th>\n",
       "      <td>600.000</td>\n",
       "      <td>NaN</td>\n",
       "      <td>NaN</td>\n",
       "      <td>NaN</td>\n",
       "      <td>0.877</td>\n",
       "      <td>1.183</td>\n",
       "      <td>0.000</td>\n",
       "      <td>0.000</td>\n",
       "      <td>0.000</td>\n",
       "      <td>2.000</td>\n",
       "      <td>5.000</td>\n",
       "    </tr>\n",
       "    <tr>\n",
       "      <th>num_staff</th>\n",
       "      <td>600.000</td>\n",
       "      <td>NaN</td>\n",
       "      <td>NaN</td>\n",
       "      <td>NaN</td>\n",
       "      <td>151.118</td>\n",
       "      <td>165.655</td>\n",
       "      <td>0.000</td>\n",
       "      <td>17.000</td>\n",
       "      <td>82.500</td>\n",
       "      <td>264.000</td>\n",
       "      <td>869.000</td>\n",
       "    </tr>\n",
       "    <tr>\n",
       "      <th>num_actor</th>\n",
       "      <td>600.000</td>\n",
       "      <td>NaN</td>\n",
       "      <td>NaN</td>\n",
       "      <td>NaN</td>\n",
       "      <td>3.707</td>\n",
       "      <td>2.447</td>\n",
       "      <td>0.000</td>\n",
       "      <td>2.000</td>\n",
       "      <td>3.000</td>\n",
       "      <td>4.000</td>\n",
       "      <td>25.000</td>\n",
       "    </tr>\n",
       "    <tr>\n",
       "      <th>box_off_num</th>\n",
       "      <td>600.000</td>\n",
       "      <td>NaN</td>\n",
       "      <td>NaN</td>\n",
       "      <td>NaN</td>\n",
       "      <td>708_181.752</td>\n",
       "      <td>1_828_005.851</td>\n",
       "      <td>1.000</td>\n",
       "      <td>1_297.250</td>\n",
       "      <td>12_591.000</td>\n",
       "      <td>479_886.750</td>\n",
       "      <td>14_262_766.000</td>\n",
       "    </tr>\n",
       "  </tbody>\n",
       "</table>\n",
       "</div>"
      ],
      "text/plain": [
       "                 count unique           top freq          mean           std  \\\n",
       "title              600    600  권법형사 : 차이나타운    1           NaN           NaN   \n",
       "distributor        600    169     CJ 엔터테인먼트   54           NaN           NaN   \n",
       "genre              600     12           드라마  221           NaN           NaN   \n",
       "release_time       600    330    2015-10-22    6           NaN           NaN   \n",
       "time           600.000    NaN           NaN  NaN       100.863        18.098   \n",
       "screening_rat      600      4      청소년 관람불가  204           NaN           NaN   \n",
       "director           600    472           홍상수    7           NaN           NaN   \n",
       "dir_prev_bfnum 270.000    NaN           NaN  NaN 1_050_442.891 1_791_408.303   \n",
       "dir_prev_num   600.000    NaN           NaN  NaN         0.877         1.183   \n",
       "num_staff      600.000    NaN           NaN  NaN       151.118       165.655   \n",
       "num_actor      600.000    NaN           NaN  NaN         3.707         2.447   \n",
       "box_off_num    600.000    NaN           NaN  NaN   708_181.752 1_828_005.851   \n",
       "\n",
       "                  min        25%         50%           75%            max  \n",
       "title             NaN        NaN         NaN           NaN            NaN  \n",
       "distributor       NaN        NaN         NaN           NaN            NaN  \n",
       "genre             NaN        NaN         NaN           NaN            NaN  \n",
       "release_time      NaN        NaN         NaN           NaN            NaN  \n",
       "time           45.000     89.000     100.000       114.000        180.000  \n",
       "screening_rat     NaN        NaN         NaN           NaN            NaN  \n",
       "director          NaN        NaN         NaN           NaN            NaN  \n",
       "dir_prev_bfnum  1.000 20_380.000 478_423.625 1_286_568.625 17_615_314.000  \n",
       "dir_prev_num    0.000      0.000       0.000         2.000          5.000  \n",
       "num_staff       0.000     17.000      82.500       264.000        869.000  \n",
       "num_actor       0.000      2.000       3.000         4.000         25.000  \n",
       "box_off_num     1.000  1_297.250  12_591.000   479_886.750 14_262_766.000  "
      ]
     },
     "execution_count": 6,
     "metadata": {},
     "output_type": "execute_result"
    }
   ],
   "source": [
    "train.describe(include='all').T"
   ]
  },
  {
   "cell_type": "markdown",
   "metadata": {},
   "source": [
    "- title은 중복없음.\n",
    "- distributor는 169개의 다른 값을 가지고, 'CJ 엔..'가 54개로 가장 빈도가 많음.\n",
    "- genre는 12개 분류고, '드라마' 장르가 가장 많음.\n",
    "- release_time 패스.\n",
    "- time은 평균 100.9분.\n",
    "- screening_rat은 총 4개개 등급이고, 청관불이 가장 많음.\n",
    "- director는 총 472명이고, '홍상수'가 가장 많음.\n",
    "- **dir_prev_bfnum은 총 600개 중에 330개가 누락.**\n",
    "- dir_prev_num은 최대가 5편, 중간값이 0편으로 데이터상 처녀작 감독이 과반.\n",
    "- num_staff는 평균 151명.\n",
    "- num_actor는 평균 4명.\n",
    "- box_off_num의 평균은 708_182명.\n",
    "---"
   ]
  },
  {
   "cell_type": "code",
   "execution_count": 7,
   "metadata": {},
   "outputs": [
    {
     "data": {
      "text/html": [
       "<div>\n",
       "<style scoped>\n",
       "    .dataframe tbody tr th:only-of-type {\n",
       "        vertical-align: middle;\n",
       "    }\n",
       "\n",
       "    .dataframe tbody tr th {\n",
       "        vertical-align: top;\n",
       "    }\n",
       "\n",
       "    .dataframe thead th {\n",
       "        text-align: right;\n",
       "    }\n",
       "</style>\n",
       "<table border=\"1\" class=\"dataframe\">\n",
       "  <thead>\n",
       "    <tr style=\"text-align: right;\">\n",
       "      <th></th>\n",
       "      <th>count</th>\n",
       "      <th>unique</th>\n",
       "      <th>top</th>\n",
       "      <th>freq</th>\n",
       "      <th>mean</th>\n",
       "      <th>std</th>\n",
       "      <th>min</th>\n",
       "      <th>25%</th>\n",
       "      <th>50%</th>\n",
       "      <th>75%</th>\n",
       "      <th>max</th>\n",
       "    </tr>\n",
       "  </thead>\n",
       "  <tbody>\n",
       "    <tr>\n",
       "      <th>title</th>\n",
       "      <td>243</td>\n",
       "      <td>243</td>\n",
       "      <td>춘희막이</td>\n",
       "      <td>1</td>\n",
       "      <td>NaN</td>\n",
       "      <td>NaN</td>\n",
       "      <td>NaN</td>\n",
       "      <td>NaN</td>\n",
       "      <td>NaN</td>\n",
       "      <td>NaN</td>\n",
       "      <td>NaN</td>\n",
       "    </tr>\n",
       "    <tr>\n",
       "      <th>distributor</th>\n",
       "      <td>243</td>\n",
       "      <td>93</td>\n",
       "      <td>CJ 엔터테인먼트</td>\n",
       "      <td>31</td>\n",
       "      <td>NaN</td>\n",
       "      <td>NaN</td>\n",
       "      <td>NaN</td>\n",
       "      <td>NaN</td>\n",
       "      <td>NaN</td>\n",
       "      <td>NaN</td>\n",
       "      <td>NaN</td>\n",
       "    </tr>\n",
       "    <tr>\n",
       "      <th>genre</th>\n",
       "      <td>243</td>\n",
       "      <td>12</td>\n",
       "      <td>드라마</td>\n",
       "      <td>78</td>\n",
       "      <td>NaN</td>\n",
       "      <td>NaN</td>\n",
       "      <td>NaN</td>\n",
       "      <td>NaN</td>\n",
       "      <td>NaN</td>\n",
       "      <td>NaN</td>\n",
       "      <td>NaN</td>\n",
       "    </tr>\n",
       "    <tr>\n",
       "      <th>release_time</th>\n",
       "      <td>243</td>\n",
       "      <td>182</td>\n",
       "      <td>2012-11-22</td>\n",
       "      <td>4</td>\n",
       "      <td>NaN</td>\n",
       "      <td>NaN</td>\n",
       "      <td>NaN</td>\n",
       "      <td>NaN</td>\n",
       "      <td>NaN</td>\n",
       "      <td>NaN</td>\n",
       "      <td>NaN</td>\n",
       "    </tr>\n",
       "    <tr>\n",
       "      <th>time</th>\n",
       "      <td>243.000</td>\n",
       "      <td>NaN</td>\n",
       "      <td>NaN</td>\n",
       "      <td>NaN</td>\n",
       "      <td>109.798</td>\n",
       "      <td>124.023</td>\n",
       "      <td>40.000</td>\n",
       "      <td>91.000</td>\n",
       "      <td>104.000</td>\n",
       "      <td>114.500</td>\n",
       "      <td>2_015.000</td>\n",
       "    </tr>\n",
       "    <tr>\n",
       "      <th>screening_rat</th>\n",
       "      <td>243</td>\n",
       "      <td>4</td>\n",
       "      <td>청소년 관람불가</td>\n",
       "      <td>93</td>\n",
       "      <td>NaN</td>\n",
       "      <td>NaN</td>\n",
       "      <td>NaN</td>\n",
       "      <td>NaN</td>\n",
       "      <td>NaN</td>\n",
       "      <td>NaN</td>\n",
       "      <td>NaN</td>\n",
       "    </tr>\n",
       "    <tr>\n",
       "      <th>director</th>\n",
       "      <td>243</td>\n",
       "      <td>220</td>\n",
       "      <td>이정호</td>\n",
       "      <td>3</td>\n",
       "      <td>NaN</td>\n",
       "      <td>NaN</td>\n",
       "      <td>NaN</td>\n",
       "      <td>NaN</td>\n",
       "      <td>NaN</td>\n",
       "      <td>NaN</td>\n",
       "      <td>NaN</td>\n",
       "    </tr>\n",
       "    <tr>\n",
       "      <th>dir_prev_bfnum</th>\n",
       "      <td>107.000</td>\n",
       "      <td>NaN</td>\n",
       "      <td>NaN</td>\n",
       "      <td>NaN</td>\n",
       "      <td>891_669.516</td>\n",
       "      <td>1_217_341.455</td>\n",
       "      <td>34.000</td>\n",
       "      <td>62_502.000</td>\n",
       "      <td>493_120.000</td>\n",
       "      <td>1_080_849.583</td>\n",
       "      <td>6_173_099.500</td>\n",
       "    </tr>\n",
       "    <tr>\n",
       "      <th>dir_prev_num</th>\n",
       "      <td>243.000</td>\n",
       "      <td>NaN</td>\n",
       "      <td>NaN</td>\n",
       "      <td>NaN</td>\n",
       "      <td>0.852</td>\n",
       "      <td>1.200</td>\n",
       "      <td>0.000</td>\n",
       "      <td>0.000</td>\n",
       "      <td>0.000</td>\n",
       "      <td>1.000</td>\n",
       "      <td>6.000</td>\n",
       "    </tr>\n",
       "    <tr>\n",
       "      <th>num_staff</th>\n",
       "      <td>243.000</td>\n",
       "      <td>NaN</td>\n",
       "      <td>NaN</td>\n",
       "      <td>NaN</td>\n",
       "      <td>159.317</td>\n",
       "      <td>162.977</td>\n",
       "      <td>0.000</td>\n",
       "      <td>18.000</td>\n",
       "      <td>105.000</td>\n",
       "      <td>282.000</td>\n",
       "      <td>776.000</td>\n",
       "    </tr>\n",
       "    <tr>\n",
       "      <th>num_actor</th>\n",
       "      <td>243.000</td>\n",
       "      <td>NaN</td>\n",
       "      <td>NaN</td>\n",
       "      <td>NaN</td>\n",
       "      <td>3.477</td>\n",
       "      <td>2.111</td>\n",
       "      <td>0.000</td>\n",
       "      <td>2.000</td>\n",
       "      <td>3.000</td>\n",
       "      <td>4.000</td>\n",
       "      <td>16.000</td>\n",
       "    </tr>\n",
       "  </tbody>\n",
       "</table>\n",
       "</div>"
      ],
      "text/plain": [
       "                 count unique         top freq        mean           std  \\\n",
       "title              243    243        춘희막이    1         NaN           NaN   \n",
       "distributor        243     93   CJ 엔터테인먼트   31         NaN           NaN   \n",
       "genre              243     12         드라마   78         NaN           NaN   \n",
       "release_time       243    182  2012-11-22    4         NaN           NaN   \n",
       "time           243.000    NaN         NaN  NaN     109.798       124.023   \n",
       "screening_rat      243      4    청소년 관람불가   93         NaN           NaN   \n",
       "director           243    220         이정호    3         NaN           NaN   \n",
       "dir_prev_bfnum 107.000    NaN         NaN  NaN 891_669.516 1_217_341.455   \n",
       "dir_prev_num   243.000    NaN         NaN  NaN       0.852         1.200   \n",
       "num_staff      243.000    NaN         NaN  NaN     159.317       162.977   \n",
       "num_actor      243.000    NaN         NaN  NaN       3.477         2.111   \n",
       "\n",
       "                  min        25%         50%           75%           max  \n",
       "title             NaN        NaN         NaN           NaN           NaN  \n",
       "distributor       NaN        NaN         NaN           NaN           NaN  \n",
       "genre             NaN        NaN         NaN           NaN           NaN  \n",
       "release_time      NaN        NaN         NaN           NaN           NaN  \n",
       "time           40.000     91.000     104.000       114.500     2_015.000  \n",
       "screening_rat     NaN        NaN         NaN           NaN           NaN  \n",
       "director          NaN        NaN         NaN           NaN           NaN  \n",
       "dir_prev_bfnum 34.000 62_502.000 493_120.000 1_080_849.583 6_173_099.500  \n",
       "dir_prev_num    0.000      0.000       0.000         1.000         6.000  \n",
       "num_staff       0.000     18.000     105.000       282.000       776.000  \n",
       "num_actor       0.000      2.000       3.000         4.000        16.000  "
      ]
     },
     "execution_count": 7,
     "metadata": {},
     "output_type": "execute_result"
    }
   ],
   "source": [
    "test.describe(include='all').T"
   ]
  },
  {
   "cell_type": "code",
   "execution_count": 8,
   "metadata": {},
   "outputs": [
    {
     "name": "stdout",
     "output_type": "stream",
     "text": [
      "<class 'pandas.core.frame.DataFrame'>\n",
      "RangeIndex: 243 entries, 0 to 242\n",
      "Data columns (total 11 columns):\n",
      "title             243 non-null object\n",
      "distributor       243 non-null object\n",
      "genre             243 non-null object\n",
      "release_time      243 non-null object\n",
      "time              243 non-null int64\n",
      "screening_rat     243 non-null object\n",
      "director          243 non-null object\n",
      "dir_prev_bfnum    107 non-null float64\n",
      "dir_prev_num      243 non-null int64\n",
      "num_staff         243 non-null int64\n",
      "num_actor         243 non-null int64\n",
      "dtypes: float64(1), int64(4), object(6)\n",
      "memory usage: 21.0+ KB\n"
     ]
    }
   ],
   "source": [
    "test.info()"
   ]
  },
  {
   "cell_type": "markdown",
   "metadata": {},
   "source": [
    "- train/test 두 데이터 모두 **dir_prev_bfnum**에 데이터 결손이 50% 가까이 있음 --> feature 유효성 혹은 결측치를 채우는 방법에 대한 고민 필요.\n",
    "---"
   ]
  },
  {
   "cell_type": "code",
   "execution_count": 9,
   "metadata": {},
   "outputs": [
    {
     "data": {
      "text/html": [
       "<div>\n",
       "<style scoped>\n",
       "    .dataframe tbody tr th:only-of-type {\n",
       "        vertical-align: middle;\n",
       "    }\n",
       "\n",
       "    .dataframe tbody tr th {\n",
       "        vertical-align: top;\n",
       "    }\n",
       "\n",
       "    .dataframe thead th {\n",
       "        text-align: right;\n",
       "    }\n",
       "</style>\n",
       "<table border=\"1\" class=\"dataframe\">\n",
       "  <thead>\n",
       "    <tr style=\"text-align: right;\">\n",
       "      <th></th>\n",
       "      <th>838</th>\n",
       "      <th>839</th>\n",
       "      <th>840</th>\n",
       "      <th>841</th>\n",
       "      <th>842</th>\n",
       "    </tr>\n",
       "  </thead>\n",
       "  <tbody>\n",
       "    <tr>\n",
       "      <th>box_off_num</th>\n",
       "      <td>NaN</td>\n",
       "      <td>NaN</td>\n",
       "      <td>NaN</td>\n",
       "      <td>NaN</td>\n",
       "      <td>NaN</td>\n",
       "    </tr>\n",
       "    <tr>\n",
       "      <th>dir_prev_bfnum</th>\n",
       "      <td>2_590.000</td>\n",
       "      <td>NaN</td>\n",
       "      <td>NaN</td>\n",
       "      <td>50_699.000</td>\n",
       "      <td>NaN</td>\n",
       "    </tr>\n",
       "    <tr>\n",
       "      <th>dir_prev_num</th>\n",
       "      <td>1</td>\n",
       "      <td>0</td>\n",
       "      <td>0</td>\n",
       "      <td>1</td>\n",
       "      <td>0</td>\n",
       "    </tr>\n",
       "    <tr>\n",
       "      <th>director</th>\n",
       "      <td>안슬기</td>\n",
       "      <td>이일하</td>\n",
       "      <td>안용훈</td>\n",
       "      <td>송동윤</td>\n",
       "      <td>이전</td>\n",
       "    </tr>\n",
       "    <tr>\n",
       "      <th>distributor</th>\n",
       "      <td>디씨드</td>\n",
       "      <td>인디스토리</td>\n",
       "      <td>(주)컨텐츠온미디어</td>\n",
       "      <td>(주)씨타마운틴픽쳐스</td>\n",
       "      <td>(주) 케이알씨지</td>\n",
       "    </tr>\n",
       "    <tr>\n",
       "      <th>genre</th>\n",
       "      <td>드라마</td>\n",
       "      <td>다큐멘터리</td>\n",
       "      <td>느와르</td>\n",
       "      <td>드라마</td>\n",
       "      <td>멜로/로맨스</td>\n",
       "    </tr>\n",
       "    <tr>\n",
       "      <th>num_actor</th>\n",
       "      <td>4</td>\n",
       "      <td>2</td>\n",
       "      <td>4</td>\n",
       "      <td>7</td>\n",
       "      <td>4</td>\n",
       "    </tr>\n",
       "    <tr>\n",
       "      <th>num_staff</th>\n",
       "      <td>4</td>\n",
       "      <td>18</td>\n",
       "      <td>224</td>\n",
       "      <td>68</td>\n",
       "      <td>10</td>\n",
       "    </tr>\n",
       "    <tr>\n",
       "      <th>release_time</th>\n",
       "      <td>2015-11-19</td>\n",
       "      <td>2015-10-29</td>\n",
       "      <td>2015-10-28</td>\n",
       "      <td>2015-10-22</td>\n",
       "      <td>2015-10-22</td>\n",
       "    </tr>\n",
       "    <tr>\n",
       "      <th>screening_rat</th>\n",
       "      <td>15세 관람가</td>\n",
       "      <td>12세 관람가</td>\n",
       "      <td>청소년 관람불가</td>\n",
       "      <td>청소년 관람불가</td>\n",
       "      <td>청소년 관람불가</td>\n",
       "    </tr>\n",
       "    <tr>\n",
       "      <th>time</th>\n",
       "      <td>78</td>\n",
       "      <td>86</td>\n",
       "      <td>107</td>\n",
       "      <td>102</td>\n",
       "      <td>76</td>\n",
       "    </tr>\n",
       "    <tr>\n",
       "      <th>title</th>\n",
       "      <td>해에게서 소년에게</td>\n",
       "      <td>울보 권투부</td>\n",
       "      <td>어떤살인</td>\n",
       "      <td>말하지 못한 비밀</td>\n",
       "      <td>조선안방 스캔들-칠거지악 2</td>\n",
       "    </tr>\n",
       "  </tbody>\n",
       "</table>\n",
       "</div>"
      ],
      "text/plain": [
       "                       838         839         840          841  \\\n",
       "box_off_num            NaN         NaN         NaN          NaN   \n",
       "dir_prev_bfnum   2_590.000         NaN         NaN   50_699.000   \n",
       "dir_prev_num             1           0           0            1   \n",
       "director               안슬기         이일하         안용훈          송동윤   \n",
       "distributor            디씨드       인디스토리  (주)컨텐츠온미디어  (주)씨타마운틴픽쳐스   \n",
       "genre                  드라마       다큐멘터리         느와르          드라마   \n",
       "num_actor                4           2           4            7   \n",
       "num_staff                4          18         224           68   \n",
       "release_time    2015-11-19  2015-10-29  2015-10-28   2015-10-22   \n",
       "screening_rat      15세 관람가     12세 관람가    청소년 관람불가     청소년 관람불가   \n",
       "time                    78          86         107          102   \n",
       "title            해에게서 소년에게      울보 권투부        어떤살인    말하지 못한 비밀   \n",
       "\n",
       "                            842  \n",
       "box_off_num                 NaN  \n",
       "dir_prev_bfnum              NaN  \n",
       "dir_prev_num                  0  \n",
       "director                     이전  \n",
       "distributor           (주) 케이알씨지  \n",
       "genre                    멜로/로맨스  \n",
       "num_actor                     4  \n",
       "num_staff                    10  \n",
       "release_time         2015-10-22  \n",
       "screening_rat          청소년 관람불가  \n",
       "time                         76  \n",
       "title           조선안방 스캔들-칠거지악 2  "
      ]
     },
     "execution_count": 9,
     "metadata": {},
     "output_type": "execute_result"
    }
   ],
   "source": [
    "total = pd.concat([train, test], ignore_index=True)\n",
    "total.tail().T"
   ]
  },
  {
   "cell_type": "markdown",
   "metadata": {},
   "source": [
    "- 데이터 처리를 한꺼번에 하기 위해서, train과 test를 하나의 데이터프레임으로 묶음.\n",
    "- **box_off_num열의 값이 NaN이냐에 따라 train/test 데이터셋 구분 가능.**\n",
    "---"
   ]
  },
  {
   "cell_type": "markdown",
   "metadata": {},
   "source": [
    "# 3. EDA & FE\n",
    "## 3.1 title"
   ]
  },
  {
   "cell_type": "markdown",
   "metadata": {},
   "source": [
    "- 영화의 제목은, 관객들이 외우거나 칭하는 도구로서 항간에는 영화제목의 글자수와 흥행에 관한 속설(즉, 어느 정도 연관이 있음을 의미)도 있기에\n",
    "이를 feature로 포착. 이때, 가령 제목 '개들의 전쟁'은 프로그래밍상의 문자열로는 6이지만, 위의 속설과 관계해선 (개/들/의/전/쟁) 식으로\n",
    "글자수를 계산하는 한국(어)적인 특성을 반영해, 공백/쉼표 등을 제거하고 계산. 다만, 숫자 등 좀더 복잡한 케이스는 따로 고려치 않았음.\n",
    "- 즉, **제목(문자열) --> 제목수(숫자/길이)**로 피처 변경 시도."
   ]
  },
  {
   "cell_type": "code",
   "execution_count": 10,
   "metadata": {},
   "outputs": [
    {
     "data": {
      "text/html": [
       "<div>\n",
       "<style scoped>\n",
       "    .dataframe tbody tr th:only-of-type {\n",
       "        vertical-align: middle;\n",
       "    }\n",
       "\n",
       "    .dataframe tbody tr th {\n",
       "        vertical-align: top;\n",
       "    }\n",
       "\n",
       "    .dataframe thead th {\n",
       "        text-align: right;\n",
       "    }\n",
       "</style>\n",
       "<table border=\"1\" class=\"dataframe\">\n",
       "  <thead>\n",
       "    <tr style=\"text-align: right;\">\n",
       "      <th></th>\n",
       "      <th>0</th>\n",
       "      <th>1</th>\n",
       "      <th>2</th>\n",
       "    </tr>\n",
       "  </thead>\n",
       "  <tbody>\n",
       "    <tr>\n",
       "      <th>box_off_num</th>\n",
       "      <td>23_398.000</td>\n",
       "      <td>7_072_501.000</td>\n",
       "      <td>6_959_083.000</td>\n",
       "    </tr>\n",
       "    <tr>\n",
       "      <th>dir_prev_bfnum</th>\n",
       "      <td>NaN</td>\n",
       "      <td>1_161_602.500</td>\n",
       "      <td>220_775.250</td>\n",
       "    </tr>\n",
       "    <tr>\n",
       "      <th>dir_prev_num</th>\n",
       "      <td>0</td>\n",
       "      <td>2</td>\n",
       "      <td>4</td>\n",
       "    </tr>\n",
       "    <tr>\n",
       "      <th>director</th>\n",
       "      <td>조병옥</td>\n",
       "      <td>우민호</td>\n",
       "      <td>장철수</td>\n",
       "    </tr>\n",
       "    <tr>\n",
       "      <th>distributor</th>\n",
       "      <td>롯데엔터테인먼트</td>\n",
       "      <td>(주)쇼박스</td>\n",
       "      <td>(주)쇼박스</td>\n",
       "    </tr>\n",
       "    <tr>\n",
       "      <th>genre</th>\n",
       "      <td>액션</td>\n",
       "      <td>느와르</td>\n",
       "      <td>액션</td>\n",
       "    </tr>\n",
       "    <tr>\n",
       "      <th>num_actor</th>\n",
       "      <td>2</td>\n",
       "      <td>3</td>\n",
       "      <td>4</td>\n",
       "    </tr>\n",
       "    <tr>\n",
       "      <th>num_staff</th>\n",
       "      <td>91</td>\n",
       "      <td>387</td>\n",
       "      <td>343</td>\n",
       "    </tr>\n",
       "    <tr>\n",
       "      <th>release_time</th>\n",
       "      <td>2012-11-22</td>\n",
       "      <td>2015-11-19</td>\n",
       "      <td>2013-06-05</td>\n",
       "    </tr>\n",
       "    <tr>\n",
       "      <th>screening_rat</th>\n",
       "      <td>청소년 관람불가</td>\n",
       "      <td>청소년 관람불가</td>\n",
       "      <td>15세 관람가</td>\n",
       "    </tr>\n",
       "    <tr>\n",
       "      <th>time</th>\n",
       "      <td>96</td>\n",
       "      <td>130</td>\n",
       "      <td>123</td>\n",
       "    </tr>\n",
       "    <tr>\n",
       "      <th>title</th>\n",
       "      <td>개들의 전쟁</td>\n",
       "      <td>내부자들</td>\n",
       "      <td>은밀하게 위대하게</td>\n",
       "    </tr>\n",
       "    <tr>\n",
       "      <th>title_length</th>\n",
       "      <td>5</td>\n",
       "      <td>4</td>\n",
       "      <td>8</td>\n",
       "    </tr>\n",
       "  </tbody>\n",
       "</table>\n",
       "</div>"
      ],
      "text/plain": [
       "                         0             1             2\n",
       "box_off_num     23_398.000 7_072_501.000 6_959_083.000\n",
       "dir_prev_bfnum         NaN 1_161_602.500   220_775.250\n",
       "dir_prev_num             0             2             4\n",
       "director               조병옥           우민호           장철수\n",
       "distributor       롯데엔터테인먼트        (주)쇼박스        (주)쇼박스\n",
       "genre                   액션           느와르            액션\n",
       "num_actor                2             3             4\n",
       "num_staff               91           387           343\n",
       "release_time    2012-11-22    2015-11-19    2013-06-05\n",
       "screening_rat     청소년 관람불가      청소년 관람불가       15세 관람가\n",
       "time                    96           130           123\n",
       "title               개들의 전쟁          내부자들     은밀하게 위대하게\n",
       "title_length             5             4             8"
      ]
     },
     "execution_count": 10,
     "metadata": {},
     "output_type": "execute_result"
    }
   ],
   "source": [
    "def title_length(s):\n",
    "    s = re.sub('[^\\w]', '', s) # 공백제거\n",
    "    return len(s)\n",
    "\n",
    "total['title_length'] = total['title'].apply(title_length)\n",
    "total.head(3).T"
   ]
  },
  {
   "cell_type": "code",
   "execution_count": 11,
   "metadata": {},
   "outputs": [
    {
     "data": {
      "text/html": [
       "<div>\n",
       "<style scoped>\n",
       "    .dataframe tbody tr th:only-of-type {\n",
       "        vertical-align: middle;\n",
       "    }\n",
       "\n",
       "    .dataframe tbody tr th {\n",
       "        vertical-align: top;\n",
       "    }\n",
       "\n",
       "    .dataframe thead th {\n",
       "        text-align: right;\n",
       "    }\n",
       "</style>\n",
       "<table border=\"1\" class=\"dataframe\">\n",
       "  <thead>\n",
       "    <tr style=\"text-align: right;\">\n",
       "      <th></th>\n",
       "      <th>0</th>\n",
       "      <th>1</th>\n",
       "      <th>2</th>\n",
       "      <th>3</th>\n",
       "      <th>4</th>\n",
       "    </tr>\n",
       "  </thead>\n",
       "  <tbody>\n",
       "    <tr>\n",
       "      <th>box_off_num</th>\n",
       "      <td>23_398.000</td>\n",
       "      <td>7_072_501.000</td>\n",
       "      <td>6_959_083.000</td>\n",
       "      <td>217_866.000</td>\n",
       "      <td>483_387.000</td>\n",
       "    </tr>\n",
       "    <tr>\n",
       "      <th>dir_prev_bfnum</th>\n",
       "      <td>NaN</td>\n",
       "      <td>1_161_602.500</td>\n",
       "      <td>220_775.250</td>\n",
       "      <td>23_894.000</td>\n",
       "      <td>1.000</td>\n",
       "    </tr>\n",
       "    <tr>\n",
       "      <th>dir_prev_num</th>\n",
       "      <td>0</td>\n",
       "      <td>2</td>\n",
       "      <td>4</td>\n",
       "      <td>2</td>\n",
       "      <td>1</td>\n",
       "    </tr>\n",
       "    <tr>\n",
       "      <th>director</th>\n",
       "      <td>조병옥</td>\n",
       "      <td>우민호</td>\n",
       "      <td>장철수</td>\n",
       "      <td>구자홍</td>\n",
       "      <td>신근호</td>\n",
       "    </tr>\n",
       "    <tr>\n",
       "      <th>distributor</th>\n",
       "      <td>롯데엔터테인먼트</td>\n",
       "      <td>(주)쇼박스</td>\n",
       "      <td>(주)쇼박스</td>\n",
       "      <td>(주)NEW</td>\n",
       "      <td>쇼박스(주)미디어플렉스</td>\n",
       "    </tr>\n",
       "    <tr>\n",
       "      <th>genre</th>\n",
       "      <td>액션</td>\n",
       "      <td>느와르</td>\n",
       "      <td>액션</td>\n",
       "      <td>코미디</td>\n",
       "      <td>코미디</td>\n",
       "    </tr>\n",
       "    <tr>\n",
       "      <th>num_actor</th>\n",
       "      <td>2</td>\n",
       "      <td>3</td>\n",
       "      <td>4</td>\n",
       "      <td>6</td>\n",
       "      <td>2</td>\n",
       "    </tr>\n",
       "    <tr>\n",
       "      <th>num_staff</th>\n",
       "      <td>91</td>\n",
       "      <td>387</td>\n",
       "      <td>343</td>\n",
       "      <td>20</td>\n",
       "      <td>251</td>\n",
       "    </tr>\n",
       "    <tr>\n",
       "      <th>release_time</th>\n",
       "      <td>2012-11-22</td>\n",
       "      <td>2015-11-19</td>\n",
       "      <td>2013-06-05</td>\n",
       "      <td>2012-07-12</td>\n",
       "      <td>2010-11-04</td>\n",
       "    </tr>\n",
       "    <tr>\n",
       "      <th>screening_rat</th>\n",
       "      <td>청소년 관람불가</td>\n",
       "      <td>청소년 관람불가</td>\n",
       "      <td>15세 관람가</td>\n",
       "      <td>전체 관람가</td>\n",
       "      <td>15세 관람가</td>\n",
       "    </tr>\n",
       "    <tr>\n",
       "      <th>time</th>\n",
       "      <td>96</td>\n",
       "      <td>130</td>\n",
       "      <td>123</td>\n",
       "      <td>101</td>\n",
       "      <td>108</td>\n",
       "    </tr>\n",
       "    <tr>\n",
       "      <th>DROP_title</th>\n",
       "      <td>개들의 전쟁</td>\n",
       "      <td>내부자들</td>\n",
       "      <td>은밀하게 위대하게</td>\n",
       "      <td>나는 공무원이다</td>\n",
       "      <td>불량남녀</td>\n",
       "    </tr>\n",
       "    <tr>\n",
       "      <th>title_length</th>\n",
       "      <td>5</td>\n",
       "      <td>4</td>\n",
       "      <td>8</td>\n",
       "      <td>7</td>\n",
       "      <td>4</td>\n",
       "    </tr>\n",
       "  </tbody>\n",
       "</table>\n",
       "</div>"
      ],
      "text/plain": [
       "                         0             1             2           3  \\\n",
       "box_off_num     23_398.000 7_072_501.000 6_959_083.000 217_866.000   \n",
       "dir_prev_bfnum         NaN 1_161_602.500   220_775.250  23_894.000   \n",
       "dir_prev_num             0             2             4           2   \n",
       "director               조병옥           우민호           장철수         구자홍   \n",
       "distributor       롯데엔터테인먼트        (주)쇼박스        (주)쇼박스      (주)NEW   \n",
       "genre                   액션           느와르            액션         코미디   \n",
       "num_actor                2             3             4           6   \n",
       "num_staff               91           387           343          20   \n",
       "release_time    2012-11-22    2015-11-19    2013-06-05  2012-07-12   \n",
       "screening_rat     청소년 관람불가      청소년 관람불가       15세 관람가      전체 관람가   \n",
       "time                    96           130           123         101   \n",
       "DROP_title          개들의 전쟁          내부자들     은밀하게 위대하게    나는 공무원이다   \n",
       "title_length             5             4             8           7   \n",
       "\n",
       "                           4  \n",
       "box_off_num      483_387.000  \n",
       "dir_prev_bfnum         1.000  \n",
       "dir_prev_num               1  \n",
       "director                 신근호  \n",
       "distributor     쇼박스(주)미디어플렉스  \n",
       "genre                    코미디  \n",
       "num_actor                  2  \n",
       "num_staff                251  \n",
       "release_time      2010-11-04  \n",
       "screening_rat        15세 관람가  \n",
       "time                     108  \n",
       "DROP_title              불량남녀  \n",
       "title_length               4  "
      ]
     },
     "execution_count": 11,
     "metadata": {},
     "output_type": "execute_result"
    }
   ],
   "source": [
    "total = total.rename(columns = {'title':'DROP_title'}) # 모든 처리가 끝난 후에, 제거할 열의 이름은 DROP_ 추가.\n",
    "total.head().T"
   ]
  },
  {
   "cell_type": "markdown",
   "metadata": {},
   "source": [
    "- 제목(title)은 feature로 사용될 때는 제목수(title_length)만 이용되는데, 중간중간 데이터 확인/처리 등의 목적을 위해, 바로 컬럼을 DROP시키지 않고, DROP_title이라는 임시 컬럼명으로 변경한 후, 모든 정리가 끝나고 러닝에 들어가기 전에 \"DROP_\"이 붙은 컬럼들을 일괄 삭제하기 위한 조치. 가령 제목 같은 데이터는 자주 (사람이) 데이터 확인시에 사용되는 항목이기에, title을 바로 제거해버리면, 차후 데이터 확인(head/tail) 등시에 비교에 어려움이 있다. \n",
    "---"
   ]
  },
  {
   "cell_type": "markdown",
   "metadata": {},
   "source": [
    "- 제목수에 대한 관객수의 분포를 그려본다."
   ]
  },
  {
   "cell_type": "code",
   "execution_count": 12,
   "metadata": {},
   "outputs": [
    {
     "data": {
      "image/png": "[encoded data removed]",
      "text/plain": [
       "<Figure size 432x288 with 1 Axes>"
      ]
     },
     "metadata": {
      "needs_background": "light"
     },
     "output_type": "display_data"
    }
   ],
   "source": [
    "plt.scatter(total.title_length, total.box_off_num, alpha=0.1)\n",
    "plt.xlabel('제목 글자수')\n",
    "plt.ylabel('관객수')\n",
    "plt.title('train세트에서, 영화 제목 글자수와 관객수 분포')\n",
    "plt.show()"
   ]
  },
  {
   "cell_type": "code",
   "execution_count": 13,
   "metadata": {},
   "outputs": [
    {
     "data": {
      "text/plain": [
       "(23, 1)"
      ]
     },
     "execution_count": 13,
     "metadata": {},
     "output_type": "execute_result"
    }
   ],
   "source": [
    "total.title_length.max(), total.title_length.min()"
   ]
  },
  {
   "cell_type": "markdown",
   "metadata": {},
   "source": [
    "- 제목수와 관객수에 어느 정도 관련성이 나타난다고 볼 수 있다(완전 랜덤하지 않다). **다만, 제목수가 1에서 23까지 폭이 넓기에, 이를 특정 구간으로 나눠서 구분한다.**\n",
    "- 제목수 **1**은 2이상과 타겟값에서 많이 차이가 나므로, 길이 1을 하나의 구간으로 선정.\n",
    "- 제목수 **2,3,4,5**를 하나의 구간.\n",
    "- 제목수 **6,7,8,9**를 또하나의 구간.\n",
    "- 제목수 **10 이상**을 마지막 구간, 총 4개의 구간으로 나눔.\n",
    "- (위 구간선정은 그래프를 보고 직관적으로 선정했음. 나름 기준은, 각 구간내 값의 편차가 크지 않고, 총 구간수가 너무 많지 않을 것 정도.)\n",
    "---"
   ]
  },
  {
   "cell_type": "markdown",
   "metadata": {},
   "source": [
    "- title_length를 bins 값을 기준구간으로 해서, title_length가 속하는 구간을 값으로 하는 새로운 title_length_category열 생성."
   ]
  },
  {
   "cell_type": "code",
   "execution_count": 14,
   "metadata": {},
   "outputs": [
    {
     "data": {
      "text/plain": [
       "0    (1, 5]\n",
       "1    (1, 5]\n",
       "2    (5, 9]\n",
       "3    (5, 9]\n",
       "4    (1, 5]\n",
       "Name: title_length_category, dtype: category\n",
       "Categories (4, interval[int64]): [(0, 1] < (1, 5] < (5, 9] < (9, 23]]"
      ]
     },
     "execution_count": 14,
     "metadata": {},
     "output_type": "execute_result"
    }
   ],
   "source": [
    "bins = pd.IntervalIndex.from_tuples([(0,1), (1,5), (5,9), (9,23)]) # 0<x<=1, 1<x<=5, 5<x<=9, 9<x<=23 (1/2~5/6~9/10~)\n",
    "total['title_length_category'] = pd.cut(total.title_length, bins)\n",
    "total.title_length_category[:5]"
   ]
  },
  {
   "cell_type": "code",
   "execution_count": 15,
   "metadata": {},
   "outputs": [
    {
     "data": {
      "text/html": [
       "<div>\n",
       "<style scoped>\n",
       "    .dataframe tbody tr th:only-of-type {\n",
       "        vertical-align: middle;\n",
       "    }\n",
       "\n",
       "    .dataframe tbody tr th {\n",
       "        vertical-align: top;\n",
       "    }\n",
       "\n",
       "    .dataframe thead th {\n",
       "        text-align: right;\n",
       "    }\n",
       "</style>\n",
       "<table border=\"1\" class=\"dataframe\">\n",
       "  <thead>\n",
       "    <tr style=\"text-align: right;\">\n",
       "      <th></th>\n",
       "      <th>0</th>\n",
       "      <th>1</th>\n",
       "      <th>2</th>\n",
       "      <th>3</th>\n",
       "      <th>4</th>\n",
       "    </tr>\n",
       "  </thead>\n",
       "  <tbody>\n",
       "    <tr>\n",
       "      <th>box_off_num</th>\n",
       "      <td>23_398.000</td>\n",
       "      <td>7_072_501.000</td>\n",
       "      <td>6_959_083.000</td>\n",
       "      <td>217_866.000</td>\n",
       "      <td>483_387.000</td>\n",
       "    </tr>\n",
       "    <tr>\n",
       "      <th>dir_prev_bfnum</th>\n",
       "      <td>NaN</td>\n",
       "      <td>1_161_602.500</td>\n",
       "      <td>220_775.250</td>\n",
       "      <td>23_894.000</td>\n",
       "      <td>1.000</td>\n",
       "    </tr>\n",
       "    <tr>\n",
       "      <th>dir_prev_num</th>\n",
       "      <td>0</td>\n",
       "      <td>2</td>\n",
       "      <td>4</td>\n",
       "      <td>2</td>\n",
       "      <td>1</td>\n",
       "    </tr>\n",
       "    <tr>\n",
       "      <th>director</th>\n",
       "      <td>조병옥</td>\n",
       "      <td>우민호</td>\n",
       "      <td>장철수</td>\n",
       "      <td>구자홍</td>\n",
       "      <td>신근호</td>\n",
       "    </tr>\n",
       "    <tr>\n",
       "      <th>distributor</th>\n",
       "      <td>롯데엔터테인먼트</td>\n",
       "      <td>(주)쇼박스</td>\n",
       "      <td>(주)쇼박스</td>\n",
       "      <td>(주)NEW</td>\n",
       "      <td>쇼박스(주)미디어플렉스</td>\n",
       "    </tr>\n",
       "    <tr>\n",
       "      <th>genre</th>\n",
       "      <td>액션</td>\n",
       "      <td>느와르</td>\n",
       "      <td>액션</td>\n",
       "      <td>코미디</td>\n",
       "      <td>코미디</td>\n",
       "    </tr>\n",
       "    <tr>\n",
       "      <th>num_actor</th>\n",
       "      <td>2</td>\n",
       "      <td>3</td>\n",
       "      <td>4</td>\n",
       "      <td>6</td>\n",
       "      <td>2</td>\n",
       "    </tr>\n",
       "    <tr>\n",
       "      <th>num_staff</th>\n",
       "      <td>91</td>\n",
       "      <td>387</td>\n",
       "      <td>343</td>\n",
       "      <td>20</td>\n",
       "      <td>251</td>\n",
       "    </tr>\n",
       "    <tr>\n",
       "      <th>release_time</th>\n",
       "      <td>2012-11-22</td>\n",
       "      <td>2015-11-19</td>\n",
       "      <td>2013-06-05</td>\n",
       "      <td>2012-07-12</td>\n",
       "      <td>2010-11-04</td>\n",
       "    </tr>\n",
       "    <tr>\n",
       "      <th>screening_rat</th>\n",
       "      <td>청소년 관람불가</td>\n",
       "      <td>청소년 관람불가</td>\n",
       "      <td>15세 관람가</td>\n",
       "      <td>전체 관람가</td>\n",
       "      <td>15세 관람가</td>\n",
       "    </tr>\n",
       "    <tr>\n",
       "      <th>time</th>\n",
       "      <td>96</td>\n",
       "      <td>130</td>\n",
       "      <td>123</td>\n",
       "      <td>101</td>\n",
       "      <td>108</td>\n",
       "    </tr>\n",
       "    <tr>\n",
       "      <th>DROP_title</th>\n",
       "      <td>개들의 전쟁</td>\n",
       "      <td>내부자들</td>\n",
       "      <td>은밀하게 위대하게</td>\n",
       "      <td>나는 공무원이다</td>\n",
       "      <td>불량남녀</td>\n",
       "    </tr>\n",
       "    <tr>\n",
       "      <th>DROP_title_length</th>\n",
       "      <td>5</td>\n",
       "      <td>4</td>\n",
       "      <td>8</td>\n",
       "      <td>7</td>\n",
       "      <td>4</td>\n",
       "    </tr>\n",
       "    <tr>\n",
       "      <th>title_length_category</th>\n",
       "      <td>(1, 5]</td>\n",
       "      <td>(1, 5]</td>\n",
       "      <td>(5, 9]</td>\n",
       "      <td>(5, 9]</td>\n",
       "      <td>(1, 5]</td>\n",
       "    </tr>\n",
       "  </tbody>\n",
       "</table>\n",
       "</div>"
      ],
      "text/plain": [
       "                                0             1             2           3  \\\n",
       "box_off_num            23_398.000 7_072_501.000 6_959_083.000 217_866.000   \n",
       "dir_prev_bfnum                NaN 1_161_602.500   220_775.250  23_894.000   \n",
       "dir_prev_num                    0             2             4           2   \n",
       "director                      조병옥           우민호           장철수         구자홍   \n",
       "distributor              롯데엔터테인먼트        (주)쇼박스        (주)쇼박스      (주)NEW   \n",
       "genre                          액션           느와르            액션         코미디   \n",
       "num_actor                       2             3             4           6   \n",
       "num_staff                      91           387           343          20   \n",
       "release_time           2012-11-22    2015-11-19    2013-06-05  2012-07-12   \n",
       "screening_rat            청소년 관람불가      청소년 관람불가       15세 관람가      전체 관람가   \n",
       "time                           96           130           123         101   \n",
       "DROP_title                 개들의 전쟁          내부자들     은밀하게 위대하게    나는 공무원이다   \n",
       "DROP_title_length               5             4             8           7   \n",
       "title_length_category      (1, 5]        (1, 5]        (5, 9]      (5, 9]   \n",
       "\n",
       "                                  4  \n",
       "box_off_num             483_387.000  \n",
       "dir_prev_bfnum                1.000  \n",
       "dir_prev_num                      1  \n",
       "director                        신근호  \n",
       "distributor            쇼박스(주)미디어플렉스  \n",
       "genre                           코미디  \n",
       "num_actor                         2  \n",
       "num_staff                       251  \n",
       "release_time             2010-11-04  \n",
       "screening_rat               15세 관람가  \n",
       "time                            108  \n",
       "DROP_title                     불량남녀  \n",
       "DROP_title_length                 4  \n",
       "title_length_category        (1, 5]  "
      ]
     },
     "execution_count": 15,
     "metadata": {},
     "output_type": "execute_result"
    }
   ],
   "source": [
    "total = total.rename(columns = {'title_length':'DROP_title_length'})\n",
    "total.head().T"
   ]
  },
  {
   "cell_type": "markdown",
   "metadata": {},
   "source": [
    "- catergorical 형식으로 된 title_length_category열의 값을 one-hot-encoding으로 변환.\n",
    "    - 사실 4. Data Preparation 과정에서 total 데이터프레임에 대해 카테고리형식을 원핫인코딩으로 일괄변환하는 과정이 있다.\n",
    "    - 이 노트북 초반에는 후반의 그 과정(Ch.4)에 대해 생각지 못하고, 그때그때 적용하다보니, 원핫인코딩이 아래처럼 개별 컬럼 처리과정에서 행해지기도 하고 있다."
   ]
  },
  {
   "cell_type": "code",
   "execution_count": 16,
   "metadata": {},
   "outputs": [
    {
     "data": {
      "text/html": [
       "<div>\n",
       "<style scoped>\n",
       "    .dataframe tbody tr th:only-of-type {\n",
       "        vertical-align: middle;\n",
       "    }\n",
       "\n",
       "    .dataframe tbody tr th {\n",
       "        vertical-align: top;\n",
       "    }\n",
       "\n",
       "    .dataframe thead th {\n",
       "        text-align: right;\n",
       "    }\n",
       "</style>\n",
       "<table border=\"1\" class=\"dataframe\">\n",
       "  <thead>\n",
       "    <tr style=\"text-align: right;\">\n",
       "      <th></th>\n",
       "      <th>0</th>\n",
       "      <th>1</th>\n",
       "      <th>2</th>\n",
       "      <th>3</th>\n",
       "      <th>4</th>\n",
       "    </tr>\n",
       "  </thead>\n",
       "  <tbody>\n",
       "    <tr>\n",
       "      <th>box_off_num</th>\n",
       "      <td>23_398.000</td>\n",
       "      <td>7_072_501.000</td>\n",
       "      <td>6_959_083.000</td>\n",
       "      <td>217_866.000</td>\n",
       "      <td>483_387.000</td>\n",
       "    </tr>\n",
       "    <tr>\n",
       "      <th>dir_prev_bfnum</th>\n",
       "      <td>NaN</td>\n",
       "      <td>1_161_602.500</td>\n",
       "      <td>220_775.250</td>\n",
       "      <td>23_894.000</td>\n",
       "      <td>1.000</td>\n",
       "    </tr>\n",
       "    <tr>\n",
       "      <th>dir_prev_num</th>\n",
       "      <td>0</td>\n",
       "      <td>2</td>\n",
       "      <td>4</td>\n",
       "      <td>2</td>\n",
       "      <td>1</td>\n",
       "    </tr>\n",
       "    <tr>\n",
       "      <th>director</th>\n",
       "      <td>조병옥</td>\n",
       "      <td>우민호</td>\n",
       "      <td>장철수</td>\n",
       "      <td>구자홍</td>\n",
       "      <td>신근호</td>\n",
       "    </tr>\n",
       "    <tr>\n",
       "      <th>distributor</th>\n",
       "      <td>롯데엔터테인먼트</td>\n",
       "      <td>(주)쇼박스</td>\n",
       "      <td>(주)쇼박스</td>\n",
       "      <td>(주)NEW</td>\n",
       "      <td>쇼박스(주)미디어플렉스</td>\n",
       "    </tr>\n",
       "    <tr>\n",
       "      <th>genre</th>\n",
       "      <td>액션</td>\n",
       "      <td>느와르</td>\n",
       "      <td>액션</td>\n",
       "      <td>코미디</td>\n",
       "      <td>코미디</td>\n",
       "    </tr>\n",
       "    <tr>\n",
       "      <th>num_actor</th>\n",
       "      <td>2</td>\n",
       "      <td>3</td>\n",
       "      <td>4</td>\n",
       "      <td>6</td>\n",
       "      <td>2</td>\n",
       "    </tr>\n",
       "    <tr>\n",
       "      <th>num_staff</th>\n",
       "      <td>91</td>\n",
       "      <td>387</td>\n",
       "      <td>343</td>\n",
       "      <td>20</td>\n",
       "      <td>251</td>\n",
       "    </tr>\n",
       "    <tr>\n",
       "      <th>release_time</th>\n",
       "      <td>2012-11-22</td>\n",
       "      <td>2015-11-19</td>\n",
       "      <td>2013-06-05</td>\n",
       "      <td>2012-07-12</td>\n",
       "      <td>2010-11-04</td>\n",
       "    </tr>\n",
       "    <tr>\n",
       "      <th>screening_rat</th>\n",
       "      <td>청소년 관람불가</td>\n",
       "      <td>청소년 관람불가</td>\n",
       "      <td>15세 관람가</td>\n",
       "      <td>전체 관람가</td>\n",
       "      <td>15세 관람가</td>\n",
       "    </tr>\n",
       "    <tr>\n",
       "      <th>time</th>\n",
       "      <td>96</td>\n",
       "      <td>130</td>\n",
       "      <td>123</td>\n",
       "      <td>101</td>\n",
       "      <td>108</td>\n",
       "    </tr>\n",
       "    <tr>\n",
       "      <th>DROP_title</th>\n",
       "      <td>개들의 전쟁</td>\n",
       "      <td>내부자들</td>\n",
       "      <td>은밀하게 위대하게</td>\n",
       "      <td>나는 공무원이다</td>\n",
       "      <td>불량남녀</td>\n",
       "    </tr>\n",
       "    <tr>\n",
       "      <th>DROP_title_length</th>\n",
       "      <td>5</td>\n",
       "      <td>4</td>\n",
       "      <td>8</td>\n",
       "      <td>7</td>\n",
       "      <td>4</td>\n",
       "    </tr>\n",
       "    <tr>\n",
       "      <th>title_(0, 1]</th>\n",
       "      <td>0</td>\n",
       "      <td>0</td>\n",
       "      <td>0</td>\n",
       "      <td>0</td>\n",
       "      <td>0</td>\n",
       "    </tr>\n",
       "    <tr>\n",
       "      <th>title_(1, 5]</th>\n",
       "      <td>1</td>\n",
       "      <td>1</td>\n",
       "      <td>0</td>\n",
       "      <td>0</td>\n",
       "      <td>1</td>\n",
       "    </tr>\n",
       "    <tr>\n",
       "      <th>title_(5, 9]</th>\n",
       "      <td>0</td>\n",
       "      <td>0</td>\n",
       "      <td>1</td>\n",
       "      <td>1</td>\n",
       "      <td>0</td>\n",
       "    </tr>\n",
       "    <tr>\n",
       "      <th>title_(9, 23]</th>\n",
       "      <td>0</td>\n",
       "      <td>0</td>\n",
       "      <td>0</td>\n",
       "      <td>0</td>\n",
       "      <td>0</td>\n",
       "    </tr>\n",
       "  </tbody>\n",
       "</table>\n",
       "</div>"
      ],
      "text/plain": [
       "                            0             1             2           3  \\\n",
       "box_off_num        23_398.000 7_072_501.000 6_959_083.000 217_866.000   \n",
       "dir_prev_bfnum            NaN 1_161_602.500   220_775.250  23_894.000   \n",
       "dir_prev_num                0             2             4           2   \n",
       "director                  조병옥           우민호           장철수         구자홍   \n",
       "distributor          롯데엔터테인먼트        (주)쇼박스        (주)쇼박스      (주)NEW   \n",
       "genre                      액션           느와르            액션         코미디   \n",
       "num_actor                   2             3             4           6   \n",
       "num_staff                  91           387           343          20   \n",
       "release_time       2012-11-22    2015-11-19    2013-06-05  2012-07-12   \n",
       "screening_rat        청소년 관람불가      청소년 관람불가       15세 관람가      전체 관람가   \n",
       "time                       96           130           123         101   \n",
       "DROP_title             개들의 전쟁          내부자들     은밀하게 위대하게    나는 공무원이다   \n",
       "DROP_title_length           5             4             8           7   \n",
       "title_(0, 1]                0             0             0           0   \n",
       "title_(1, 5]                1             1             0           0   \n",
       "title_(5, 9]                0             0             1           1   \n",
       "title_(9, 23]               0             0             0           0   \n",
       "\n",
       "                              4  \n",
       "box_off_num         483_387.000  \n",
       "dir_prev_bfnum            1.000  \n",
       "dir_prev_num                  1  \n",
       "director                    신근호  \n",
       "distributor        쇼박스(주)미디어플렉스  \n",
       "genre                       코미디  \n",
       "num_actor                     2  \n",
       "num_staff                   251  \n",
       "release_time         2010-11-04  \n",
       "screening_rat           15세 관람가  \n",
       "time                        108  \n",
       "DROP_title                 불량남녀  \n",
       "DROP_title_length             4  \n",
       "title_(0, 1]                  0  \n",
       "title_(1, 5]                  1  \n",
       "title_(5, 9]                  0  \n",
       "title_(9, 23]                 0  "
      ]
     },
     "execution_count": 16,
     "metadata": {},
     "output_type": "execute_result"
    }
   ],
   "source": [
    "total = pd.get_dummies(total, columns=['title_length_category'], prefix=['title'])\n",
    "total.head().T"
   ]
  },
  {
   "cell_type": "markdown",
   "metadata": {},
   "source": [
    "**∴** 영화제목(문자열)에 한국식 글자수 세는 법을 적용해, 제목길이로 변경한 후, 1~23까지의 폭이 큰 제목길이를, 제목길이에 대한 영화관객수 데이터를 기준으로, 비슷한 값의 분포를 가지는 4구간으로 길이를 나눠서 단순화 시킨후, 이를 one-hot-encoding했음."
   ]
  },
  {
   "cell_type": "markdown",
   "metadata": {},
   "source": [
    "## 3.2 distributor\n",
    "배급사는 영화 상영관 확보 등 여러면에서 관객 동원에 영향이 있다고 볼 수 있음."
   ]
  },
  {
   "cell_type": "code",
   "execution_count": 17,
   "metadata": {},
   "outputs": [
    {
     "data": {
      "text/plain": [
       "(169, 93)"
      ]
     },
     "execution_count": 17,
     "metadata": {},
     "output_type": "execute_result"
    }
   ],
   "source": [
    "len(train.distributor.unique()), len(test.distributor.unique()) #train/test 데이터셋의 배급사 갯수."
   ]
  },
  {
   "cell_type": "markdown",
   "metadata": {},
   "source": [
    "혹시 test 세트 데이터 중에서 train세트의 distributor에 없는 배급사가 포함되어 있는지 확인."
   ]
  },
  {
   "cell_type": "code",
   "execution_count": 18,
   "metadata": {},
   "outputs": [
    {
     "name": "stdout",
     "output_type": "stream",
     "text": [
      "test 세트에만 존재하는 distributor의 수 = 35\n"
     ]
    }
   ],
   "source": [
    "d1 = train.distributor\n",
    "d2 = test.distributor\n",
    "\n",
    "print('test 세트에만 존재하는 distributor의 수 =', len(list(set(d2) - set(d1))))"
   ]
  },
  {
   "cell_type": "code",
   "execution_count": 19,
   "metadata": {},
   "outputs": [
    {
     "name": "stdout",
     "output_type": "stream",
     "text": [
      "['리아코어콘텐츠', '마운틴픽쳐스', '리얼라이즈픽쳐스', '(유)영화사 화수분', '갑종필름', '(주)씨타마운틴픽쳐스', '프리비젼', '와우픽쳐스', '(주)영화사 빅', '롯데쇼핑(주)롯데엔터테인먼트', '굿픽처스', '(주)루믹스미디어', '명필름', '메가박스중앙(주)플러스엠', '비에이치제이 시네마', '핑크로봇 필름', '유나이티드 픽처스', '(주)루스이소니도스', '미로비젼', '(주)컨텐츠온미디어', '(주)드림웨스트픽쳐스', '(주)디씨드', '모쿠슈라', '늘푸른시네마', '노근리 프로덕션', '(주)다세포클럽', '디씨드', 'Cinema SAM', '필마픽쳐스', '타임스토리', '미디어로그', '청년필름', '애니메이션 배급', '오픈유컬쳐', '레몬트리']\n"
     ]
    }
   ],
   "source": [
    "print(list(set(d2) - set(d1))) # test 세트에만 존재하는 distributor"
   ]
  },
  {
   "cell_type": "code",
   "execution_count": 20,
   "metadata": {},
   "outputs": [
    {
     "name": "stdout",
     "output_type": "stream",
     "text": [
      "Unique distributor size = 204\n",
      "['롯데엔터테인먼트' '(주)쇼박스' '(주)NEW' '쇼박스(주)미디어플렉스' '백두대간' '유니버설픽쳐스인터내셔널코리아'\n",
      " '(주)두타연' '(주) 케이알씨지' '(주)콘텐츠 윙' '(주)키노아이' '(주)팝 파트너스' 'CJ E&M 영화부문'\n",
      " '(주) 영화제작전원사' 'CJ E&M Pictures' 'CGV 무비꼴라쥬' '리틀빅픽처스' '스폰지' 'CJ 엔터테인먼트'\n",
      " 'CGV아트하우스' '조이앤시네마' '인디플러그' '콘텐츠판다' '인디스토리' '(주)팝엔터테인먼트' '시네마서비스' '웃기씨네'\n",
      " '영화사 진진' '(주)레인보우 팩토리' '김기덕 필름' 'NEW' 'CJ CGV' '동국대학교 충무로영상제작센터'\n",
      " 'BoXoo 엔터테인먼트' '(주)마운틴픽쳐스' 'CGV 아트하우스' '메가박스(주)플러스엠' '골든타이드픽처스' '파이오니아21'\n",
      " '디 씨드' '드림팩트 엔터테인먼트' '시너지' '디마엔터테인먼트' '판다미디어' '(주)스톰픽쳐스코리아'\n",
      " '(주)예지림 엔터테인먼트' '(주) 영화사조제' '보람엔터테인먼트' '(주)시네마달' '노바엔터테인먼트' '(주)패스파인더씨앤씨'\n",
      " '(주)대명문화공장' '(주)온비즈넷' 'KT&G 상상마당' '무비꼴라쥬' '인벤트 디' '씨네그루(주)키다리이엔티'\n",
      " '스튜디오후크' '시네마 달' '나이너스엔터테인먼트(주)' 'THE 픽쳐스' '영구아트무비' '리틀빅픽쳐스' '어뮤즈'\n",
      " '이모션 픽처스' '(주)이스트스카이필름' '필라멘트 픽쳐스' '조이앤컨텐츠그룹' '타임스토리그룹' '마운틴 픽처스'\n",
      " '(주)휘엔터테인먼트' '이십세기폭스코리아(주)' '(주)피터팬픽쳐스' '에스와이코마드' '(주)더픽쳐스' '오퍼스픽쳐스'\n",
      " '(주)고앤고 필름' '사람과 사람들' '(주)JK필름' '씨너스엔터테인먼트(주)' 'KT' '싸이더스FNH' '(주)프레인글로벌'\n",
      " '나우콘텐츠' '홀리가든' '(주) 브릿지웍스' '(주)엣나인필름' '위더스필름' '시네마달' '(주)에이원 엔터테인먼트'\n",
      " 'OAL(올)' '싸이더스' '전망좋은영화사' '스토리셋' '이상우필름' '씨네굿필름' '영희야놀자' '찬란' '어썸 피플'\n",
      " '아방가르드 필름' '스크린조이' '와이드릴리즈(주)' 'tvN' '(주) 액티버스엔터테인먼트' '더픽쳐스/(주)마운틴픽쳐스'\n",
      " '제나두 엔터테인먼트' '(주)아이필름코퍼레이션' '쟈비스미디어' '트리필름' '에스피엠' '(주)리틀빅픽처스' '건시네마'\n",
      " '키노엔터테인먼트' '(주)아우라픽처스' '에이블엔터테인먼트' '드림로드' '인피니티엔터테인먼트' '새인컴퍼니' '스튜디오 느림보'\n",
      " '와이드 릴리즈(주)' '필름라인' 'M2픽처스' '고구마공작소' '(주)미디어데이' '마노엔터테인먼트' '화앤담이엔티'\n",
      " '(주)스마일이엔티' '(주)패뷸러스' '싸이더스 FNH' '영화사 조아' '판씨네마(주)' '두 엔터테인먼트'\n",
      " '(주)마인스 엔터테인먼트' '전주국제영화제' '(주)마인스엔터테인먼트' '상구네 필름' '케이엠스타' '(주)유비네트워크'\n",
      " '한국YWCA연합회' 'KBS미디어(주)' '더 피플' '위드시네마' '팜코리아미디어' '(주)씨엠닉스' 'SBS콘텐츠허브'\n",
      " '인터콘미디어' '(주)유비콘텐츠' '프로젝트 엠피' '하준사' '(주)노버스엔터테인먼트' '주머니필름' '롤러코스터 프로덕션'\n",
      " 'SK플래닛' '서울독립영화제' '스튜디오 블루' '(주)랠리버튼' '(주)드림팩트엔터테인먼트' '에이원 엔터테인먼트'\n",
      " '머스트 씨 무비' 'SK텔레콤(주)' '마법사필름' '스폰지이엔티' '(주)로드하우스' '미라클 필름' '프리비젼 엔터테인먼트'\n",
      " '영화사 廊' '크리에이티브컴즈(주)' 'ysfilm' '이달투' '퍼스트런' '모쿠슈라' '(주)루믹스미디어' '마운틴픽쳐스'\n",
      " '롯데쇼핑(주)롯데엔터테인먼트' '노근리 프로덕션' '리얼라이즈픽쳐스' '청년필름' '리아코어콘텐츠' '핑크로봇 필름'\n",
      " 'Cinema SAM' '갑종필름' '필마픽쳐스' '오픈유컬쳐' '(주)드림웨스트픽쳐스' '미로비젼' '명필름' '프리비젼'\n",
      " '굿픽처스' '레몬트리' '타임스토리' '(주)영화사 빅' '유나이티드 픽처스' '(유)영화사 화수분' '늘푸른시네마'\n",
      " '(주)디씨드' '(주)루스이소니도스' '애니메이션 배급' '와우픽쳐스' '메가박스중앙(주)플러스엠' '미디어로그'\n",
      " '비에이치제이 시네마' '(주)다세포클럽' '디씨드' '(주)컨텐츠온미디어' '(주)씨타마운틴픽쳐스']\n"
     ]
    }
   ],
   "source": [
    "dist1 = pd.Series(total.distributor.unique()) # train/test 전체 데이터세트에 포함된 배급사 목록.\n",
    "print('Unique distributor size =' , len(dist1))\n",
    "print(dist1.values) # 단순히, 컴팩트하게 배급사를 화면에 표시하기 위해 시리즈가 아닌 리스트로 값 출력."
   ]
  },
  {
   "cell_type": "markdown",
   "metadata": {},
   "source": [
    "- **배급사의 표기에 단순오기, 혹은 회사명의 변경 등의 이유로 같은 회사를 다르게 표기한 경우가 없는지 확인.**"
   ]
  },
  {
   "cell_type": "code",
   "execution_count": 21,
   "metadata": {},
   "outputs": [
    {
     "name": "stdout",
     "output_type": "stream",
     "text": [
      "Unique distributor size = 191\n",
      "['BoXoo엔터테인먼트' 'CGV무비꼴라쥬' 'CGV아트하우스' 'CJCGV' 'CJE&MPictures' 'CJE&M영화부문'\n",
      " 'CJ엔터테인먼트' 'CinemaSAM' 'JK필름' 'KBS미디어' 'KT' 'KT&G상상마당' 'M2픽처스' 'NEW'\n",
      " 'OAL(올)' 'SBS콘텐츠허브' 'SK텔레콤' 'SK플래닛' 'THE픽쳐스' 'tvN' 'ysfilm' '갑종필름' '건시네마'\n",
      " '고구마공작소' '고앤고필름' '골든타이드픽처스' '굿픽처스' '김기덕필름' '나우콘텐츠' '나이너스엔터테인먼트' '노근리프로덕션'\n",
      " '노바엔터테인먼트' '노버스엔터테인먼트' '늘푸른시네마' '다세포클럽' '대명문화공장' '더피플' '더픽쳐스'\n",
      " '더픽쳐스/마운틴픽쳐스' '동국대학교충무로영상제작센터' '두엔터테인먼트' '두타연' '드림로드' '드림웨스트픽쳐스'\n",
      " '드림팩트엔터테인먼트' '디마엔터테인먼트' '디씨드' '랠리버튼' '레몬트리' '레인보우팩토리' '로드하우스' '롤러코스터프로덕션'\n",
      " '롯데쇼핑롯데엔터테인먼트' '롯데엔터테인먼트' '루믹스미디어' '루스이소니도스' '리아코어콘텐츠' '리얼라이즈픽쳐스'\n",
      " '리틀빅픽처스' '리틀빅픽쳐스' '마노엔터테인먼트' '마법사필름' '마운틴픽처스' '마운틴픽쳐스' '마인스엔터테인먼트'\n",
      " '머스트씨무비' '메가박스중앙플러스엠' '메가박스플러스엠' '명필름' '모쿠슈라' '무비꼴라쥬' '미디어데이' '미디어로그'\n",
      " '미라클필름' '미로비젼' '백두대간' '보람엔터테인먼트' '브릿지웍스' '비에이치제이시네마' '사람과사람들' '상구네필름'\n",
      " '새인컴퍼니' '서울독립영화제' '쇼박스' '쇼박스미디어플렉스' '스마일이엔티' '스크린조이' '스토리셋' '스톰픽쳐스코리아'\n",
      " '스튜디오느림보' '스튜디오블루' '스튜디오후크' '스폰지' '스폰지이엔티' '시너지' '시네마달' '시네마서비스' '싸이더스'\n",
      " '싸이더스FNH' '씨너스엔터테인먼트' '씨네굿필름' '씨네그루키다리이엔티' '씨엠닉스' '씨타마운틴픽쳐스' '아방가르드필름'\n",
      " '아우라픽처스' '아이필름코퍼레이션' '애니메이션배급' '액티버스엔터테인먼트' '어뮤즈' '어썸피플' '에스와이코마드' '에스피엠'\n",
      " '에이블엔터테인먼트' '에이원엔터테인먼트' '엣나인필름' '영구아트무비' '영화사廊' '영화사빅' '영화사조아' '영화사조제'\n",
      " '영화사진진' '영화사화수분' '영화제작전원사' '영희야놀자' '예지림엔터테인먼트' '오퍼스픽쳐스' '오픈유컬쳐' '온비즈넷'\n",
      " '와우픽쳐스' '와이드릴리즈' '웃기씨네' '위더스필름' '위드시네마' '유나이티드픽처스' '유니버설픽쳐스인터내셔널코리아'\n",
      " '유비네트워크' '유비콘텐츠' '이달투' '이모션픽처스' '이상우필름' '이스트스카이필름' '이십세기폭스코리아' '인디스토리'\n",
      " '인디플러그' '인벤트디' '인터콘미디어' '인피니티엔터테인먼트' '쟈비스미디어' '전망좋은영화사' '전주국제영화제'\n",
      " '제나두엔터테인먼트' '조이앤시네마' '조이앤컨텐츠그룹' '주머니필름' '찬란' '청년필름' '컨텐츠온미디어' '케이알씨지'\n",
      " '케이엠스타' '콘텐츠윙' '콘텐츠판다' '크리에이티브컴즈' '키노아이' '키노엔터테인먼트' '타임스토리' '타임스토리그룹'\n",
      " '트리필름' '파이오니아21' '판다미디어' '판씨네마' '팜코리아미디어' '팝엔터테인먼트' '팝파트너스' '패뷸러스'\n",
      " '패스파인더씨앤씨' '퍼스트런' '프레인글로벌' '프로젝트엠피' '프리비젼' '프리비젼엔터테인먼트' '피터팬픽쳐스'\n",
      " '필라멘트픽쳐스' '필름라인' '필마픽쳐스' '핑크로봇필름' '하준사' '한국YWCA연합회' '홀리가든' '화앤담이엔티'\n",
      " '휘엔터테인먼트']\n"
     ]
    }
   ],
   "source": [
    "def tidy_distributor(x):\n",
    "    return x.replace('(주)', '').replace('(유)', '').replace(' ', '') # '(주)회사명', '(유)회사명'에서 (주)/(유) 표시와 공백을 제거.\n",
    "\n",
    "# 전체 데이터셋의 distributor 값을 정리해서 dist2에 담는다.\n",
    "dist2 = dist1.apply(tidy_distributor).unique()\n",
    "print('Unique distributor size =' , len(dist2))\n",
    "print(np.sort(dist2))"
   ]
  },
  {
   "cell_type": "markdown",
   "metadata": {},
   "source": [
    "- tidying을 한 후에 배급사 전체 갯수가 **204 --> 191**로 정리되었음.\n",
    "---"
   ]
  },
  {
   "cell_type": "markdown",
   "metadata": {},
   "source": [
    "- **이제 수작업으로 위 배급사 목록을 보면서, 유사한 배급사명은 하나로 통일시킨다. 이 과정에서 웹검색 등으로 회사명 변경 등에 대해 조사**\n",
    "\n",
    "- 의심이 가는 배급사 목록\n",
    "    - 'CGV무비꼴라쥬', 'CGV아트하우스', 'CGV아트하우스', 'CJCGV', 'CJE&MPictures', 'CJE&M영화부문', 'CJ엔터테인먼트'\n",
    "    - 'KT', 'KT&G상상마당'\n",
    "    - 'SK텔레콤', 'SK플래닛'\n",
    "    - '더픽쳐스', '더픽쳐스/마운틴픽쳐스'\n",
    "    - '롯데쇼핑롯데엔터테인먼트', '롯데엔터테인먼트'\n",
    "    - '리틀빅픽처스', '리틀빅픽쳐스'\n",
    "    - '마운틴픽처스', '마운틴픽쳐스'\n",
    "    - '메가박스중앙플러스엠', '메가박스플러스엠'\n",
    "    - '쇼박스', '쇼박스미디어플렉스'\n",
    "    - '스폰지', '스폰지이엔티'\n",
    "    - '싸이더스', '싸이더스FNH'\n",
    "    - '유비네트워크', '유비콘텐츠'\n",
    "    - '조이앤시네마', '조이앤컨텐츠그룹'\n",
    "    - '타임스토리', '타임스토리그룹'\n",
    "    - '프리비젼', '프리비젼엔터테인먼트'\n",
    "\n",
    "- 표기 오기, 모기업, 기업명 변경 등으로 확인되어, 최종적으로 **동일한 배급사로 취급**할 수 있는 목록\n",
    "    - 'CGV무비꼴라쥬', 'CGV아트하우스' --> 독립/예술 영화.\n",
    "    - 'CJCGV', 'CJE&MPictures', 'CJE&M영화부문', 'CJ엔터테인먼트' --> 비 독립 or 상업영화?\n",
    "    - 'SK텔레콤', 'SK플래닛' --> 동일로 취급.\n",
    "    - '더픽쳐스', '더픽쳐스/마운틴픽쳐스' --> 동일.\n",
    "    - '롯데쇼핑롯데엔터테인먼트', '롯데엔터테인먼트' --> 동일로 취급.\n",
    "    - '리틀빅픽처스', '리틀빅픽쳐스' --> 오기.\n",
    "    - '마운틴픽처스', '마운틴픽쳐스' --> 오기.\n",
    "    - '메가박스중앙플러스엠', '메가박스플러스엠' --> 동일로 취급.\n",
    "    - '쇼박스', '쇼박스미디어플렉스' --> 동일로 취급.\n",
    "    - '스폰지', '스폰지이엔티' --> 동일로 취급.\n",
    "    - '싸이더스', '싸이더스FNH' --> 동일로 취급.\n",
    "    - '조이앤시네마', '조이앤컨텐츠그룹' --> 동일로 취급.\n",
    "    - '타임스토리', '타임스토리그룹' --> 동일로 취급.\n",
    "    - '프리비젼', '프리비젼엔터테인먼트' --> 동일로 취급."
   ]
  },
  {
   "cell_type": "code",
   "execution_count": 22,
   "metadata": {},
   "outputs": [
    {
     "name": "stdout",
     "output_type": "stream",
     "text": [
      "Unique distributor size = 175\n",
      "['BoXoo엔터테인먼트' 'CGV아트하우스' 'CJCGV' 'CinemaSAM' 'JK필름' 'KBS미디어' 'KT'\n",
      " 'KT&G상상마당' 'M2픽처스' 'NEW' 'OAL(올)' 'SBS콘텐츠허브' 'SK텔레콤' 'THE픽쳐스' 'tvN'\n",
      " 'ysfilm' '갑종필름' '건시네마' '고구마공작소' '고앤고필름' '골든타이드픽처스' '굿픽처스' '김기덕필름' '나우콘텐츠'\n",
      " '나이너스엔터테인먼트' '노근리프로덕션' '노바엔터테인먼트' '노버스엔터테인먼트' '늘푸른시네마' '다세포클럽' '대명문화공장'\n",
      " '더피플' '더픽쳐스' '동국대학교충무로영상제작센터' '두엔터테인먼트' '두타연' '드림로드' '드림웨스트픽쳐스'\n",
      " '드림팩트엔터테인먼트' '디마엔터테인먼트' '디씨드' '랠리버튼' '레몬트리' '레인보우팩토리' '로드하우스' '롤러코스터프로덕션'\n",
      " '롯데엔터테인먼트' '루믹스미디어' '루스이소니도스' '리아코어콘텐츠' '리얼라이즈픽쳐스' '리틀빅픽쳐스' '마노엔터테인먼트'\n",
      " '마법사필름' '마운틴픽쳐스' '마인스엔터테인먼트' '머스트씨무비' '메가박스플러스엠' '명필름' '모쿠슈라' '무비꼴라쥬'\n",
      " '미디어데이' '미디어로그' '미라클필름' '미로비젼' '백두대간' '보람엔터테인먼트' '브릿지웍스' '비에이치제이시네마'\n",
      " '사람과사람들' '상구네필름' '새인컴퍼니' '서울독립영화제' '쇼박스' '스마일이엔티' '스크린조이' '스토리셋'\n",
      " '스톰픽쳐스코리아' '스튜디오느림보' '스튜디오블루' '스튜디오후크' '스폰지' '시너지' '시네마달' '시네마서비스' '싸이더스'\n",
      " '씨너스엔터테인먼트' '씨네굿필름' '씨네그루키다리이엔티' '씨엠닉스' '씨타마운틴픽쳐스' '아방가르드필름' '아우라픽처스'\n",
      " '아이필름코퍼레이션' '애니메이션배급' '액티버스엔터테인먼트' '어뮤즈' '어썸피플' '에스와이코마드' '에스피엠'\n",
      " '에이블엔터테인먼트' '에이원엔터테인먼트' '엣나인필름' '영구아트무비' '영화사廊' '영화사빅' '영화사조아' '영화사조제'\n",
      " '영화사진진' '영화사화수분' '영화제작전원사' '영희야놀자' '예지림엔터테인먼트' '오퍼스픽쳐스' '오픈유컬쳐' '온비즈넷'\n",
      " '와우픽쳐스' '와이드릴리즈' '웃기씨네' '위더스필름' '위드시네마' '유나이티드픽처스' '유니버설픽쳐스인터내셔널코리아'\n",
      " '유비네트워크' '유비콘텐츠' '이달투' '이모션픽처스' '이상우필름' '이스트스카이필름' '이십세기폭스코리아' '인디스토리'\n",
      " '인디플러그' '인벤트디' '인터콘미디어' '인피니티엔터테인먼트' '쟈비스미디어' '전망좋은영화사' '전주국제영화제'\n",
      " '제나두엔터테인먼트' '조이앤시네마' '주머니필름' '찬란' '청년필름' '컨텐츠온미디어' '케이알씨지' '케이엠스타' '콘텐츠윙'\n",
      " '콘텐츠판다' '크리에이티브컴즈' '키노아이' '키노엔터테인먼트' '타임스토리' '트리필름' '파이오니아21' '판다미디어'\n",
      " '판씨네마' '팜코리아미디어' '팝엔터테인먼트' '팝파트너스' '패뷸러스' '패스파인더씨앤씨' '퍼스트런' '프레인글로벌'\n",
      " '프로젝트엠피' '프리비젼' '피터팬픽쳐스' '필라멘트픽쳐스' '필름라인' '필마픽쳐스' '핑크로봇필름' '하준사'\n",
      " '한국YWCA연합회' '홀리가든' '화앤담이엔티' '휘엔터테인먼트']\n"
     ]
    }
   ],
   "source": [
    "# 위에서 휴리스틱한 방법으로 점검한 내용을 바탕으로, 유사명을 하나로 변경시킨다.\n",
    "def same_distributor(x):\n",
    "    if x == 'CGV무비꼴라쥬':\n",
    "        x = 'CGV아트하우스'\n",
    "    elif x in ['CJE&MPictures', 'CJE&M영화부문', 'CJ엔터테인먼트']:\n",
    "        x = 'CJCGV'\n",
    "    elif x == 'SK플래닛':\n",
    "        x = 'SK텔레콤'\n",
    "    elif x == '더픽쳐스/마운틴픽쳐스':\n",
    "        x = '더픽쳐스'\n",
    "    elif x == '롯데쇼핑롯데엔터테인먼트':\n",
    "        x = '롯데엔터테인먼트'\n",
    "    elif x == '리틀빅픽처스':\n",
    "        x = '리틀빅픽쳐스'\n",
    "    elif x == '마운틴픽처스':\n",
    "        x = '마운틴픽쳐스'\n",
    "    elif x == '메가박스중앙플러스엠':\n",
    "        x = '메가박스플러스엠'\n",
    "    elif x == '쇼박스미디어플렉스':\n",
    "        x = '쇼박스'\n",
    "    elif x == '스폰지이엔티':\n",
    "        x = '스폰지'\n",
    "    elif x == '싸이더스FNH':\n",
    "        x = '싸이더스'\n",
    "    elif x == '조이앤컨텐츠그룹':\n",
    "        x = '조이앤시네마'\n",
    "    elif x == '타임스토리그룹':\n",
    "        x = '타임스토리'\n",
    "    elif x == '프리비젼엔터테인먼트':\n",
    "        x = '프리비젼'\n",
    "        \n",
    "    return x\n",
    "\n",
    "dist3 = pd.Series(dist2).map(same_distributor).unique()\n",
    "print('Unique distributor size =' , len(dist3))\n",
    "print(np.sort(dist3))"
   ]
  },
  {
   "cell_type": "markdown",
   "metadata": {},
   "source": [
    "- 단순 표기 tidying후 191개의 배급사에서, 동일 배급사 처리까지 한 후엔 175개로 축소됨\n",
    "---"
   ]
  },
  {
   "cell_type": "markdown",
   "metadata": {},
   "source": [
    "- 위 처리 함수를 실제 distributor 열에 적용. 이때 별도의 새로운 컬럼에 담지 않고, 원래 컬럼을 변경하는 식으로 처리."
   ]
  },
  {
   "cell_type": "code",
   "execution_count": 23,
   "metadata": {},
   "outputs": [
    {
     "data": {
      "text/plain": [
       "0    롯데엔터테인먼트\n",
       "1         쇼박스\n",
       "2         쇼박스\n",
       "3         NEW\n",
       "4         쇼박스\n",
       "Name: distributor, dtype: object"
      ]
     },
     "execution_count": 23,
     "metadata": {},
     "output_type": "execute_result"
    }
   ],
   "source": [
    "total['distributor'] = total['distributor'].apply(lambda x:same_distributor(tidy_distributor(x)))\n",
    "total['distributor'].head()"
   ]
  },
  {
   "cell_type": "markdown",
   "metadata": {},
   "source": [
    "---\n",
    "- **이제 정리된 배급사명을 바탕으로, 배급사별 관중수 정보를 얻는다.** (test데이터셋에는 관중수가 없으므로, train데이터셋에서)\n",
    "- 이때는 앞서처럼 train 데이터프레임을 직접 이용할 수 없고, total을 이용해야 함. 왜냐면, train에는 배급사명의 tidying 같은 처리가 되어 있지 원본이므로.\n",
    "- **~total.box_off_num.isna()**가 total에서 train데이터셋을 고르는 조건."
   ]
  },
  {
   "cell_type": "code",
   "execution_count": 24,
   "metadata": {},
   "outputs": [
    {
     "data": {
      "text/html": [
       "<div>\n",
       "<style scoped>\n",
       "    .dataframe tbody tr th:only-of-type {\n",
       "        vertical-align: middle;\n",
       "    }\n",
       "\n",
       "    .dataframe tbody tr th {\n",
       "        vertical-align: top;\n",
       "    }\n",
       "\n",
       "    .dataframe thead th {\n",
       "        text-align: right;\n",
       "    }\n",
       "</style>\n",
       "<table border=\"1\" class=\"dataframe\">\n",
       "  <thead>\n",
       "    <tr style=\"text-align: right;\">\n",
       "      <th></th>\n",
       "      <th>box_off_num</th>\n",
       "    </tr>\n",
       "    <tr>\n",
       "      <th>distributor</th>\n",
       "      <th></th>\n",
       "    </tr>\n",
       "  </thead>\n",
       "  <tbody>\n",
       "    <tr>\n",
       "      <th>쇼박스</th>\n",
       "      <td>3_332_953.929</td>\n",
       "    </tr>\n",
       "    <tr>\n",
       "      <th>아이필름코퍼레이션</th>\n",
       "      <td>3_117_859.000</td>\n",
       "    </tr>\n",
       "    <tr>\n",
       "      <th>영구아트무비</th>\n",
       "      <td>2_541_603.000</td>\n",
       "    </tr>\n",
       "    <tr>\n",
       "      <th>CJCGV</th>\n",
       "      <td>2_209_296.400</td>\n",
       "    </tr>\n",
       "    <tr>\n",
       "      <th>NEW</th>\n",
       "      <td>1_939_059.947</td>\n",
       "    </tr>\n",
       "  </tbody>\n",
       "</table>\n",
       "</div>"
      ],
      "text/plain": [
       "              box_off_num\n",
       "distributor              \n",
       "쇼박스         3_332_953.929\n",
       "아이필름코퍼레이션   3_117_859.000\n",
       "영구아트무비      2_541_603.000\n",
       "CJCGV       2_209_296.400\n",
       "NEW         1_939_059.947"
      ]
     },
     "execution_count": 24,
     "metadata": {},
     "output_type": "execute_result"
    }
   ],
   "source": [
    "dist_boxoff_train = total[~total.box_off_num.isna()].groupby('distributor').agg({'box_off_num':'mean'}).sort_values('box_off_num', ascending=False)\n",
    "dist_boxoff_train.head()"
   ]
  },
  {
   "cell_type": "markdown",
   "metadata": {},
   "source": [
    "- 위는 배급사별 평균 관중수를 정렬한 결과.\n",
    "---"
   ]
  },
  {
   "cell_type": "markdown",
   "metadata": {},
   "source": [
    "- 배급사별 평균관중수의 중간값(media)을 계산.(이 값은 아래에서 결측치 치환값으로 사용)"
   ]
  },
  {
   "cell_type": "code",
   "execution_count": 25,
   "metadata": {},
   "outputs": [
    {
     "data": {
      "text/plain": [
       "4997.5"
      ]
     },
     "execution_count": 25,
     "metadata": {},
     "output_type": "execute_result"
    }
   ],
   "source": [
    "dist_boxoff_median = dist_boxoff_train.median().values[0] # 데이터 분포가 상당히 불균형해서 평균대신 중간값 사용.\n",
    "dist_boxoff_median"
   ]
  },
  {
   "cell_type": "markdown",
   "metadata": {},
   "source": [
    "---\n",
    "- test 데이터셋에 속하는 배급사 중에서, train에 배급사가 있는 경우엔 그 평균관객수를 이용.\n",
    "- 하지만, test 데이터셋에만 존재하는 35개의 distributor의 경우엔 평균 관객수 데이터가 없다.\n",
    "- 이를 보충하기 위해서, train 데이터셋에서 그 배급사별 평균관객수의 \"중간값\" dist_boxoff_median을 일괄적으로 할당.\n",
    "- 아래의 **total.box_off_num.isna()**는 total 중에서 test데이터셋을 고르는 조건."
   ]
  },
  {
   "cell_type": "code",
   "execution_count": 26,
   "metadata": {},
   "outputs": [
    {
     "data": {
      "text/html": [
       "<div>\n",
       "<style scoped>\n",
       "    .dataframe tbody tr th:only-of-type {\n",
       "        vertical-align: middle;\n",
       "    }\n",
       "\n",
       "    .dataframe tbody tr th {\n",
       "        vertical-align: top;\n",
       "    }\n",
       "\n",
       "    .dataframe thead th {\n",
       "        text-align: right;\n",
       "    }\n",
       "</style>\n",
       "<table border=\"1\" class=\"dataframe\">\n",
       "  <thead>\n",
       "    <tr style=\"text-align: right;\">\n",
       "      <th></th>\n",
       "      <th>box_off_num</th>\n",
       "    </tr>\n",
       "    <tr>\n",
       "      <th>distributor</th>\n",
       "      <th></th>\n",
       "    </tr>\n",
       "  </thead>\n",
       "  <tbody>\n",
       "    <tr>\n",
       "      <th>BoXoo엔터테인먼트</th>\n",
       "      <td>nan</td>\n",
       "    </tr>\n",
       "    <tr>\n",
       "      <th>CGV아트하우스</th>\n",
       "      <td>nan</td>\n",
       "    </tr>\n",
       "    <tr>\n",
       "      <th>CJCGV</th>\n",
       "      <td>nan</td>\n",
       "    </tr>\n",
       "    <tr>\n",
       "      <th>CinemaSAM</th>\n",
       "      <td>nan</td>\n",
       "    </tr>\n",
       "    <tr>\n",
       "      <th>KT&amp;G상상마당</th>\n",
       "      <td>nan</td>\n",
       "    </tr>\n",
       "  </tbody>\n",
       "</table>\n",
       "</div>"
      ],
      "text/plain": [
       "             box_off_num\n",
       "distributor             \n",
       "BoXoo엔터테인먼트          nan\n",
       "CGV아트하우스             nan\n",
       "CJCGV                nan\n",
       "CinemaSAM            nan\n",
       "KT&G상상마당             nan"
      ]
     },
     "execution_count": 26,
     "metadata": {},
     "output_type": "execute_result"
    }
   ],
   "source": [
    "dist_boxoff_test = total[total.box_off_num.isna()].groupby('distributor').agg({'box_off_num':'mean'})\n",
    "dist_boxoff_test.head() # test 데이터셋에는 box_off_num 값이 없으므로 모두 NaN."
   ]
  },
  {
   "cell_type": "markdown",
   "metadata": {},
   "source": [
    "---\n",
    "- 아래 과정이 조금 복잡할 수 있어서 단계별로 나눠서 설명.\n",
    "- 하고자 하는 목적은, 배급사별 평균관중수 정보를 얻고자 함이다. 문제는 test 데이터셋에는 그 성격상 관중수 정보가 없다는 점.\n",
    "- 따라서 test에 있는 배급사 중에서, train에도 있는 배급사는 train에서 구한 배급사별 평균관중수 정보를 그대로 이용하고,\n",
    "- test 세트에만 존재하는 배급사는 train에서 구한 중간값을 할당할 것이다.\n",
    "- 이를 위해서, 먼저 아래처럼 **dist_boxoff_train와 dist_boxoff_test의 box_off_num**열의 값을 index값(배급사명)을  기준으로 더한다.\n",
    "- 이때(더할때) fill_value=0는, NaN인 부분은 0으로 취급한다는 의미다.(아래 설명)"
   ]
  },
  {
   "cell_type": "code",
   "execution_count": 27,
   "metadata": {},
   "outputs": [
    {
     "data": {
      "text/plain": [
       "distributor\n",
       "BoXoo엔터테인먼트      15_572.000\n",
       "CGV아트하우스        995_573.750\n",
       "CJCGV         2_209_296.400\n",
       "CinemaSAM               nan\n",
       "JK필름            688_639.000\n",
       "Name: box_off_num, dtype: float64"
      ]
     },
     "execution_count": 27,
     "metadata": {},
     "output_type": "execute_result"
    }
   ],
   "source": [
    "dist_mean = dist_boxoff_train.box_off_num.add(dist_boxoff_test.box_off_num, fill_value=0)\n",
    "dist_mean[:5]"
   ]
  },
  {
   "cell_type": "markdown",
   "metadata": {},
   "source": [
    "- 두 데이터프레임의 열(box_off_num)을 더할 때, 가령 \"CGV아트하우스\" 인덱스(행)의 경우를 보면, train에서는 값이 숫자로 존재하지만, test에서는 NaN이다.\n",
    "- fill_value=0 옵션은, 숫자+NaN에서의 NaN은 0으로 취급해서 더하라는 의미.\n",
    "- 따라서 결과적으로 보면, test의 배급사 중에서 train에 이미 존재하는 배급사라면 그 값(숫자 평균값)으로 이용하겠다는 의미가 됨.\n",
    "- 그런데 위 결과를 보면 \"CinemaSAM\" 인덱스의 값은 여전히 NaN이다. 즉 fill_value는 두 데이터프레임에 공통된 index가 존재하고, 그중의 값이 NaN일때 처리여부고,\n",
    "- \"CinemaSAM\" 인덱스는 두 데이터프레임에 공통적이지 않고, 한쪽(여기선 test)에만 존재하는 항목이다. 이 경우엔 fill_value가 적용되지 않는다.\n",
    "- 따라서 이 경우엔 NaN으로 남아있게된다. 이제 이 NaN(test에만 존재하는 배급사의 평균관중수값)을 중간값으로 치환하는 과정이 남았다.\n",
    "---"
   ]
  },
  {
   "cell_type": "code",
   "execution_count": 28,
   "metadata": {},
   "outputs": [
    {
     "data": {
      "text/plain": [
       "distributor\n",
       "쇼박스         3_332_953.929\n",
       "아이필름코퍼레이션   3_117_859.000\n",
       "영구아트무비      2_541_603.000\n",
       "CJCGV       2_209_296.400\n",
       "NEW         1_939_059.947\n",
       "Name: box_off_num, dtype: float64"
      ]
     },
     "execution_count": 28,
     "metadata": {},
     "output_type": "execute_result"
    }
   ],
   "source": [
    "dist_mean.fillna(dist_boxoff_median, inplace=True) # 아직 NaN 값을 가진 컬럼은, test에만 있는 배급사. 이 값을 위에서 구한 train의 중간값으로 치환.\n",
    "dist_mean.sort_values(ascending=False, inplace=True)\n",
    "dist_mean[:5]"
   ]
  },
  {
   "cell_type": "code",
   "execution_count": 29,
   "metadata": {},
   "outputs": [
    {
     "data": {
      "image/png": "[encoded data removed]",
      "text/plain": [
       "<Figure size 432x288 with 1 Axes>"
      ]
     },
     "metadata": {
      "needs_background": "light"
     },
     "output_type": "display_data"
    }
   ],
   "source": [
    "plt.bar(dist_mean.index, dist_mean)\n",
    "plt.tick_params(top='off', bottom='on', left='on', right='off', labelleft='on', labelbottom='off')\n",
    "plt.xlabel('배급사')\n",
    "plt.ylabel('평균관중수')\n",
    "plt.title('배급사별 평균관중수')\n",
    "plt.show()"
   ]
  },
  {
   "cell_type": "markdown",
   "metadata": {},
   "source": [
    "- 배급사별 평균관객수의 범위가 매우 크므로, 이를 로그화한 결과를 아래 그래프로 본다.\n",
    "---"
   ]
  },
  {
   "cell_type": "code",
   "execution_count": 30,
   "metadata": {},
   "outputs": [
    {
     "data": {
      "image/png": "[encoded data removed]",
      "text/plain": [
       "<Figure size 432x288 with 1 Axes>"
      ]
     },
     "metadata": {
      "needs_background": "light"
     },
     "output_type": "display_data"
    }
   ],
   "source": [
    "dist_mean_log10 = dist_mean.apply(lambda x : np.log10(x))\n",
    "\n",
    "plt.bar(dist_mean_log10.index, dist_mean_log10)\n",
    "plt.tick_params(top='off', bottom='on', left='on', right='off', labelleft='on', labelbottom='off')"
   ]
  },
  {
   "cell_type": "code",
   "execution_count": 31,
   "metadata": {},
   "outputs": [
    {
     "data": {
      "text/plain": [
       "(0.3010299956639812, 6.522829310448562, 21.668369944533836)"
      ]
     },
     "execution_count": 31,
     "metadata": {},
     "output_type": "execute_result"
    }
   ],
   "source": [
    "dist_mean_log10.min(), dist_mean_log10.max(), dist_mean_log10.max()/dist_mean_log10.min()"
   ]
  },
  {
   "cell_type": "code",
   "execution_count": 32,
   "metadata": {},
   "outputs": [
    {
     "data": {
      "text/plain": [
       "distributor\n",
       "쇼박스         6.523\n",
       "아이필름코퍼레이션   6.494\n",
       "영구아트무비      6.405\n",
       "CJCGV       6.344\n",
       "NEW         6.288\n",
       "Name: box_off_num, dtype: float64"
      ]
     },
     "execution_count": 32,
     "metadata": {},
     "output_type": "execute_result"
    }
   ],
   "source": [
    "dist_mean_log10.head()"
   ]
  },
  {
   "cell_type": "markdown",
   "metadata": {},
   "source": [
    "- 이 배급사별 평균관객수를 6개(그래프를 보고 임의 선정)의 균일 구간으로 나눈다."
   ]
  },
  {
   "cell_type": "code",
   "execution_count": 33,
   "metadata": {},
   "outputs": [
    {
     "data": {
      "text/plain": [
       "distributor\n",
       "쇼박스          (5.486, 6.523]\n",
       "아이필름코퍼레이션    (5.486, 6.523]\n",
       "영구아트무비       (5.486, 6.523]\n",
       "CJCGV        (5.486, 6.523]\n",
       "NEW          (5.486, 6.523]\n",
       "Name: box_off_num, dtype: category\n",
       "Categories (6, interval[float64]): [(0.295, 1.338] < (1.338, 2.375] < (2.375, 3.412] < (3.412, 4.449] < (4.449, 5.486] < (5.486, 6.523]]"
      ]
     },
     "execution_count": 33,
     "metadata": {},
     "output_type": "execute_result"
    }
   ],
   "source": [
    "dist_mean_log10_6tiles = pd.cut(dist_mean_log10, 6)\n",
    "dist_mean_log10_6tiles[:5]"
   ]
  },
  {
   "cell_type": "code",
   "execution_count": 34,
   "metadata": {},
   "outputs": [
    {
     "name": "stdout",
     "output_type": "stream",
     "text": [
      "{'쇼박스': 5.0, '아이필름코퍼레이션': 5.0, '영구아트무비': 5.0, 'CJCGV': 5.0, 'NEW': 5.0, '이십세기폭스코리아': 5.0, '롯데엔터테인먼트': 5.0, '전망좋은영화사': 5.0, '주머니필름': 5.0, 'CGV아트하우스': 5.0, '시네마서비스': 5.0, '보람엔터테인먼트': 5.0, '스튜디오블루': 5.0, '씨네그루키다리이엔티': 5.0, '씨너스엔터테인먼트': 5.0, 'SK텔레콤': 5.0, 'JK필름': 5.0, '싸이더스': 5.0, '메가박스플러스엠': 5.0, 'OAL(올)': 5.0, '인벤트디': 5.0, '시너지': 5.0, '필라멘트픽쳐스': 5.0, '판씨네마': 5.0, '리틀빅픽쳐스': 4.0, 'KT': 4.0, '화앤담이엔티': 4.0, '프레인글로벌': 4.0, '스토리셋': 4.0, '마인스엔터테인먼트': 4.0, '이스트스카이필름': 4.0, '전주국제영화제': 4.0, '오퍼스픽쳐스': 4.0, '영화제작전원사': 4.0, '무비꼴라쥬': 4.0, 'THE픽쳐스': 4.0, '에이원엔터테인먼트': 4.0, '디씨드': 4.0, 'SBS콘텐츠허브': 4.0, '이달투': 4.0, '타임스토리': 4.0, '마운틴픽쳐스': 4.0, '백두대간': 3.0, '나이너스엔터테인먼트': 3.0, '팝파트너스': 3.0, '아우라픽처스': 3.0, '에스피엠': 3.0, '영화사조아': 3.0, '파이오니아21': 3.0, '엣나인필름': 3.0, 'BoXoo엔터테인먼트': 3.0, '스튜디오후크': 3.0, '스폰지': 3.0, '더피플': 3.0, '조이앤시네마': 3.0, '새인컴퍼니': 3.0, '영화사진진': 3.0, '시네마달': 3.0, '유비콘텐츠': 3.0, '예지림엔터테인먼트': 3.0, '스튜디오느림보': 3.0, '스톰픽쳐스코리아': 3.0, 'KBS미디어': 3.0, '스크린조이': 3.0, '영화사廊': 3.0, '와이드릴리즈': 3.0, '영화사조제': 3.0, '로드하우스': 3.0, '어뮤즈': 3.0, 'KT&G상상마당': 3.0, '대명문화공장': 3.0, '인디스토리': 3.0, '필름라인': 3.0, '미로비젼': 3.0, '미디어로그': 3.0, '비에이치제이시네마': 3.0, 'CinemaSAM': 3.0, '컨텐츠온미디어': 3.0, '모쿠슈라': 3.0, '명필름': 3.0, '필마픽쳐스': 3.0, '핑크로봇필름': 3.0, '리얼라이즈픽쳐스': 3.0, '리아코어콘텐츠': 3.0, '루스이소니도스': 3.0, '노근리프로덕션': 3.0, '루믹스미디어': 3.0, '청년필름': 3.0, '와우픽쳐스': 3.0, '갑종필름': 3.0, '더픽쳐스': 3.0, '영화사빅': 3.0, '영화사화수분': 3.0, '오픈유컬쳐': 3.0, '애니메이션배급': 3.0, '드림웨스트픽쳐스': 3.0, '다세포클럽': 3.0, '씨타마운틴픽쳐스': 3.0, '늘푸른시네마': 3.0, '레몬트리': 3.0, '유나이티드픽처스': 3.0, '굿픽처스': 3.0, '김기덕필름': 3.0, '유니버설픽쳐스인터내셔널코리아': 3.0, '골든타이드픽처스': 3.0, '패스파인더씨앤씨': 3.0, '상구네필름': 3.0, '브릿지웍스': 3.0, '팝엔터테인먼트': 3.0, '에이블엔터테인먼트': 3.0, '키노아이': 3.0, '프리비젼': 3.0, '미라클필름': 3.0, '케이엠스타': 3.0, '콘텐츠판다': 3.0, '레인보우팩토리': 3.0, '인디플러그': 3.0, '미디어데이': 3.0, '머스트씨무비': 2.0, '롤러코스터프로덕션': 2.0, '영희야놀자': 2.0, '트리필름': 2.0, '홀리가든': 2.0, '스마일이엔티': 2.0, 'tvN': 2.0, '찬란': 2.0, '어썸피플': 2.0, '마노엔터테인먼트': 2.0, '씨네굿필름': 2.0, '드림로드': 2.0, '키노엔터테인먼트': 2.0, '노바엔터테인먼트': 2.0, '서울독립영화제': 2.0, '노버스엔터테인먼트': 2.0, '드림팩트엔터테인먼트': 2.0, '퍼스트런': 2.0, '콘텐츠윙': 2.0, 'M2픽처스': 2.0, '케이알씨지': 2.0, '피터팬픽쳐스': 2.0, '고앤고필름': 2.0, '두타연': 2.0, '패뷸러스': 2.0, '이모션픽처스': 2.0, '아방가르드필름': 2.0, '랠리버튼': 2.0, '동국대학교충무로영상제작센터': 2.0, '팜코리아미디어': 2.0, '제나두엔터테인먼트': 2.0, '두엔터테인먼트': 2.0, '액티버스엔터테인먼트': 2.0, '하준사': 2.0, '쟈비스미디어': 2.0, '마법사필름': 2.0, '디마엔터테인먼트': 2.0, '프로젝트엠피': 2.0, '웃기씨네': 2.0, '판다미디어': 2.0, '이상우필름': 2.0, '온비즈넷': 2.0, '유비네트워크': 2.0, '휘엔터테인먼트': 1.0, '크리에이티브컴즈': 1.0, 'ysfilm': 1.0, '에스와이코마드': 1.0, '건시네마': 1.0, '씨엠닉스': 1.0, '위더스필름': 1.0, '인터콘미디어': 1.0, '한국YWCA연합회': 1.0, '나우콘텐츠': 1.0, '위드시네마': 1.0, '사람과사람들': 1.0, '고구마공작소': 0.0, '인피니티엔터테인먼트': 0.0}\n"
     ]
    }
   ],
   "source": [
    "dist_dict = dist_mean_log10_6tiles.cat.codes.astype(np.float32).to_dict() # 각 구간(caterogical)을 0~5까지의 정수로 변환해서 배급사명과 dict로.\n",
    "print(dist_dict)"
   ]
  },
  {
   "cell_type": "code",
   "execution_count": 35,
   "metadata": {},
   "outputs": [
    {
     "data": {
      "text/html": [
       "<div>\n",
       "<style scoped>\n",
       "    .dataframe tbody tr th:only-of-type {\n",
       "        vertical-align: middle;\n",
       "    }\n",
       "\n",
       "    .dataframe tbody tr th {\n",
       "        vertical-align: top;\n",
       "    }\n",
       "\n",
       "    .dataframe thead th {\n",
       "        text-align: right;\n",
       "    }\n",
       "</style>\n",
       "<table border=\"1\" class=\"dataframe\">\n",
       "  <thead>\n",
       "    <tr style=\"text-align: right;\">\n",
       "      <th></th>\n",
       "      <th>0</th>\n",
       "      <th>1</th>\n",
       "      <th>2</th>\n",
       "      <th>3</th>\n",
       "      <th>4</th>\n",
       "    </tr>\n",
       "  </thead>\n",
       "  <tbody>\n",
       "    <tr>\n",
       "      <th>box_off_num</th>\n",
       "      <td>23_398.000</td>\n",
       "      <td>7_072_501.000</td>\n",
       "      <td>6_959_083.000</td>\n",
       "      <td>217_866.000</td>\n",
       "      <td>483_387.000</td>\n",
       "    </tr>\n",
       "    <tr>\n",
       "      <th>dir_prev_bfnum</th>\n",
       "      <td>NaN</td>\n",
       "      <td>1_161_602.500</td>\n",
       "      <td>220_775.250</td>\n",
       "      <td>23_894.000</td>\n",
       "      <td>1.000</td>\n",
       "    </tr>\n",
       "    <tr>\n",
       "      <th>dir_prev_num</th>\n",
       "      <td>0</td>\n",
       "      <td>2</td>\n",
       "      <td>4</td>\n",
       "      <td>2</td>\n",
       "      <td>1</td>\n",
       "    </tr>\n",
       "    <tr>\n",
       "      <th>director</th>\n",
       "      <td>조병옥</td>\n",
       "      <td>우민호</td>\n",
       "      <td>장철수</td>\n",
       "      <td>구자홍</td>\n",
       "      <td>신근호</td>\n",
       "    </tr>\n",
       "    <tr>\n",
       "      <th>DROP_distributor</th>\n",
       "      <td>롯데엔터테인먼트</td>\n",
       "      <td>쇼박스</td>\n",
       "      <td>쇼박스</td>\n",
       "      <td>NEW</td>\n",
       "      <td>쇼박스</td>\n",
       "    </tr>\n",
       "    <tr>\n",
       "      <th>genre</th>\n",
       "      <td>액션</td>\n",
       "      <td>느와르</td>\n",
       "      <td>액션</td>\n",
       "      <td>코미디</td>\n",
       "      <td>코미디</td>\n",
       "    </tr>\n",
       "    <tr>\n",
       "      <th>num_actor</th>\n",
       "      <td>2</td>\n",
       "      <td>3</td>\n",
       "      <td>4</td>\n",
       "      <td>6</td>\n",
       "      <td>2</td>\n",
       "    </tr>\n",
       "    <tr>\n",
       "      <th>num_staff</th>\n",
       "      <td>91</td>\n",
       "      <td>387</td>\n",
       "      <td>343</td>\n",
       "      <td>20</td>\n",
       "      <td>251</td>\n",
       "    </tr>\n",
       "    <tr>\n",
       "      <th>release_time</th>\n",
       "      <td>2012-11-22</td>\n",
       "      <td>2015-11-19</td>\n",
       "      <td>2013-06-05</td>\n",
       "      <td>2012-07-12</td>\n",
       "      <td>2010-11-04</td>\n",
       "    </tr>\n",
       "    <tr>\n",
       "      <th>screening_rat</th>\n",
       "      <td>청소년 관람불가</td>\n",
       "      <td>청소년 관람불가</td>\n",
       "      <td>15세 관람가</td>\n",
       "      <td>전체 관람가</td>\n",
       "      <td>15세 관람가</td>\n",
       "    </tr>\n",
       "    <tr>\n",
       "      <th>time</th>\n",
       "      <td>96</td>\n",
       "      <td>130</td>\n",
       "      <td>123</td>\n",
       "      <td>101</td>\n",
       "      <td>108</td>\n",
       "    </tr>\n",
       "    <tr>\n",
       "      <th>DROP_title</th>\n",
       "      <td>개들의 전쟁</td>\n",
       "      <td>내부자들</td>\n",
       "      <td>은밀하게 위대하게</td>\n",
       "      <td>나는 공무원이다</td>\n",
       "      <td>불량남녀</td>\n",
       "    </tr>\n",
       "    <tr>\n",
       "      <th>DROP_title_length</th>\n",
       "      <td>5</td>\n",
       "      <td>4</td>\n",
       "      <td>8</td>\n",
       "      <td>7</td>\n",
       "      <td>4</td>\n",
       "    </tr>\n",
       "    <tr>\n",
       "      <th>title_(0, 1]</th>\n",
       "      <td>0</td>\n",
       "      <td>0</td>\n",
       "      <td>0</td>\n",
       "      <td>0</td>\n",
       "      <td>0</td>\n",
       "    </tr>\n",
       "    <tr>\n",
       "      <th>title_(1, 5]</th>\n",
       "      <td>1</td>\n",
       "      <td>1</td>\n",
       "      <td>0</td>\n",
       "      <td>0</td>\n",
       "      <td>1</td>\n",
       "    </tr>\n",
       "    <tr>\n",
       "      <th>title_(5, 9]</th>\n",
       "      <td>0</td>\n",
       "      <td>0</td>\n",
       "      <td>1</td>\n",
       "      <td>1</td>\n",
       "      <td>0</td>\n",
       "    </tr>\n",
       "    <tr>\n",
       "      <th>title_(9, 23]</th>\n",
       "      <td>0</td>\n",
       "      <td>0</td>\n",
       "      <td>0</td>\n",
       "      <td>0</td>\n",
       "      <td>0</td>\n",
       "    </tr>\n",
       "    <tr>\n",
       "      <th>distributor_ord</th>\n",
       "      <td>5.000</td>\n",
       "      <td>5.000</td>\n",
       "      <td>5.000</td>\n",
       "      <td>5.000</td>\n",
       "      <td>5.000</td>\n",
       "    </tr>\n",
       "  </tbody>\n",
       "</table>\n",
       "</div>"
      ],
      "text/plain": [
       "                            0             1             2           3  \\\n",
       "box_off_num        23_398.000 7_072_501.000 6_959_083.000 217_866.000   \n",
       "dir_prev_bfnum            NaN 1_161_602.500   220_775.250  23_894.000   \n",
       "dir_prev_num                0             2             4           2   \n",
       "director                  조병옥           우민호           장철수         구자홍   \n",
       "DROP_distributor     롯데엔터테인먼트           쇼박스           쇼박스         NEW   \n",
       "genre                      액션           느와르            액션         코미디   \n",
       "num_actor                   2             3             4           6   \n",
       "num_staff                  91           387           343          20   \n",
       "release_time       2012-11-22    2015-11-19    2013-06-05  2012-07-12   \n",
       "screening_rat        청소년 관람불가      청소년 관람불가       15세 관람가      전체 관람가   \n",
       "time                       96           130           123         101   \n",
       "DROP_title             개들의 전쟁          내부자들     은밀하게 위대하게    나는 공무원이다   \n",
       "DROP_title_length           5             4             8           7   \n",
       "title_(0, 1]                0             0             0           0   \n",
       "title_(1, 5]                1             1             0           0   \n",
       "title_(5, 9]                0             0             1           1   \n",
       "title_(9, 23]               0             0             0           0   \n",
       "distributor_ord         5.000         5.000         5.000       5.000   \n",
       "\n",
       "                            4  \n",
       "box_off_num       483_387.000  \n",
       "dir_prev_bfnum          1.000  \n",
       "dir_prev_num                1  \n",
       "director                  신근호  \n",
       "DROP_distributor          쇼박스  \n",
       "genre                     코미디  \n",
       "num_actor                   2  \n",
       "num_staff                 251  \n",
       "release_time       2010-11-04  \n",
       "screening_rat         15세 관람가  \n",
       "time                      108  \n",
       "DROP_title               불량남녀  \n",
       "DROP_title_length           4  \n",
       "title_(0, 1]                0  \n",
       "title_(1, 5]                1  \n",
       "title_(5, 9]                0  \n",
       "title_(9, 23]               0  \n",
       "distributor_ord         5.000  "
      ]
     },
     "execution_count": 35,
     "metadata": {},
     "output_type": "execute_result"
    }
   ],
   "source": [
    "total['distributor_ord'] = total['distributor'].map(dist_dict)\n",
    "total = total.rename(columns = {'distributor':'DROP_distributor'}) # 모든 처리가 끝난 후에 제거할 열 표시.\n",
    "total.head().T"
   ]
  },
  {
   "cell_type": "markdown",
   "metadata": {},
   "source": [
    "- **∴** 배급사명이라는 문자열 정보를 러닝에 활용할 수 있는 숫자정보로 전환하기 위해, 배급사별 평균관중수를 이용하고자 했다.이때 test에만 존재하는 배급사는 train에서 구한 중간값으로 치환했다.\n",
    "이후 배급사별 평균관중수를 그래프로 나타내보니, 그 범위가 너무 커서 이를 log한 후에, 이 값을 직접 이용할 수도 있지만,\n",
    "여기선 이 값을 6개의 구간으로 나눠서 단순화 시켜보았다. 이때 이 숫자값(0,1..5)은 카테고리컬한 값이 아니라, Ordered number(평균관객수 정보를 담아) 값이므로\n",
    "별도의 one-hot-encoding 같은 것을 하지 않는다.\n",
    "---"
   ]
  },
  {
   "cell_type": "markdown",
   "metadata": {},
   "source": [
    "## 3.3 genre"
   ]
  },
  {
   "cell_type": "code",
   "execution_count": 36,
   "metadata": {},
   "outputs": [
    {
     "name": "stdout",
     "output_type": "stream",
     "text": [
      "12 12\n",
      "0\n",
      "['액션' '느와르' '코미디' '다큐멘터리' '뮤지컬' '드라마' '멜로/로맨스' '공포' '서스펜스' '애니메이션' '미스터리'\n",
      " 'SF']\n"
     ]
    }
   ],
   "source": [
    "print(len(train.genre.unique()), len(test.genre.unique()))\n",
    "print(len(list(set(test.genre) - set(train.genre))))\n",
    "print(train.genre.unique())"
   ]
  },
  {
   "cell_type": "markdown",
   "metadata": {},
   "source": [
    "- train/test 모두 공통된 12개의 장르로 구성."
   ]
  },
  {
   "cell_type": "code",
   "execution_count": 37,
   "metadata": {},
   "outputs": [
    {
     "data": {
      "text/html": [
       "<div>\n",
       "<style scoped>\n",
       "    .dataframe tbody tr th:only-of-type {\n",
       "        vertical-align: middle;\n",
       "    }\n",
       "\n",
       "    .dataframe tbody tr th {\n",
       "        vertical-align: top;\n",
       "    }\n",
       "\n",
       "    .dataframe thead th {\n",
       "        text-align: right;\n",
       "    }\n",
       "</style>\n",
       "<table border=\"1\" class=\"dataframe\">\n",
       "  <thead>\n",
       "    <tr style=\"text-align: right;\">\n",
       "      <th></th>\n",
       "      <th>box_off_num</th>\n",
       "    </tr>\n",
       "    <tr>\n",
       "      <th>genre</th>\n",
       "      <th></th>\n",
       "    </tr>\n",
       "  </thead>\n",
       "  <tbody>\n",
       "    <tr>\n",
       "      <th>느와르</th>\n",
       "      <td>2_263_695.111</td>\n",
       "    </tr>\n",
       "    <tr>\n",
       "      <th>액션</th>\n",
       "      <td>2_203_974.071</td>\n",
       "    </tr>\n",
       "    <tr>\n",
       "      <th>SF</th>\n",
       "      <td>1_788_345.692</td>\n",
       "    </tr>\n",
       "    <tr>\n",
       "      <th>코미디</th>\n",
       "      <td>1_193_914.000</td>\n",
       "    </tr>\n",
       "    <tr>\n",
       "      <th>드라마</th>\n",
       "      <td>625_689.792</td>\n",
       "    </tr>\n",
       "    <tr>\n",
       "      <th>공포</th>\n",
       "      <td>590_832.524</td>\n",
       "    </tr>\n",
       "    <tr>\n",
       "      <th>미스터리</th>\n",
       "      <td>527_548.176</td>\n",
       "    </tr>\n",
       "    <tr>\n",
       "      <th>멜로/로맨스</th>\n",
       "      <td>425_968.038</td>\n",
       "    </tr>\n",
       "    <tr>\n",
       "      <th>애니메이션</th>\n",
       "      <td>181_926.667</td>\n",
       "    </tr>\n",
       "    <tr>\n",
       "      <th>서스펜스</th>\n",
       "      <td>82_611.000</td>\n",
       "    </tr>\n",
       "    <tr>\n",
       "      <th>다큐멘터리</th>\n",
       "      <td>67_172.258</td>\n",
       "    </tr>\n",
       "    <tr>\n",
       "      <th>뮤지컬</th>\n",
       "      <td>6_627.000</td>\n",
       "    </tr>\n",
       "  </tbody>\n",
       "</table>\n",
       "</div>"
      ],
      "text/plain": [
       "         box_off_num\n",
       "genre               \n",
       "느와르    2_263_695.111\n",
       "액션     2_203_974.071\n",
       "SF     1_788_345.692\n",
       "코미디    1_193_914.000\n",
       "드라마      625_689.792\n",
       "공포       590_832.524\n",
       "미스터리     527_548.176\n",
       "멜로/로맨스   425_968.038\n",
       "애니메이션    181_926.667\n",
       "서스펜스      82_611.000\n",
       "다큐멘터리     67_172.258\n",
       "뮤지컬        6_627.000"
      ]
     },
     "execution_count": 37,
     "metadata": {},
     "output_type": "execute_result"
    }
   ],
   "source": [
    "genre_mean = train.groupby('genre').agg({'box_off_num':'mean'}).sort_values('box_off_num', ascending=False)\n",
    "genre_mean # 장르별 평균관객수"
   ]
  },
  {
   "cell_type": "code",
   "execution_count": 38,
   "metadata": {},
   "outputs": [
    {
     "name": "stdout",
     "output_type": "stream",
     "text": [
      "최소 box_off_num   6_627.000\n",
      "dtype: float64,\n",
      "\n",
      "최대 box_off_num   2_263_695.111\n",
      "dtype: float64,\n",
      "\n",
      "비율 box_off_num   341.587\n",
      "dtype: float64\n"
     ]
    }
   ],
   "source": [
    "print(\"최소 {},\\n\\n최대 {},\\n\\n비율 {}\".format(genre_mean.min(), genre_mean.max(), genre_mean.max()/genre_mean.min()))"
   ]
  },
  {
   "cell_type": "code",
   "execution_count": 39,
   "metadata": {},
   "outputs": [
    {
     "data": {
      "image/png": "[encoded data removed]",
      "text/plain": [
       "<Figure size 432x288 with 1 Axes>"
      ]
     },
     "metadata": {
      "needs_background": "light"
     },
     "output_type": "display_data"
    }
   ],
   "source": [
    "plt.bar(genre_mean.index, genre_mean.box_off_num)\n",
    "plt.xticks(rotation=90)\n",
    "plt.title('장르별 평균관객수')\n",
    "plt.show()"
   ]
  },
  {
   "cell_type": "code",
   "execution_count": 40,
   "metadata": {},
   "outputs": [
    {
     "name": "stdout",
     "output_type": "stream",
     "text": [
      "최소 box_off_num   3.821\n",
      "dtype: float64,\n",
      "\n",
      "최대 box_off_num   6.355\n",
      "dtype: float64,\n",
      "\n",
      "비율 box_off_num   1.663\n",
      "dtype: float64\n"
     ]
    }
   ],
   "source": [
    "genre_mean_log10 = np.log10(genre_mean) #log화.\n",
    "print(\"최소 {},\\n\\n최대 {},\\n\\n비율 {}\".format(genre_mean_log10.min(), genre_mean_log10.max(), genre_mean_log10.max()/genre_mean_log10.min()))"
   ]
  },
  {
   "cell_type": "code",
   "execution_count": 41,
   "metadata": {},
   "outputs": [
    {
     "data": {
      "image/png": "[encoded data removed]",
      "text/plain": [
       "<Figure size 432x288 with 1 Axes>"
      ]
     },
     "metadata": {
      "needs_background": "light"
     },
     "output_type": "display_data"
    }
   ],
   "source": [
    "plt.bar(genre_mean_log10.index, genre_mean_log10.box_off_num)\n",
    "plt.xticks(rotation=90)\n",
    "plt.title('장르별 로그화된 평균관객수')\n",
    "plt.show()"
   ]
  },
  {
   "cell_type": "markdown",
   "metadata": {},
   "source": [
    "- '장르' 별로 관객수에 분명 차이를 보이고, 이는 실제 현실의 모습이기도 하므로, genre는 ordered number로 처리.단, 그 로그화한 이후엔 범위가 크지 않으므로 별도의 구간으로 나누는 것은 하지 않고, 바로 그 값을 이용해봤다."
   ]
  },
  {
   "cell_type": "code",
   "execution_count": 42,
   "metadata": {},
   "outputs": [
    {
     "name": "stdout",
     "output_type": "stream",
     "text": [
      "{'느와르': 6.3548179329055205, '액션': 6.343206480968435, 'SF': 6.252451472933185, '코미디': 6.076973044824687, '드라마': 5.796359069509853, '공포': 5.771464394091215, '미스터리': 5.722262126187656, '멜로/로맨스': 5.629377014031057, '애니메이션': 5.259896362270532, '서스펜스': 4.917037879296558, '다큐멘터리': 4.827189947799599, '뮤지컬': 3.821316970591097}\n"
     ]
    }
   ],
   "source": [
    "genre_dict = genre_mean_log10.loc[:, 'box_off_num'].to_dict()\n",
    "print(genre_dict)"
   ]
  },
  {
   "cell_type": "code",
   "execution_count": 43,
   "metadata": {},
   "outputs": [
    {
     "data": {
      "text/html": [
       "<div>\n",
       "<style scoped>\n",
       "    .dataframe tbody tr th:only-of-type {\n",
       "        vertical-align: middle;\n",
       "    }\n",
       "\n",
       "    .dataframe tbody tr th {\n",
       "        vertical-align: top;\n",
       "    }\n",
       "\n",
       "    .dataframe thead th {\n",
       "        text-align: right;\n",
       "    }\n",
       "</style>\n",
       "<table border=\"1\" class=\"dataframe\">\n",
       "  <thead>\n",
       "    <tr style=\"text-align: right;\">\n",
       "      <th></th>\n",
       "      <th>0</th>\n",
       "      <th>1</th>\n",
       "      <th>2</th>\n",
       "      <th>3</th>\n",
       "      <th>4</th>\n",
       "    </tr>\n",
       "  </thead>\n",
       "  <tbody>\n",
       "    <tr>\n",
       "      <th>box_off_num</th>\n",
       "      <td>23_398.000</td>\n",
       "      <td>7_072_501.000</td>\n",
       "      <td>6_959_083.000</td>\n",
       "      <td>217_866.000</td>\n",
       "      <td>483_387.000</td>\n",
       "    </tr>\n",
       "    <tr>\n",
       "      <th>dir_prev_bfnum</th>\n",
       "      <td>NaN</td>\n",
       "      <td>1_161_602.500</td>\n",
       "      <td>220_775.250</td>\n",
       "      <td>23_894.000</td>\n",
       "      <td>1.000</td>\n",
       "    </tr>\n",
       "    <tr>\n",
       "      <th>dir_prev_num</th>\n",
       "      <td>0</td>\n",
       "      <td>2</td>\n",
       "      <td>4</td>\n",
       "      <td>2</td>\n",
       "      <td>1</td>\n",
       "    </tr>\n",
       "    <tr>\n",
       "      <th>director</th>\n",
       "      <td>조병옥</td>\n",
       "      <td>우민호</td>\n",
       "      <td>장철수</td>\n",
       "      <td>구자홍</td>\n",
       "      <td>신근호</td>\n",
       "    </tr>\n",
       "    <tr>\n",
       "      <th>DROP_distributor</th>\n",
       "      <td>롯데엔터테인먼트</td>\n",
       "      <td>쇼박스</td>\n",
       "      <td>쇼박스</td>\n",
       "      <td>NEW</td>\n",
       "      <td>쇼박스</td>\n",
       "    </tr>\n",
       "    <tr>\n",
       "      <th>DROP_genre</th>\n",
       "      <td>액션</td>\n",
       "      <td>느와르</td>\n",
       "      <td>액션</td>\n",
       "      <td>코미디</td>\n",
       "      <td>코미디</td>\n",
       "    </tr>\n",
       "    <tr>\n",
       "      <th>num_actor</th>\n",
       "      <td>2</td>\n",
       "      <td>3</td>\n",
       "      <td>4</td>\n",
       "      <td>6</td>\n",
       "      <td>2</td>\n",
       "    </tr>\n",
       "    <tr>\n",
       "      <th>num_staff</th>\n",
       "      <td>91</td>\n",
       "      <td>387</td>\n",
       "      <td>343</td>\n",
       "      <td>20</td>\n",
       "      <td>251</td>\n",
       "    </tr>\n",
       "    <tr>\n",
       "      <th>release_time</th>\n",
       "      <td>2012-11-22</td>\n",
       "      <td>2015-11-19</td>\n",
       "      <td>2013-06-05</td>\n",
       "      <td>2012-07-12</td>\n",
       "      <td>2010-11-04</td>\n",
       "    </tr>\n",
       "    <tr>\n",
       "      <th>screening_rat</th>\n",
       "      <td>청소년 관람불가</td>\n",
       "      <td>청소년 관람불가</td>\n",
       "      <td>15세 관람가</td>\n",
       "      <td>전체 관람가</td>\n",
       "      <td>15세 관람가</td>\n",
       "    </tr>\n",
       "    <tr>\n",
       "      <th>time</th>\n",
       "      <td>96</td>\n",
       "      <td>130</td>\n",
       "      <td>123</td>\n",
       "      <td>101</td>\n",
       "      <td>108</td>\n",
       "    </tr>\n",
       "    <tr>\n",
       "      <th>DROP_title</th>\n",
       "      <td>개들의 전쟁</td>\n",
       "      <td>내부자들</td>\n",
       "      <td>은밀하게 위대하게</td>\n",
       "      <td>나는 공무원이다</td>\n",
       "      <td>불량남녀</td>\n",
       "    </tr>\n",
       "    <tr>\n",
       "      <th>DROP_title_length</th>\n",
       "      <td>5</td>\n",
       "      <td>4</td>\n",
       "      <td>8</td>\n",
       "      <td>7</td>\n",
       "      <td>4</td>\n",
       "    </tr>\n",
       "    <tr>\n",
       "      <th>title_(0, 1]</th>\n",
       "      <td>0</td>\n",
       "      <td>0</td>\n",
       "      <td>0</td>\n",
       "      <td>0</td>\n",
       "      <td>0</td>\n",
       "    </tr>\n",
       "    <tr>\n",
       "      <th>title_(1, 5]</th>\n",
       "      <td>1</td>\n",
       "      <td>1</td>\n",
       "      <td>0</td>\n",
       "      <td>0</td>\n",
       "      <td>1</td>\n",
       "    </tr>\n",
       "    <tr>\n",
       "      <th>title_(5, 9]</th>\n",
       "      <td>0</td>\n",
       "      <td>0</td>\n",
       "      <td>1</td>\n",
       "      <td>1</td>\n",
       "      <td>0</td>\n",
       "    </tr>\n",
       "    <tr>\n",
       "      <th>title_(9, 23]</th>\n",
       "      <td>0</td>\n",
       "      <td>0</td>\n",
       "      <td>0</td>\n",
       "      <td>0</td>\n",
       "      <td>0</td>\n",
       "    </tr>\n",
       "    <tr>\n",
       "      <th>distributor_ord</th>\n",
       "      <td>5.000</td>\n",
       "      <td>5.000</td>\n",
       "      <td>5.000</td>\n",
       "      <td>5.000</td>\n",
       "      <td>5.000</td>\n",
       "    </tr>\n",
       "    <tr>\n",
       "      <th>genre_scaled</th>\n",
       "      <td>6.343</td>\n",
       "      <td>6.355</td>\n",
       "      <td>6.343</td>\n",
       "      <td>6.077</td>\n",
       "      <td>6.077</td>\n",
       "    </tr>\n",
       "  </tbody>\n",
       "</table>\n",
       "</div>"
      ],
      "text/plain": [
       "                            0             1             2           3  \\\n",
       "box_off_num        23_398.000 7_072_501.000 6_959_083.000 217_866.000   \n",
       "dir_prev_bfnum            NaN 1_161_602.500   220_775.250  23_894.000   \n",
       "dir_prev_num                0             2             4           2   \n",
       "director                  조병옥           우민호           장철수         구자홍   \n",
       "DROP_distributor     롯데엔터테인먼트           쇼박스           쇼박스         NEW   \n",
       "DROP_genre                 액션           느와르            액션         코미디   \n",
       "num_actor                   2             3             4           6   \n",
       "num_staff                  91           387           343          20   \n",
       "release_time       2012-11-22    2015-11-19    2013-06-05  2012-07-12   \n",
       "screening_rat        청소년 관람불가      청소년 관람불가       15세 관람가      전체 관람가   \n",
       "time                       96           130           123         101   \n",
       "DROP_title             개들의 전쟁          내부자들     은밀하게 위대하게    나는 공무원이다   \n",
       "DROP_title_length           5             4             8           7   \n",
       "title_(0, 1]                0             0             0           0   \n",
       "title_(1, 5]                1             1             0           0   \n",
       "title_(5, 9]                0             0             1           1   \n",
       "title_(9, 23]               0             0             0           0   \n",
       "distributor_ord         5.000         5.000         5.000       5.000   \n",
       "genre_scaled            6.343         6.355         6.343       6.077   \n",
       "\n",
       "                            4  \n",
       "box_off_num       483_387.000  \n",
       "dir_prev_bfnum          1.000  \n",
       "dir_prev_num                1  \n",
       "director                  신근호  \n",
       "DROP_distributor          쇼박스  \n",
       "DROP_genre                코미디  \n",
       "num_actor                   2  \n",
       "num_staff                 251  \n",
       "release_time       2010-11-04  \n",
       "screening_rat         15세 관람가  \n",
       "time                      108  \n",
       "DROP_title               불량남녀  \n",
       "DROP_title_length           4  \n",
       "title_(0, 1]                0  \n",
       "title_(1, 5]                1  \n",
       "title_(5, 9]                0  \n",
       "title_(9, 23]               0  \n",
       "distributor_ord         5.000  \n",
       "genre_scaled            6.077  "
      ]
     },
     "execution_count": 43,
     "metadata": {},
     "output_type": "execute_result"
    }
   ],
   "source": [
    "total['genre_scaled'] = total['genre'].map(genre_dict)\n",
    "total = total.rename(columns = {'genre':'DROP_genre'}) # 모든 처리가 끝난 후에 제거할 열 표시.\n",
    "total.head().T"
   ]
  },
  {
   "cell_type": "markdown",
   "metadata": {},
   "source": [
    "## 3.4 release_time"
   ]
  },
  {
   "cell_type": "code",
   "execution_count": 44,
   "metadata": {},
   "outputs": [
    {
     "data": {
      "text/plain": [
       "count            600\n",
       "unique           330\n",
       "top       2015-10-22\n",
       "freq               6\n",
       "Name: release_time, dtype: object"
      ]
     },
     "execution_count": 44,
     "metadata": {},
     "output_type": "execute_result"
    }
   ],
   "source": [
    "train.release_time.describe()"
   ]
  },
  {
   "cell_type": "code",
   "execution_count": 45,
   "metadata": {},
   "outputs": [
    {
     "data": {
      "text/plain": [
       "count            243\n",
       "unique           182\n",
       "top       2012-11-22\n",
       "freq               4\n",
       "Name: release_time, dtype: object"
      ]
     },
     "execution_count": 45,
     "metadata": {},
     "output_type": "execute_result"
    }
   ],
   "source": [
    "test.release_time.describe()"
   ]
  },
  {
   "cell_type": "markdown",
   "metadata": {},
   "source": [
    "- 'release_time'은 train/test 모두 결측치가 없음.\n",
    "---"
   ]
  },
  {
   "cell_type": "markdown",
   "metadata": {},
   "source": [
    "- 개봉날짜(년-월-일)는 개봉한 **달(月)** 혹은 **분기별** 정도가 관객수와 관련있을거라고 상식적으로 판단."
   ]
  },
  {
   "cell_type": "code",
   "execution_count": 46,
   "metadata": {},
   "outputs": [
    {
     "data": {
      "text/html": [
       "<div>\n",
       "<style scoped>\n",
       "    .dataframe tbody tr th:only-of-type {\n",
       "        vertical-align: middle;\n",
       "    }\n",
       "\n",
       "    .dataframe tbody tr th {\n",
       "        vertical-align: top;\n",
       "    }\n",
       "\n",
       "    .dataframe thead th {\n",
       "        text-align: right;\n",
       "    }\n",
       "</style>\n",
       "<table border=\"1\" class=\"dataframe\">\n",
       "  <thead>\n",
       "    <tr style=\"text-align: right;\">\n",
       "      <th></th>\n",
       "      <th>release_time</th>\n",
       "      <th>release_month</th>\n",
       "    </tr>\n",
       "  </thead>\n",
       "  <tbody>\n",
       "    <tr>\n",
       "      <th>0</th>\n",
       "      <td>2012-11-22</td>\n",
       "      <td>11</td>\n",
       "    </tr>\n",
       "    <tr>\n",
       "      <th>1</th>\n",
       "      <td>2015-11-19</td>\n",
       "      <td>11</td>\n",
       "    </tr>\n",
       "    <tr>\n",
       "      <th>2</th>\n",
       "      <td>2013-06-05</td>\n",
       "      <td>06</td>\n",
       "    </tr>\n",
       "    <tr>\n",
       "      <th>3</th>\n",
       "      <td>2012-07-12</td>\n",
       "      <td>07</td>\n",
       "    </tr>\n",
       "    <tr>\n",
       "      <th>4</th>\n",
       "      <td>2010-11-04</td>\n",
       "      <td>11</td>\n",
       "    </tr>\n",
       "  </tbody>\n",
       "</table>\n",
       "</div>"
      ],
      "text/plain": [
       "  release_time release_month\n",
       "0   2012-11-22            11\n",
       "1   2015-11-19            11\n",
       "2   2013-06-05            06\n",
       "3   2012-07-12            07\n",
       "4   2010-11-04            11"
      ]
     },
     "execution_count": 46,
     "metadata": {},
     "output_type": "execute_result"
    }
   ],
   "source": [
    "total['release_month'] = total.release_time.map(lambda x: x.split('-')[1]) #년-월-일 ==> 월로 변환.\n",
    "total[['release_time', 'release_month']].head()"
   ]
  },
  {
   "cell_type": "code",
   "execution_count": 47,
   "metadata": {},
   "outputs": [
    {
     "data": {
      "image/png": "[encoded data removed]",
      "text/plain": [
       "<Figure size 432x288 with 1 Axes>"
      ]
     },
     "metadata": {
      "needs_background": "light"
     },
     "output_type": "display_data"
    }
   ],
   "source": [
    "# train 데이터셋에서 월별 평균관객수를 그려본다.\n",
    "month_boxoff = total[~total.box_off_num.isna()].groupby('release_month').agg({'box_off_num':'mean'})\n",
    "month_boxoff.plot(kind='bar', title='월별 평균관객수')\n",
    "plt.xticks(rotation=0)\n",
    "plt.show()"
   ]
  },
  {
   "cell_type": "markdown",
   "metadata": {},
   "source": [
    "- 분기별(즉 연속된 3개월)로 묶을 경우에, \"1,2,3 / 4,5,6 / 7,8,9 / 10,11,12\"로의 구분은, 각 분기 내에서 값의 편차가 심해서 고려치 않기로."
   ]
  },
  {
   "cell_type": "code",
   "execution_count": 48,
   "metadata": {},
   "outputs": [
    {
     "data": {
      "image/png": "[encoded data removed]",
      "text/plain": [
       "<Figure size 432x288 with 1 Axes>"
      ]
     },
     "metadata": {
      "needs_background": "light"
     },
     "output_type": "display_data"
    }
   ],
   "source": [
    "month_boxoff.sort_values('box_off_num', ascending=False).plot.bar()\n",
    "plt.xticks(rotation=0)\n",
    "plt.show()"
   ]
  },
  {
   "cell_type": "markdown",
   "metadata": {},
   "source": [
    "- **일단은 가장 큰 값(1월의 평균관객수)을 기준으로 ordered number로 변환.**\n",
    "- 훈련 결과 오버피팅이 심할 경우 등에서, 비슷한 수준의 월별(1월, 12월 7월, 8월을 하나의 카테고리로 하는 식)로 묶는 카테고리화 작업을 진행 가능."
   ]
  },
  {
   "cell_type": "code",
   "execution_count": 49,
   "metadata": {},
   "outputs": [
    {
     "data": {
      "text/html": [
       "<div>\n",
       "<style scoped>\n",
       "    .dataframe tbody tr th:only-of-type {\n",
       "        vertical-align: middle;\n",
       "    }\n",
       "\n",
       "    .dataframe tbody tr th {\n",
       "        vertical-align: top;\n",
       "    }\n",
       "\n",
       "    .dataframe thead th {\n",
       "        text-align: right;\n",
       "    }\n",
       "</style>\n",
       "<table border=\"1\" class=\"dataframe\">\n",
       "  <thead>\n",
       "    <tr style=\"text-align: right;\">\n",
       "      <th></th>\n",
       "      <th>box_off_num</th>\n",
       "    </tr>\n",
       "    <tr>\n",
       "      <th>release_month</th>\n",
       "      <th></th>\n",
       "    </tr>\n",
       "  </thead>\n",
       "  <tbody>\n",
       "    <tr>\n",
       "      <th>04</th>\n",
       "      <td>258_166.702</td>\n",
       "    </tr>\n",
       "    <tr>\n",
       "      <th>03</th>\n",
       "      <td>273_887.365</td>\n",
       "    </tr>\n",
       "    <tr>\n",
       "      <th>10</th>\n",
       "      <td>385_904.150</td>\n",
       "    </tr>\n",
       "    <tr>\n",
       "      <th>11</th>\n",
       "      <td>495_653.889</td>\n",
       "    </tr>\n",
       "    <tr>\n",
       "      <th>06</th>\n",
       "      <td>512_286.483</td>\n",
       "    </tr>\n",
       "    <tr>\n",
       "      <th>05</th>\n",
       "      <td>575_685.246</td>\n",
       "    </tr>\n",
       "    <tr>\n",
       "      <th>02</th>\n",
       "      <td>663_025.194</td>\n",
       "    </tr>\n",
       "    <tr>\n",
       "      <th>09</th>\n",
       "      <td>731_528.633</td>\n",
       "    </tr>\n",
       "    <tr>\n",
       "      <th>08</th>\n",
       "      <td>1_029_161.673</td>\n",
       "    </tr>\n",
       "    <tr>\n",
       "      <th>07</th>\n",
       "      <td>1_113_807.245</td>\n",
       "    </tr>\n",
       "    <tr>\n",
       "      <th>12</th>\n",
       "      <td>1_288_247.735</td>\n",
       "    </tr>\n",
       "    <tr>\n",
       "      <th>01</th>\n",
       "      <td>1_365_930.564</td>\n",
       "    </tr>\n",
       "  </tbody>\n",
       "</table>\n",
       "</div>"
      ],
      "text/plain": [
       "                box_off_num\n",
       "release_month              \n",
       "04              258_166.702\n",
       "03              273_887.365\n",
       "10              385_904.150\n",
       "11              495_653.889\n",
       "06              512_286.483\n",
       "05              575_685.246\n",
       "02              663_025.194\n",
       "09              731_528.633\n",
       "08            1_029_161.673\n",
       "07            1_113_807.245\n",
       "12            1_288_247.735\n",
       "01            1_365_930.564"
      ]
     },
     "execution_count": 49,
     "metadata": {},
     "output_type": "execute_result"
    }
   ],
   "source": [
    "month_boxoff.sort_values('box_off_num', inplace=True)\n",
    "month_boxoff"
   ]
  },
  {
   "cell_type": "code",
   "execution_count": 50,
   "metadata": {},
   "outputs": [
    {
     "data": {
      "text/html": [
       "<div>\n",
       "<style scoped>\n",
       "    .dataframe tbody tr th:only-of-type {\n",
       "        vertical-align: middle;\n",
       "    }\n",
       "\n",
       "    .dataframe tbody tr th {\n",
       "        vertical-align: top;\n",
       "    }\n",
       "\n",
       "    .dataframe thead th {\n",
       "        text-align: right;\n",
       "    }\n",
       "</style>\n",
       "<table border=\"1\" class=\"dataframe\">\n",
       "  <thead>\n",
       "    <tr style=\"text-align: right;\">\n",
       "      <th></th>\n",
       "      <th>box_off_num</th>\n",
       "    </tr>\n",
       "    <tr>\n",
       "      <th>release_month</th>\n",
       "      <th></th>\n",
       "    </tr>\n",
       "  </thead>\n",
       "  <tbody>\n",
       "    <tr>\n",
       "      <th>04</th>\n",
       "      <td>0.000</td>\n",
       "    </tr>\n",
       "    <tr>\n",
       "      <th>03</th>\n",
       "      <td>1.000</td>\n",
       "    </tr>\n",
       "    <tr>\n",
       "      <th>10</th>\n",
       "      <td>2.000</td>\n",
       "    </tr>\n",
       "    <tr>\n",
       "      <th>11</th>\n",
       "      <td>3.000</td>\n",
       "    </tr>\n",
       "    <tr>\n",
       "      <th>06</th>\n",
       "      <td>4.000</td>\n",
       "    </tr>\n",
       "    <tr>\n",
       "      <th>05</th>\n",
       "      <td>5.000</td>\n",
       "    </tr>\n",
       "    <tr>\n",
       "      <th>02</th>\n",
       "      <td>6.000</td>\n",
       "    </tr>\n",
       "    <tr>\n",
       "      <th>09</th>\n",
       "      <td>7.000</td>\n",
       "    </tr>\n",
       "    <tr>\n",
       "      <th>08</th>\n",
       "      <td>8.000</td>\n",
       "    </tr>\n",
       "    <tr>\n",
       "      <th>07</th>\n",
       "      <td>9.000</td>\n",
       "    </tr>\n",
       "    <tr>\n",
       "      <th>12</th>\n",
       "      <td>10.000</td>\n",
       "    </tr>\n",
       "    <tr>\n",
       "      <th>01</th>\n",
       "      <td>11.000</td>\n",
       "    </tr>\n",
       "  </tbody>\n",
       "</table>\n",
       "</div>"
      ],
      "text/plain": [
       "               box_off_num\n",
       "release_month             \n",
       "04                   0.000\n",
       "03                   1.000\n",
       "10                   2.000\n",
       "11                   3.000\n",
       "06                   4.000\n",
       "05                   5.000\n",
       "02                   6.000\n",
       "09                   7.000\n",
       "08                   8.000\n",
       "07                   9.000\n",
       "12                  10.000\n",
       "01                  11.000"
      ]
     },
     "execution_count": 50,
     "metadata": {},
     "output_type": "execute_result"
    }
   ],
   "source": [
    "i = 0\n",
    "for index, row in month_boxoff.iterrows():\n",
    "    row.box_off_num = i\n",
    "    i += 1\n",
    "\n",
    "month_boxoff"
   ]
  },
  {
   "cell_type": "code",
   "execution_count": 51,
   "metadata": {},
   "outputs": [
    {
     "data": {
      "text/plain": [
       "{'04': 0.0,\n",
       " '03': 1.0,\n",
       " '10': 2.0,\n",
       " '11': 3.0,\n",
       " '06': 4.0,\n",
       " '05': 5.0,\n",
       " '02': 6.0,\n",
       " '09': 7.0,\n",
       " '08': 8.0,\n",
       " '07': 9.0,\n",
       " '12': 10.0,\n",
       " '01': 11.0}"
      ]
     },
     "execution_count": 51,
     "metadata": {},
     "output_type": "execute_result"
    }
   ],
   "source": [
    "month_boxoff_dict = month_boxoff.loc[:, 'box_off_num'].to_dict()\n",
    "month_boxoff_dict"
   ]
  },
  {
   "cell_type": "markdown",
   "metadata": {},
   "source": [
    "- 4월부터 1월까지 비교적 균일하게 커가는 그래프 모습에 비춰서, 이번엔 0~11까지의 순차적 값으로 치환해봄. 가장 큰 1월의 값에 대한 실수적인 스케일 값으로 변환할 수도 있는데, 다양한 시도를 해본다는 측면에서 여기서는 0, 1,.. 식으로 시도. 물론 향후 결과가 좋지 못할 경우엔 바꿔 볼 여지는 있음."
   ]
  },
  {
   "cell_type": "code",
   "execution_count": 52,
   "metadata": {},
   "outputs": [
    {
     "data": {
      "text/html": [
       "<div>\n",
       "<style scoped>\n",
       "    .dataframe tbody tr th:only-of-type {\n",
       "        vertical-align: middle;\n",
       "    }\n",
       "\n",
       "    .dataframe tbody tr th {\n",
       "        vertical-align: top;\n",
       "    }\n",
       "\n",
       "    .dataframe thead th {\n",
       "        text-align: right;\n",
       "    }\n",
       "</style>\n",
       "<table border=\"1\" class=\"dataframe\">\n",
       "  <thead>\n",
       "    <tr style=\"text-align: right;\">\n",
       "      <th></th>\n",
       "      <th>0</th>\n",
       "      <th>1</th>\n",
       "      <th>2</th>\n",
       "      <th>3</th>\n",
       "      <th>4</th>\n",
       "    </tr>\n",
       "  </thead>\n",
       "  <tbody>\n",
       "    <tr>\n",
       "      <th>DROP_distributor</th>\n",
       "      <td>롯데엔터테인먼트</td>\n",
       "      <td>쇼박스</td>\n",
       "      <td>쇼박스</td>\n",
       "      <td>NEW</td>\n",
       "      <td>쇼박스</td>\n",
       "    </tr>\n",
       "    <tr>\n",
       "      <th>DROP_genre</th>\n",
       "      <td>액션</td>\n",
       "      <td>느와르</td>\n",
       "      <td>액션</td>\n",
       "      <td>코미디</td>\n",
       "      <td>코미디</td>\n",
       "    </tr>\n",
       "    <tr>\n",
       "      <th>DROP_release_month</th>\n",
       "      <td>11</td>\n",
       "      <td>11</td>\n",
       "      <td>06</td>\n",
       "      <td>07</td>\n",
       "      <td>11</td>\n",
       "    </tr>\n",
       "    <tr>\n",
       "      <th>DROP_release_time</th>\n",
       "      <td>2012-11-22</td>\n",
       "      <td>2015-11-19</td>\n",
       "      <td>2013-06-05</td>\n",
       "      <td>2012-07-12</td>\n",
       "      <td>2010-11-04</td>\n",
       "    </tr>\n",
       "    <tr>\n",
       "      <th>DROP_title</th>\n",
       "      <td>개들의 전쟁</td>\n",
       "      <td>내부자들</td>\n",
       "      <td>은밀하게 위대하게</td>\n",
       "      <td>나는 공무원이다</td>\n",
       "      <td>불량남녀</td>\n",
       "    </tr>\n",
       "    <tr>\n",
       "      <th>DROP_title_length</th>\n",
       "      <td>5</td>\n",
       "      <td>4</td>\n",
       "      <td>8</td>\n",
       "      <td>7</td>\n",
       "      <td>4</td>\n",
       "    </tr>\n",
       "    <tr>\n",
       "      <th>box_off_num</th>\n",
       "      <td>23_398.000</td>\n",
       "      <td>7_072_501.000</td>\n",
       "      <td>6_959_083.000</td>\n",
       "      <td>217_866.000</td>\n",
       "      <td>483_387.000</td>\n",
       "    </tr>\n",
       "    <tr>\n",
       "      <th>dir_prev_bfnum</th>\n",
       "      <td>NaN</td>\n",
       "      <td>1_161_602.500</td>\n",
       "      <td>220_775.250</td>\n",
       "      <td>23_894.000</td>\n",
       "      <td>1.000</td>\n",
       "    </tr>\n",
       "    <tr>\n",
       "      <th>dir_prev_num</th>\n",
       "      <td>0</td>\n",
       "      <td>2</td>\n",
       "      <td>4</td>\n",
       "      <td>2</td>\n",
       "      <td>1</td>\n",
       "    </tr>\n",
       "    <tr>\n",
       "      <th>director</th>\n",
       "      <td>조병옥</td>\n",
       "      <td>우민호</td>\n",
       "      <td>장철수</td>\n",
       "      <td>구자홍</td>\n",
       "      <td>신근호</td>\n",
       "    </tr>\n",
       "    <tr>\n",
       "      <th>distributor_ord</th>\n",
       "      <td>5.000</td>\n",
       "      <td>5.000</td>\n",
       "      <td>5.000</td>\n",
       "      <td>5.000</td>\n",
       "      <td>5.000</td>\n",
       "    </tr>\n",
       "    <tr>\n",
       "      <th>genre_scaled</th>\n",
       "      <td>6.343</td>\n",
       "      <td>6.355</td>\n",
       "      <td>6.343</td>\n",
       "      <td>6.077</td>\n",
       "      <td>6.077</td>\n",
       "    </tr>\n",
       "    <tr>\n",
       "      <th>num_actor</th>\n",
       "      <td>2</td>\n",
       "      <td>3</td>\n",
       "      <td>4</td>\n",
       "      <td>6</td>\n",
       "      <td>2</td>\n",
       "    </tr>\n",
       "    <tr>\n",
       "      <th>num_staff</th>\n",
       "      <td>91</td>\n",
       "      <td>387</td>\n",
       "      <td>343</td>\n",
       "      <td>20</td>\n",
       "      <td>251</td>\n",
       "    </tr>\n",
       "    <tr>\n",
       "      <th>release_month_ord</th>\n",
       "      <td>3.000</td>\n",
       "      <td>3.000</td>\n",
       "      <td>4.000</td>\n",
       "      <td>9.000</td>\n",
       "      <td>3.000</td>\n",
       "    </tr>\n",
       "    <tr>\n",
       "      <th>screening_rat</th>\n",
       "      <td>청소년 관람불가</td>\n",
       "      <td>청소년 관람불가</td>\n",
       "      <td>15세 관람가</td>\n",
       "      <td>전체 관람가</td>\n",
       "      <td>15세 관람가</td>\n",
       "    </tr>\n",
       "    <tr>\n",
       "      <th>time</th>\n",
       "      <td>96</td>\n",
       "      <td>130</td>\n",
       "      <td>123</td>\n",
       "      <td>101</td>\n",
       "      <td>108</td>\n",
       "    </tr>\n",
       "    <tr>\n",
       "      <th>title_(0, 1]</th>\n",
       "      <td>0</td>\n",
       "      <td>0</td>\n",
       "      <td>0</td>\n",
       "      <td>0</td>\n",
       "      <td>0</td>\n",
       "    </tr>\n",
       "    <tr>\n",
       "      <th>title_(1, 5]</th>\n",
       "      <td>1</td>\n",
       "      <td>1</td>\n",
       "      <td>0</td>\n",
       "      <td>0</td>\n",
       "      <td>1</td>\n",
       "    </tr>\n",
       "    <tr>\n",
       "      <th>title_(5, 9]</th>\n",
       "      <td>0</td>\n",
       "      <td>0</td>\n",
       "      <td>1</td>\n",
       "      <td>1</td>\n",
       "      <td>0</td>\n",
       "    </tr>\n",
       "    <tr>\n",
       "      <th>title_(9, 23]</th>\n",
       "      <td>0</td>\n",
       "      <td>0</td>\n",
       "      <td>0</td>\n",
       "      <td>0</td>\n",
       "      <td>0</td>\n",
       "    </tr>\n",
       "  </tbody>\n",
       "</table>\n",
       "</div>"
      ],
      "text/plain": [
       "                             0             1             2           3  \\\n",
       "DROP_distributor      롯데엔터테인먼트           쇼박스           쇼박스         NEW   \n",
       "DROP_genre                  액션           느와르            액션         코미디   \n",
       "DROP_release_month          11            11            06          07   \n",
       "DROP_release_time   2012-11-22    2015-11-19    2013-06-05  2012-07-12   \n",
       "DROP_title              개들의 전쟁          내부자들     은밀하게 위대하게    나는 공무원이다   \n",
       "DROP_title_length            5             4             8           7   \n",
       "box_off_num         23_398.000 7_072_501.000 6_959_083.000 217_866.000   \n",
       "dir_prev_bfnum             NaN 1_161_602.500   220_775.250  23_894.000   \n",
       "dir_prev_num                 0             2             4           2   \n",
       "director                   조병옥           우민호           장철수         구자홍   \n",
       "distributor_ord          5.000         5.000         5.000       5.000   \n",
       "genre_scaled             6.343         6.355         6.343       6.077   \n",
       "num_actor                    2             3             4           6   \n",
       "num_staff                   91           387           343          20   \n",
       "release_month_ord        3.000         3.000         4.000       9.000   \n",
       "screening_rat         청소년 관람불가      청소년 관람불가       15세 관람가      전체 관람가   \n",
       "time                        96           130           123         101   \n",
       "title_(0, 1]                 0             0             0           0   \n",
       "title_(1, 5]                 1             1             0           0   \n",
       "title_(5, 9]                 0             0             1           1   \n",
       "title_(9, 23]                0             0             0           0   \n",
       "\n",
       "                             4  \n",
       "DROP_distributor           쇼박스  \n",
       "DROP_genre                 코미디  \n",
       "DROP_release_month          11  \n",
       "DROP_release_time   2010-11-04  \n",
       "DROP_title                불량남녀  \n",
       "DROP_title_length            4  \n",
       "box_off_num        483_387.000  \n",
       "dir_prev_bfnum           1.000  \n",
       "dir_prev_num                 1  \n",
       "director                   신근호  \n",
       "distributor_ord          5.000  \n",
       "genre_scaled             6.077  \n",
       "num_actor                    2  \n",
       "num_staff                  251  \n",
       "release_month_ord        3.000  \n",
       "screening_rat          15세 관람가  \n",
       "time                       108  \n",
       "title_(0, 1]                 0  \n",
       "title_(1, 5]                 1  \n",
       "title_(5, 9]                 0  \n",
       "title_(9, 23]                0  "
      ]
     },
     "execution_count": 52,
     "metadata": {},
     "output_type": "execute_result"
    }
   ],
   "source": [
    "total['release_month_ord'] = total['release_month'].map(month_boxoff_dict)\n",
    "total = total.rename(columns = {'release_time':'DROP_release_time', 'release_month':'DROP_release_month'}) # 모든 처리가 끝난 후에 제거할 열 표시.\n",
    "total.sort_index(axis=1, inplace=True) # 단순히 \"DROP_\"으로 시작하는 컬럼을 먼저 나타내기 위한 처리.\n",
    "total.head().T"
   ]
  },
  {
   "cell_type": "markdown",
   "metadata": {},
   "source": [
    "**∴** release_time(년-월-일)에서 월 정보만 포착해서 feature화. 단순화 시키기 위해, 분기별로 월을 다시 묶어볼 수 있지만, 같은 분기별 평균관객수의 편차가 심해서 이는 시도하지 않고, 대신 값들이 비교적 균일하게 변한다는 사실에 주안을 두고, 이번에는 releast_time을 0에서 11(평균관객수가 최대)까지의 ordered number를 할당하는 것으로."
   ]
  },
  {
   "cell_type": "markdown",
   "metadata": {},
   "source": [
    "## 3.5 time"
   ]
  },
  {
   "cell_type": "markdown",
   "metadata": {},
   "source": [
    "- 상영시간(분)에 따른 관객수의 분포를 그려본다."
   ]
  },
  {
   "cell_type": "code",
   "execution_count": 53,
   "metadata": {},
   "outputs": [
    {
     "data": {
      "text/plain": [
       "<matplotlib.collections.PathCollection at 0x7fbf9705a7b8>"
      ]
     },
     "execution_count": 53,
     "metadata": {},
     "output_type": "execute_result"
    },
    {
     "data": {
      "image/png": "[encoded data removed]",
      "text/plain": [
       "<Figure size 432x288 with 1 Axes>"
      ]
     },
     "metadata": {
      "needs_background": "light"
     },
     "output_type": "display_data"
    }
   ],
   "source": [
    "plt.scatter(train.time, train.box_off_num, alpha=0.1)"
   ]
  },
  {
   "cell_type": "markdown",
   "metadata": {},
   "source": [
    "- 영화 상영시간을 그래프를 참조해, 구간내 편차가 크지 않은 구간으로 나누고, 그 구간내의 평균관객수를 한번 살펴본다."
   ]
  },
  {
   "cell_type": "code",
   "execution_count": 54,
   "metadata": {},
   "outputs": [
    {
     "data": {
      "text/plain": [
       "(100.86333333333333, 100.0)"
      ]
     },
     "execution_count": 54,
     "metadata": {},
     "output_type": "execute_result"
    }
   ],
   "source": [
    "train.time.mean(), train.time.median() # 두 값의 차이가 크지 않다."
   ]
  },
  {
   "cell_type": "code",
   "execution_count": 55,
   "metadata": {},
   "outputs": [
    {
     "data": {
      "text/plain": [
       "13394.727272727272"
      ]
     },
     "execution_count": 55,
     "metadata": {},
     "output_type": "execute_result"
    }
   ],
   "source": [
    "train[train.time<80]['box_off_num'].mean()"
   ]
  },
  {
   "cell_type": "code",
   "execution_count": 56,
   "metadata": {},
   "outputs": [
    {
     "data": {
      "text/plain": [
       "81805.24568965517"
      ]
     },
     "execution_count": 56,
     "metadata": {},
     "output_type": "execute_result"
    }
   ],
   "source": [
    "train[(train.time>=80) & (train.time<100)]['box_off_num'].mean()"
   ]
  },
  {
   "cell_type": "code",
   "execution_count": 57,
   "metadata": {},
   "outputs": [
    {
     "data": {
      "text/plain": [
       "707471.9425837321"
      ]
     },
     "execution_count": 57,
     "metadata": {},
     "output_type": "execute_result"
    }
   ],
   "source": [
    "train[(train.time>=100) & (train.time<120)]['box_off_num'].mean()"
   ]
  },
  {
   "cell_type": "code",
   "execution_count": 58,
   "metadata": {},
   "outputs": [
    {
     "data": {
      "text/plain": [
       "2913704.4457831327"
      ]
     },
     "execution_count": 58,
     "metadata": {},
     "output_type": "execute_result"
    }
   ],
   "source": [
    "train[(train.time>=120) & (train.time<140)]['box_off_num'].mean()"
   ]
  },
  {
   "cell_type": "code",
   "execution_count": 59,
   "metadata": {},
   "outputs": [
    {
     "data": {
      "text/plain": [
       "1534707.7"
      ]
     },
     "execution_count": 59,
     "metadata": {},
     "output_type": "execute_result"
    }
   ],
   "source": [
    "train[(train.time>=140)]['box_off_num'].mean()"
   ]
  },
  {
   "cell_type": "markdown",
   "metadata": {},
   "source": [
    "- 상영시간 기준으로 (80분 이하), (80~100분), (100~120분), (120~140분), (140분 이상)의 5구간으로 나눠 생각해보기로 일단 결정. 각 구산별 평균값이 적게는 2배에서 10배이상 차이가 남."
   ]
  },
  {
   "cell_type": "markdown",
   "metadata": {},
   "source": [
    "---\n",
    "- 이제 이 구간을 기준으로 이 **상영사간(time)을 feature로 바꾸는 방법을 강구**해야 한다.\n",
    "- 지금까지의 방법 중 하나로 본다면, 구간내에서의 평균 관객수 값으로 일괄 치환하는 방법 등이 있겠지만, (순전히) 다양한 시도를 해본다는 의미도 넣어서 이번에는 구간내의 (통상)trend라고 하는 개념을 이용해 보고자 한다.\n",
    "- 즉 각 구간내의 time 값에 대해 상수값(구간내 평균)으로 치환하는 앞선 방법들 대신에, 구간 내의 데이터에 linear regression(러닝적인 개념이라기보단, 산술적인 보간 개념?)을 적용해서 구간 내 데이터를 가장 잘 설명하는 직선을 구하고, 그 직선 상의 값으로 치환하는 방법을 사용해본다. 물론 이 방법은 구간 내 평균값으로 치환하는 것에 비해, 방법론적으로 쓸데없이(?) 조금 복잡한 방법인데 반해, 이 방법 적용시 더 좋은 결과를 낸다는 보장은 없다.\n",
    "- 다만 실제 값들의 분포에 비춰 예상해 볼 수 있는 것은, 실제값(상영시간 기준 평균관객수)이 시간별로 편차가 가장 큰 분포(실제 데이터분포)를 가지고, 구간내에 평균값으로 일괄 치환한 경우에 가장 그 분포의 편차가 적게 되는 반면 너무 simplify된 경향이 있으며, 이 구간내 직선값으로 치환하는 방법은 그 중간 정도의 편차와 복잡도를 가지게 변환하는 방법이라는 것을 알 수 있다.\n",
    "\n",
    "---"
   ]
  },
  {
   "cell_type": "markdown",
   "metadata": {},
   "source": [
    "### 3.5.1 time < 80"
   ]
  },
  {
   "cell_type": "code",
   "execution_count": 60,
   "metadata": {},
   "outputs": [],
   "source": [
    "from sklearn.linear_model import LinearRegression\n",
    "\n",
    "def calc_time_trend(df):\n",
    "    lr = LinearRegression()\n",
    "    lr.fit(df.time.values.reshape(-1, 1), df.box_off_num.values.reshape(-1, 1)) # 1차원 데이터를 2차원 형태로 reshape.\n",
    "    y = lr.predict(df.time.values.reshape(-1, 1))\n",
    "    df['trend'] = y # 해당 보간된 점들을 임시로 그래프로 그려보기 위한 목적.\n",
    "\n",
    "    return lr.coef_[0][0], lr.intercept_[0] # 구간 내 데이터를 가장 잘 설명하는 직선의 기울기/절편을 반환."
   ]
  },
  {
   "cell_type": "markdown",
   "metadata": {},
   "source": [
    "- (참고로 train 데이터셋을 이용할 때, total에서 간적적으로 혹은 train을 직접 이용하는 경우가 각각 있는데, train 데이터에 해당 컬럼이 정상적이고 누락데이터가 없다면 train에서 직접 적용하고, 그렇지 않다면 total에서 컬럼을 가공한 후에 total에서 train을 (불리안 조건으로) 뽑아서 적용하고 있다.)"
   ]
  },
  {
   "cell_type": "code",
   "execution_count": 61,
   "metadata": {},
   "outputs": [
    {
     "data": {
      "image/png": "[encoded data removed]",
      "text/plain": [
       "<Figure size 432x288 with 1 Axes>"
      ]
     },
     "metadata": {
      "needs_background": "light"
     },
     "output_type": "display_data"
    }
   ],
   "source": [
    "tmp = train[train.time<80][['time', 'box_off_num']]\n",
    "plt.scatter(tmp.time, tmp.box_off_num, alpha=0.1)\n",
    "plt.title('time<80분인 구간 내에서의 시간에 대한 평균관객수 분포')\n",
    "plt.show()"
   ]
  },
  {
   "cell_type": "markdown",
   "metadata": {},
   "source": [
    "- 그래프 상에서 상단에 outlier가 한점 발견됨. 이 데이터들의 보간(보간이라고 가칭함. 즉 구간내에서 \"새로운 시간값에 대한 관객수 예측\"을 할 목적이 아니라, 기존데이터를 잘 설명하는 직선을 찾는 개념이기에) 적용시에는 이 점 제거한 후 계산."
   ]
  },
  {
   "cell_type": "code",
   "execution_count": 62,
   "metadata": {},
   "outputs": [
    {
     "data": {
      "image/png": "[encoded data removed]",
      "text/plain": [
       "<Figure size 432x288 with 1 Axes>"
      ]
     },
     "metadata": {
      "needs_background": "light"
     },
     "output_type": "display_data"
    }
   ],
   "source": [
    "rm_idx = tmp[tmp.box_off_num == tmp.box_off_num.max()].index.values[0] # 위 그래프 상에서 최대값을 가진 한 점의 index.\n",
    "tmp.drop(rm_idx, axis=0, inplace=True) # outlier제거.\n",
    "plt.scatter(tmp.time, tmp.box_off_num, alpha=0.1)\n",
    "plt.title('time<80분인 구간 내에서의 outlier를 제거한 시간에 대한 평균관객수 분포')\n",
    "plt.show()"
   ]
  },
  {
   "cell_type": "code",
   "execution_count": 63,
   "metadata": {},
   "outputs": [
    {
     "data": {
      "image/png": "[encoded data removed]",
      "text/plain": [
       "<Figure size 432x288 with 1 Axes>"
      ]
     },
     "metadata": {
      "needs_background": "light"
     },
     "output_type": "display_data"
    }
   ],
   "source": [
    "trend_factors = []\n",
    "trend_factors.append(calc_time_trend(tmp)) # 구간에 대한 직선의 기울기/절편을 리스트에 저장.\n",
    "\n",
    "tmp['box_off_num_mean'] = tmp.box_off_num.mean() # 그냥 구간내 평균값을 그래프에 한번 표시해보기 위해.\n",
    "\n",
    "plt.scatter(tmp.time, tmp.box_off_num, alpha=0.1, color='b')\n",
    "plt.scatter(tmp.time, tmp.trend, alpha=0.1, color='r')\n",
    "plt.scatter(tmp.time, tmp.box_off_num_mean, alpha=0.1, color='g')\n",
    "plt.title('분홍점들이 보간된 값들. 이값들이 실제 러닝에 time값으로 사용됨')\n",
    "plt.show()"
   ]
  },
  {
   "cell_type": "markdown",
   "metadata": {},
   "source": [
    "- 위 그래프에서 보다시피, 실제 time 데이터(blue)의 분포가 넓고, 평균값(green)으로 치환한 경우에 비해, 리그레션한 값(red)으로 치환한 경우의 데이터 분포가 중간정도 됨.\n",
    "---"
   ]
  },
  {
   "cell_type": "markdown",
   "metadata": {},
   "source": [
    "- 이제 남은 과정은 각시간 구간마다 위 과정을 반복해, trend_factors 리스트에 순차적으로 각 구간내에서의 직선의 기울기/절편을 저장한 후,\n",
    "- 전체 time 데이터를 구간별 직선 상의 값으로 (기울기/절편을 이용해) 치환 할것임."
   ]
  },
  {
   "cell_type": "markdown",
   "metadata": {},
   "source": [
    "### 3.5.2 80<=time<100"
   ]
  },
  {
   "cell_type": "code",
   "execution_count": 64,
   "metadata": {},
   "outputs": [
    {
     "data": {
      "image/png": "[encoded data removed]",
      "text/plain": [
       "<Figure size 432x288 with 1 Axes>"
      ]
     },
     "metadata": {
      "needs_background": "light"
     },
     "output_type": "display_data"
    }
   ],
   "source": [
    "tmp = train[(train.time>=80) & (train.time<100)][['time', 'box_off_num']]\n",
    "plt.scatter(tmp.time, tmp.box_off_num, alpha=0.1)\n",
    "plt.show()"
   ]
  },
  {
   "cell_type": "code",
   "execution_count": 65,
   "metadata": {},
   "outputs": [
    {
     "data": {
      "image/png": "[encoded data removed]",
      "text/plain": [
       "<Figure size 432x288 with 1 Axes>"
      ]
     },
     "metadata": {
      "needs_background": "light"
     },
     "output_type": "display_data"
    }
   ],
   "source": [
    "rm_idx = tmp[tmp.box_off_num == tmp.box_off_num.max()].index.values[0] # 위 그래프 상에서 최대값을 가진 한 점의 index.\n",
    "tmp.drop(rm_idx, axis=0, inplace=True) # outlier제거.\n",
    "\n",
    "plt.scatter(tmp.time, tmp.box_off_num, alpha=0.1) # outlier 제거 후 그래프.\n",
    "plt.show()"
   ]
  },
  {
   "cell_type": "code",
   "execution_count": 66,
   "metadata": {},
   "outputs": [
    {
     "data": {
      "image/png": "[encoded data removed]",
      "text/plain": [
       "<Figure size 432x288 with 1 Axes>"
      ]
     },
     "metadata": {
      "needs_background": "light"
     },
     "output_type": "display_data"
    }
   ],
   "source": [
    "trend_factors.append(calc_time_trend(tmp))\n",
    "\n",
    "plt.scatter(tmp.time, tmp.box_off_num, alpha=0.1)\n",
    "plt.scatter(tmp.time, tmp.trend, alpha=0.1)\n",
    "plt.show() # 이후 구간내 평균값은 나타내지 않음."
   ]
  },
  {
   "cell_type": "code",
   "execution_count": 67,
   "metadata": {},
   "outputs": [
    {
     "data": {
      "text/plain": [
       "[(501.585328718795, -29406.579687982085),\n",
       " (3423.242426864853, -248306.70560257506)]"
      ]
     },
     "execution_count": 67,
     "metadata": {},
     "output_type": "execute_result"
    }
   ],
   "source": [
    "trend_factors"
   ]
  },
  {
   "cell_type": "markdown",
   "metadata": {},
   "source": [
    "### 3.5.3 100<=time<120"
   ]
  },
  {
   "cell_type": "code",
   "execution_count": 68,
   "metadata": {},
   "outputs": [
    {
     "data": {
      "image/png": "[encoded data removed]",
      "text/plain": [
       "<Figure size 432x288 with 1 Axes>"
      ]
     },
     "metadata": {
      "needs_background": "light"
     },
     "output_type": "display_data"
    }
   ],
   "source": [
    "tmp = train[(train.time>=100) & (train.time<120)][['time', 'box_off_num']]\n",
    "plt.scatter(tmp.time, tmp.box_off_num, alpha=0.1)\n",
    "plt.show()"
   ]
  },
  {
   "cell_type": "code",
   "execution_count": 69,
   "metadata": {},
   "outputs": [
    {
     "data": {
      "image/png": "[encoded data removed]",
      "text/plain": [
       "<Figure size 432x288 with 1 Axes>"
      ]
     },
     "metadata": {
      "needs_background": "light"
     },
     "output_type": "display_data"
    }
   ],
   "source": [
    "trend_factors.append(calc_time_trend(tmp))\n",
    "\n",
    "plt.scatter(tmp.time, tmp.box_off_num, alpha=0.1)\n",
    "plt.scatter(tmp.time, tmp.trend, alpha=0.1)\n",
    "plt.show()"
   ]
  },
  {
   "cell_type": "markdown",
   "metadata": {},
   "source": [
    "### 3.5.4 120<=time<140"
   ]
  },
  {
   "cell_type": "code",
   "execution_count": 70,
   "metadata": {},
   "outputs": [
    {
     "data": {
      "image/png": "[encoded data removed]",
      "text/plain": [
       "<Figure size 432x288 with 1 Axes>"
      ]
     },
     "metadata": {
      "needs_background": "light"
     },
     "output_type": "display_data"
    }
   ],
   "source": [
    "tmp = train[(train.time>=120) & (train.time<140)][['time', 'box_off_num']]\n",
    "plt.scatter(tmp.time, tmp.box_off_num, alpha=0.1)\n",
    "plt.show()"
   ]
  },
  {
   "cell_type": "code",
   "execution_count": 71,
   "metadata": {},
   "outputs": [
    {
     "data": {
      "image/png": "[encoded data removed]",
      "text/plain": [
       "<Figure size 432x288 with 1 Axes>"
      ]
     },
     "metadata": {
      "needs_background": "light"
     },
     "output_type": "display_data"
    }
   ],
   "source": [
    "trend_factors.append(calc_time_trend(tmp))\n",
    "\n",
    "plt.scatter(tmp.time, tmp.box_off_num, alpha=0.1)\n",
    "plt.scatter(tmp.time, tmp.trend, alpha=0.1)\n",
    "plt.show()"
   ]
  },
  {
   "cell_type": "markdown",
   "metadata": {},
   "source": [
    "### 3.5.5 time>=140"
   ]
  },
  {
   "cell_type": "code",
   "execution_count": 72,
   "metadata": {},
   "outputs": [
    {
     "data": {
      "image/png": "[encoded data removed]",
      "text/plain": [
       "<Figure size 432x288 with 1 Axes>"
      ]
     },
     "metadata": {
      "needs_background": "light"
     },
     "output_type": "display_data"
    }
   ],
   "source": [
    "tmp = train[(train.time>=140)][['time', 'box_off_num']]\n",
    "plt.scatter(tmp.time, tmp.box_off_num, alpha=0.1)\n",
    "plt.show()"
   ]
  },
  {
   "cell_type": "code",
   "execution_count": 73,
   "metadata": {},
   "outputs": [
    {
     "data": {
      "image/png": "[encoded data removed]",
      "text/plain": [
       "<Figure size 432x288 with 1 Axes>"
      ]
     },
     "metadata": {
      "needs_background": "light"
     },
     "output_type": "display_data"
    }
   ],
   "source": [
    "trend_factors.append(calc_time_trend(tmp))\n",
    "\n",
    "plt.scatter(tmp.time, tmp.box_off_num, alpha=0.4)\n",
    "plt.scatter(tmp.time, tmp.trend, alpha=0.4)\n",
    "plt.show()"
   ]
  },
  {
   "cell_type": "code",
   "execution_count": 74,
   "metadata": {},
   "outputs": [
    {
     "data": {
      "text/plain": [
       "[(501.585328718795, -29406.579687982085),\n",
       " (3423.242426864853, -248306.70560257506),\n",
       " (61388.37147294578, -5985329.169294462),\n",
       " (155626.9153972123, -16700911.96349684),\n",
       " (27187.667154138624, -2657630.5751681756)]"
      ]
     },
     "execution_count": 74,
     "metadata": {},
     "output_type": "execute_result"
    }
   ],
   "source": [
    "trend_factors # 구간별로 구한 직선의 기울기/절편."
   ]
  },
  {
   "cell_type": "markdown",
   "metadata": {},
   "source": [
    "### 3.5.6 test세트의 time 확인"
   ]
  },
  {
   "cell_type": "code",
   "execution_count": 75,
   "metadata": {},
   "outputs": [
    {
     "data": {
      "text/plain": [
       "[<matplotlib.lines.Line2D at 0x7fbf90b29898>]"
      ]
     },
     "execution_count": 75,
     "metadata": {},
     "output_type": "execute_result"
    },
    {
     "data": {
      "image/png": "[encoded data removed]",
      "text/plain": [
       "<Figure size 432x288 with 1 Axes>"
      ]
     },
     "metadata": {
      "needs_background": "light"
     },
     "output_type": "display_data"
    }
   ],
   "source": [
    "plt.plot(test.time)"
   ]
  },
  {
   "cell_type": "markdown",
   "metadata": {},
   "source": [
    "- 이상값이 보임."
   ]
  },
  {
   "cell_type": "code",
   "execution_count": 76,
   "metadata": {},
   "outputs": [
    {
     "data": {
      "text/html": [
       "<div>\n",
       "<style scoped>\n",
       "    .dataframe tbody tr th:only-of-type {\n",
       "        vertical-align: middle;\n",
       "    }\n",
       "\n",
       "    .dataframe tbody tr th {\n",
       "        vertical-align: top;\n",
       "    }\n",
       "\n",
       "    .dataframe thead th {\n",
       "        text-align: right;\n",
       "    }\n",
       "</style>\n",
       "<table border=\"1\" class=\"dataframe\">\n",
       "  <thead>\n",
       "    <tr style=\"text-align: right;\">\n",
       "      <th></th>\n",
       "      <th>title</th>\n",
       "      <th>distributor</th>\n",
       "      <th>genre</th>\n",
       "      <th>release_time</th>\n",
       "      <th>time</th>\n",
       "      <th>screening_rat</th>\n",
       "      <th>director</th>\n",
       "      <th>dir_prev_bfnum</th>\n",
       "      <th>dir_prev_num</th>\n",
       "      <th>num_staff</th>\n",
       "      <th>num_actor</th>\n",
       "    </tr>\n",
       "  </thead>\n",
       "  <tbody>\n",
       "    <tr>\n",
       "      <th>224</th>\n",
       "      <td>슈퍼레이서 엔지</td>\n",
       "      <td>(주)에이원 엔터테인먼트</td>\n",
       "      <td>애니메이션</td>\n",
       "      <td>2015-09-10</td>\n",
       "      <td>2015</td>\n",
       "      <td>전체 관람가</td>\n",
       "      <td>허선</td>\n",
       "      <td>nan</td>\n",
       "      <td>0</td>\n",
       "      <td>4</td>\n",
       "      <td>5</td>\n",
       "    </tr>\n",
       "  </tbody>\n",
       "</table>\n",
       "</div>"
      ],
      "text/plain": [
       "        title    distributor  genre release_time  time screening_rat director  \\\n",
       "224  슈퍼레이서 엔지  (주)에이원 엔터테인먼트  애니메이션   2015-09-10  2015        전체 관람가       허선   \n",
       "\n",
       "     dir_prev_bfnum  dir_prev_num  num_staff  num_actor  \n",
       "224             nan             0          4          5  "
      ]
     },
     "execution_count": 76,
     "metadata": {},
     "output_type": "execute_result"
    }
   ],
   "source": [
    "test[test.time == test.time.max()]"
   ]
  },
  {
   "cell_type": "markdown",
   "metadata": {},
   "source": [
    "- test세트의 224번째 데이터에서 **time 정보가 2015분**으로 잘못 되어 있음을 알 수 있다.\n",
    "- 영화포털의 DB를 찾아보면 63분으로 나온다.\n",
    "- 하지만, 일반적으로는 원래의 정보를 알 수 없는 경우가 보통이므로, 영화DB값이 아닌 **주어진 다른 데이터를 이용해 추론**해서 정하도록 한다. 특히 train 데이터가 아닌 test 데이터상의 결측치이므로 더.\n",
    "- **이 영화와 'genre'가 같은 영화들의 평균 time으로 정하는게 가장 합리적이지 않나 판단.**"
   ]
  },
  {
   "cell_type": "code",
   "execution_count": 77,
   "metadata": {},
   "outputs": [
    {
     "data": {
      "text/html": [
       "<div>\n",
       "<style scoped>\n",
       "    .dataframe tbody tr th:only-of-type {\n",
       "        vertical-align: middle;\n",
       "    }\n",
       "\n",
       "    .dataframe tbody tr th {\n",
       "        vertical-align: top;\n",
       "    }\n",
       "\n",
       "    .dataframe thead th {\n",
       "        text-align: right;\n",
       "    }\n",
       "</style>\n",
       "<table border=\"1\" class=\"dataframe\">\n",
       "  <thead>\n",
       "    <tr style=\"text-align: right;\">\n",
       "      <th></th>\n",
       "      <th>time</th>\n",
       "    </tr>\n",
       "    <tr>\n",
       "      <th>genre</th>\n",
       "      <th></th>\n",
       "    </tr>\n",
       "  </thead>\n",
       "  <tbody>\n",
       "    <tr>\n",
       "      <th>SF</th>\n",
       "      <td>101.385</td>\n",
       "    </tr>\n",
       "    <tr>\n",
       "      <th>공포</th>\n",
       "      <td>100.214</td>\n",
       "    </tr>\n",
       "    <tr>\n",
       "      <th>느와르</th>\n",
       "      <td>115.370</td>\n",
       "    </tr>\n",
       "    <tr>\n",
       "      <th>다큐멘터리</th>\n",
       "      <td>88.054</td>\n",
       "    </tr>\n",
       "    <tr>\n",
       "      <th>드라마</th>\n",
       "      <td>104.652</td>\n",
       "    </tr>\n",
       "    <tr>\n",
       "      <th>멜로/로맨스</th>\n",
       "      <td>96.641</td>\n",
       "    </tr>\n",
       "    <tr>\n",
       "      <th>뮤지컬</th>\n",
       "      <td>107.000</td>\n",
       "    </tr>\n",
       "    <tr>\n",
       "      <th>미스터리</th>\n",
       "      <td>102.588</td>\n",
       "    </tr>\n",
       "    <tr>\n",
       "      <th>서스펜스</th>\n",
       "      <td>112.000</td>\n",
       "    </tr>\n",
       "    <tr>\n",
       "      <th>애니메이션</th>\n",
       "      <td>82.571</td>\n",
       "    </tr>\n",
       "    <tr>\n",
       "      <th>액션</th>\n",
       "      <td>114.464</td>\n",
       "    </tr>\n",
       "    <tr>\n",
       "      <th>코미디</th>\n",
       "      <td>105.264</td>\n",
       "    </tr>\n",
       "  </tbody>\n",
       "</table>\n",
       "</div>"
      ],
      "text/plain": [
       "          time\n",
       "genre         \n",
       "SF     101.385\n",
       "공포     100.214\n",
       "느와르    115.370\n",
       "다큐멘터리   88.054\n",
       "드라마    104.652\n",
       "멜로/로맨스  96.641\n",
       "뮤지컬    107.000\n",
       "미스터리   102.588\n",
       "서스펜스   112.000\n",
       "애니메이션   82.571\n",
       "액션     114.464\n",
       "코미디    105.264"
      ]
     },
     "execution_count": 77,
     "metadata": {},
     "output_type": "execute_result"
    }
   ],
   "source": [
    "tmp = train.groupby('genre').agg({'time':'mean'})\n",
    "tmp # 장르별 평균 상영시간."
   ]
  },
  {
   "cell_type": "code",
   "execution_count": 78,
   "metadata": {},
   "outputs": [
    {
     "data": {
      "text/plain": [
       "time   82.571\n",
       "Name: 애니메이션, dtype: float64"
      ]
     },
     "execution_count": 78,
     "metadata": {},
     "output_type": "execute_result"
    }
   ],
   "source": [
    "anim_mean_time = tmp.loc['애니메이션']\n",
    "anim_mean_time "
   ]
  },
  {
   "cell_type": "code",
   "execution_count": 79,
   "metadata": {},
   "outputs": [
    {
     "data": {
      "text/html": [
       "<div>\n",
       "<style scoped>\n",
       "    .dataframe tbody tr th:only-of-type {\n",
       "        vertical-align: middle;\n",
       "    }\n",
       "\n",
       "    .dataframe tbody tr th {\n",
       "        vertical-align: top;\n",
       "    }\n",
       "\n",
       "    .dataframe thead th {\n",
       "        text-align: right;\n",
       "    }\n",
       "</style>\n",
       "<table border=\"1\" class=\"dataframe\">\n",
       "  <thead>\n",
       "    <tr style=\"text-align: right;\">\n",
       "      <th></th>\n",
       "      <th>DROP_distributor</th>\n",
       "      <th>DROP_genre</th>\n",
       "      <th>DROP_release_month</th>\n",
       "      <th>DROP_release_time</th>\n",
       "      <th>DROP_title</th>\n",
       "      <th>DROP_title_length</th>\n",
       "      <th>box_off_num</th>\n",
       "      <th>dir_prev_bfnum</th>\n",
       "      <th>dir_prev_num</th>\n",
       "      <th>director</th>\n",
       "      <th>...</th>\n",
       "      <th>genre_scaled</th>\n",
       "      <th>num_actor</th>\n",
       "      <th>num_staff</th>\n",
       "      <th>release_month_ord</th>\n",
       "      <th>screening_rat</th>\n",
       "      <th>time</th>\n",
       "      <th>title_(0, 1]</th>\n",
       "      <th>title_(1, 5]</th>\n",
       "      <th>title_(5, 9]</th>\n",
       "      <th>title_(9, 23]</th>\n",
       "    </tr>\n",
       "  </thead>\n",
       "  <tbody>\n",
       "    <tr>\n",
       "      <th>824</th>\n",
       "      <td>에이원엔터테인먼트</td>\n",
       "      <td>애니메이션</td>\n",
       "      <td>09</td>\n",
       "      <td>2015-09-10</td>\n",
       "      <td>슈퍼레이서 엔지</td>\n",
       "      <td>7</td>\n",
       "      <td>nan</td>\n",
       "      <td>nan</td>\n",
       "      <td>0</td>\n",
       "      <td>허선</td>\n",
       "      <td>...</td>\n",
       "      <td>5.260</td>\n",
       "      <td>5</td>\n",
       "      <td>4</td>\n",
       "      <td>7.000</td>\n",
       "      <td>전체 관람가</td>\n",
       "      <td>2015</td>\n",
       "      <td>0</td>\n",
       "      <td>0</td>\n",
       "      <td>1</td>\n",
       "      <td>0</td>\n",
       "    </tr>\n",
       "  </tbody>\n",
       "</table>\n",
       "<p>1 rows × 21 columns</p>\n",
       "</div>"
      ],
      "text/plain": [
       "    DROP_distributor DROP_genre DROP_release_month DROP_release_time  \\\n",
       "824        에이원엔터테인먼트      애니메이션                 09        2015-09-10   \n",
       "\n",
       "    DROP_title  DROP_title_length  box_off_num  dir_prev_bfnum  dir_prev_num  \\\n",
       "824   슈퍼레이서 엔지                  7          nan             nan             0   \n",
       "\n",
       "    director  ...  genre_scaled  num_actor  num_staff  release_month_ord  \\\n",
       "824       허선  ...         5.260          5          4              7.000   \n",
       "\n",
       "     screening_rat  time  title_(0, 1]  title_(1, 5]  title_(5, 9]  \\\n",
       "824         전체 관람가  2015             0             0             1   \n",
       "\n",
       "     title_(9, 23]  \n",
       "824              0  \n",
       "\n",
       "[1 rows x 21 columns]"
      ]
     },
     "execution_count": 79,
     "metadata": {},
     "output_type": "execute_result"
    }
   ],
   "source": [
    "total[total.DROP_title=='슈퍼레이서 엔지'] # 이런 경우를 대비해, 'title'열을 앞서 바로 drop하지 않고, 여기서 이용함."
   ]
  },
  {
   "cell_type": "code",
   "execution_count": 80,
   "metadata": {},
   "outputs": [
    {
     "data": {
      "text/plain": [
       "82"
      ]
     },
     "execution_count": 80,
     "metadata": {},
     "output_type": "execute_result"
    }
   ],
   "source": [
    "total.loc[824, 'time'] = int(anim_mean_time)\n",
    "total[total.DROP_title=='슈퍼레이서 엔지'].time.values[0]"
   ]
  },
  {
   "cell_type": "markdown",
   "metadata": {},
   "source": [
    "- test 데이터셋의 time 이상치를, 해당 영화와 같은 장르의 평균 시간으로 치환 완료.\n",
    "---"
   ]
  },
  {
   "cell_type": "markdown",
   "metadata": {},
   "source": [
    "### 3.5.7 전체 데이터셋의 'time' 컬럼의 값을, 구간별로 리그레션한 직선형태의 값으로 변환."
   ]
  },
  {
   "cell_type": "code",
   "execution_count": 81,
   "metadata": {},
   "outputs": [],
   "source": [
    "def time_to_trend(x):\n",
    "    \"\"\"\n",
    "    time 데이터(x)를 입력 받아서, 그 time이 속하는 구간을 찾고, 해당 구간에 맞는 직선의 기울기/절편을 이용해 직선상의 평균관객수 값을 반환. \n",
    "    \"\"\"\n",
    "    \n",
    "    if x < 80:\n",
    "        i = 0  # time이 속하는 구간에 대한 리스트 인덱스 i.\n",
    "    elif (80<=x) & (x<100):\n",
    "        i = 1\n",
    "    elif (100<=x) & (x<120):\n",
    "        i = 2\n",
    "    elif (120<=x) & (x<140):\n",
    "        i = 3\n",
    "    elif (140<=x):\n",
    "        i = 4\n",
    "        \n",
    "    return x*trend_factors[i][0] + trend_factors[i][1]\n",
    "\n",
    "total['time_trend'] = total['time'].map(time_to_trend)\n",
    "time_trend_max = total['time_trend'].max()\n",
    "total['time_trend'] = total['time_trend'] / time_trend_max # 최대 값으로 스케일링.(0.0~1.0)"
   ]
  },
  {
   "cell_type": "code",
   "execution_count": 82,
   "metadata": {},
   "outputs": [
    {
     "data": {
      "image/png": "[encoded data removed]",
      "text/plain": [
       "<Figure size 1080x360 with 2 Axes>"
      ]
     },
     "metadata": {
      "needs_background": "light"
     },
     "output_type": "display_data"
    }
   ],
   "source": [
    "plt.figure(figsize=(15, 5))\n",
    "plt.subplot(1,2,1)\n",
    "plt.scatter(total[~total.box_off_num.isna()].time, total[~total.box_off_num.isna()].box_off_num, alpha=0.1)\n",
    "plt.title('상영시간별 관객수 분포')\n",
    "\n",
    "plt.subplot(1,2,2)\n",
    "plt.scatter(total[total.box_off_num.isna()].time, total[total.box_off_num.isna()].time_trend, alpha=0.1)\n",
    "plt.scatter(total[~total.box_off_num.isna()].time, total[~total.box_off_num.isna()].time_trend, alpha=0.1)\n",
    "plt.title('상영시간 구간별 직선화한 관객수 분포')\n",
    "\n",
    "plt.show()"
   ]
  },
  {
   "cell_type": "code",
   "execution_count": 83,
   "metadata": {},
   "outputs": [
    {
     "data": {
      "text/html": [
       "<div>\n",
       "<style scoped>\n",
       "    .dataframe tbody tr th:only-of-type {\n",
       "        vertical-align: middle;\n",
       "    }\n",
       "\n",
       "    .dataframe tbody tr th {\n",
       "        vertical-align: top;\n",
       "    }\n",
       "\n",
       "    .dataframe thead th {\n",
       "        text-align: right;\n",
       "    }\n",
       "</style>\n",
       "<table border=\"1\" class=\"dataframe\">\n",
       "  <thead>\n",
       "    <tr style=\"text-align: right;\">\n",
       "      <th></th>\n",
       "      <th>0</th>\n",
       "      <th>1</th>\n",
       "      <th>2</th>\n",
       "      <th>3</th>\n",
       "      <th>4</th>\n",
       "    </tr>\n",
       "  </thead>\n",
       "  <tbody>\n",
       "    <tr>\n",
       "      <th>DROP_distributor</th>\n",
       "      <td>롯데엔터테인먼트</td>\n",
       "      <td>쇼박스</td>\n",
       "      <td>쇼박스</td>\n",
       "      <td>NEW</td>\n",
       "      <td>쇼박스</td>\n",
       "    </tr>\n",
       "    <tr>\n",
       "      <th>DROP_genre</th>\n",
       "      <td>액션</td>\n",
       "      <td>느와르</td>\n",
       "      <td>액션</td>\n",
       "      <td>코미디</td>\n",
       "      <td>코미디</td>\n",
       "    </tr>\n",
       "    <tr>\n",
       "      <th>DROP_release_month</th>\n",
       "      <td>11</td>\n",
       "      <td>11</td>\n",
       "      <td>06</td>\n",
       "      <td>07</td>\n",
       "      <td>11</td>\n",
       "    </tr>\n",
       "    <tr>\n",
       "      <th>DROP_release_time</th>\n",
       "      <td>2012-11-22</td>\n",
       "      <td>2015-11-19</td>\n",
       "      <td>2013-06-05</td>\n",
       "      <td>2012-07-12</td>\n",
       "      <td>2010-11-04</td>\n",
       "    </tr>\n",
       "    <tr>\n",
       "      <th>DROP_time</th>\n",
       "      <td>96</td>\n",
       "      <td>130</td>\n",
       "      <td>123</td>\n",
       "      <td>101</td>\n",
       "      <td>108</td>\n",
       "    </tr>\n",
       "    <tr>\n",
       "      <th>DROP_title</th>\n",
       "      <td>개들의 전쟁</td>\n",
       "      <td>내부자들</td>\n",
       "      <td>은밀하게 위대하게</td>\n",
       "      <td>나는 공무원이다</td>\n",
       "      <td>불량남녀</td>\n",
       "    </tr>\n",
       "    <tr>\n",
       "      <th>DROP_title_length</th>\n",
       "      <td>5</td>\n",
       "      <td>4</td>\n",
       "      <td>8</td>\n",
       "      <td>7</td>\n",
       "      <td>4</td>\n",
       "    </tr>\n",
       "    <tr>\n",
       "      <th>box_off_num</th>\n",
       "      <td>23_398.000</td>\n",
       "      <td>7_072_501.000</td>\n",
       "      <td>6_959_083.000</td>\n",
       "      <td>217_866.000</td>\n",
       "      <td>483_387.000</td>\n",
       "    </tr>\n",
       "    <tr>\n",
       "      <th>dir_prev_bfnum</th>\n",
       "      <td>NaN</td>\n",
       "      <td>1_161_602.500</td>\n",
       "      <td>220_775.250</td>\n",
       "      <td>23_894.000</td>\n",
       "      <td>1.000</td>\n",
       "    </tr>\n",
       "    <tr>\n",
       "      <th>dir_prev_num</th>\n",
       "      <td>0</td>\n",
       "      <td>2</td>\n",
       "      <td>4</td>\n",
       "      <td>2</td>\n",
       "      <td>1</td>\n",
       "    </tr>\n",
       "    <tr>\n",
       "      <th>director</th>\n",
       "      <td>조병옥</td>\n",
       "      <td>우민호</td>\n",
       "      <td>장철수</td>\n",
       "      <td>구자홍</td>\n",
       "      <td>신근호</td>\n",
       "    </tr>\n",
       "    <tr>\n",
       "      <th>distributor_ord</th>\n",
       "      <td>5.000</td>\n",
       "      <td>5.000</td>\n",
       "      <td>5.000</td>\n",
       "      <td>5.000</td>\n",
       "      <td>5.000</td>\n",
       "    </tr>\n",
       "    <tr>\n",
       "      <th>genre_scaled</th>\n",
       "      <td>6.343</td>\n",
       "      <td>6.355</td>\n",
       "      <td>6.343</td>\n",
       "      <td>6.077</td>\n",
       "      <td>6.077</td>\n",
       "    </tr>\n",
       "    <tr>\n",
       "      <th>num_actor</th>\n",
       "      <td>2</td>\n",
       "      <td>3</td>\n",
       "      <td>4</td>\n",
       "      <td>6</td>\n",
       "      <td>2</td>\n",
       "    </tr>\n",
       "    <tr>\n",
       "      <th>num_staff</th>\n",
       "      <td>91</td>\n",
       "      <td>387</td>\n",
       "      <td>343</td>\n",
       "      <td>20</td>\n",
       "      <td>251</td>\n",
       "    </tr>\n",
       "    <tr>\n",
       "      <th>release_month_ord</th>\n",
       "      <td>3.000</td>\n",
       "      <td>3.000</td>\n",
       "      <td>4.000</td>\n",
       "      <td>9.000</td>\n",
       "      <td>3.000</td>\n",
       "    </tr>\n",
       "    <tr>\n",
       "      <th>screening_rat</th>\n",
       "      <td>청소년 관람불가</td>\n",
       "      <td>청소년 관람불가</td>\n",
       "      <td>15세 관람가</td>\n",
       "      <td>전체 관람가</td>\n",
       "      <td>15세 관람가</td>\n",
       "    </tr>\n",
       "    <tr>\n",
       "      <th>time_trend</th>\n",
       "      <td>0.016</td>\n",
       "      <td>0.716</td>\n",
       "      <td>0.495</td>\n",
       "      <td>0.044</td>\n",
       "      <td>0.131</td>\n",
       "    </tr>\n",
       "    <tr>\n",
       "      <th>title_(0, 1]</th>\n",
       "      <td>0</td>\n",
       "      <td>0</td>\n",
       "      <td>0</td>\n",
       "      <td>0</td>\n",
       "      <td>0</td>\n",
       "    </tr>\n",
       "    <tr>\n",
       "      <th>title_(1, 5]</th>\n",
       "      <td>1</td>\n",
       "      <td>1</td>\n",
       "      <td>0</td>\n",
       "      <td>0</td>\n",
       "      <td>1</td>\n",
       "    </tr>\n",
       "    <tr>\n",
       "      <th>title_(5, 9]</th>\n",
       "      <td>0</td>\n",
       "      <td>0</td>\n",
       "      <td>1</td>\n",
       "      <td>1</td>\n",
       "      <td>0</td>\n",
       "    </tr>\n",
       "    <tr>\n",
       "      <th>title_(9, 23]</th>\n",
       "      <td>0</td>\n",
       "      <td>0</td>\n",
       "      <td>0</td>\n",
       "      <td>0</td>\n",
       "      <td>0</td>\n",
       "    </tr>\n",
       "  </tbody>\n",
       "</table>\n",
       "</div>"
      ],
      "text/plain": [
       "                             0             1             2           3  \\\n",
       "DROP_distributor      롯데엔터테인먼트           쇼박스           쇼박스         NEW   \n",
       "DROP_genre                  액션           느와르            액션         코미디   \n",
       "DROP_release_month          11            11            06          07   \n",
       "DROP_release_time   2012-11-22    2015-11-19    2013-06-05  2012-07-12   \n",
       "DROP_time                   96           130           123         101   \n",
       "DROP_title              개들의 전쟁          내부자들     은밀하게 위대하게    나는 공무원이다   \n",
       "DROP_title_length            5             4             8           7   \n",
       "box_off_num         23_398.000 7_072_501.000 6_959_083.000 217_866.000   \n",
       "dir_prev_bfnum             NaN 1_161_602.500   220_775.250  23_894.000   \n",
       "dir_prev_num                 0             2             4           2   \n",
       "director                   조병옥           우민호           장철수         구자홍   \n",
       "distributor_ord          5.000         5.000         5.000       5.000   \n",
       "genre_scaled             6.343         6.355         6.343       6.077   \n",
       "num_actor                    2             3             4           6   \n",
       "num_staff                   91           387           343          20   \n",
       "release_month_ord        3.000         3.000         4.000       9.000   \n",
       "screening_rat         청소년 관람불가      청소년 관람불가       15세 관람가      전체 관람가   \n",
       "time_trend               0.016         0.716         0.495       0.044   \n",
       "title_(0, 1]                 0             0             0           0   \n",
       "title_(1, 5]                 1             1             0           0   \n",
       "title_(5, 9]                 0             0             1           1   \n",
       "title_(9, 23]                0             0             0           0   \n",
       "\n",
       "                             4  \n",
       "DROP_distributor           쇼박스  \n",
       "DROP_genre                 코미디  \n",
       "DROP_release_month          11  \n",
       "DROP_release_time   2010-11-04  \n",
       "DROP_time                  108  \n",
       "DROP_title                불량남녀  \n",
       "DROP_title_length            4  \n",
       "box_off_num        483_387.000  \n",
       "dir_prev_bfnum           1.000  \n",
       "dir_prev_num                 1  \n",
       "director                   신근호  \n",
       "distributor_ord          5.000  \n",
       "genre_scaled             6.077  \n",
       "num_actor                    2  \n",
       "num_staff                  251  \n",
       "release_month_ord        3.000  \n",
       "screening_rat          15세 관람가  \n",
       "time_trend               0.131  \n",
       "title_(0, 1]                 0  \n",
       "title_(1, 5]                 1  \n",
       "title_(5, 9]                 0  \n",
       "title_(9, 23]                0  "
      ]
     },
     "execution_count": 83,
     "metadata": {},
     "output_type": "execute_result"
    }
   ],
   "source": [
    "total = total.rename(columns = {'time':'DROP_time'}) # 모든 처리가 끝난 후에 제거할 열 표시.\n",
    "total.sort_index(axis=1, inplace=True)\n",
    "total.head().T"
   ]
  },
  {
   "cell_type": "markdown",
   "metadata": {},
   "source": [
    "**∴** 상영시간 컬럼은 그 값의 분포가 커서, 이를 어떻게 러닝을 위한 숫자로 feature화 하느냐는 문제에서, 이번에는 원 데이터의 분포 그래프를 바탕으로 적당한 시간 구간을 정한 다음에, 이 구간에서는 직선적인 변화를 한다는 가정하에, 각 구간별로 linear regression을 통해 직선의 기울기/절편을 구한 다음, 전체 time을 위 직선상의 값으로 치환. 이후 최대값을 기준으로 스케일링한 time_trend feature로 이용."
   ]
  },
  {
   "cell_type": "markdown",
   "metadata": {},
   "source": [
    "## 3.6 screening_rat"
   ]
  },
  {
   "cell_type": "code",
   "execution_count": 84,
   "metadata": {},
   "outputs": [
    {
     "data": {
      "text/plain": [
       "count          600\n",
       "unique           4\n",
       "top       청소년 관람불가\n",
       "freq           204\n",
       "Name: screening_rat, dtype: object"
      ]
     },
     "execution_count": 84,
     "metadata": {},
     "output_type": "execute_result"
    }
   ],
   "source": [
    "train.screening_rat.describe() # 등급은 총 4종류."
   ]
  },
  {
   "cell_type": "code",
   "execution_count": 85,
   "metadata": {},
   "outputs": [
    {
     "data": {
      "text/plain": [
       "(0, 0)"
      ]
     },
     "execution_count": 85,
     "metadata": {},
     "output_type": "execute_result"
    }
   ],
   "source": [
    "train.screening_rat.isna().sum(), test.screening_rat.isna().sum() # 결측치 없음."
   ]
  },
  {
   "cell_type": "code",
   "execution_count": 86,
   "metadata": {},
   "outputs": [
    {
     "data": {
      "text/plain": [
       "array(['청소년 관람불가', '15세 관람가', '전체 관람가', '12세 관람가'], dtype=object)"
      ]
     },
     "execution_count": 86,
     "metadata": {},
     "output_type": "execute_result"
    }
   ],
   "source": [
    "train.screening_rat.unique()"
   ]
  },
  {
   "cell_type": "code",
   "execution_count": 87,
   "metadata": {},
   "outputs": [
    {
     "data": {
      "text/html": [
       "<div>\n",
       "<style scoped>\n",
       "    .dataframe tbody tr th:only-of-type {\n",
       "        vertical-align: middle;\n",
       "    }\n",
       "\n",
       "    .dataframe tbody tr th {\n",
       "        vertical-align: top;\n",
       "    }\n",
       "\n",
       "    .dataframe thead th {\n",
       "        text-align: right;\n",
       "    }\n",
       "</style>\n",
       "<table border=\"1\" class=\"dataframe\">\n",
       "  <thead>\n",
       "    <tr style=\"text-align: right;\">\n",
       "      <th></th>\n",
       "      <th>box_off_num</th>\n",
       "    </tr>\n",
       "    <tr>\n",
       "      <th>screening_rat</th>\n",
       "      <th></th>\n",
       "    </tr>\n",
       "  </thead>\n",
       "  <tbody>\n",
       "    <tr>\n",
       "      <th>15세 관람가</th>\n",
       "      <td>1_247_518.644</td>\n",
       "    </tr>\n",
       "    <tr>\n",
       "      <th>12세 관람가</th>\n",
       "      <td>844_980.902</td>\n",
       "    </tr>\n",
       "    <tr>\n",
       "      <th>청소년 관람불가</th>\n",
       "      <td>364_181.328</td>\n",
       "    </tr>\n",
       "    <tr>\n",
       "      <th>전체 관람가</th>\n",
       "      <td>135_100.457</td>\n",
       "    </tr>\n",
       "  </tbody>\n",
       "</table>\n",
       "</div>"
      ],
      "text/plain": [
       "                box_off_num\n",
       "screening_rat              \n",
       "15세 관람가       1_247_518.644\n",
       "12세 관람가         844_980.902\n",
       "청소년 관람불가        364_181.328\n",
       "전체 관람가          135_100.457"
      ]
     },
     "execution_count": 87,
     "metadata": {},
     "output_type": "execute_result"
    }
   ],
   "source": [
    "tmp = train.groupby('screening_rat').agg({'box_off_num':'mean'}).sort_values('box_off_num', ascending=False)\n",
    "tmp"
   ]
  },
  {
   "cell_type": "code",
   "execution_count": 88,
   "metadata": {},
   "outputs": [
    {
     "data": {
      "text/html": [
       "<div>\n",
       "<style scoped>\n",
       "    .dataframe tbody tr th:only-of-type {\n",
       "        vertical-align: middle;\n",
       "    }\n",
       "\n",
       "    .dataframe tbody tr th {\n",
       "        vertical-align: top;\n",
       "    }\n",
       "\n",
       "    .dataframe thead th {\n",
       "        text-align: right;\n",
       "    }\n",
       "</style>\n",
       "<table border=\"1\" class=\"dataframe\">\n",
       "  <thead>\n",
       "    <tr style=\"text-align: right;\">\n",
       "      <th></th>\n",
       "      <th>box_off_num</th>\n",
       "    </tr>\n",
       "    <tr>\n",
       "      <th>screening_rat</th>\n",
       "      <th></th>\n",
       "    </tr>\n",
       "  </thead>\n",
       "  <tbody>\n",
       "    <tr>\n",
       "      <th>15세 관람가</th>\n",
       "      <td>1.000</td>\n",
       "    </tr>\n",
       "    <tr>\n",
       "      <th>12세 관람가</th>\n",
       "      <td>0.677</td>\n",
       "    </tr>\n",
       "    <tr>\n",
       "      <th>청소년 관람불가</th>\n",
       "      <td>0.292</td>\n",
       "    </tr>\n",
       "    <tr>\n",
       "      <th>전체 관람가</th>\n",
       "      <td>0.108</td>\n",
       "    </tr>\n",
       "  </tbody>\n",
       "</table>\n",
       "</div>"
      ],
      "text/plain": [
       "               box_off_num\n",
       "screening_rat             \n",
       "15세 관람가              1.000\n",
       "12세 관람가              0.677\n",
       "청소년 관람불가             0.292\n",
       "전체 관람가               0.108"
      ]
     },
     "execution_count": 88,
     "metadata": {},
     "output_type": "execute_result"
    }
   ],
   "source": [
    "tmp = tmp / tmp.max()\n",
    "tmp"
   ]
  },
  {
   "cell_type": "markdown",
   "metadata": {},
   "source": [
    "- 관람등급을 위 평균관객수 비율로 단순 치환한다."
   ]
  },
  {
   "cell_type": "code",
   "execution_count": 89,
   "metadata": {},
   "outputs": [
    {
     "data": {
      "text/plain": [
       "{'15세 관람가': 1.0,\n",
       " '12세 관람가': 0.6773292778587592,\n",
       " '청소년 관람불가': 0.29192455784937155,\n",
       " '전체 관람가': 0.10829534068984807}"
      ]
     },
     "execution_count": 89,
     "metadata": {},
     "output_type": "execute_result"
    }
   ],
   "source": [
    "screening_rat_dict = tmp.loc[:, 'box_off_num'].to_dict()\n",
    "screening_rat_dict"
   ]
  },
  {
   "cell_type": "code",
   "execution_count": 90,
   "metadata": {},
   "outputs": [
    {
     "data": {
      "text/html": [
       "<div>\n",
       "<style scoped>\n",
       "    .dataframe tbody tr th:only-of-type {\n",
       "        vertical-align: middle;\n",
       "    }\n",
       "\n",
       "    .dataframe tbody tr th {\n",
       "        vertical-align: top;\n",
       "    }\n",
       "\n",
       "    .dataframe thead th {\n",
       "        text-align: right;\n",
       "    }\n",
       "</style>\n",
       "<table border=\"1\" class=\"dataframe\">\n",
       "  <thead>\n",
       "    <tr style=\"text-align: right;\">\n",
       "      <th></th>\n",
       "      <th>0</th>\n",
       "      <th>1</th>\n",
       "      <th>2</th>\n",
       "      <th>3</th>\n",
       "      <th>4</th>\n",
       "    </tr>\n",
       "  </thead>\n",
       "  <tbody>\n",
       "    <tr>\n",
       "      <th>DROP_distributor</th>\n",
       "      <td>롯데엔터테인먼트</td>\n",
       "      <td>쇼박스</td>\n",
       "      <td>쇼박스</td>\n",
       "      <td>NEW</td>\n",
       "      <td>쇼박스</td>\n",
       "    </tr>\n",
       "    <tr>\n",
       "      <th>DROP_genre</th>\n",
       "      <td>액션</td>\n",
       "      <td>느와르</td>\n",
       "      <td>액션</td>\n",
       "      <td>코미디</td>\n",
       "      <td>코미디</td>\n",
       "    </tr>\n",
       "    <tr>\n",
       "      <th>DROP_release_month</th>\n",
       "      <td>11</td>\n",
       "      <td>11</td>\n",
       "      <td>06</td>\n",
       "      <td>07</td>\n",
       "      <td>11</td>\n",
       "    </tr>\n",
       "    <tr>\n",
       "      <th>DROP_release_time</th>\n",
       "      <td>2012-11-22</td>\n",
       "      <td>2015-11-19</td>\n",
       "      <td>2013-06-05</td>\n",
       "      <td>2012-07-12</td>\n",
       "      <td>2010-11-04</td>\n",
       "    </tr>\n",
       "    <tr>\n",
       "      <th>DROP_screening_rat</th>\n",
       "      <td>청소년 관람불가</td>\n",
       "      <td>청소년 관람불가</td>\n",
       "      <td>15세 관람가</td>\n",
       "      <td>전체 관람가</td>\n",
       "      <td>15세 관람가</td>\n",
       "    </tr>\n",
       "    <tr>\n",
       "      <th>DROP_time</th>\n",
       "      <td>96</td>\n",
       "      <td>130</td>\n",
       "      <td>123</td>\n",
       "      <td>101</td>\n",
       "      <td>108</td>\n",
       "    </tr>\n",
       "    <tr>\n",
       "      <th>DROP_title</th>\n",
       "      <td>개들의 전쟁</td>\n",
       "      <td>내부자들</td>\n",
       "      <td>은밀하게 위대하게</td>\n",
       "      <td>나는 공무원이다</td>\n",
       "      <td>불량남녀</td>\n",
       "    </tr>\n",
       "    <tr>\n",
       "      <th>DROP_title_length</th>\n",
       "      <td>5</td>\n",
       "      <td>4</td>\n",
       "      <td>8</td>\n",
       "      <td>7</td>\n",
       "      <td>4</td>\n",
       "    </tr>\n",
       "    <tr>\n",
       "      <th>box_off_num</th>\n",
       "      <td>23_398.000</td>\n",
       "      <td>7_072_501.000</td>\n",
       "      <td>6_959_083.000</td>\n",
       "      <td>217_866.000</td>\n",
       "      <td>483_387.000</td>\n",
       "    </tr>\n",
       "    <tr>\n",
       "      <th>dir_prev_bfnum</th>\n",
       "      <td>NaN</td>\n",
       "      <td>1_161_602.500</td>\n",
       "      <td>220_775.250</td>\n",
       "      <td>23_894.000</td>\n",
       "      <td>1.000</td>\n",
       "    </tr>\n",
       "    <tr>\n",
       "      <th>dir_prev_num</th>\n",
       "      <td>0</td>\n",
       "      <td>2</td>\n",
       "      <td>4</td>\n",
       "      <td>2</td>\n",
       "      <td>1</td>\n",
       "    </tr>\n",
       "    <tr>\n",
       "      <th>director</th>\n",
       "      <td>조병옥</td>\n",
       "      <td>우민호</td>\n",
       "      <td>장철수</td>\n",
       "      <td>구자홍</td>\n",
       "      <td>신근호</td>\n",
       "    </tr>\n",
       "    <tr>\n",
       "      <th>distributor_ord</th>\n",
       "      <td>5.000</td>\n",
       "      <td>5.000</td>\n",
       "      <td>5.000</td>\n",
       "      <td>5.000</td>\n",
       "      <td>5.000</td>\n",
       "    </tr>\n",
       "    <tr>\n",
       "      <th>genre_scaled</th>\n",
       "      <td>6.343</td>\n",
       "      <td>6.355</td>\n",
       "      <td>6.343</td>\n",
       "      <td>6.077</td>\n",
       "      <td>6.077</td>\n",
       "    </tr>\n",
       "    <tr>\n",
       "      <th>num_actor</th>\n",
       "      <td>2</td>\n",
       "      <td>3</td>\n",
       "      <td>4</td>\n",
       "      <td>6</td>\n",
       "      <td>2</td>\n",
       "    </tr>\n",
       "    <tr>\n",
       "      <th>num_staff</th>\n",
       "      <td>91</td>\n",
       "      <td>387</td>\n",
       "      <td>343</td>\n",
       "      <td>20</td>\n",
       "      <td>251</td>\n",
       "    </tr>\n",
       "    <tr>\n",
       "      <th>release_month_ord</th>\n",
       "      <td>3.000</td>\n",
       "      <td>3.000</td>\n",
       "      <td>4.000</td>\n",
       "      <td>9.000</td>\n",
       "      <td>3.000</td>\n",
       "    </tr>\n",
       "    <tr>\n",
       "      <th>screening_rat_scaled</th>\n",
       "      <td>0.292</td>\n",
       "      <td>0.292</td>\n",
       "      <td>1.000</td>\n",
       "      <td>0.108</td>\n",
       "      <td>1.000</td>\n",
       "    </tr>\n",
       "    <tr>\n",
       "      <th>time_trend</th>\n",
       "      <td>0.016</td>\n",
       "      <td>0.716</td>\n",
       "      <td>0.495</td>\n",
       "      <td>0.044</td>\n",
       "      <td>0.131</td>\n",
       "    </tr>\n",
       "    <tr>\n",
       "      <th>title_(0, 1]</th>\n",
       "      <td>0</td>\n",
       "      <td>0</td>\n",
       "      <td>0</td>\n",
       "      <td>0</td>\n",
       "      <td>0</td>\n",
       "    </tr>\n",
       "    <tr>\n",
       "      <th>title_(1, 5]</th>\n",
       "      <td>1</td>\n",
       "      <td>1</td>\n",
       "      <td>0</td>\n",
       "      <td>0</td>\n",
       "      <td>1</td>\n",
       "    </tr>\n",
       "    <tr>\n",
       "      <th>title_(5, 9]</th>\n",
       "      <td>0</td>\n",
       "      <td>0</td>\n",
       "      <td>1</td>\n",
       "      <td>1</td>\n",
       "      <td>0</td>\n",
       "    </tr>\n",
       "    <tr>\n",
       "      <th>title_(9, 23]</th>\n",
       "      <td>0</td>\n",
       "      <td>0</td>\n",
       "      <td>0</td>\n",
       "      <td>0</td>\n",
       "      <td>0</td>\n",
       "    </tr>\n",
       "  </tbody>\n",
       "</table>\n",
       "</div>"
      ],
      "text/plain": [
       "                               0             1             2           3  \\\n",
       "DROP_distributor        롯데엔터테인먼트           쇼박스           쇼박스         NEW   \n",
       "DROP_genre                    액션           느와르            액션         코미디   \n",
       "DROP_release_month            11            11            06          07   \n",
       "DROP_release_time     2012-11-22    2015-11-19    2013-06-05  2012-07-12   \n",
       "DROP_screening_rat      청소년 관람불가      청소년 관람불가       15세 관람가      전체 관람가   \n",
       "DROP_time                     96           130           123         101   \n",
       "DROP_title                개들의 전쟁          내부자들     은밀하게 위대하게    나는 공무원이다   \n",
       "DROP_title_length              5             4             8           7   \n",
       "box_off_num           23_398.000 7_072_501.000 6_959_083.000 217_866.000   \n",
       "dir_prev_bfnum               NaN 1_161_602.500   220_775.250  23_894.000   \n",
       "dir_prev_num                   0             2             4           2   \n",
       "director                     조병옥           우민호           장철수         구자홍   \n",
       "distributor_ord            5.000         5.000         5.000       5.000   \n",
       "genre_scaled               6.343         6.355         6.343       6.077   \n",
       "num_actor                      2             3             4           6   \n",
       "num_staff                     91           387           343          20   \n",
       "release_month_ord          3.000         3.000         4.000       9.000   \n",
       "screening_rat_scaled       0.292         0.292         1.000       0.108   \n",
       "time_trend                 0.016         0.716         0.495       0.044   \n",
       "title_(0, 1]                   0             0             0           0   \n",
       "title_(1, 5]                   1             1             0           0   \n",
       "title_(5, 9]                   0             0             1           1   \n",
       "title_(9, 23]                  0             0             0           0   \n",
       "\n",
       "                               4  \n",
       "DROP_distributor             쇼박스  \n",
       "DROP_genre                   코미디  \n",
       "DROP_release_month            11  \n",
       "DROP_release_time     2010-11-04  \n",
       "DROP_screening_rat       15세 관람가  \n",
       "DROP_time                    108  \n",
       "DROP_title                  불량남녀  \n",
       "DROP_title_length              4  \n",
       "box_off_num          483_387.000  \n",
       "dir_prev_bfnum             1.000  \n",
       "dir_prev_num                   1  \n",
       "director                     신근호  \n",
       "distributor_ord            5.000  \n",
       "genre_scaled               6.077  \n",
       "num_actor                      2  \n",
       "num_staff                    251  \n",
       "release_month_ord          3.000  \n",
       "screening_rat_scaled       1.000  \n",
       "time_trend                 0.131  \n",
       "title_(0, 1]                   0  \n",
       "title_(1, 5]                   1  \n",
       "title_(5, 9]                   0  \n",
       "title_(9, 23]                  0  "
      ]
     },
     "execution_count": 90,
     "metadata": {},
     "output_type": "execute_result"
    }
   ],
   "source": [
    "total['screening_rat_scaled'] = total['screening_rat'].map(screening_rat_dict)\n",
    "total = total.rename(columns = {'screening_rat':'DROP_screening_rat'}) # 모든 처리가 끝난 후에 제거할 열 표시.\n",
    "total.sort_index(axis=1, inplace=True) # DROP_ 칼럼을 앞으로 모으기 위한 조치.\n",
    "total.head().T"
   ]
  },
  {
   "cell_type": "markdown",
   "metadata": {},
   "source": [
    "**∴** 관람등급은 총4종류에 결측치가 없어서, 단순히 등급별 평균 관객수를 기준으로 0~1.0 사이의 값으로 스케일링 했다."
   ]
  },
  {
   "cell_type": "markdown",
   "metadata": {},
   "source": [
    "## 3.7 director"
   ]
  },
  {
   "cell_type": "code",
   "execution_count": 91,
   "metadata": {},
   "outputs": [
    {
     "data": {
      "text/plain": [
       "count     600\n",
       "unique    472\n",
       "top       홍상수\n",
       "freq        7\n",
       "Name: director, dtype: object"
      ]
     },
     "execution_count": 91,
     "metadata": {},
     "output_type": "execute_result"
    }
   ],
   "source": [
    "train.director.describe()"
   ]
  },
  {
   "cell_type": "code",
   "execution_count": 92,
   "metadata": {},
   "outputs": [
    {
     "data": {
      "text/plain": [
       "count     243\n",
       "unique    220\n",
       "top       이정호\n",
       "freq        3\n",
       "Name: director, dtype: object"
      ]
     },
     "execution_count": 92,
     "metadata": {},
     "output_type": "execute_result"
    }
   ],
   "source": [
    "test.director.describe()"
   ]
  },
  {
   "cell_type": "code",
   "execution_count": 93,
   "metadata": {},
   "outputs": [
    {
     "name": "stdout",
     "output_type": "stream",
     "text": [
      "test 데이터셋에만 존재하는 감독 수 142\n"
     ]
    }
   ],
   "source": [
    "s1 = set(train.director.values)\n",
    "s2 = set(test.director.values)\n",
    "print(\"test 데이터셋에만 존재하는 감독 수\", len(list(set(s2) - set(s1))))"
   ]
  },
  {
   "cell_type": "code",
   "execution_count": 94,
   "metadata": {},
   "outputs": [
    {
     "name": "stdout",
     "output_type": "stream",
     "text": [
      "전체 데이터셋에만 존재하는 감독 수 614\n"
     ]
    }
   ],
   "source": [
    "print(\"전체 데이터셋에만 존재하는 감독 수\", len(list(set(s2) | set(s1))))"
   ]
  },
  {
   "cell_type": "code",
   "execution_count": 95,
   "metadata": {},
   "outputs": [
    {
     "data": {
      "image/png": "[encoded data removed]",
      "text/plain": [
       "<Figure size 432x288 with 1 Axes>"
      ]
     },
     "metadata": {
      "needs_background": "light"
     },
     "output_type": "display_data"
    }
   ],
   "source": [
    "director_count = total.groupby('director').agg({'director':'count'}).director.sort_values(ascending=False)\n",
    "director_count.plot(title='감독별 총 작품횟수')\n",
    "plt.show()"
   ]
  },
  {
   "cell_type": "code",
   "execution_count": 96,
   "metadata": {},
   "outputs": [
    {
     "data": {
      "text/plain": [
       "director\n",
       "홍상수    8\n",
       "전규환    6\n",
       "조성규    6\n",
       "이상우    4\n",
       "윤여창    4\n",
       "장진     4\n",
       "곽경택    4\n",
       "이준익    4\n",
       "장률     4\n",
       "오멸     4\n",
       "노진수    4\n",
       "민규동    4\n",
       "김성훈    4\n",
       "김봉은    4\n",
       "우민호    4\n",
       "신연식    4\n",
       "신재호    4\n",
       "김진영    3\n",
       "임순례    3\n",
       "이숭환    3\n",
       "Name: director, dtype: int64"
      ]
     },
     "execution_count": 96,
     "metadata": {},
     "output_type": "execute_result"
    }
   ],
   "source": [
    "director_count.head(20)"
   ]
  },
  {
   "cell_type": "markdown",
   "metadata": {},
   "source": [
    "- 한 감독이 6번, 8번 참여한 경우가 매우 적으므로, 4번 이상은 모두 4로 취급.\n",
    "- 따라서 감독이름 --> 1, 2, 3, 4의 카테고리 번호로 할당. 많이 참여한 횟수와 관객수의 관계가 약하다고 판단해서, 단순히 구분(categorical)하는 의미로만 사용.\n",
    "- 최종적으로 one hot encoding 적용하기 위해, 숫자가 아닌 문자열로 저장(**cat을 더해서**). 이는 panda의 get_dummies() 메소드가 숫자가 아닌 부분을 일괄 적용하기 때문에."
   ]
  },
  {
   "cell_type": "code",
   "execution_count": 97,
   "metadata": {},
   "outputs": [
    {
     "name": "stdout",
     "output_type": "stream",
     "text": [
      "{'홍상수': 'cat4', '전규환': 'cat4', '조성규': 'cat4', '이상우': 'cat4', '윤여창': 'cat4', '장진': 'cat4', '곽경택': 'cat4', '이준익': 'cat4', '장률': 'cat4', '오멸': 'cat4', '노진수': 'cat4', '민규동': 'cat4', '김성훈': 'cat4', '김봉은': 'cat4', '우민호': 'cat4', '신연식': 'cat4', '신재호': 'cat4', '김진영': 'cat3', '임순례': 'cat3', '이숭환': 'cat3', '박훈정': 'cat3', '김기덕': 'cat3', '권칠인': 'cat3', '김태균': 'cat3', '박철수': 'cat3', '김진만': 'cat3', '장건재': 'cat3', '김조광수': 'cat3', '김정훈': 'cat3', '조조 히데오': 'cat3', '전수일': 'cat3', '전화성': 'cat3', '정성복': 'cat3', '김상진': 'cat3', '김상철': 'cat3', '김현석': 'cat3', '임상수': 'cat3', '이정호': 'cat3', '이수성': 'cat3', '이전': 'cat3', '이석훈': 'cat3', '이송희일': 'cat3', '신수원': 'cat3', '강우석': 'cat3', '남기웅': 'cat3', '손석': 'cat3', '구혜선': 'cat3', '류승완': 'cat3', '정용기': 'cat2', '이재한': 'cat2', '김정환': 'cat2', '이성규': 'cat2', '김정욱': 'cat2', '노덕': 'cat2', '장철수': 'cat2', '장훈': 'cat2', '전계수': 'cat2', '이정범': 'cat2', '김일종': 'cat2', '윤종빈': 'cat2', '전재홍': 'cat2', '김성수': 'cat2', '박배일': 'cat2', '이재용': 'cat2', '정기훈': 'cat2', '김영탁': 'cat2', '문승욱': 'cat2', '이원석': 'cat2', '육상효': 'cat2', '류훈': 'cat2', '유하': 'cat2', '정재은': 'cat2', '이재규': 'cat2', '이창재': 'cat2', '이병헌': 'cat2', '장동홍': 'cat2', '이철하': 'cat2', '김한민': 'cat2', '이한': 'cat2', '김형준': 'cat2', '이해영': 'cat2', '이상빈': 'cat2', '김태용': 'cat2', '김태식': 'cat2', '김태경': 'cat2', '이환경': 'cat2', '임권택': 'cat2', '민병훈': 'cat2', '정지영': 'cat2', '김호준': 'cat2', '김홍선': 'cat2', '임성구': 'cat2', '김회근': 'cat2', '임우성': 'cat2', '민용근': 'cat2', '김진무': 'cat2', '김휘': 'cat2', '이종필': 'cat2', '김지훈': 'cat2', '민환기': 'cat2', '이광호': 'cat2', '임흥순': 'cat2', '이상호': 'cat2', '김종철': 'cat2', '이광국': 'cat2', '박용집': 'cat2', '황철민': 'cat2', '김석윤': 'cat2', '조정래': 'cat2', '한지원': 'cat2', '송해성': 'cat2', '김동원': 'cat2', '신혜성': 'cat2', '한상희': 'cat2', '진광교': 'cat2', '황인호': 'cat2', '진승현': 'cat2', '김대우': 'cat2', '김대승': 'cat2', '안재훈': 'cat2', '한동호': 'cat2', '최동훈': 'cat2', '최승호': 'cat2', '최시형': 'cat2', '안상훈': 'cat2', '최위안': 'cat2', '방현준': 'cat2', '김광식': 'cat2', '방은진': 'cat2', '김곡': 'cat2', '김경묵': 'cat2', '추창민': 'cat2', '박흥식': 'cat2', '김건': 'cat2', '신현원': 'cat2', '권형진': 'cat2', '백승화': 'cat2', '권호영': 'cat2', '김미연': 'cat2', '황동혁': 'cat2', '변성현': 'cat2', '오영두': 'cat2', '조성희': 'cat2', '강형철': 'cat2', '강효진': 'cat2', '박정범': 'cat2', '허철': 'cat2', '허종호': 'cat2', '봉만대': 'cat2', '조범구': 'cat2', '조근현': 'cat2', '부지영': 'cat2', '연상호': 'cat2', '허은희': 'cat2', '김상만': 'cat2', '송일곤': 'cat2', '봉준호': 'cat1', '맹관표': 'cat1', '문현성': 'cat1', '민경조': 'cat1', '변영주': 'cat1', '문제용': 'cat1', '서동일': 'cat1', '린슈유': 'cat1', '문정윤': 'cat1', '배성상': 'cat1', '변승욱': 'cat1', '방형우': 'cat1', '배광수': 'cat1', '문인수': 'cat1', '배창호': 'cat1', '백종열': 'cat1', '문제대': 'cat1', '백운학': 'cat1', '배형준': 'cat1', '백동훈': 'cat1', '백상열': 'cat1', '백승기': 'cat1', '백연아': 'cat1', '백승창': 'cat1', '백승우': 'cat1', '박형우': 'cat1', '민두식': 'cat1', '박보상': 'cat1', '박문칠': 'cat1', '박중구': 'cat1', '박미선': 'cat1', '박준기': 'cat1', '박범수': 'cat1', '박범훈': 'cat1', '박제현': 'cat1', '박정우': 'cat1', '박병환': 'cat1', '박재식': 'cat1', '박희곤': 'cat1', '박사유': 'cat1', '박상준': 'cat1', '박상현': 'cat1', '박인제': 'cat1', '박석영': 'cat1', '라희찬': 'cat1', '박성미': 'cat1', '박수민': 'cat1', '박영균': 'cat1', '박진성': 'cat1', '박진순': 'cat1', '박진표': 'cat1', '박명랑': 'cat1', '민백두': 'cat1', '민병우': 'cat1', '민병진': 'cat1', '민복기': 'cat1', '박홍수': 'cat1', '박은형': 'cat1', '박혁지': 'cat1', '박갑종': 'cat1', '박경근': 'cat1', '박헌수': 'cat1', '박태동': 'cat1', '박철순': 'cat1', '박광우': 'cat1', '박철관': 'cat1', '박창진': 'cat1', '박찬경': 'cat1', '박규택': 'cat1', '박동훈': 'cat1', '박루슬란': 'cat1', '박선욱': 'cat1', '김창만': 'cat1', '듀안 에들러': 'cat1', '김봉곤': 'cat1', '권효': 'cat1', '기대호': 'cat1', '김경만': 'cat1', '김경식': 'cat1', '김관철': 'cat1', '김광태': 'cat1', '김규민': 'cat1', '김기영': 'cat1', '김기훈': 'cat1', '김달중': 'cat1', '김대성': 'cat1', '김대창': 'cat1', '김대현': 'cat1', '김덕수': 'cat1', '김동명': 'cat1', '김동빈': 'cat1', '김동욱': 'cat1', '김동주': 'cat1', '김동현': 'cat1', '김동후': 'cat1', '김명균': 'cat1', '김명서': 'cat1', '김명준': 'cat1', '김민석': 'cat1', '김민욱': 'cat1', '김병곤': 'cat1', '김병우': 'cat1', '권혁재': 'cat1', '권혁만': 'cat1', '권중목': 'cat1', '고경아': 'cat1', '강대규': 'cat1', '강석필': 'cat1', '강성룡': 'cat1', '강성옥': 'cat1', '강의석': 'cat1', '강이관': 'cat1', '강제규': 'cat1', '강진아': 'cat1', '강훈': 'cat1', '경석호': 'cat1', '경순': 'cat1', '계윤식': 'cat1', '고구마': 'cat1', '권우정': 'cat1', '고락중': 'cat1', '고석진': 'cat1', '공귀현': 'cat1', '공자관': 'cat1', '구모': 'cat1', '구봉회': 'cat1', '구수환': 'cat1', '구자홍': 'cat1', '국동석': 'cat1', '권영락': 'cat1', '권영철': 'cat1', '권오광': 'cat1', '김병준': 'cat1', '김봉주': 'cat1', '동지견': 'cat1', '김상석': 'cat1', '김지운': 'cat1', '김진민': 'cat1', '김진열': 'cat1', '김진홍': 'cat1', '성시흡': 'cat1', '김철민': 'cat1', '김철한': 'cat1', '김태곤': 'cat1', '김태윤': 'cat1', '김태익': 'cat1', '김태일': 'cat1', '김학순': 'cat1', '김형렬': 'cat1', '김형주': 'cat1', '김혜정': 'cat1', '김효정': 'cat1', '김희정': 'cat1', '나카시마 테츠야': 'cat1', '나홍진': 'cat1', '남무성': 'cat1', '남택수': 'cat1', '노병하': 'cat1', '노성수': 'cat1', '노영석': 'cat1', '노홍진': 'cat1', '노효두': 'cat1', '도창훈': 'cat1', '김지용': 'cat1', '김지곤': 'cat1', '김준권': 'cat1', '김아론': 'cat1', '김석정': 'cat1', '김선': 'cat1', '김선아': 'cat1', '김성균': 'cat1', '김성제': 'cat1', '김성준': 'cat1', '김성호': 'cat1', '김성홍': 'cat1', '김성희': 'cat1', '김소영': 'cat1', '김수현': 'cat1', '김승현': 'cat1', '김영로': 'cat1', '김종관': 'cat1', '김영진': 'cat1', '김용균': 'cat1', '김용한': 'cat1', '김용화': 'cat1', '김익로': 'cat1', '김인식': 'cat1', '김일란': 'cat1', '김재수': 'cat1', '김재한': 'cat1', '김재환': 'cat1', '김정권': 'cat1', '김정호': 'cat1', '서호빈': 'cat1', '안철호': 'cat1', '성지혜': 'cat1', '정성일': 'cat1', '정승구': 'cat1', '정연식': 'cat1', '정영배': 'cat1', '정영헌': 'cat1', '정용주': 'cat1', '정용택': 'cat1', '정우철': 'cat1', '정윤석': 'cat1', '정윤수': 'cat1', '정익환': 'cat1', '정재웅': 'cat1', '정주리': 'cat1', '정지우': 'cat1', '정초신': 'cat1', '정하린': 'cat1', '정호현': 'cat1', '정흠문': 'cat1', '조동오': 'cat1', '조명남': 'cat1', '조병옥': 'cat1', '조성형': 'cat1', '조세래': 'cat1', '조세영': 'cat1', '조연수': 'cat1', '조용선': 'cat1', '조운': 'cat1', '조원희': 'cat1', '조은성': 'cat1', '조의석': 'cat1', '정세교': 'cat1', '정병길': 'cat1', '조진모': 'cat1', '정범식': 'cat1', '임상준': 'cat1', '임유철': 'cat1', '임진순': 'cat1', '임진승': 'cat1', '임진평': 'cat1', '임찬상': 'cat1', '임찬익': 'cat1', '임태형': 'cat1', '임필성': 'cat1', '장경수': 'cat1', '장규성': 'cat1', '장문일': 'cat1', '장성수': 'cat1', '장유정': 'cat1', '장윤현': 'cat1', '장재현': 'cat1', '장태령': 'cat1', '장형윤': 'cat1', '장희선': 'cat1', '장희철': 'cat1', '전도한': 'cat1', '전만배': 'cat1', '전성우': 'cat1', '전윤수': 'cat1', '전태윤': 'cat1', '전형준': 'cat1', '정근섭': 'cat1', '정단우': 'cat1', '정대건': 'cat1', '조진규': 'cat1', '조창호': 'cat1', '임범': 'cat1', '하원준': 'cat1', '한동욱': 'cat1', '한상민': 'cat1', '한상호': 'cat1', '한소준': 'cat1', '한승룡': 'cat1', '한승림': 'cat1', '한승훈': 'cat1', '한우진': 'cat1', '한윤선': 'cat1', '한재림': 'cat1', '한종훈': 'cat1', '한준희': 'cat1', '한지승': 'cat1', '한창근': 'cat1', '한철수': 'cat1', '허선': 'cat1', '허인무': 'cat1', '허정': 'cat1', '홍리경': 'cat1', '홍석재': 'cat1', '홍원찬': 'cat1', '홍재희': 'cat1', '홍지영': 'cat1', '홍형숙': 'cat1', '황병국': 'cat1', '황석호': 'cat1', '황욱': 'cat1', '황유식': 'cat1', '황윤': 'cat1', '하정우': 'cat1', '하마구치 류스케': 'cat1', '조치언': 'cat1', '하기호': 'cat1', '주경중': 'cat1', '주호성': 'cat1', '지민': 'cat1', '지율스님': 'cat1', '지하진': 'cat1', '진모영': 'cat1', '창감독': 'cat1', '천성일': 'cat1', '천정훈': 'cat1', '최경석': 'cat1', '최경진': 'cat1', '최영석': 'cat1', '최용석': 'cat1', '최원섭': 'cat1', '최윤석': 'cat1', '최종태': 'cat1', '최진성': 'cat1', '최필곤': 'cat1', '최호': 'cat1', '추상록': 'cat1', '크리스토퍼 로빈 콜린스': 'cat1', '키리야 카즈아키': 'cat1', '타케 마사하루': 'cat1', '태미 추': 'cat1', '태준식': 'cat1', '폴 페이그': 'cat1', '표만석': 'cat1', '프라챠 핀카엡': 'cat1', '피터 레페니오티스': 'cat1', '임상윤': 'cat1', '임경수': 'cat1', '소재영': 'cat1', '알버트 신': 'cat1', '양영철': 'cat1', '양영희': 'cat1', '양우석': 'cat1', '양윤호': 'cat1', '양정호': 'cat1', '양지은': 'cat1', '엄태화': 'cat1', '에밀리오 에스테베즈': 'cat1', '오기환': 'cat1', '오성윤': 'cat1', '오승욱': 'cat1', '오인천': 'cat1', '오창민': 'cat1', '우디 한': 'cat1', '우문기': 'cat1', '우선호': 'cat1', '원신연': 'cat1', '유상헌': 'cat1', '유선동': 'cat1', '유성엽': 'cat1', '유원상': 'cat1', '유정환': 'cat1', '유지태': 'cat1', '윤기형': 'cat1', '윤성호': 'cat1', '윤영기': 'cat1', '윤용진': 'cat1', '윤재구': 'cat1', '윤재근': 'cat1', '양병간': 'cat1', '안재민': 'cat1', '윤종찬': 'cat1', '안용훈': 'cat1', '소준문': 'cat1', '손광주': 'cat1', '손승웅': 'cat1', '손영국': 'cat1', '손영성': 'cat1', '손용호': 'cat1', '손재곤': 'cat1', '송동윤': 'cat1', '송웅달': 'cat1', '송윤희': 'cat1', '송정우': 'cat1', '송창용': 'cat1', '스티브 리': 'cat1', '시라이시 코지': 'cat1', '신근호': 'cat1', '신성섭': 'cat1', '신아가': 'cat1', '신재영': 'cat1', '신정균': 'cat1', '신정원': 'cat1', '신춘수': 'cat1', '신태라': 'cat1', '신한솔': 'cat1', '심성보': 'cat1', '심형래': 'cat1', '안국진': 'cat1', '안권태': 'cat1', '안도 마사히로': 'cat1', '안슬기': 'cat1', '윤제균': 'cat1', '윤준형': 'cat1', '인진미': 'cat1', '이윤기': 'cat1', '이장호': 'cat1', '이정욱': 'cat1', '이정인': 'cat1', '이정철': 'cat1', '이정향': 'cat1', '이정황': 'cat1', '이제락': 'cat1', '이조훈': 'cat1', '이종현': 'cat1', '이종훈': 'cat1', '이주형': 'cat1', '이지승': 'cat1', '이지현': 'cat1', '이지형': 'cat1', '이찬욱': 'cat1', '이창규': 'cat1', '이창동': 'cat1', '이하': 'cat1', '이학준': 'cat1', '이항배': 'cat1', '이해준': 'cat1', '이혁상': 'cat1', '이현승': 'cat1', '이현종': 'cat1', '이현철': 'cat1', '이호재': 'cat1', '이홍기': 'cat1', '이홍석': 'cat1', '이홍재': 'cat1', '이일하': 'cat1', '이원회': 'cat1', '윤태식': 'cat1', '이용주': 'cat1', '윤학렬': 'cat1', '이강현': 'cat1', '이광재': 'cat1', '이권': 'cat1', '이규만': 'cat1', '이근우': 'cat1', '이기욱': 'cat1', '이길보라': 'cat1', '이난': 'cat1', '이대희': 'cat1', '이덕희': 'cat1', '이도윤': 'cat1', '이돈구': 'cat1', '이동삼': 'cat1', '이로이': 'cat1', '이민환': 'cat1', '이사무엘': 'cat1', '이서': 'cat1', '이서군': 'cat1', '이성수': 'cat1', '이성은': 'cat1', '이세일': 'cat1', '이수정': 'cat1', '이수진': 'cat1', '이승준': 'cat1', '이연우': 'cat1', '이영미': 'cat1', '이영준': 'cat1', '이용승': 'cat1', 'New Pistol': 'cat1'}\n"
     ]
    }
   ],
   "source": [
    "director_count2 = director_count.map(lambda x: 'cat' + str(min(x, 4))) # for catergorical.\n",
    "director_dict2 = director_count2.to_dict()\n",
    "print(director_dict2) # 감독별 작품수를 최대 4로 해서 매핑."
   ]
  },
  {
   "cell_type": "code",
   "execution_count": 98,
   "metadata": {},
   "outputs": [
    {
     "data": {
      "text/html": [
       "<div>\n",
       "<style scoped>\n",
       "    .dataframe tbody tr th:only-of-type {\n",
       "        vertical-align: middle;\n",
       "    }\n",
       "\n",
       "    .dataframe tbody tr th {\n",
       "        vertical-align: top;\n",
       "    }\n",
       "\n",
       "    .dataframe thead th {\n",
       "        text-align: right;\n",
       "    }\n",
       "</style>\n",
       "<table border=\"1\" class=\"dataframe\">\n",
       "  <thead>\n",
       "    <tr style=\"text-align: right;\">\n",
       "      <th></th>\n",
       "      <th>0</th>\n",
       "      <th>1</th>\n",
       "      <th>2</th>\n",
       "      <th>3</th>\n",
       "      <th>4</th>\n",
       "    </tr>\n",
       "  </thead>\n",
       "  <tbody>\n",
       "    <tr>\n",
       "      <th>DROP_director</th>\n",
       "      <td>조병옥</td>\n",
       "      <td>우민호</td>\n",
       "      <td>장철수</td>\n",
       "      <td>구자홍</td>\n",
       "      <td>신근호</td>\n",
       "    </tr>\n",
       "    <tr>\n",
       "      <th>DROP_distributor</th>\n",
       "      <td>롯데엔터테인먼트</td>\n",
       "      <td>쇼박스</td>\n",
       "      <td>쇼박스</td>\n",
       "      <td>NEW</td>\n",
       "      <td>쇼박스</td>\n",
       "    </tr>\n",
       "    <tr>\n",
       "      <th>DROP_genre</th>\n",
       "      <td>액션</td>\n",
       "      <td>느와르</td>\n",
       "      <td>액션</td>\n",
       "      <td>코미디</td>\n",
       "      <td>코미디</td>\n",
       "    </tr>\n",
       "    <tr>\n",
       "      <th>DROP_release_month</th>\n",
       "      <td>11</td>\n",
       "      <td>11</td>\n",
       "      <td>06</td>\n",
       "      <td>07</td>\n",
       "      <td>11</td>\n",
       "    </tr>\n",
       "    <tr>\n",
       "      <th>DROP_release_time</th>\n",
       "      <td>2012-11-22</td>\n",
       "      <td>2015-11-19</td>\n",
       "      <td>2013-06-05</td>\n",
       "      <td>2012-07-12</td>\n",
       "      <td>2010-11-04</td>\n",
       "    </tr>\n",
       "    <tr>\n",
       "      <th>DROP_screening_rat</th>\n",
       "      <td>청소년 관람불가</td>\n",
       "      <td>청소년 관람불가</td>\n",
       "      <td>15세 관람가</td>\n",
       "      <td>전체 관람가</td>\n",
       "      <td>15세 관람가</td>\n",
       "    </tr>\n",
       "    <tr>\n",
       "      <th>DROP_time</th>\n",
       "      <td>96</td>\n",
       "      <td>130</td>\n",
       "      <td>123</td>\n",
       "      <td>101</td>\n",
       "      <td>108</td>\n",
       "    </tr>\n",
       "    <tr>\n",
       "      <th>DROP_title</th>\n",
       "      <td>개들의 전쟁</td>\n",
       "      <td>내부자들</td>\n",
       "      <td>은밀하게 위대하게</td>\n",
       "      <td>나는 공무원이다</td>\n",
       "      <td>불량남녀</td>\n",
       "    </tr>\n",
       "    <tr>\n",
       "      <th>DROP_title_length</th>\n",
       "      <td>5</td>\n",
       "      <td>4</td>\n",
       "      <td>8</td>\n",
       "      <td>7</td>\n",
       "      <td>4</td>\n",
       "    </tr>\n",
       "    <tr>\n",
       "      <th>box_off_num</th>\n",
       "      <td>23_398.000</td>\n",
       "      <td>7_072_501.000</td>\n",
       "      <td>6_959_083.000</td>\n",
       "      <td>217_866.000</td>\n",
       "      <td>483_387.000</td>\n",
       "    </tr>\n",
       "    <tr>\n",
       "      <th>dir_prev_bfnum</th>\n",
       "      <td>NaN</td>\n",
       "      <td>1_161_602.500</td>\n",
       "      <td>220_775.250</td>\n",
       "      <td>23_894.000</td>\n",
       "      <td>1.000</td>\n",
       "    </tr>\n",
       "    <tr>\n",
       "      <th>dir_prev_num</th>\n",
       "      <td>0</td>\n",
       "      <td>2</td>\n",
       "      <td>4</td>\n",
       "      <td>2</td>\n",
       "      <td>1</td>\n",
       "    </tr>\n",
       "    <tr>\n",
       "      <th>director_category</th>\n",
       "      <td>cat1</td>\n",
       "      <td>cat4</td>\n",
       "      <td>cat2</td>\n",
       "      <td>cat1</td>\n",
       "      <td>cat1</td>\n",
       "    </tr>\n",
       "    <tr>\n",
       "      <th>distributor_ord</th>\n",
       "      <td>5.000</td>\n",
       "      <td>5.000</td>\n",
       "      <td>5.000</td>\n",
       "      <td>5.000</td>\n",
       "      <td>5.000</td>\n",
       "    </tr>\n",
       "    <tr>\n",
       "      <th>genre_scaled</th>\n",
       "      <td>6.343</td>\n",
       "      <td>6.355</td>\n",
       "      <td>6.343</td>\n",
       "      <td>6.077</td>\n",
       "      <td>6.077</td>\n",
       "    </tr>\n",
       "    <tr>\n",
       "      <th>num_actor</th>\n",
       "      <td>2</td>\n",
       "      <td>3</td>\n",
       "      <td>4</td>\n",
       "      <td>6</td>\n",
       "      <td>2</td>\n",
       "    </tr>\n",
       "    <tr>\n",
       "      <th>num_staff</th>\n",
       "      <td>91</td>\n",
       "      <td>387</td>\n",
       "      <td>343</td>\n",
       "      <td>20</td>\n",
       "      <td>251</td>\n",
       "    </tr>\n",
       "    <tr>\n",
       "      <th>release_month_ord</th>\n",
       "      <td>3.000</td>\n",
       "      <td>3.000</td>\n",
       "      <td>4.000</td>\n",
       "      <td>9.000</td>\n",
       "      <td>3.000</td>\n",
       "    </tr>\n",
       "    <tr>\n",
       "      <th>screening_rat_scaled</th>\n",
       "      <td>0.292</td>\n",
       "      <td>0.292</td>\n",
       "      <td>1.000</td>\n",
       "      <td>0.108</td>\n",
       "      <td>1.000</td>\n",
       "    </tr>\n",
       "    <tr>\n",
       "      <th>time_trend</th>\n",
       "      <td>0.016</td>\n",
       "      <td>0.716</td>\n",
       "      <td>0.495</td>\n",
       "      <td>0.044</td>\n",
       "      <td>0.131</td>\n",
       "    </tr>\n",
       "    <tr>\n",
       "      <th>title_(0, 1]</th>\n",
       "      <td>0</td>\n",
       "      <td>0</td>\n",
       "      <td>0</td>\n",
       "      <td>0</td>\n",
       "      <td>0</td>\n",
       "    </tr>\n",
       "    <tr>\n",
       "      <th>title_(1, 5]</th>\n",
       "      <td>1</td>\n",
       "      <td>1</td>\n",
       "      <td>0</td>\n",
       "      <td>0</td>\n",
       "      <td>1</td>\n",
       "    </tr>\n",
       "    <tr>\n",
       "      <th>title_(5, 9]</th>\n",
       "      <td>0</td>\n",
       "      <td>0</td>\n",
       "      <td>1</td>\n",
       "      <td>1</td>\n",
       "      <td>0</td>\n",
       "    </tr>\n",
       "    <tr>\n",
       "      <th>title_(9, 23]</th>\n",
       "      <td>0</td>\n",
       "      <td>0</td>\n",
       "      <td>0</td>\n",
       "      <td>0</td>\n",
       "      <td>0</td>\n",
       "    </tr>\n",
       "  </tbody>\n",
       "</table>\n",
       "</div>"
      ],
      "text/plain": [
       "                               0             1             2           3  \\\n",
       "DROP_director                조병옥           우민호           장철수         구자홍   \n",
       "DROP_distributor        롯데엔터테인먼트           쇼박스           쇼박스         NEW   \n",
       "DROP_genre                    액션           느와르            액션         코미디   \n",
       "DROP_release_month            11            11            06          07   \n",
       "DROP_release_time     2012-11-22    2015-11-19    2013-06-05  2012-07-12   \n",
       "DROP_screening_rat      청소년 관람불가      청소년 관람불가       15세 관람가      전체 관람가   \n",
       "DROP_time                     96           130           123         101   \n",
       "DROP_title                개들의 전쟁          내부자들     은밀하게 위대하게    나는 공무원이다   \n",
       "DROP_title_length              5             4             8           7   \n",
       "box_off_num           23_398.000 7_072_501.000 6_959_083.000 217_866.000   \n",
       "dir_prev_bfnum               NaN 1_161_602.500   220_775.250  23_894.000   \n",
       "dir_prev_num                   0             2             4           2   \n",
       "director_category           cat1          cat4          cat2        cat1   \n",
       "distributor_ord            5.000         5.000         5.000       5.000   \n",
       "genre_scaled               6.343         6.355         6.343       6.077   \n",
       "num_actor                      2             3             4           6   \n",
       "num_staff                     91           387           343          20   \n",
       "release_month_ord          3.000         3.000         4.000       9.000   \n",
       "screening_rat_scaled       0.292         0.292         1.000       0.108   \n",
       "time_trend                 0.016         0.716         0.495       0.044   \n",
       "title_(0, 1]                   0             0             0           0   \n",
       "title_(1, 5]                   1             1             0           0   \n",
       "title_(5, 9]                   0             0             1           1   \n",
       "title_(9, 23]                  0             0             0           0   \n",
       "\n",
       "                               4  \n",
       "DROP_director                신근호  \n",
       "DROP_distributor             쇼박스  \n",
       "DROP_genre                   코미디  \n",
       "DROP_release_month            11  \n",
       "DROP_release_time     2010-11-04  \n",
       "DROP_screening_rat       15세 관람가  \n",
       "DROP_time                    108  \n",
       "DROP_title                  불량남녀  \n",
       "DROP_title_length              4  \n",
       "box_off_num          483_387.000  \n",
       "dir_prev_bfnum             1.000  \n",
       "dir_prev_num                   1  \n",
       "director_category           cat1  \n",
       "distributor_ord            5.000  \n",
       "genre_scaled               6.077  \n",
       "num_actor                      2  \n",
       "num_staff                    251  \n",
       "release_month_ord          3.000  \n",
       "screening_rat_scaled       1.000  \n",
       "time_trend                 0.131  \n",
       "title_(0, 1]                   0  \n",
       "title_(1, 5]                   1  \n",
       "title_(5, 9]                   0  \n",
       "title_(9, 23]                  0  "
      ]
     },
     "execution_count": 98,
     "metadata": {},
     "output_type": "execute_result"
    }
   ],
   "source": [
    "total['director_category'] = total['director'].map(director_dict2)\n",
    "total = total.rename(columns = {'director':'DROP_director'}) # 모든 처리가 끝난 후에 제거할 열 표시.\n",
    "total.sort_index(axis=1, inplace=True)\n",
    "total.head().T"
   ]
  },
  {
   "cell_type": "markdown",
   "metadata": {},
   "source": [
    "**∴** 감독이름(director)을 감독의 작품수(director_category)로 매핑해서 cat1, cat2 식의 문자열 feature 생성. 마지막에 pandas의 get_dummies() 적용하면 이 문자열들만 변환됨."
   ]
  },
  {
   "cell_type": "markdown",
   "metadata": {},
   "source": [
    "## 3.8 dir_prev_bfnum"
   ]
  },
  {
   "cell_type": "code",
   "execution_count": 99,
   "metadata": {},
   "outputs": [
    {
     "data": {
      "text/plain": [
       "0             nan\n",
       "1   1_161_602.500\n",
       "2     220_775.250\n",
       "3      23_894.000\n",
       "4           1.000\n",
       "5     837_969.000\n",
       "6             nan\n",
       "7     739_522.000\n",
       "8             nan\n",
       "9             nan\n",
       "Name: dir_prev_bfnum, dtype: float64"
      ]
     },
     "execution_count": 99,
     "metadata": {},
     "output_type": "execute_result"
    }
   ],
   "source": [
    "total['dir_prev_bfnum'].head(10)"
   ]
  },
  {
   "cell_type": "code",
   "execution_count": 100,
   "metadata": {},
   "outputs": [
    {
     "name": "stdout",
     "output_type": "stream",
     "text": [
      "전체갯수=843, 결측치 갯수=466\n"
     ]
    }
   ],
   "source": [
    "print(\"전체갯수={}, 결측치 갯수={}\".format(len(total['dir_prev_bfnum']), total['dir_prev_bfnum'].isna().sum()))"
   ]
  },
  {
   "cell_type": "markdown",
   "metadata": {},
   "source": [
    "- 전체 데이터를 기준으로도 결측치가 과반수를 넘음.\n",
    "---"
   ]
  },
  {
   "cell_type": "code",
   "execution_count": 101,
   "metadata": {},
   "outputs": [
    {
     "name": "stdout",
     "output_type": "stream",
     "text": [
      "                box_off_num  dir_prev_bfnum\n",
      "box_off_num           1.000           0.283\n",
      "dir_prev_bfnum        0.283           1.000\n"
     ]
    }
   ],
   "source": [
    "tmp = train[train.dir_prev_num != 0][['box_off_num', 'dir_prev_bfnum']] # dir_prev_bfnum가 NaN(결측)인 경우엔 dir_prev_num가 0이므로, 후자를 조건으로 이용.\n",
    "print(tmp.corr())"
   ]
  },
  {
   "cell_type": "markdown",
   "metadata": {},
   "source": [
    "- dir_prev_bfnum 데이터가 있는 경우에 --> box_off_num과의 correlation도 비교적 낮다\n",
    "---"
   ]
  },
  {
   "cell_type": "code",
   "execution_count": 102,
   "metadata": {},
   "outputs": [
    {
     "name": "stdout",
     "output_type": "stream",
     "text": [
      "dir_prev_bfnum가 결측인 데이터의 평균관객수=349_204, 존재하는 경우의 평균관객수=1_146_932\n"
     ]
    }
   ],
   "source": [
    "train0 = train[train.dir_prev_num == 0] # dir_prev_bfnum가 NaN(결측)인 경우엔 dir_prev_num가 0이므로, 후자를 조건으로 이용.\n",
    "train1 = train[train.dir_prev_num != 0]\n",
    "\n",
    "print(\"dir_prev_bfnum가 결측인 데이터의 평균관객수={:_.0f}, 존재하는 경우의 평균관객수={:_.0f}\".format(train0.box_off_num.mean(), train1.box_off_num.mean()))"
   ]
  },
  {
   "cell_type": "markdown",
   "metadata": {},
   "source": [
    "- 이 dir_prev_bfnum가 데이터의 유무로 나눈 두 세트 간의 평균 관객수가 많이 차이남\n",
    "---"
   ]
  },
  {
   "cell_type": "markdown",
   "metadata": {},
   "source": [
    "- dir_prev_bfnum은 꽤 데이터 손실이 큰 항목\n",
    "- 이 값이 있는 데이터만 --> box_off_num과의 correlation도 낮다.\n",
    "- 이 데이터의 유무로 나눈 두 세트 간의 평균 관객수가 많이 차이남.\n",
    "- **그렇다고 다른 항목으로 감독의 과거평균 관객수를 유추하는 것도 합리적이지 않다 판다.**\n",
    "- 따라서 이 데이터를 유무에 따른 평균관객수의 차이가 큼에 착안해서, 단순히 **이 데이터의 유무만으로 구분**하도록 feature 결정."
   ]
  },
  {
   "cell_type": "code",
   "execution_count": 103,
   "metadata": {},
   "outputs": [
    {
     "data": {
      "text/html": [
       "<div>\n",
       "<style scoped>\n",
       "    .dataframe tbody tr th:only-of-type {\n",
       "        vertical-align: middle;\n",
       "    }\n",
       "\n",
       "    .dataframe tbody tr th {\n",
       "        vertical-align: top;\n",
       "    }\n",
       "\n",
       "    .dataframe thead th {\n",
       "        text-align: right;\n",
       "    }\n",
       "</style>\n",
       "<table border=\"1\" class=\"dataframe\">\n",
       "  <thead>\n",
       "    <tr style=\"text-align: right;\">\n",
       "      <th></th>\n",
       "      <th>0</th>\n",
       "      <th>1</th>\n",
       "      <th>2</th>\n",
       "      <th>3</th>\n",
       "      <th>4</th>\n",
       "    </tr>\n",
       "  </thead>\n",
       "  <tbody>\n",
       "    <tr>\n",
       "      <th>DROP_dir_prev_bfnum</th>\n",
       "      <td>NaN</td>\n",
       "      <td>1_161_602.500</td>\n",
       "      <td>220_775.250</td>\n",
       "      <td>23_894.000</td>\n",
       "      <td>1.000</td>\n",
       "    </tr>\n",
       "    <tr>\n",
       "      <th>DROP_director</th>\n",
       "      <td>조병옥</td>\n",
       "      <td>우민호</td>\n",
       "      <td>장철수</td>\n",
       "      <td>구자홍</td>\n",
       "      <td>신근호</td>\n",
       "    </tr>\n",
       "    <tr>\n",
       "      <th>DROP_distributor</th>\n",
       "      <td>롯데엔터테인먼트</td>\n",
       "      <td>쇼박스</td>\n",
       "      <td>쇼박스</td>\n",
       "      <td>NEW</td>\n",
       "      <td>쇼박스</td>\n",
       "    </tr>\n",
       "    <tr>\n",
       "      <th>DROP_genre</th>\n",
       "      <td>액션</td>\n",
       "      <td>느와르</td>\n",
       "      <td>액션</td>\n",
       "      <td>코미디</td>\n",
       "      <td>코미디</td>\n",
       "    </tr>\n",
       "    <tr>\n",
       "      <th>DROP_release_month</th>\n",
       "      <td>11</td>\n",
       "      <td>11</td>\n",
       "      <td>06</td>\n",
       "      <td>07</td>\n",
       "      <td>11</td>\n",
       "    </tr>\n",
       "    <tr>\n",
       "      <th>DROP_release_time</th>\n",
       "      <td>2012-11-22</td>\n",
       "      <td>2015-11-19</td>\n",
       "      <td>2013-06-05</td>\n",
       "      <td>2012-07-12</td>\n",
       "      <td>2010-11-04</td>\n",
       "    </tr>\n",
       "    <tr>\n",
       "      <th>DROP_screening_rat</th>\n",
       "      <td>청소년 관람불가</td>\n",
       "      <td>청소년 관람불가</td>\n",
       "      <td>15세 관람가</td>\n",
       "      <td>전체 관람가</td>\n",
       "      <td>15세 관람가</td>\n",
       "    </tr>\n",
       "    <tr>\n",
       "      <th>DROP_time</th>\n",
       "      <td>96</td>\n",
       "      <td>130</td>\n",
       "      <td>123</td>\n",
       "      <td>101</td>\n",
       "      <td>108</td>\n",
       "    </tr>\n",
       "    <tr>\n",
       "      <th>DROP_title</th>\n",
       "      <td>개들의 전쟁</td>\n",
       "      <td>내부자들</td>\n",
       "      <td>은밀하게 위대하게</td>\n",
       "      <td>나는 공무원이다</td>\n",
       "      <td>불량남녀</td>\n",
       "    </tr>\n",
       "    <tr>\n",
       "      <th>DROP_title_length</th>\n",
       "      <td>5</td>\n",
       "      <td>4</td>\n",
       "      <td>8</td>\n",
       "      <td>7</td>\n",
       "      <td>4</td>\n",
       "    </tr>\n",
       "    <tr>\n",
       "      <th>box_off_num</th>\n",
       "      <td>23_398.000</td>\n",
       "      <td>7_072_501.000</td>\n",
       "      <td>6_959_083.000</td>\n",
       "      <td>217_866.000</td>\n",
       "      <td>483_387.000</td>\n",
       "    </tr>\n",
       "    <tr>\n",
       "      <th>dir_prev_bfnum_category</th>\n",
       "      <td>True</td>\n",
       "      <td>False</td>\n",
       "      <td>False</td>\n",
       "      <td>False</td>\n",
       "      <td>False</td>\n",
       "    </tr>\n",
       "    <tr>\n",
       "      <th>dir_prev_num</th>\n",
       "      <td>0</td>\n",
       "      <td>2</td>\n",
       "      <td>4</td>\n",
       "      <td>2</td>\n",
       "      <td>1</td>\n",
       "    </tr>\n",
       "    <tr>\n",
       "      <th>director_category</th>\n",
       "      <td>cat1</td>\n",
       "      <td>cat4</td>\n",
       "      <td>cat2</td>\n",
       "      <td>cat1</td>\n",
       "      <td>cat1</td>\n",
       "    </tr>\n",
       "    <tr>\n",
       "      <th>distributor_ord</th>\n",
       "      <td>5.000</td>\n",
       "      <td>5.000</td>\n",
       "      <td>5.000</td>\n",
       "      <td>5.000</td>\n",
       "      <td>5.000</td>\n",
       "    </tr>\n",
       "    <tr>\n",
       "      <th>genre_scaled</th>\n",
       "      <td>6.343</td>\n",
       "      <td>6.355</td>\n",
       "      <td>6.343</td>\n",
       "      <td>6.077</td>\n",
       "      <td>6.077</td>\n",
       "    </tr>\n",
       "    <tr>\n",
       "      <th>num_actor</th>\n",
       "      <td>2</td>\n",
       "      <td>3</td>\n",
       "      <td>4</td>\n",
       "      <td>6</td>\n",
       "      <td>2</td>\n",
       "    </tr>\n",
       "    <tr>\n",
       "      <th>num_staff</th>\n",
       "      <td>91</td>\n",
       "      <td>387</td>\n",
       "      <td>343</td>\n",
       "      <td>20</td>\n",
       "      <td>251</td>\n",
       "    </tr>\n",
       "    <tr>\n",
       "      <th>release_month_ord</th>\n",
       "      <td>3.000</td>\n",
       "      <td>3.000</td>\n",
       "      <td>4.000</td>\n",
       "      <td>9.000</td>\n",
       "      <td>3.000</td>\n",
       "    </tr>\n",
       "    <tr>\n",
       "      <th>screening_rat_scaled</th>\n",
       "      <td>0.292</td>\n",
       "      <td>0.292</td>\n",
       "      <td>1.000</td>\n",
       "      <td>0.108</td>\n",
       "      <td>1.000</td>\n",
       "    </tr>\n",
       "    <tr>\n",
       "      <th>time_trend</th>\n",
       "      <td>0.016</td>\n",
       "      <td>0.716</td>\n",
       "      <td>0.495</td>\n",
       "      <td>0.044</td>\n",
       "      <td>0.131</td>\n",
       "    </tr>\n",
       "    <tr>\n",
       "      <th>title_(0, 1]</th>\n",
       "      <td>0</td>\n",
       "      <td>0</td>\n",
       "      <td>0</td>\n",
       "      <td>0</td>\n",
       "      <td>0</td>\n",
       "    </tr>\n",
       "    <tr>\n",
       "      <th>title_(1, 5]</th>\n",
       "      <td>1</td>\n",
       "      <td>1</td>\n",
       "      <td>0</td>\n",
       "      <td>0</td>\n",
       "      <td>1</td>\n",
       "    </tr>\n",
       "    <tr>\n",
       "      <th>title_(5, 9]</th>\n",
       "      <td>0</td>\n",
       "      <td>0</td>\n",
       "      <td>1</td>\n",
       "      <td>1</td>\n",
       "      <td>0</td>\n",
       "    </tr>\n",
       "    <tr>\n",
       "      <th>title_(9, 23]</th>\n",
       "      <td>0</td>\n",
       "      <td>0</td>\n",
       "      <td>0</td>\n",
       "      <td>0</td>\n",
       "      <td>0</td>\n",
       "    </tr>\n",
       "  </tbody>\n",
       "</table>\n",
       "</div>"
      ],
      "text/plain": [
       "                                  0             1             2           3  \\\n",
       "DROP_dir_prev_bfnum             NaN 1_161_602.500   220_775.250  23_894.000   \n",
       "DROP_director                   조병옥           우민호           장철수         구자홍   \n",
       "DROP_distributor           롯데엔터테인먼트           쇼박스           쇼박스         NEW   \n",
       "DROP_genre                       액션           느와르            액션         코미디   \n",
       "DROP_release_month               11            11            06          07   \n",
       "DROP_release_time        2012-11-22    2015-11-19    2013-06-05  2012-07-12   \n",
       "DROP_screening_rat         청소년 관람불가      청소년 관람불가       15세 관람가      전체 관람가   \n",
       "DROP_time                        96           130           123         101   \n",
       "DROP_title                   개들의 전쟁          내부자들     은밀하게 위대하게    나는 공무원이다   \n",
       "DROP_title_length                 5             4             8           7   \n",
       "box_off_num              23_398.000 7_072_501.000 6_959_083.000 217_866.000   \n",
       "dir_prev_bfnum_category        True         False         False       False   \n",
       "dir_prev_num                      0             2             4           2   \n",
       "director_category              cat1          cat4          cat2        cat1   \n",
       "distributor_ord               5.000         5.000         5.000       5.000   \n",
       "genre_scaled                  6.343         6.355         6.343       6.077   \n",
       "num_actor                         2             3             4           6   \n",
       "num_staff                        91           387           343          20   \n",
       "release_month_ord             3.000         3.000         4.000       9.000   \n",
       "screening_rat_scaled          0.292         0.292         1.000       0.108   \n",
       "time_trend                    0.016         0.716         0.495       0.044   \n",
       "title_(0, 1]                      0             0             0           0   \n",
       "title_(1, 5]                      1             1             0           0   \n",
       "title_(5, 9]                      0             0             1           1   \n",
       "title_(9, 23]                     0             0             0           0   \n",
       "\n",
       "                                  4  \n",
       "DROP_dir_prev_bfnum           1.000  \n",
       "DROP_director                   신근호  \n",
       "DROP_distributor                쇼박스  \n",
       "DROP_genre                      코미디  \n",
       "DROP_release_month               11  \n",
       "DROP_release_time        2010-11-04  \n",
       "DROP_screening_rat          15세 관람가  \n",
       "DROP_time                       108  \n",
       "DROP_title                     불량남녀  \n",
       "DROP_title_length                 4  \n",
       "box_off_num             483_387.000  \n",
       "dir_prev_bfnum_category       False  \n",
       "dir_prev_num                      1  \n",
       "director_category              cat1  \n",
       "distributor_ord               5.000  \n",
       "genre_scaled                  6.077  \n",
       "num_actor                         2  \n",
       "num_staff                       251  \n",
       "release_month_ord             3.000  \n",
       "screening_rat_scaled          1.000  \n",
       "time_trend                    0.131  \n",
       "title_(0, 1]                      0  \n",
       "title_(1, 5]                      1  \n",
       "title_(5, 9]                      0  \n",
       "title_(9, 23]                     0  "
      ]
     },
     "execution_count": 103,
     "metadata": {},
     "output_type": "execute_result"
    }
   ],
   "source": [
    "# 두가지 경우의 catergorical로 바꿀것이므로, 실제 true/false는 의미가 없어서 ~하지 않았음.\n",
    "# astype(str) 함으로서, 불리안 True를 문자열 \"True\"로 바꿔서 치환. <-- pd.get_dummies() 적용시, 문자열만 적용되는 관계로 이의 적용을 받게 하기 위함.\n",
    "total['dir_prev_bfnum_category'] = total.dir_prev_bfnum.isna().astype(str) \n",
    "\n",
    "total = total.rename(columns = {'dir_prev_bfnum':'DROP_dir_prev_bfnum'}) # 모든 처리가 끝난 후에 제거할 열 표시.\n",
    "total.sort_index(axis=1, inplace=True)\n",
    "total.head().T"
   ]
  },
  {
   "cell_type": "markdown",
   "metadata": {},
   "source": [
    "**∴** dir_prev_bfnum 컬럼은 결측치가 과반수이고, 또 다른 데이터로 이를 유추 보강할 성격의 데이터가 아니며, 그 결측유무에 따란 평균관객수의 크기 차이가 큰 점에 착안해서, 단순히 데이터의 NaN 유무만을 나타내는 0/1 관계의 Categorical data로 feature 결정."
   ]
  },
  {
   "cell_type": "markdown",
   "metadata": {},
   "source": [
    "## 3.9 dir_prev_num"
   ]
  },
  {
   "cell_type": "code",
   "execution_count": 104,
   "metadata": {},
   "outputs": [
    {
     "data": {
      "text/plain": [
       "array([0, 2, 4, 1, 3, 5, 6])"
      ]
     },
     "execution_count": 104,
     "metadata": {},
     "output_type": "execute_result"
    }
   ],
   "source": [
    "total.dir_prev_num.unique()"
   ]
  },
  {
   "cell_type": "markdown",
   "metadata": {},
   "source": [
    "- 데이터의 성격상 그 값 그대로 featue 사용"
   ]
  },
  {
   "cell_type": "code",
   "execution_count": 105,
   "metadata": {},
   "outputs": [],
   "source": [
    "total['dir_prev_num'] = total.dir_prev_num.map(lambda x: 'cat'+str(x)) # 숫자가 아니라, 문자열이 되게 하기 위한 조치."
   ]
  },
  {
   "cell_type": "code",
   "execution_count": 106,
   "metadata": {},
   "outputs": [
    {
     "data": {
      "text/html": [
       "<div>\n",
       "<style scoped>\n",
       "    .dataframe tbody tr th:only-of-type {\n",
       "        vertical-align: middle;\n",
       "    }\n",
       "\n",
       "    .dataframe tbody tr th {\n",
       "        vertical-align: top;\n",
       "    }\n",
       "\n",
       "    .dataframe thead th {\n",
       "        text-align: right;\n",
       "    }\n",
       "</style>\n",
       "<table border=\"1\" class=\"dataframe\">\n",
       "  <thead>\n",
       "    <tr style=\"text-align: right;\">\n",
       "      <th></th>\n",
       "      <th>0</th>\n",
       "      <th>1</th>\n",
       "      <th>2</th>\n",
       "      <th>3</th>\n",
       "      <th>4</th>\n",
       "    </tr>\n",
       "  </thead>\n",
       "  <tbody>\n",
       "    <tr>\n",
       "      <th>DROP_dir_prev_bfnum</th>\n",
       "      <td>NaN</td>\n",
       "      <td>1_161_602.500</td>\n",
       "      <td>220_775.250</td>\n",
       "      <td>23_894.000</td>\n",
       "      <td>1.000</td>\n",
       "    </tr>\n",
       "    <tr>\n",
       "      <th>DROP_director</th>\n",
       "      <td>조병옥</td>\n",
       "      <td>우민호</td>\n",
       "      <td>장철수</td>\n",
       "      <td>구자홍</td>\n",
       "      <td>신근호</td>\n",
       "    </tr>\n",
       "    <tr>\n",
       "      <th>DROP_distributor</th>\n",
       "      <td>롯데엔터테인먼트</td>\n",
       "      <td>쇼박스</td>\n",
       "      <td>쇼박스</td>\n",
       "      <td>NEW</td>\n",
       "      <td>쇼박스</td>\n",
       "    </tr>\n",
       "    <tr>\n",
       "      <th>DROP_genre</th>\n",
       "      <td>액션</td>\n",
       "      <td>느와르</td>\n",
       "      <td>액션</td>\n",
       "      <td>코미디</td>\n",
       "      <td>코미디</td>\n",
       "    </tr>\n",
       "    <tr>\n",
       "      <th>DROP_release_month</th>\n",
       "      <td>11</td>\n",
       "      <td>11</td>\n",
       "      <td>06</td>\n",
       "      <td>07</td>\n",
       "      <td>11</td>\n",
       "    </tr>\n",
       "    <tr>\n",
       "      <th>DROP_release_time</th>\n",
       "      <td>2012-11-22</td>\n",
       "      <td>2015-11-19</td>\n",
       "      <td>2013-06-05</td>\n",
       "      <td>2012-07-12</td>\n",
       "      <td>2010-11-04</td>\n",
       "    </tr>\n",
       "    <tr>\n",
       "      <th>DROP_screening_rat</th>\n",
       "      <td>청소년 관람불가</td>\n",
       "      <td>청소년 관람불가</td>\n",
       "      <td>15세 관람가</td>\n",
       "      <td>전체 관람가</td>\n",
       "      <td>15세 관람가</td>\n",
       "    </tr>\n",
       "    <tr>\n",
       "      <th>DROP_time</th>\n",
       "      <td>96</td>\n",
       "      <td>130</td>\n",
       "      <td>123</td>\n",
       "      <td>101</td>\n",
       "      <td>108</td>\n",
       "    </tr>\n",
       "    <tr>\n",
       "      <th>DROP_title</th>\n",
       "      <td>개들의 전쟁</td>\n",
       "      <td>내부자들</td>\n",
       "      <td>은밀하게 위대하게</td>\n",
       "      <td>나는 공무원이다</td>\n",
       "      <td>불량남녀</td>\n",
       "    </tr>\n",
       "    <tr>\n",
       "      <th>DROP_title_length</th>\n",
       "      <td>5</td>\n",
       "      <td>4</td>\n",
       "      <td>8</td>\n",
       "      <td>7</td>\n",
       "      <td>4</td>\n",
       "    </tr>\n",
       "    <tr>\n",
       "      <th>box_off_num</th>\n",
       "      <td>23_398.000</td>\n",
       "      <td>7_072_501.000</td>\n",
       "      <td>6_959_083.000</td>\n",
       "      <td>217_866.000</td>\n",
       "      <td>483_387.000</td>\n",
       "    </tr>\n",
       "    <tr>\n",
       "      <th>dir_prev_bfnum_category</th>\n",
       "      <td>True</td>\n",
       "      <td>False</td>\n",
       "      <td>False</td>\n",
       "      <td>False</td>\n",
       "      <td>False</td>\n",
       "    </tr>\n",
       "    <tr>\n",
       "      <th>dir_prev_num_category</th>\n",
       "      <td>cat0</td>\n",
       "      <td>cat2</td>\n",
       "      <td>cat4</td>\n",
       "      <td>cat2</td>\n",
       "      <td>cat1</td>\n",
       "    </tr>\n",
       "    <tr>\n",
       "      <th>director_category</th>\n",
       "      <td>cat1</td>\n",
       "      <td>cat4</td>\n",
       "      <td>cat2</td>\n",
       "      <td>cat1</td>\n",
       "      <td>cat1</td>\n",
       "    </tr>\n",
       "    <tr>\n",
       "      <th>distributor_ord</th>\n",
       "      <td>5.000</td>\n",
       "      <td>5.000</td>\n",
       "      <td>5.000</td>\n",
       "      <td>5.000</td>\n",
       "      <td>5.000</td>\n",
       "    </tr>\n",
       "    <tr>\n",
       "      <th>genre_scaled</th>\n",
       "      <td>6.343</td>\n",
       "      <td>6.355</td>\n",
       "      <td>6.343</td>\n",
       "      <td>6.077</td>\n",
       "      <td>6.077</td>\n",
       "    </tr>\n",
       "    <tr>\n",
       "      <th>num_actor</th>\n",
       "      <td>2</td>\n",
       "      <td>3</td>\n",
       "      <td>4</td>\n",
       "      <td>6</td>\n",
       "      <td>2</td>\n",
       "    </tr>\n",
       "    <tr>\n",
       "      <th>num_staff</th>\n",
       "      <td>91</td>\n",
       "      <td>387</td>\n",
       "      <td>343</td>\n",
       "      <td>20</td>\n",
       "      <td>251</td>\n",
       "    </tr>\n",
       "    <tr>\n",
       "      <th>release_month_ord</th>\n",
       "      <td>3.000</td>\n",
       "      <td>3.000</td>\n",
       "      <td>4.000</td>\n",
       "      <td>9.000</td>\n",
       "      <td>3.000</td>\n",
       "    </tr>\n",
       "    <tr>\n",
       "      <th>screening_rat_scaled</th>\n",
       "      <td>0.292</td>\n",
       "      <td>0.292</td>\n",
       "      <td>1.000</td>\n",
       "      <td>0.108</td>\n",
       "      <td>1.000</td>\n",
       "    </tr>\n",
       "    <tr>\n",
       "      <th>time_trend</th>\n",
       "      <td>0.016</td>\n",
       "      <td>0.716</td>\n",
       "      <td>0.495</td>\n",
       "      <td>0.044</td>\n",
       "      <td>0.131</td>\n",
       "    </tr>\n",
       "    <tr>\n",
       "      <th>title_(0, 1]</th>\n",
       "      <td>0</td>\n",
       "      <td>0</td>\n",
       "      <td>0</td>\n",
       "      <td>0</td>\n",
       "      <td>0</td>\n",
       "    </tr>\n",
       "    <tr>\n",
       "      <th>title_(1, 5]</th>\n",
       "      <td>1</td>\n",
       "      <td>1</td>\n",
       "      <td>0</td>\n",
       "      <td>0</td>\n",
       "      <td>1</td>\n",
       "    </tr>\n",
       "    <tr>\n",
       "      <th>title_(5, 9]</th>\n",
       "      <td>0</td>\n",
       "      <td>0</td>\n",
       "      <td>1</td>\n",
       "      <td>1</td>\n",
       "      <td>0</td>\n",
       "    </tr>\n",
       "    <tr>\n",
       "      <th>title_(9, 23]</th>\n",
       "      <td>0</td>\n",
       "      <td>0</td>\n",
       "      <td>0</td>\n",
       "      <td>0</td>\n",
       "      <td>0</td>\n",
       "    </tr>\n",
       "  </tbody>\n",
       "</table>\n",
       "</div>"
      ],
      "text/plain": [
       "                                  0             1             2           3  \\\n",
       "DROP_dir_prev_bfnum             NaN 1_161_602.500   220_775.250  23_894.000   \n",
       "DROP_director                   조병옥           우민호           장철수         구자홍   \n",
       "DROP_distributor           롯데엔터테인먼트           쇼박스           쇼박스         NEW   \n",
       "DROP_genre                       액션           느와르            액션         코미디   \n",
       "DROP_release_month               11            11            06          07   \n",
       "DROP_release_time        2012-11-22    2015-11-19    2013-06-05  2012-07-12   \n",
       "DROP_screening_rat         청소년 관람불가      청소년 관람불가       15세 관람가      전체 관람가   \n",
       "DROP_time                        96           130           123         101   \n",
       "DROP_title                   개들의 전쟁          내부자들     은밀하게 위대하게    나는 공무원이다   \n",
       "DROP_title_length                 5             4             8           7   \n",
       "box_off_num              23_398.000 7_072_501.000 6_959_083.000 217_866.000   \n",
       "dir_prev_bfnum_category        True         False         False       False   \n",
       "dir_prev_num_category          cat0          cat2          cat4        cat2   \n",
       "director_category              cat1          cat4          cat2        cat1   \n",
       "distributor_ord               5.000         5.000         5.000       5.000   \n",
       "genre_scaled                  6.343         6.355         6.343       6.077   \n",
       "num_actor                         2             3             4           6   \n",
       "num_staff                        91           387           343          20   \n",
       "release_month_ord             3.000         3.000         4.000       9.000   \n",
       "screening_rat_scaled          0.292         0.292         1.000       0.108   \n",
       "time_trend                    0.016         0.716         0.495       0.044   \n",
       "title_(0, 1]                      0             0             0           0   \n",
       "title_(1, 5]                      1             1             0           0   \n",
       "title_(5, 9]                      0             0             1           1   \n",
       "title_(9, 23]                     0             0             0           0   \n",
       "\n",
       "                                  4  \n",
       "DROP_dir_prev_bfnum           1.000  \n",
       "DROP_director                   신근호  \n",
       "DROP_distributor                쇼박스  \n",
       "DROP_genre                      코미디  \n",
       "DROP_release_month               11  \n",
       "DROP_release_time        2010-11-04  \n",
       "DROP_screening_rat          15세 관람가  \n",
       "DROP_time                       108  \n",
       "DROP_title                     불량남녀  \n",
       "DROP_title_length                 4  \n",
       "box_off_num             483_387.000  \n",
       "dir_prev_bfnum_category       False  \n",
       "dir_prev_num_category          cat1  \n",
       "director_category              cat1  \n",
       "distributor_ord               5.000  \n",
       "genre_scaled                  6.077  \n",
       "num_actor                         2  \n",
       "num_staff                       251  \n",
       "release_month_ord             3.000  \n",
       "screening_rat_scaled          1.000  \n",
       "time_trend                    0.131  \n",
       "title_(0, 1]                      0  \n",
       "title_(1, 5]                      1  \n",
       "title_(5, 9]                      0  \n",
       "title_(9, 23]                     0  "
      ]
     },
     "execution_count": 106,
     "metadata": {},
     "output_type": "execute_result"
    }
   ],
   "source": [
    "total = total.rename(columns = {'dir_prev_num':'dir_prev_num_category'}) # 모든 처리가 끝난 후에 제거할 열 표시.\n",
    "total.sort_index(axis=1, inplace=True)\n",
    "total.head().T"
   ]
  },
  {
   "cell_type": "markdown",
   "metadata": {},
   "source": [
    "**∴** 감독의 전작 참여수는 그 데이터 성격상 그대로 이용하면서 Categorical data로만 전환함."
   ]
  },
  {
   "cell_type": "markdown",
   "metadata": {},
   "source": [
    "## 3.10 num_staff"
   ]
  },
  {
   "cell_type": "code",
   "execution_count": 107,
   "metadata": {},
   "outputs": [
    {
     "data": {
      "text/plain": [
       "count   843.000\n",
       "mean    153.482\n",
       "std     164.832\n",
       "min       0.000\n",
       "25%      17.000\n",
       "50%      89.000\n",
       "75%     273.500\n",
       "max     869.000\n",
       "Name: num_staff, dtype: float64"
      ]
     },
     "execution_count": 107,
     "metadata": {},
     "output_type": "execute_result"
    }
   ],
   "source": [
    "total['num_staff'].describe().T"
   ]
  },
  {
   "cell_type": "markdown",
   "metadata": {},
   "source": [
    "**∴** 그 값 그대로 사용. (솔직히 이 부분에선 FE에 조금 지쳐서 이기도 함)"
   ]
  },
  {
   "cell_type": "markdown",
   "metadata": {},
   "source": [
    "## 3.11 num_actor"
   ]
  },
  {
   "cell_type": "code",
   "execution_count": 108,
   "metadata": {},
   "outputs": [
    {
     "data": {
      "text/plain": [
       "num_actor        0.111\n",
       "dir_prev_num     0.260\n",
       "dir_prev_bfnum   0.283\n",
       "time             0.441\n",
       "num_staff        0.544\n",
       "box_off_num      1.000\n",
       "Name: box_off_num, dtype: float64"
      ]
     },
     "execution_count": 108,
     "metadata": {},
     "output_type": "execute_result"
    }
   ],
   "source": [
    "train.corr().box_off_num.sort_values()"
   ]
  },
  {
   "cell_type": "code",
   "execution_count": 109,
   "metadata": {},
   "outputs": [
    {
     "data": {
      "text/plain": [
       "array([ 2,  3,  4,  6,  5,  1, 11,  9, 10,  7,  8, 25,  0, 14, 13, 22, 16])"
      ]
     },
     "execution_count": 109,
     "metadata": {},
     "output_type": "execute_result"
    }
   ],
   "source": [
    "total.num_actor.unique()"
   ]
  },
  {
   "cell_type": "markdown",
   "metadata": {},
   "source": [
    "- box_off_num와의 상관성이 상대적으로 가장 작은 점에 비춰, 이 항목은 feature에서 제거."
   ]
  },
  {
   "cell_type": "code",
   "execution_count": 110,
   "metadata": {},
   "outputs": [
    {
     "data": {
      "text/html": [
       "<div>\n",
       "<style scoped>\n",
       "    .dataframe tbody tr th:only-of-type {\n",
       "        vertical-align: middle;\n",
       "    }\n",
       "\n",
       "    .dataframe tbody tr th {\n",
       "        vertical-align: top;\n",
       "    }\n",
       "\n",
       "    .dataframe thead th {\n",
       "        text-align: right;\n",
       "    }\n",
       "</style>\n",
       "<table border=\"1\" class=\"dataframe\">\n",
       "  <thead>\n",
       "    <tr style=\"text-align: right;\">\n",
       "      <th></th>\n",
       "      <th>0</th>\n",
       "      <th>1</th>\n",
       "      <th>2</th>\n",
       "      <th>3</th>\n",
       "      <th>4</th>\n",
       "    </tr>\n",
       "  </thead>\n",
       "  <tbody>\n",
       "    <tr>\n",
       "      <th>DROP_dir_prev_bfnum</th>\n",
       "      <td>NaN</td>\n",
       "      <td>1_161_602.500</td>\n",
       "      <td>220_775.250</td>\n",
       "      <td>23_894.000</td>\n",
       "      <td>1.000</td>\n",
       "    </tr>\n",
       "    <tr>\n",
       "      <th>DROP_director</th>\n",
       "      <td>조병옥</td>\n",
       "      <td>우민호</td>\n",
       "      <td>장철수</td>\n",
       "      <td>구자홍</td>\n",
       "      <td>신근호</td>\n",
       "    </tr>\n",
       "    <tr>\n",
       "      <th>DROP_distributor</th>\n",
       "      <td>롯데엔터테인먼트</td>\n",
       "      <td>쇼박스</td>\n",
       "      <td>쇼박스</td>\n",
       "      <td>NEW</td>\n",
       "      <td>쇼박스</td>\n",
       "    </tr>\n",
       "    <tr>\n",
       "      <th>DROP_genre</th>\n",
       "      <td>액션</td>\n",
       "      <td>느와르</td>\n",
       "      <td>액션</td>\n",
       "      <td>코미디</td>\n",
       "      <td>코미디</td>\n",
       "    </tr>\n",
       "    <tr>\n",
       "      <th>DROP_num_actor</th>\n",
       "      <td>2</td>\n",
       "      <td>3</td>\n",
       "      <td>4</td>\n",
       "      <td>6</td>\n",
       "      <td>2</td>\n",
       "    </tr>\n",
       "    <tr>\n",
       "      <th>DROP_release_month</th>\n",
       "      <td>11</td>\n",
       "      <td>11</td>\n",
       "      <td>06</td>\n",
       "      <td>07</td>\n",
       "      <td>11</td>\n",
       "    </tr>\n",
       "    <tr>\n",
       "      <th>DROP_release_time</th>\n",
       "      <td>2012-11-22</td>\n",
       "      <td>2015-11-19</td>\n",
       "      <td>2013-06-05</td>\n",
       "      <td>2012-07-12</td>\n",
       "      <td>2010-11-04</td>\n",
       "    </tr>\n",
       "    <tr>\n",
       "      <th>DROP_screening_rat</th>\n",
       "      <td>청소년 관람불가</td>\n",
       "      <td>청소년 관람불가</td>\n",
       "      <td>15세 관람가</td>\n",
       "      <td>전체 관람가</td>\n",
       "      <td>15세 관람가</td>\n",
       "    </tr>\n",
       "    <tr>\n",
       "      <th>DROP_time</th>\n",
       "      <td>96</td>\n",
       "      <td>130</td>\n",
       "      <td>123</td>\n",
       "      <td>101</td>\n",
       "      <td>108</td>\n",
       "    </tr>\n",
       "    <tr>\n",
       "      <th>DROP_title</th>\n",
       "      <td>개들의 전쟁</td>\n",
       "      <td>내부자들</td>\n",
       "      <td>은밀하게 위대하게</td>\n",
       "      <td>나는 공무원이다</td>\n",
       "      <td>불량남녀</td>\n",
       "    </tr>\n",
       "    <tr>\n",
       "      <th>DROP_title_length</th>\n",
       "      <td>5</td>\n",
       "      <td>4</td>\n",
       "      <td>8</td>\n",
       "      <td>7</td>\n",
       "      <td>4</td>\n",
       "    </tr>\n",
       "    <tr>\n",
       "      <th>box_off_num</th>\n",
       "      <td>23_398.000</td>\n",
       "      <td>7_072_501.000</td>\n",
       "      <td>6_959_083.000</td>\n",
       "      <td>217_866.000</td>\n",
       "      <td>483_387.000</td>\n",
       "    </tr>\n",
       "    <tr>\n",
       "      <th>dir_prev_bfnum_category</th>\n",
       "      <td>True</td>\n",
       "      <td>False</td>\n",
       "      <td>False</td>\n",
       "      <td>False</td>\n",
       "      <td>False</td>\n",
       "    </tr>\n",
       "    <tr>\n",
       "      <th>dir_prev_num_category</th>\n",
       "      <td>cat0</td>\n",
       "      <td>cat2</td>\n",
       "      <td>cat4</td>\n",
       "      <td>cat2</td>\n",
       "      <td>cat1</td>\n",
       "    </tr>\n",
       "    <tr>\n",
       "      <th>director_category</th>\n",
       "      <td>cat1</td>\n",
       "      <td>cat4</td>\n",
       "      <td>cat2</td>\n",
       "      <td>cat1</td>\n",
       "      <td>cat1</td>\n",
       "    </tr>\n",
       "    <tr>\n",
       "      <th>distributor_ord</th>\n",
       "      <td>5.000</td>\n",
       "      <td>5.000</td>\n",
       "      <td>5.000</td>\n",
       "      <td>5.000</td>\n",
       "      <td>5.000</td>\n",
       "    </tr>\n",
       "    <tr>\n",
       "      <th>genre_scaled</th>\n",
       "      <td>6.343</td>\n",
       "      <td>6.355</td>\n",
       "      <td>6.343</td>\n",
       "      <td>6.077</td>\n",
       "      <td>6.077</td>\n",
       "    </tr>\n",
       "    <tr>\n",
       "      <th>num_staff</th>\n",
       "      <td>91</td>\n",
       "      <td>387</td>\n",
       "      <td>343</td>\n",
       "      <td>20</td>\n",
       "      <td>251</td>\n",
       "    </tr>\n",
       "    <tr>\n",
       "      <th>release_month_ord</th>\n",
       "      <td>3.000</td>\n",
       "      <td>3.000</td>\n",
       "      <td>4.000</td>\n",
       "      <td>9.000</td>\n",
       "      <td>3.000</td>\n",
       "    </tr>\n",
       "    <tr>\n",
       "      <th>screening_rat_scaled</th>\n",
       "      <td>0.292</td>\n",
       "      <td>0.292</td>\n",
       "      <td>1.000</td>\n",
       "      <td>0.108</td>\n",
       "      <td>1.000</td>\n",
       "    </tr>\n",
       "    <tr>\n",
       "      <th>time_trend</th>\n",
       "      <td>0.016</td>\n",
       "      <td>0.716</td>\n",
       "      <td>0.495</td>\n",
       "      <td>0.044</td>\n",
       "      <td>0.131</td>\n",
       "    </tr>\n",
       "    <tr>\n",
       "      <th>title_(0, 1]</th>\n",
       "      <td>0</td>\n",
       "      <td>0</td>\n",
       "      <td>0</td>\n",
       "      <td>0</td>\n",
       "      <td>0</td>\n",
       "    </tr>\n",
       "    <tr>\n",
       "      <th>title_(1, 5]</th>\n",
       "      <td>1</td>\n",
       "      <td>1</td>\n",
       "      <td>0</td>\n",
       "      <td>0</td>\n",
       "      <td>1</td>\n",
       "    </tr>\n",
       "    <tr>\n",
       "      <th>title_(5, 9]</th>\n",
       "      <td>0</td>\n",
       "      <td>0</td>\n",
       "      <td>1</td>\n",
       "      <td>1</td>\n",
       "      <td>0</td>\n",
       "    </tr>\n",
       "    <tr>\n",
       "      <th>title_(9, 23]</th>\n",
       "      <td>0</td>\n",
       "      <td>0</td>\n",
       "      <td>0</td>\n",
       "      <td>0</td>\n",
       "      <td>0</td>\n",
       "    </tr>\n",
       "  </tbody>\n",
       "</table>\n",
       "</div>"
      ],
      "text/plain": [
       "                                  0             1             2           3  \\\n",
       "DROP_dir_prev_bfnum             NaN 1_161_602.500   220_775.250  23_894.000   \n",
       "DROP_director                   조병옥           우민호           장철수         구자홍   \n",
       "DROP_distributor           롯데엔터테인먼트           쇼박스           쇼박스         NEW   \n",
       "DROP_genre                       액션           느와르            액션         코미디   \n",
       "DROP_num_actor                    2             3             4           6   \n",
       "DROP_release_month               11            11            06          07   \n",
       "DROP_release_time        2012-11-22    2015-11-19    2013-06-05  2012-07-12   \n",
       "DROP_screening_rat         청소년 관람불가      청소년 관람불가       15세 관람가      전체 관람가   \n",
       "DROP_time                        96           130           123         101   \n",
       "DROP_title                   개들의 전쟁          내부자들     은밀하게 위대하게    나는 공무원이다   \n",
       "DROP_title_length                 5             4             8           7   \n",
       "box_off_num              23_398.000 7_072_501.000 6_959_083.000 217_866.000   \n",
       "dir_prev_bfnum_category        True         False         False       False   \n",
       "dir_prev_num_category          cat0          cat2          cat4        cat2   \n",
       "director_category              cat1          cat4          cat2        cat1   \n",
       "distributor_ord               5.000         5.000         5.000       5.000   \n",
       "genre_scaled                  6.343         6.355         6.343       6.077   \n",
       "num_staff                        91           387           343          20   \n",
       "release_month_ord             3.000         3.000         4.000       9.000   \n",
       "screening_rat_scaled          0.292         0.292         1.000       0.108   \n",
       "time_trend                    0.016         0.716         0.495       0.044   \n",
       "title_(0, 1]                      0             0             0           0   \n",
       "title_(1, 5]                      1             1             0           0   \n",
       "title_(5, 9]                      0             0             1           1   \n",
       "title_(9, 23]                     0             0             0           0   \n",
       "\n",
       "                                  4  \n",
       "DROP_dir_prev_bfnum           1.000  \n",
       "DROP_director                   신근호  \n",
       "DROP_distributor                쇼박스  \n",
       "DROP_genre                      코미디  \n",
       "DROP_num_actor                    2  \n",
       "DROP_release_month               11  \n",
       "DROP_release_time        2010-11-04  \n",
       "DROP_screening_rat          15세 관람가  \n",
       "DROP_time                       108  \n",
       "DROP_title                     불량남녀  \n",
       "DROP_title_length                 4  \n",
       "box_off_num             483_387.000  \n",
       "dir_prev_bfnum_category       False  \n",
       "dir_prev_num_category          cat1  \n",
       "director_category              cat1  \n",
       "distributor_ord               5.000  \n",
       "genre_scaled                  6.077  \n",
       "num_staff                       251  \n",
       "release_month_ord             3.000  \n",
       "screening_rat_scaled          1.000  \n",
       "time_trend                    0.131  \n",
       "title_(0, 1]                      0  \n",
       "title_(1, 5]                      1  \n",
       "title_(5, 9]                      0  \n",
       "title_(9, 23]                     0  "
      ]
     },
     "execution_count": 110,
     "metadata": {},
     "output_type": "execute_result"
    }
   ],
   "source": [
    "total = total.rename(columns = {'num_actor':'DROP_num_actor'}) # 모든 처리가 끝난 후에 제거할 열 표시.\n",
    "total.sort_index(axis=1, inplace=True)\n",
    "total.head().T"
   ]
  },
  {
   "cell_type": "markdown",
   "metadata": {},
   "source": [
    "## 3.12 feature cleanup"
   ]
  },
  {
   "cell_type": "markdown",
   "metadata": {},
   "source": [
    "- 앞선 과정에서 필요없는 컬럼은 \"DROP_\"을 이름앞에 붙였는데, 이제 이 삭제할 컬럼명을 리스트로 추출한다."
   ]
  },
  {
   "cell_type": "code",
   "execution_count": 111,
   "metadata": {},
   "outputs": [
    {
     "data": {
      "text/plain": [
       "['DROP_dir_prev_bfnum',\n",
       " 'DROP_director',\n",
       " 'DROP_distributor',\n",
       " 'DROP_genre',\n",
       " 'DROP_num_actor',\n",
       " 'DROP_release_month',\n",
       " 'DROP_release_time',\n",
       " 'DROP_screening_rat',\n",
       " 'DROP_time',\n",
       " 'DROP_title',\n",
       " 'DROP_title_length']"
      ]
     },
     "execution_count": 111,
     "metadata": {},
     "output_type": "execute_result"
    }
   ],
   "source": [
    "drop_cols = []\n",
    "for col in total.columns.values:\n",
    "    if 'DROP_' in col: drop_cols.append(col) \n",
    "drop_cols"
   ]
  },
  {
   "cell_type": "markdown",
   "metadata": {},
   "source": [
    "- 실제 삭제는 이 이후에 할 것으로, 여기선 삭제 리스트만 준비.\n",
    "---"
   ]
  },
  {
   "cell_type": "markdown",
   "metadata": {},
   "source": [
    "- **xgboost** 사용시에 column 이름에 **[, ] or <** 를 허용치 않는 문제가 러닝과정에서 발생해서, 여기서 해당 컬럼명을 수정."
   ]
  },
  {
   "cell_type": "code",
   "execution_count": 112,
   "metadata": {},
   "outputs": [
    {
     "data": {
      "text/html": [
       "<div>\n",
       "<style scoped>\n",
       "    .dataframe tbody tr th:only-of-type {\n",
       "        vertical-align: middle;\n",
       "    }\n",
       "\n",
       "    .dataframe tbody tr th {\n",
       "        vertical-align: top;\n",
       "    }\n",
       "\n",
       "    .dataframe thead th {\n",
       "        text-align: right;\n",
       "    }\n",
       "</style>\n",
       "<table border=\"1\" class=\"dataframe\">\n",
       "  <thead>\n",
       "    <tr style=\"text-align: right;\">\n",
       "      <th></th>\n",
       "      <th>0</th>\n",
       "      <th>1</th>\n",
       "      <th>2</th>\n",
       "      <th>3</th>\n",
       "      <th>4</th>\n",
       "    </tr>\n",
       "  </thead>\n",
       "  <tbody>\n",
       "    <tr>\n",
       "      <th>DROP_dir_prev_bfnum</th>\n",
       "      <td>NaN</td>\n",
       "      <td>1_161_602.500</td>\n",
       "      <td>220_775.250</td>\n",
       "      <td>23_894.000</td>\n",
       "      <td>1.000</td>\n",
       "    </tr>\n",
       "    <tr>\n",
       "      <th>DROP_director</th>\n",
       "      <td>조병옥</td>\n",
       "      <td>우민호</td>\n",
       "      <td>장철수</td>\n",
       "      <td>구자홍</td>\n",
       "      <td>신근호</td>\n",
       "    </tr>\n",
       "    <tr>\n",
       "      <th>DROP_distributor</th>\n",
       "      <td>롯데엔터테인먼트</td>\n",
       "      <td>쇼박스</td>\n",
       "      <td>쇼박스</td>\n",
       "      <td>NEW</td>\n",
       "      <td>쇼박스</td>\n",
       "    </tr>\n",
       "    <tr>\n",
       "      <th>DROP_genre</th>\n",
       "      <td>액션</td>\n",
       "      <td>느와르</td>\n",
       "      <td>액션</td>\n",
       "      <td>코미디</td>\n",
       "      <td>코미디</td>\n",
       "    </tr>\n",
       "    <tr>\n",
       "      <th>DROP_num_actor</th>\n",
       "      <td>2</td>\n",
       "      <td>3</td>\n",
       "      <td>4</td>\n",
       "      <td>6</td>\n",
       "      <td>2</td>\n",
       "    </tr>\n",
       "    <tr>\n",
       "      <th>DROP_release_month</th>\n",
       "      <td>11</td>\n",
       "      <td>11</td>\n",
       "      <td>06</td>\n",
       "      <td>07</td>\n",
       "      <td>11</td>\n",
       "    </tr>\n",
       "    <tr>\n",
       "      <th>DROP_release_time</th>\n",
       "      <td>2012-11-22</td>\n",
       "      <td>2015-11-19</td>\n",
       "      <td>2013-06-05</td>\n",
       "      <td>2012-07-12</td>\n",
       "      <td>2010-11-04</td>\n",
       "    </tr>\n",
       "    <tr>\n",
       "      <th>DROP_screening_rat</th>\n",
       "      <td>청소년 관람불가</td>\n",
       "      <td>청소년 관람불가</td>\n",
       "      <td>15세 관람가</td>\n",
       "      <td>전체 관람가</td>\n",
       "      <td>15세 관람가</td>\n",
       "    </tr>\n",
       "    <tr>\n",
       "      <th>DROP_time</th>\n",
       "      <td>96</td>\n",
       "      <td>130</td>\n",
       "      <td>123</td>\n",
       "      <td>101</td>\n",
       "      <td>108</td>\n",
       "    </tr>\n",
       "    <tr>\n",
       "      <th>DROP_title</th>\n",
       "      <td>개들의 전쟁</td>\n",
       "      <td>내부자들</td>\n",
       "      <td>은밀하게 위대하게</td>\n",
       "      <td>나는 공무원이다</td>\n",
       "      <td>불량남녀</td>\n",
       "    </tr>\n",
       "    <tr>\n",
       "      <th>DROP_title_length</th>\n",
       "      <td>5</td>\n",
       "      <td>4</td>\n",
       "      <td>8</td>\n",
       "      <td>7</td>\n",
       "      <td>4</td>\n",
       "    </tr>\n",
       "    <tr>\n",
       "      <th>box_off_num</th>\n",
       "      <td>23_398.000</td>\n",
       "      <td>7_072_501.000</td>\n",
       "      <td>6_959_083.000</td>\n",
       "      <td>217_866.000</td>\n",
       "      <td>483_387.000</td>\n",
       "    </tr>\n",
       "    <tr>\n",
       "      <th>dir_prev_bfnum_category</th>\n",
       "      <td>True</td>\n",
       "      <td>False</td>\n",
       "      <td>False</td>\n",
       "      <td>False</td>\n",
       "      <td>False</td>\n",
       "    </tr>\n",
       "    <tr>\n",
       "      <th>dir_prev_num_category</th>\n",
       "      <td>cat0</td>\n",
       "      <td>cat2</td>\n",
       "      <td>cat4</td>\n",
       "      <td>cat2</td>\n",
       "      <td>cat1</td>\n",
       "    </tr>\n",
       "    <tr>\n",
       "      <th>director_category</th>\n",
       "      <td>cat1</td>\n",
       "      <td>cat4</td>\n",
       "      <td>cat2</td>\n",
       "      <td>cat1</td>\n",
       "      <td>cat1</td>\n",
       "    </tr>\n",
       "    <tr>\n",
       "      <th>distributor_ord</th>\n",
       "      <td>5.000</td>\n",
       "      <td>5.000</td>\n",
       "      <td>5.000</td>\n",
       "      <td>5.000</td>\n",
       "      <td>5.000</td>\n",
       "    </tr>\n",
       "    <tr>\n",
       "      <th>genre_scaled</th>\n",
       "      <td>6.343</td>\n",
       "      <td>6.355</td>\n",
       "      <td>6.343</td>\n",
       "      <td>6.077</td>\n",
       "      <td>6.077</td>\n",
       "    </tr>\n",
       "    <tr>\n",
       "      <th>num_staff</th>\n",
       "      <td>91</td>\n",
       "      <td>387</td>\n",
       "      <td>343</td>\n",
       "      <td>20</td>\n",
       "      <td>251</td>\n",
       "    </tr>\n",
       "    <tr>\n",
       "      <th>release_month_ord</th>\n",
       "      <td>3.000</td>\n",
       "      <td>3.000</td>\n",
       "      <td>4.000</td>\n",
       "      <td>9.000</td>\n",
       "      <td>3.000</td>\n",
       "    </tr>\n",
       "    <tr>\n",
       "      <th>screening_rat_scaled</th>\n",
       "      <td>0.292</td>\n",
       "      <td>0.292</td>\n",
       "      <td>1.000</td>\n",
       "      <td>0.108</td>\n",
       "      <td>1.000</td>\n",
       "    </tr>\n",
       "    <tr>\n",
       "      <th>time_trend</th>\n",
       "      <td>0.016</td>\n",
       "      <td>0.716</td>\n",
       "      <td>0.495</td>\n",
       "      <td>0.044</td>\n",
       "      <td>0.131</td>\n",
       "    </tr>\n",
       "    <tr>\n",
       "      <th>title_(0, 1_</th>\n",
       "      <td>0</td>\n",
       "      <td>0</td>\n",
       "      <td>0</td>\n",
       "      <td>0</td>\n",
       "      <td>0</td>\n",
       "    </tr>\n",
       "    <tr>\n",
       "      <th>title_(1, 5_</th>\n",
       "      <td>1</td>\n",
       "      <td>1</td>\n",
       "      <td>0</td>\n",
       "      <td>0</td>\n",
       "      <td>1</td>\n",
       "    </tr>\n",
       "    <tr>\n",
       "      <th>title_(5, 9_</th>\n",
       "      <td>0</td>\n",
       "      <td>0</td>\n",
       "      <td>1</td>\n",
       "      <td>1</td>\n",
       "      <td>0</td>\n",
       "    </tr>\n",
       "    <tr>\n",
       "      <th>title_(9, 23_</th>\n",
       "      <td>0</td>\n",
       "      <td>0</td>\n",
       "      <td>0</td>\n",
       "      <td>0</td>\n",
       "      <td>0</td>\n",
       "    </tr>\n",
       "  </tbody>\n",
       "</table>\n",
       "</div>"
      ],
      "text/plain": [
       "                                  0             1             2           3  \\\n",
       "DROP_dir_prev_bfnum             NaN 1_161_602.500   220_775.250  23_894.000   \n",
       "DROP_director                   조병옥           우민호           장철수         구자홍   \n",
       "DROP_distributor           롯데엔터테인먼트           쇼박스           쇼박스         NEW   \n",
       "DROP_genre                       액션           느와르            액션         코미디   \n",
       "DROP_num_actor                    2             3             4           6   \n",
       "DROP_release_month               11            11            06          07   \n",
       "DROP_release_time        2012-11-22    2015-11-19    2013-06-05  2012-07-12   \n",
       "DROP_screening_rat         청소년 관람불가      청소년 관람불가       15세 관람가      전체 관람가   \n",
       "DROP_time                        96           130           123         101   \n",
       "DROP_title                   개들의 전쟁          내부자들     은밀하게 위대하게    나는 공무원이다   \n",
       "DROP_title_length                 5             4             8           7   \n",
       "box_off_num              23_398.000 7_072_501.000 6_959_083.000 217_866.000   \n",
       "dir_prev_bfnum_category        True         False         False       False   \n",
       "dir_prev_num_category          cat0          cat2          cat4        cat2   \n",
       "director_category              cat1          cat4          cat2        cat1   \n",
       "distributor_ord               5.000         5.000         5.000       5.000   \n",
       "genre_scaled                  6.343         6.355         6.343       6.077   \n",
       "num_staff                        91           387           343          20   \n",
       "release_month_ord             3.000         3.000         4.000       9.000   \n",
       "screening_rat_scaled          0.292         0.292         1.000       0.108   \n",
       "time_trend                    0.016         0.716         0.495       0.044   \n",
       "title_(0, 1_                      0             0             0           0   \n",
       "title_(1, 5_                      1             1             0           0   \n",
       "title_(5, 9_                      0             0             1           1   \n",
       "title_(9, 23_                     0             0             0           0   \n",
       "\n",
       "                                  4  \n",
       "DROP_dir_prev_bfnum           1.000  \n",
       "DROP_director                   신근호  \n",
       "DROP_distributor                쇼박스  \n",
       "DROP_genre                      코미디  \n",
       "DROP_num_actor                    2  \n",
       "DROP_release_month               11  \n",
       "DROP_release_time        2010-11-04  \n",
       "DROP_screening_rat          15세 관람가  \n",
       "DROP_time                       108  \n",
       "DROP_title                     불량남녀  \n",
       "DROP_title_length                 4  \n",
       "box_off_num             483_387.000  \n",
       "dir_prev_bfnum_category       False  \n",
       "dir_prev_num_category          cat1  \n",
       "director_category              cat1  \n",
       "distributor_ord               5.000  \n",
       "genre_scaled                  6.077  \n",
       "num_staff                       251  \n",
       "release_month_ord             3.000  \n",
       "screening_rat_scaled          1.000  \n",
       "time_trend                    0.131  \n",
       "title_(0, 1_                      0  \n",
       "title_(1, 5_                      1  \n",
       "title_(5, 9_                      0  \n",
       "title_(9, 23_                     0  "
      ]
     },
     "execution_count": 112,
     "metadata": {},
     "output_type": "execute_result"
    }
   ],
   "source": [
    "regex = re.compile(r\"\\[|\\]|<\", re.IGNORECASE)\n",
    "total.columns = [regex.sub(\"_\", col) if any(x in str(col) for x in set(('[', ']', '<'))) else col for col in total.columns.values]\n",
    "total.head().T"
   ]
  },
  {
   "cell_type": "markdown",
   "metadata": {},
   "source": [
    "# 4. Data preparation"
   ]
  },
  {
   "cell_type": "markdown",
   "metadata": {},
   "source": [
    "- 여러 번의 이전(이 노트북 이전의) 러닝 결과가 좋지 못해서, 착안한 한 방법 적용\n",
    "- 즉 타겟값인 관객수가 그 성질상 범위가 매우 큰 값이었음. 가령 집값 예측 같은 경우에 발생할 수 있는 타겟집값의 범위 같은 것에 비교해 상당히 편차가 심함.\n",
    "- 기존에는 이를 feature/model 들의 선택/조합/러닝을 바탕해서, 하나의 머신으로 타겟값 예측 범위를 모두 커버할려고 시도했으나, 결과가 좋지 못해서 생각한 건,\n",
    "- train/test 데이터의 타겟값(관객수)를 어떤 적절한 기준을 바탕으로 큰 그룹과 작은 그룹, 두 그룹으로 나누고 그 각각에 대해 다른 러닝(같은 모델의 다른 패러미터 혹은 다른 모델, 혹은 그냥 별개로 러닝되는 동일 모델 2개 등)을 시키면, 그 타겟편차가 줄어들지 않을까 하는 아이디어다. 생각같아서는 관객수가 낮은 그룹, 중간, 높은 그룹으로 나누고 싶었으나, 너무 복잡한거 같아서 일단 두 그룹으로 나누기로 함.\n",
    "- 문제는 train/test 데이터를 어떤 기준 컬럼(들)으로 둘을 나눌 것이냐 인데, 조건은 결측치가 없고, 나름 기준컬럼이 관객수의 고저에 영향이 큰 것을 선택하는 것인데, 결과적으로는 배급사(distributor)로 정했다. 배급사 컬럼을 기준으로 정한 것은 순전히 휴리스틱한 결정임.\n"
   ]
  },
  {
   "cell_type": "code",
   "execution_count": 113,
   "metadata": {},
   "outputs": [],
   "source": [
    "train2 = total[~total.box_off_num.isna()] # train2/test2는 FE가 적용된 데이터프레임. train/test는 그냥 원본.\n",
    "test2 = total[total.box_off_num.isna()]"
   ]
  },
  {
   "cell_type": "code",
   "execution_count": 114,
   "metadata": {},
   "outputs": [
    {
     "data": {
      "image/png": "[encoded data removed]",
      "text/plain": [
       "<Figure size 432x288 with 1 Axes>"
      ]
     },
     "metadata": {
      "needs_background": "light"
     },
     "output_type": "display_data"
    },
    {
     "name": "stdout",
     "output_type": "stream",
     "text": [
      "        box_off_num\n",
      "count       147.000\n",
      "mean    207_063.657\n",
      "std     548_692.403\n",
      "min           2.000\n",
      "25%       1_036.143\n",
      "50%       4_997.500\n",
      "75%      37_187.750\n",
      "max   3_332_953.929\n"
     ]
    }
   ],
   "source": [
    "dist_boxoff = train2.groupby('DROP_distributor').agg({'box_off_num':'mean'}).sort_values('box_off_num') \n",
    "plt.scatter(dist_boxoff.index, dist_boxoff.box_off_num, alpha=.1)\n",
    "plt.title('배급사별 평균관객수 분포')\n",
    "plt.show()\n",
    "print(dist_boxoff.describe())"
   ]
  },
  {
   "cell_type": "code",
   "execution_count": 115,
   "metadata": {},
   "outputs": [
    {
     "name": "stdout",
     "output_type": "stream",
     "text": [
      "10 69\n",
      "15 116\n",
      "20 188\n",
      "25 264\n",
      "30 340\n",
      "35 416\n",
      "40 495\n",
      "45 581\n",
      "50 670\n",
      "55 763\n",
      "60 913\n",
      "65 1097\n",
      "70 1289\n",
      "75 1524\n",
      "80 1774\n",
      "85 2099\n",
      "90 2477\n",
      "95 2931\n",
      "100 3605\n",
      "105 4561\n",
      "110 5897\n",
      "115 7600\n",
      "120 12187\n",
      "125 23959\n",
      "130 43271\n",
      "135 68623\n",
      "140 103017\n",
      "145 165431\n"
     ]
    }
   ],
   "source": [
    "for x in range(10, len(dist_boxoff),5):\n",
    "    print(x, int(dist_boxoff.iloc[:x]['box_off_num'].mean()))"
   ]
  },
  {
   "cell_type": "markdown",
   "metadata": {},
   "source": [
    "- 배급사별 평균관객수의 증가추세를 5배급사 간격으로 숫자로 표시해봄.\n",
    "---"
   ]
  },
  {
   "cell_type": "markdown",
   "metadata": {},
   "source": [
    "- 여러번의 시행착오로 선택한 결과는 이 \"평균관객수/배급사별\"을 quantile 기준으로 적절히(선행적으로는 이값 기준으로 평균관객수가 낮은값/높은값을 잘 나누는 어떤 한 값이고, 결과적으로는 러닝결과 에러가 작아지는 값) 값을 기준으로 나누고, 그를 바탕으로 소위 소규모(소 평균관객) 배급사 목록과, 대규모 배급사 목록을 구한다.\n",
    "- 이후 이 두개의 대/소 배급사 목록을 바탕으로 train 데이터를 두개로 나눠서 각각 머신을 러닝시칸다.\n",
    "- 이때 각기 다른 머신을 적용할 수도, 혹은 같은 머신의 다른 패러미터 적용으로 러닝시킬수도 있는데, 이번에는 같은 모델/같은 패러미터로 러닝시켰다.\n",
    "- 예측시에는 test 데이터셋의 배급사 항목을 기준으로, 다시 두 test 데이터셋으로 나눠서, 각각에 맞는 러닝된 머신으로 예측 결과를 얻는다.\n",
    "- 최종적으로 얻어진 두 세트의 타겟값을 적절히 원래 test 데이터셋의 순에 맞게 배치하면 된다."
   ]
  },
  {
   "cell_type": "markdown",
   "metadata": {},
   "source": [
    "---"
   ]
  },
  {
   "cell_type": "code",
   "execution_count": 116,
   "metadata": {},
   "outputs": [],
   "source": [
    "def show_big_small_distributor(big_limit_percent = 0.75):\n",
    "    \"\"\"\n",
    "    dist_boxoff: 배급사별 평균관객수(box_off_num에 할당)를 담은 데이터프레임.\n",
    "    big_limit_percent: 이 평균관객수를 대/소로 구분할 퍼센티지 값. 디폴트 0.75\n",
    "    \"\"\"\n",
    "    q_limit = dist_boxoff.box_off_num.quantile(big_limit_percent)\n",
    "    print('- 배급사별 평균관객수가', q_limit, '명 이상이면 대형 배급사로 구분, (', big_limit_percent, '% )', '\\n')\n",
    "\n",
    "    print('- 대형 배급사별 평균관객수 정보')\n",
    "    print(dist_boxoff[dist_boxoff.box_off_num > q_limit].describe())\n",
    "    print('\\n- 소형 배급사별, 평균관객수 정보')\n",
    "    print(dist_boxoff[dist_boxoff.box_off_num <= q_limit].describe())\n",
    "    \n",
    "    print('=' * 60)\n",
    "    \n",
    "    # set_big_dist, set_sma_dist는 각각 대/소 배급사 목록 set.\n",
    "    set_big_dist = set(dist_boxoff[dist_boxoff.box_off_num > q_limit].index)\n",
    "    set_sma_dist = set(dist_boxoff[dist_boxoff.box_off_num <= q_limit].index)\n",
    "\n",
    "    # 배급사이름이 set_big_dist 안에 포함된다는 'big' 컬럼에 True를 대입한다.\n",
    "    train2['big'] = train2['DROP_distributor'].apply(lambda x: x in set_big_dist)\n",
    "    \n",
    "    print('- train2 데이터셋을 대형 배급사로 모은 후 구한 평균관객수 정보')\n",
    "    print(train2[train2.big].box_off_num.describe())\n",
    "    print('- train2 데이터셋을 소형 배급사로 모은 후 구한 평균관객수 정보')\n",
    "    print(train2[~train2.big].box_off_num.describe())\n",
    "    \n",
    "    return set_big_dist, set_sma_dist"
   ]
  },
  {
   "cell_type": "markdown",
   "metadata": {},
   "source": [
    "- 앞선 \"배급사별 평균관객수 분포\" 그래프를 봐도, 많은 수의 배급사의 평균관객수가 매우 낮은 부분에 몰려있다.\n",
    "- 중간값은 고사하고, 75%의 값이 4만명(37_187.750)이 채 되지 않는 분포다.\n",
    "- 이때 대소를 나눌 quantile 값으로 mean/median 등을 선택하면, 예상컨대 소 배급사 데이터는 큰 오차없이 학습할 것이고, 대 배급사 데이터는 큰 오차를 낼 것이다.\n",
    "- 빈도는 소 배급사 데이터가 많지만, 타겟값 자체가 워낙 큰 대 배급사의 경우엔 오차값 상승에 큰 영향을 미친다.\n",
    "- 결론적으로는 이 적절한 나눔값은 test 데이터 예측을 통한 피드백으로 결정될 수 밖에 없다.\n",
    "- 이번 컴피티션에선 0.9 기준이 낮은 에러를 보였다.\n",
    "---"
   ]
  },
  {
   "cell_type": "markdown",
   "metadata": {},
   "source": [
    "- BIG_PERCENTILE의 값은 실제 러닝에서는 모델의 하이퍼패러미터 같은 역할을 하게 된다. 이 값을 0.5~0.95까지 조금씩 변화시켜가면서 예측/제출 반복. "
   ]
  },
  {
   "cell_type": "code",
   "execution_count": 117,
   "metadata": {},
   "outputs": [
    {
     "name": "stdout",
     "output_type": "stream",
     "text": [
      "- 배급사별 평균관객수가 709380.0000000002 명 이상이면 대형 배급사로 구분, ( 0.9 % ) \n",
      "\n",
      "- 대형 배급사별 평균관객수 정보\n",
      "        box_off_num\n",
      "count        15.000\n",
      "mean  1_561_626.042\n",
      "std     873_765.321\n",
      "min     723_307.500\n",
      "25%     873_239.083\n",
      "50%   1_214_237.000\n",
      "75%   2_074_178.174\n",
      "max   3_332_953.929\n",
      "\n",
      "- 소형 배급사별, 평균관객수 정보\n",
      "       box_off_num\n",
      "count      132.000\n",
      "mean    53_136.114\n",
      "std    141_328.813\n",
      "min          2.000\n",
      "25%        866.500\n",
      "50%      3_550.083\n",
      "75%     16_995.875\n",
      "max    700_095.000\n",
      "============================================================\n",
      "- train2 데이터셋을 대형 배급사로 모은 후 구한 평균관객수 정보\n",
      "count          208.000\n",
      "mean     1_908_947.418\n",
      "std      2_702_457.052\n",
      "min             74.000\n",
      "25%        246_966.000\n",
      "50%        974_395.000\n",
      "75%      2_192_338.250\n",
      "max     14_262_766.000\n",
      "Name: box_off_num, dtype: float64\n",
      "- train2 데이터셋을 소형 배급사로 모은 후 구한 평균관객수 정보\n",
      "count         392.000\n",
      "mean       71_040.786\n",
      "std       280_708.315\n",
      "min             1.000\n",
      "25%           745.000\n",
      "50%         2_634.000\n",
      "75%        14_967.500\n",
      "max     2_963_652.000\n",
      "Name: box_off_num, dtype: float64\n"
     ]
    }
   ],
   "source": [
    "BIG_PERCENTILE = 0.90\n",
    "\n",
    "set_big_dist, set_sma_dist = show_big_small_distributor(big_limit_percent=BIG_PERCENTILE)"
   ]
  },
  {
   "cell_type": "markdown",
   "metadata": {},
   "source": [
    "- 위 output에서 상단과 하단(=== 기준)의 값들(가령 평균 등)이 차이가 나는데, 상단은 정보를 구한 각 항목이 배급사별 평균관객수가 바탕이다. 따라서 상단에선 대형의 경우 count(빈도수)가 15개(배급사)이고, 소형은 132개로 각각 <배급사>가 기준이 된다.\n",
    "- 반면 하단의 정보는, 한차례 가공(dist_boxoff 데이터프레임)된 배급사별 평균관중수에서 대소로 나눈 결과(상단)가 아니라, 원래 train2 데이터프레임에서 각 배급사의 대소여부에 따른 평균관객수를 표시한 것이다. 따라서 실제 한 배급사가 다수의 영화에 나타날 수 있으므로, 하단에서는 대형은 208개, 소형은 392개의 <개별영화>가 기준이 된다.\n",
    "- 그냥, 상단은 groupby('배급사'), 하단은 groupy('개별영화')로 먼저 그룹지은 후에 다시 그 각각을 groupby(관객수)로 모아서 산술정보를 계산한 식이다.\n",
    "---"
   ]
  },
  {
   "cell_type": "code",
   "execution_count": 118,
   "metadata": {},
   "outputs": [
    {
     "name": "stdout",
     "output_type": "stream",
     "text": [
      "- test2 데이터셋을 대형 배급사로 모은 후, 구한 평균관객수 정보\n",
      "count        87\n",
      "unique        9\n",
      "top       CJCGV\n",
      "freq         32\n",
      "Name: DROP_distributor, dtype: object\n",
      "\n",
      "- test2 데이터셋을 소형 배급사로 모은 후, 구한 평균관객수 정보\n",
      "count        156\n",
      "unique        74\n",
      "top       마운틴픽쳐스\n",
      "freq          15\n",
      "Name: DROP_distributor, dtype: object\n"
     ]
    }
   ],
   "source": [
    "test_set_dist = set(test2.DROP_distributor.unique())\n",
    "test_set_big_dist = set_big_dist & test_set_dist\n",
    "# test_set_sma_dist = set_sma_dist & test_set_dist\n",
    "test2['big'] = test2['DROP_distributor'].apply(lambda x: x in test_set_big_dist)\n",
    "\n",
    "print('- test2 데이터셋을 대형 배급사로 모은 후, 구한 평균관객수 정보')\n",
    "print(test2[test2.big].DROP_distributor.describe())\n",
    "print('\\n- test2 데이터셋을 소형 배급사로 모은 후, 구한 평균관객수 정보')\n",
    "print(test2[~test2.big].DROP_distributor.describe())"
   ]
  },
  {
   "cell_type": "markdown",
   "metadata": {},
   "source": [
    "- test2 데이터셋에서 대소 배급사를 구분할 땐, train2에서의 대형 배급사에 속하는 배급사만 \"대형\"으로 구분하고, 나머지(train2에서의 소형, 혹은 train2에 없던 새로운 배급사인 경우)는 모두 소형으로 간주.\n",
    "---"
   ]
  },
  {
   "cell_type": "markdown",
   "metadata": {},
   "source": [
    "- train2/test2에는 'big' 컬럼이 대소배급사 구분값을 가지고 있다."
   ]
  },
  {
   "cell_type": "code",
   "execution_count": 119,
   "metadata": {},
   "outputs": [
    {
     "data": {
      "text/html": [
       "<div>\n",
       "<style scoped>\n",
       "    .dataframe tbody tr th:only-of-type {\n",
       "        vertical-align: middle;\n",
       "    }\n",
       "\n",
       "    .dataframe tbody tr th {\n",
       "        vertical-align: top;\n",
       "    }\n",
       "\n",
       "    .dataframe thead th {\n",
       "        text-align: right;\n",
       "    }\n",
       "</style>\n",
       "<table border=\"1\" class=\"dataframe\">\n",
       "  <thead>\n",
       "    <tr style=\"text-align: right;\">\n",
       "      <th></th>\n",
       "      <th>838</th>\n",
       "      <th>839</th>\n",
       "      <th>840</th>\n",
       "      <th>841</th>\n",
       "      <th>842</th>\n",
       "    </tr>\n",
       "  </thead>\n",
       "  <tbody>\n",
       "    <tr>\n",
       "      <th>DROP_dir_prev_bfnum</th>\n",
       "      <td>2_590.000</td>\n",
       "      <td>NaN</td>\n",
       "      <td>NaN</td>\n",
       "      <td>50_699.000</td>\n",
       "      <td>NaN</td>\n",
       "    </tr>\n",
       "    <tr>\n",
       "      <th>DROP_director</th>\n",
       "      <td>안슬기</td>\n",
       "      <td>이일하</td>\n",
       "      <td>안용훈</td>\n",
       "      <td>송동윤</td>\n",
       "      <td>이전</td>\n",
       "    </tr>\n",
       "    <tr>\n",
       "      <th>DROP_distributor</th>\n",
       "      <td>디씨드</td>\n",
       "      <td>인디스토리</td>\n",
       "      <td>컨텐츠온미디어</td>\n",
       "      <td>씨타마운틴픽쳐스</td>\n",
       "      <td>케이알씨지</td>\n",
       "    </tr>\n",
       "    <tr>\n",
       "      <th>DROP_genre</th>\n",
       "      <td>드라마</td>\n",
       "      <td>다큐멘터리</td>\n",
       "      <td>느와르</td>\n",
       "      <td>드라마</td>\n",
       "      <td>멜로/로맨스</td>\n",
       "    </tr>\n",
       "    <tr>\n",
       "      <th>DROP_num_actor</th>\n",
       "      <td>4</td>\n",
       "      <td>2</td>\n",
       "      <td>4</td>\n",
       "      <td>7</td>\n",
       "      <td>4</td>\n",
       "    </tr>\n",
       "    <tr>\n",
       "      <th>DROP_release_month</th>\n",
       "      <td>11</td>\n",
       "      <td>10</td>\n",
       "      <td>10</td>\n",
       "      <td>10</td>\n",
       "      <td>10</td>\n",
       "    </tr>\n",
       "    <tr>\n",
       "      <th>DROP_release_time</th>\n",
       "      <td>2015-11-19</td>\n",
       "      <td>2015-10-29</td>\n",
       "      <td>2015-10-28</td>\n",
       "      <td>2015-10-22</td>\n",
       "      <td>2015-10-22</td>\n",
       "    </tr>\n",
       "    <tr>\n",
       "      <th>DROP_screening_rat</th>\n",
       "      <td>15세 관람가</td>\n",
       "      <td>12세 관람가</td>\n",
       "      <td>청소년 관람불가</td>\n",
       "      <td>청소년 관람불가</td>\n",
       "      <td>청소년 관람불가</td>\n",
       "    </tr>\n",
       "    <tr>\n",
       "      <th>DROP_time</th>\n",
       "      <td>78</td>\n",
       "      <td>86</td>\n",
       "      <td>107</td>\n",
       "      <td>102</td>\n",
       "      <td>76</td>\n",
       "    </tr>\n",
       "    <tr>\n",
       "      <th>DROP_title</th>\n",
       "      <td>해에게서 소년에게</td>\n",
       "      <td>울보 권투부</td>\n",
       "      <td>어떤살인</td>\n",
       "      <td>말하지 못한 비밀</td>\n",
       "      <td>조선안방 스캔들-칠거지악 2</td>\n",
       "    </tr>\n",
       "    <tr>\n",
       "      <th>DROP_title_length</th>\n",
       "      <td>8</td>\n",
       "      <td>5</td>\n",
       "      <td>4</td>\n",
       "      <td>7</td>\n",
       "      <td>12</td>\n",
       "    </tr>\n",
       "    <tr>\n",
       "      <th>box_off_num</th>\n",
       "      <td>NaN</td>\n",
       "      <td>NaN</td>\n",
       "      <td>NaN</td>\n",
       "      <td>NaN</td>\n",
       "      <td>NaN</td>\n",
       "    </tr>\n",
       "    <tr>\n",
       "      <th>dir_prev_bfnum_category</th>\n",
       "      <td>False</td>\n",
       "      <td>True</td>\n",
       "      <td>True</td>\n",
       "      <td>False</td>\n",
       "      <td>True</td>\n",
       "    </tr>\n",
       "    <tr>\n",
       "      <th>dir_prev_num_category</th>\n",
       "      <td>cat1</td>\n",
       "      <td>cat0</td>\n",
       "      <td>cat0</td>\n",
       "      <td>cat1</td>\n",
       "      <td>cat0</td>\n",
       "    </tr>\n",
       "    <tr>\n",
       "      <th>director_category</th>\n",
       "      <td>cat1</td>\n",
       "      <td>cat1</td>\n",
       "      <td>cat1</td>\n",
       "      <td>cat1</td>\n",
       "      <td>cat3</td>\n",
       "    </tr>\n",
       "    <tr>\n",
       "      <th>distributor_ord</th>\n",
       "      <td>4.000</td>\n",
       "      <td>3.000</td>\n",
       "      <td>3.000</td>\n",
       "      <td>3.000</td>\n",
       "      <td>2.000</td>\n",
       "    </tr>\n",
       "    <tr>\n",
       "      <th>genre_scaled</th>\n",
       "      <td>5.796</td>\n",
       "      <td>4.827</td>\n",
       "      <td>6.355</td>\n",
       "      <td>5.796</td>\n",
       "      <td>5.629</td>\n",
       "    </tr>\n",
       "    <tr>\n",
       "      <th>num_staff</th>\n",
       "      <td>4</td>\n",
       "      <td>18</td>\n",
       "      <td>224</td>\n",
       "      <td>68</td>\n",
       "      <td>10</td>\n",
       "    </tr>\n",
       "    <tr>\n",
       "      <th>release_month_ord</th>\n",
       "      <td>3.000</td>\n",
       "      <td>2.000</td>\n",
       "      <td>2.000</td>\n",
       "      <td>2.000</td>\n",
       "      <td>2.000</td>\n",
       "    </tr>\n",
       "    <tr>\n",
       "      <th>screening_rat_scaled</th>\n",
       "      <td>1.000</td>\n",
       "      <td>0.677</td>\n",
       "      <td>0.292</td>\n",
       "      <td>0.292</td>\n",
       "      <td>0.292</td>\n",
       "    </tr>\n",
       "    <tr>\n",
       "      <th>time_trend</th>\n",
       "      <td>0.002</td>\n",
       "      <td>0.009</td>\n",
       "      <td>0.118</td>\n",
       "      <td>0.056</td>\n",
       "      <td>0.002</td>\n",
       "    </tr>\n",
       "    <tr>\n",
       "      <th>title_(0, 1_</th>\n",
       "      <td>0</td>\n",
       "      <td>0</td>\n",
       "      <td>0</td>\n",
       "      <td>0</td>\n",
       "      <td>0</td>\n",
       "    </tr>\n",
       "    <tr>\n",
       "      <th>title_(1, 5_</th>\n",
       "      <td>0</td>\n",
       "      <td>1</td>\n",
       "      <td>1</td>\n",
       "      <td>0</td>\n",
       "      <td>0</td>\n",
       "    </tr>\n",
       "    <tr>\n",
       "      <th>title_(5, 9_</th>\n",
       "      <td>1</td>\n",
       "      <td>0</td>\n",
       "      <td>0</td>\n",
       "      <td>1</td>\n",
       "      <td>0</td>\n",
       "    </tr>\n",
       "    <tr>\n",
       "      <th>title_(9, 23_</th>\n",
       "      <td>0</td>\n",
       "      <td>0</td>\n",
       "      <td>0</td>\n",
       "      <td>0</td>\n",
       "      <td>1</td>\n",
       "    </tr>\n",
       "    <tr>\n",
       "      <th>big</th>\n",
       "      <td>False</td>\n",
       "      <td>False</td>\n",
       "      <td>False</td>\n",
       "      <td>False</td>\n",
       "      <td>False</td>\n",
       "    </tr>\n",
       "  </tbody>\n",
       "</table>\n",
       "</div>"
      ],
      "text/plain": [
       "                                838         839         840         841  \\\n",
       "DROP_dir_prev_bfnum       2_590.000         NaN         NaN  50_699.000   \n",
       "DROP_director                   안슬기         이일하         안용훈         송동윤   \n",
       "DROP_distributor                디씨드       인디스토리     컨텐츠온미디어    씨타마운틴픽쳐스   \n",
       "DROP_genre                      드라마       다큐멘터리         느와르         드라마   \n",
       "DROP_num_actor                    4           2           4           7   \n",
       "DROP_release_month               11          10          10          10   \n",
       "DROP_release_time        2015-11-19  2015-10-29  2015-10-28  2015-10-22   \n",
       "DROP_screening_rat          15세 관람가     12세 관람가    청소년 관람불가    청소년 관람불가   \n",
       "DROP_time                        78          86         107         102   \n",
       "DROP_title                해에게서 소년에게      울보 권투부        어떤살인   말하지 못한 비밀   \n",
       "DROP_title_length                 8           5           4           7   \n",
       "box_off_num                     NaN         NaN         NaN         NaN   \n",
       "dir_prev_bfnum_category       False        True        True       False   \n",
       "dir_prev_num_category          cat1        cat0        cat0        cat1   \n",
       "director_category              cat1        cat1        cat1        cat1   \n",
       "distributor_ord               4.000       3.000       3.000       3.000   \n",
       "genre_scaled                  5.796       4.827       6.355       5.796   \n",
       "num_staff                         4          18         224          68   \n",
       "release_month_ord             3.000       2.000       2.000       2.000   \n",
       "screening_rat_scaled          1.000       0.677       0.292       0.292   \n",
       "time_trend                    0.002       0.009       0.118       0.056   \n",
       "title_(0, 1_                      0           0           0           0   \n",
       "title_(1, 5_                      0           1           1           0   \n",
       "title_(5, 9_                      1           0           0           1   \n",
       "title_(9, 23_                     0           0           0           0   \n",
       "big                           False       False       False       False   \n",
       "\n",
       "                                     842  \n",
       "DROP_dir_prev_bfnum                  NaN  \n",
       "DROP_director                         이전  \n",
       "DROP_distributor                   케이알씨지  \n",
       "DROP_genre                        멜로/로맨스  \n",
       "DROP_num_actor                         4  \n",
       "DROP_release_month                    10  \n",
       "DROP_release_time             2015-10-22  \n",
       "DROP_screening_rat              청소년 관람불가  \n",
       "DROP_time                             76  \n",
       "DROP_title               조선안방 스캔들-칠거지악 2  \n",
       "DROP_title_length                     12  \n",
       "box_off_num                          NaN  \n",
       "dir_prev_bfnum_category             True  \n",
       "dir_prev_num_category               cat0  \n",
       "director_category                   cat3  \n",
       "distributor_ord                    2.000  \n",
       "genre_scaled                       5.629  \n",
       "num_staff                             10  \n",
       "release_month_ord                  2.000  \n",
       "screening_rat_scaled               0.292  \n",
       "time_trend                         0.002  \n",
       "title_(0, 1_                           0  \n",
       "title_(1, 5_                           0  \n",
       "title_(5, 9_                           0  \n",
       "title_(9, 23_                          1  \n",
       "big                                False  "
      ]
     },
     "execution_count": 119,
     "metadata": {},
     "output_type": "execute_result"
    }
   ],
   "source": [
    "total = pd.concat([train2, test2], ignore_index=True)\n",
    "total.tail().T"
   ]
  },
  {
   "cell_type": "markdown",
   "metadata": {},
   "source": [
    "- 이제 total 데이터프레임은 big 컬럼까지 가진 최종의 것으로 할당되었다.\n",
    "---"
   ]
  },
  {
   "cell_type": "code",
   "execution_count": 120,
   "metadata": {},
   "outputs": [
    {
     "data": {
      "text/html": [
       "<div>\n",
       "<style scoped>\n",
       "    .dataframe tbody tr th:only-of-type {\n",
       "        vertical-align: middle;\n",
       "    }\n",
       "\n",
       "    .dataframe tbody tr th {\n",
       "        vertical-align: top;\n",
       "    }\n",
       "\n",
       "    .dataframe thead th {\n",
       "        text-align: right;\n",
       "    }\n",
       "</style>\n",
       "<table border=\"1\" class=\"dataframe\">\n",
       "  <thead>\n",
       "    <tr style=\"text-align: right;\">\n",
       "      <th></th>\n",
       "      <th>0</th>\n",
       "      <th>1</th>\n",
       "      <th>2</th>\n",
       "      <th>3</th>\n",
       "      <th>4</th>\n",
       "    </tr>\n",
       "  </thead>\n",
       "  <tbody>\n",
       "    <tr>\n",
       "      <th>box_off_num</th>\n",
       "      <td>23_398.000</td>\n",
       "      <td>7_072_501.000</td>\n",
       "      <td>6_959_083.000</td>\n",
       "      <td>217_866.000</td>\n",
       "      <td>483_387.000</td>\n",
       "    </tr>\n",
       "    <tr>\n",
       "      <th>dir_prev_bfnum_category</th>\n",
       "      <td>True</td>\n",
       "      <td>False</td>\n",
       "      <td>False</td>\n",
       "      <td>False</td>\n",
       "      <td>False</td>\n",
       "    </tr>\n",
       "    <tr>\n",
       "      <th>dir_prev_num_category</th>\n",
       "      <td>cat0</td>\n",
       "      <td>cat2</td>\n",
       "      <td>cat4</td>\n",
       "      <td>cat2</td>\n",
       "      <td>cat1</td>\n",
       "    </tr>\n",
       "    <tr>\n",
       "      <th>director_category</th>\n",
       "      <td>cat1</td>\n",
       "      <td>cat4</td>\n",
       "      <td>cat2</td>\n",
       "      <td>cat1</td>\n",
       "      <td>cat1</td>\n",
       "    </tr>\n",
       "    <tr>\n",
       "      <th>distributor_ord</th>\n",
       "      <td>5.000</td>\n",
       "      <td>5.000</td>\n",
       "      <td>5.000</td>\n",
       "      <td>5.000</td>\n",
       "      <td>5.000</td>\n",
       "    </tr>\n",
       "    <tr>\n",
       "      <th>genre_scaled</th>\n",
       "      <td>6.343</td>\n",
       "      <td>6.355</td>\n",
       "      <td>6.343</td>\n",
       "      <td>6.077</td>\n",
       "      <td>6.077</td>\n",
       "    </tr>\n",
       "    <tr>\n",
       "      <th>num_staff</th>\n",
       "      <td>91</td>\n",
       "      <td>387</td>\n",
       "      <td>343</td>\n",
       "      <td>20</td>\n",
       "      <td>251</td>\n",
       "    </tr>\n",
       "    <tr>\n",
       "      <th>release_month_ord</th>\n",
       "      <td>3.000</td>\n",
       "      <td>3.000</td>\n",
       "      <td>4.000</td>\n",
       "      <td>9.000</td>\n",
       "      <td>3.000</td>\n",
       "    </tr>\n",
       "    <tr>\n",
       "      <th>screening_rat_scaled</th>\n",
       "      <td>0.292</td>\n",
       "      <td>0.292</td>\n",
       "      <td>1.000</td>\n",
       "      <td>0.108</td>\n",
       "      <td>1.000</td>\n",
       "    </tr>\n",
       "    <tr>\n",
       "      <th>time_trend</th>\n",
       "      <td>0.016</td>\n",
       "      <td>0.716</td>\n",
       "      <td>0.495</td>\n",
       "      <td>0.044</td>\n",
       "      <td>0.131</td>\n",
       "    </tr>\n",
       "    <tr>\n",
       "      <th>title_(0, 1_</th>\n",
       "      <td>0</td>\n",
       "      <td>0</td>\n",
       "      <td>0</td>\n",
       "      <td>0</td>\n",
       "      <td>0</td>\n",
       "    </tr>\n",
       "    <tr>\n",
       "      <th>title_(1, 5_</th>\n",
       "      <td>1</td>\n",
       "      <td>1</td>\n",
       "      <td>0</td>\n",
       "      <td>0</td>\n",
       "      <td>1</td>\n",
       "    </tr>\n",
       "    <tr>\n",
       "      <th>title_(5, 9_</th>\n",
       "      <td>0</td>\n",
       "      <td>0</td>\n",
       "      <td>1</td>\n",
       "      <td>1</td>\n",
       "      <td>0</td>\n",
       "    </tr>\n",
       "    <tr>\n",
       "      <th>title_(9, 23_</th>\n",
       "      <td>0</td>\n",
       "      <td>0</td>\n",
       "      <td>0</td>\n",
       "      <td>0</td>\n",
       "      <td>0</td>\n",
       "    </tr>\n",
       "    <tr>\n",
       "      <th>big</th>\n",
       "      <td>True</td>\n",
       "      <td>True</td>\n",
       "      <td>True</td>\n",
       "      <td>True</td>\n",
       "      <td>True</td>\n",
       "    </tr>\n",
       "  </tbody>\n",
       "</table>\n",
       "</div>"
      ],
      "text/plain": [
       "                                 0             1             2           3  \\\n",
       "box_off_num             23_398.000 7_072_501.000 6_959_083.000 217_866.000   \n",
       "dir_prev_bfnum_category       True         False         False       False   \n",
       "dir_prev_num_category         cat0          cat2          cat4        cat2   \n",
       "director_category             cat1          cat4          cat2        cat1   \n",
       "distributor_ord              5.000         5.000         5.000       5.000   \n",
       "genre_scaled                 6.343         6.355         6.343       6.077   \n",
       "num_staff                       91           387           343          20   \n",
       "release_month_ord            3.000         3.000         4.000       9.000   \n",
       "screening_rat_scaled         0.292         0.292         1.000       0.108   \n",
       "time_trend                   0.016         0.716         0.495       0.044   \n",
       "title_(0, 1_                     0             0             0           0   \n",
       "title_(1, 5_                     1             1             0           0   \n",
       "title_(5, 9_                     0             0             1           1   \n",
       "title_(9, 23_                    0             0             0           0   \n",
       "big                           True          True          True        True   \n",
       "\n",
       "                                  4  \n",
       "box_off_num             483_387.000  \n",
       "dir_prev_bfnum_category       False  \n",
       "dir_prev_num_category          cat1  \n",
       "director_category              cat1  \n",
       "distributor_ord               5.000  \n",
       "genre_scaled                  6.077  \n",
       "num_staff                       251  \n",
       "release_month_ord             3.000  \n",
       "screening_rat_scaled          1.000  \n",
       "time_trend                    0.131  \n",
       "title_(0, 1_                      0  \n",
       "title_(1, 5_                      1  \n",
       "title_(5, 9_                      0  \n",
       "title_(9, 23_                     0  \n",
       "big                            True  "
      ]
     },
     "execution_count": 120,
     "metadata": {},
     "output_type": "execute_result"
    }
   ],
   "source": [
    "total.drop(drop_cols, axis=1, inplace=True)\n",
    "total.head().T"
   ]
  },
  {
   "cell_type": "markdown",
   "metadata": {},
   "source": [
    "- 최종적으로 삭제할 컬럼들(drop_cols)를 데이터프레임에서 삭제한다.\n",
    "---"
   ]
  },
  {
   "cell_type": "code",
   "execution_count": 121,
   "metadata": {},
   "outputs": [
    {
     "data": {
      "text/html": [
       "<div>\n",
       "<style scoped>\n",
       "    .dataframe tbody tr th:only-of-type {\n",
       "        vertical-align: middle;\n",
       "    }\n",
       "\n",
       "    .dataframe tbody tr th {\n",
       "        vertical-align: top;\n",
       "    }\n",
       "\n",
       "    .dataframe thead th {\n",
       "        text-align: right;\n",
       "    }\n",
       "</style>\n",
       "<table border=\"1\" class=\"dataframe\">\n",
       "  <thead>\n",
       "    <tr style=\"text-align: right;\">\n",
       "      <th></th>\n",
       "      <th>0</th>\n",
       "      <th>1</th>\n",
       "      <th>2</th>\n",
       "      <th>3</th>\n",
       "      <th>4</th>\n",
       "    </tr>\n",
       "  </thead>\n",
       "  <tbody>\n",
       "    <tr>\n",
       "      <th>box_off_num</th>\n",
       "      <td>23_398.000</td>\n",
       "      <td>7_072_501.000</td>\n",
       "      <td>6_959_083.000</td>\n",
       "      <td>217_866.000</td>\n",
       "      <td>483_387.000</td>\n",
       "    </tr>\n",
       "    <tr>\n",
       "      <th>distributor_ord</th>\n",
       "      <td>5.000</td>\n",
       "      <td>5.000</td>\n",
       "      <td>5.000</td>\n",
       "      <td>5.000</td>\n",
       "      <td>5.000</td>\n",
       "    </tr>\n",
       "    <tr>\n",
       "      <th>genre_scaled</th>\n",
       "      <td>6.343</td>\n",
       "      <td>6.355</td>\n",
       "      <td>6.343</td>\n",
       "      <td>6.077</td>\n",
       "      <td>6.077</td>\n",
       "    </tr>\n",
       "    <tr>\n",
       "      <th>num_staff</th>\n",
       "      <td>91</td>\n",
       "      <td>387</td>\n",
       "      <td>343</td>\n",
       "      <td>20</td>\n",
       "      <td>251</td>\n",
       "    </tr>\n",
       "    <tr>\n",
       "      <th>release_month_ord</th>\n",
       "      <td>3.000</td>\n",
       "      <td>3.000</td>\n",
       "      <td>4.000</td>\n",
       "      <td>9.000</td>\n",
       "      <td>3.000</td>\n",
       "    </tr>\n",
       "    <tr>\n",
       "      <th>screening_rat_scaled</th>\n",
       "      <td>0.292</td>\n",
       "      <td>0.292</td>\n",
       "      <td>1.000</td>\n",
       "      <td>0.108</td>\n",
       "      <td>1.000</td>\n",
       "    </tr>\n",
       "    <tr>\n",
       "      <th>time_trend</th>\n",
       "      <td>0.016</td>\n",
       "      <td>0.716</td>\n",
       "      <td>0.495</td>\n",
       "      <td>0.044</td>\n",
       "      <td>0.131</td>\n",
       "    </tr>\n",
       "    <tr>\n",
       "      <th>title_(0, 1_</th>\n",
       "      <td>0</td>\n",
       "      <td>0</td>\n",
       "      <td>0</td>\n",
       "      <td>0</td>\n",
       "      <td>0</td>\n",
       "    </tr>\n",
       "    <tr>\n",
       "      <th>title_(1, 5_</th>\n",
       "      <td>1</td>\n",
       "      <td>1</td>\n",
       "      <td>0</td>\n",
       "      <td>0</td>\n",
       "      <td>1</td>\n",
       "    </tr>\n",
       "    <tr>\n",
       "      <th>title_(5, 9_</th>\n",
       "      <td>0</td>\n",
       "      <td>0</td>\n",
       "      <td>1</td>\n",
       "      <td>1</td>\n",
       "      <td>0</td>\n",
       "    </tr>\n",
       "    <tr>\n",
       "      <th>title_(9, 23_</th>\n",
       "      <td>0</td>\n",
       "      <td>0</td>\n",
       "      <td>0</td>\n",
       "      <td>0</td>\n",
       "      <td>0</td>\n",
       "    </tr>\n",
       "    <tr>\n",
       "      <th>big</th>\n",
       "      <td>True</td>\n",
       "      <td>True</td>\n",
       "      <td>True</td>\n",
       "      <td>True</td>\n",
       "      <td>True</td>\n",
       "    </tr>\n",
       "    <tr>\n",
       "      <th>dir_prev_bfnum_category_False</th>\n",
       "      <td>0</td>\n",
       "      <td>1</td>\n",
       "      <td>1</td>\n",
       "      <td>1</td>\n",
       "      <td>1</td>\n",
       "    </tr>\n",
       "    <tr>\n",
       "      <th>dir_prev_bfnum_category_True</th>\n",
       "      <td>1</td>\n",
       "      <td>0</td>\n",
       "      <td>0</td>\n",
       "      <td>0</td>\n",
       "      <td>0</td>\n",
       "    </tr>\n",
       "    <tr>\n",
       "      <th>dir_prev_num_category_cat0</th>\n",
       "      <td>1</td>\n",
       "      <td>0</td>\n",
       "      <td>0</td>\n",
       "      <td>0</td>\n",
       "      <td>0</td>\n",
       "    </tr>\n",
       "    <tr>\n",
       "      <th>dir_prev_num_category_cat1</th>\n",
       "      <td>0</td>\n",
       "      <td>0</td>\n",
       "      <td>0</td>\n",
       "      <td>0</td>\n",
       "      <td>1</td>\n",
       "    </tr>\n",
       "    <tr>\n",
       "      <th>dir_prev_num_category_cat2</th>\n",
       "      <td>0</td>\n",
       "      <td>1</td>\n",
       "      <td>0</td>\n",
       "      <td>1</td>\n",
       "      <td>0</td>\n",
       "    </tr>\n",
       "    <tr>\n",
       "      <th>dir_prev_num_category_cat3</th>\n",
       "      <td>0</td>\n",
       "      <td>0</td>\n",
       "      <td>0</td>\n",
       "      <td>0</td>\n",
       "      <td>0</td>\n",
       "    </tr>\n",
       "    <tr>\n",
       "      <th>dir_prev_num_category_cat4</th>\n",
       "      <td>0</td>\n",
       "      <td>0</td>\n",
       "      <td>1</td>\n",
       "      <td>0</td>\n",
       "      <td>0</td>\n",
       "    </tr>\n",
       "    <tr>\n",
       "      <th>dir_prev_num_category_cat5</th>\n",
       "      <td>0</td>\n",
       "      <td>0</td>\n",
       "      <td>0</td>\n",
       "      <td>0</td>\n",
       "      <td>0</td>\n",
       "    </tr>\n",
       "    <tr>\n",
       "      <th>dir_prev_num_category_cat6</th>\n",
       "      <td>0</td>\n",
       "      <td>0</td>\n",
       "      <td>0</td>\n",
       "      <td>0</td>\n",
       "      <td>0</td>\n",
       "    </tr>\n",
       "    <tr>\n",
       "      <th>director_category_cat1</th>\n",
       "      <td>1</td>\n",
       "      <td>0</td>\n",
       "      <td>0</td>\n",
       "      <td>1</td>\n",
       "      <td>1</td>\n",
       "    </tr>\n",
       "    <tr>\n",
       "      <th>director_category_cat2</th>\n",
       "      <td>0</td>\n",
       "      <td>0</td>\n",
       "      <td>1</td>\n",
       "      <td>0</td>\n",
       "      <td>0</td>\n",
       "    </tr>\n",
       "    <tr>\n",
       "      <th>director_category_cat3</th>\n",
       "      <td>0</td>\n",
       "      <td>0</td>\n",
       "      <td>0</td>\n",
       "      <td>0</td>\n",
       "      <td>0</td>\n",
       "    </tr>\n",
       "    <tr>\n",
       "      <th>director_category_cat4</th>\n",
       "      <td>0</td>\n",
       "      <td>1</td>\n",
       "      <td>0</td>\n",
       "      <td>0</td>\n",
       "      <td>0</td>\n",
       "    </tr>\n",
       "  </tbody>\n",
       "</table>\n",
       "</div>"
      ],
      "text/plain": [
       "                                       0             1             2  \\\n",
       "box_off_num                   23_398.000 7_072_501.000 6_959_083.000   \n",
       "distributor_ord                    5.000         5.000         5.000   \n",
       "genre_scaled                       6.343         6.355         6.343   \n",
       "num_staff                             91           387           343   \n",
       "release_month_ord                  3.000         3.000         4.000   \n",
       "screening_rat_scaled               0.292         0.292         1.000   \n",
       "time_trend                         0.016         0.716         0.495   \n",
       "title_(0, 1_                           0             0             0   \n",
       "title_(1, 5_                           1             1             0   \n",
       "title_(5, 9_                           0             0             1   \n",
       "title_(9, 23_                          0             0             0   \n",
       "big                                 True          True          True   \n",
       "dir_prev_bfnum_category_False          0             1             1   \n",
       "dir_prev_bfnum_category_True           1             0             0   \n",
       "dir_prev_num_category_cat0             1             0             0   \n",
       "dir_prev_num_category_cat1             0             0             0   \n",
       "dir_prev_num_category_cat2             0             1             0   \n",
       "dir_prev_num_category_cat3             0             0             0   \n",
       "dir_prev_num_category_cat4             0             0             1   \n",
       "dir_prev_num_category_cat5             0             0             0   \n",
       "dir_prev_num_category_cat6             0             0             0   \n",
       "director_category_cat1                 1             0             0   \n",
       "director_category_cat2                 0             0             1   \n",
       "director_category_cat3                 0             0             0   \n",
       "director_category_cat4                 0             1             0   \n",
       "\n",
       "                                        3           4  \n",
       "box_off_num                   217_866.000 483_387.000  \n",
       "distributor_ord                     5.000       5.000  \n",
       "genre_scaled                        6.077       6.077  \n",
       "num_staff                              20         251  \n",
       "release_month_ord                   9.000       3.000  \n",
       "screening_rat_scaled                0.108       1.000  \n",
       "time_trend                          0.044       0.131  \n",
       "title_(0, 1_                            0           0  \n",
       "title_(1, 5_                            0           1  \n",
       "title_(5, 9_                            1           0  \n",
       "title_(9, 23_                           0           0  \n",
       "big                                  True        True  \n",
       "dir_prev_bfnum_category_False           1           1  \n",
       "dir_prev_bfnum_category_True            0           0  \n",
       "dir_prev_num_category_cat0              0           0  \n",
       "dir_prev_num_category_cat1              0           1  \n",
       "dir_prev_num_category_cat2              1           0  \n",
       "dir_prev_num_category_cat3              0           0  \n",
       "dir_prev_num_category_cat4              0           0  \n",
       "dir_prev_num_category_cat5              0           0  \n",
       "dir_prev_num_category_cat6              0           0  \n",
       "director_category_cat1                  1           1  \n",
       "director_category_cat2                  0           0  \n",
       "director_category_cat3                  0           0  \n",
       "director_category_cat4                  0           0  "
      ]
     },
     "execution_count": 121,
     "metadata": {},
     "output_type": "execute_result"
    }
   ],
   "source": [
    "total = pd.get_dummies(total)\n",
    "total.head().T"
   ]
  },
  {
   "cell_type": "markdown",
   "metadata": {},
   "source": [
    "- pd.get_dummies() 메소드로 카테고리 컬럼을 one-hot-encoding 시킨다. (이를 위해 일부 숫자로 된 카테고리는 값으로 'cat'을 덧붙여 문자열로 만들었다.)\n",
    "---"
   ]
  },
  {
   "cell_type": "code",
   "execution_count": 122,
   "metadata": {},
   "outputs": [
    {
     "name": "stdout",
     "output_type": "stream",
     "text": [
      "600 243\n"
     ]
    }
   ],
   "source": [
    "train_new = total[~total.box_off_num.isna()]\n",
    "test_new  = total[total.box_off_num.isna()]\n",
    "\n",
    "print(len(train_new), len(test_new)) # 각각 600개 243개로 문제가 없다."
   ]
  },
  {
   "cell_type": "markdown",
   "metadata": {},
   "source": [
    "- train_new/test_new로 새로 훈련/테스트셋으로 나눈다.\n",
    "---"
   ]
  },
  {
   "cell_type": "markdown",
   "metadata": {},
   "source": [
    "### 훈련/테스트셋을 각기 대소 배급사(big 칼럼)를 기준으로 두 그룹으로 나누기"
   ]
  },
  {
   "cell_type": "code",
   "execution_count": 123,
   "metadata": {},
   "outputs": [],
   "source": [
    "train_new_big = train_new[train_new.big]\n",
    "test_new_big  =  test_new[test_new.big]\n",
    "\n",
    "train_new_sma = train_new[~train_new.big]\n",
    "test_new_sma  =  test_new[~test_new.big]"
   ]
  },
  {
   "cell_type": "markdown",
   "metadata": {},
   "source": [
    "- 'big' 칼럼은 feature가 아니라, 두 그룹으로 나누기 위한 기준값이었으므로, 나눈 후에는 이 칼럼도 삭제한다. (물론 넓은 의미로는 이 big값이 feature역할을 하게 됨. 각기 다른 머신 러닝을 하게 만드는 요소이므로)"
   ]
  },
  {
   "cell_type": "code",
   "execution_count": 124,
   "metadata": {},
   "outputs": [],
   "source": [
    "X_tr_big = train_new_big.drop(['box_off_num', 'big'], axis=1)\n",
    "y_tr_big = train_new_big.box_off_num\n",
    "X_te_big =  test_new_big.drop(['box_off_num', 'big'], axis=1)\n",
    "\n",
    "X_tr_sma = train_new_sma.drop(['box_off_num', 'big'], axis=1)\n",
    "y_tr_sma = train_new_sma.box_off_num\n",
    "X_te_sma =  test_new_sma.drop(['box_off_num', 'big'], axis=1)"
   ]
  },
  {
   "cell_type": "markdown",
   "metadata": {},
   "source": [
    "- 정리하자면, 평균관객수가 많은 배급사룰 거잔 영화들을 각각 X_tr_big, X_te_big으로 훈련/테스트셋을 나누고, 적은 배급사는 각각 X_tr_sma, X_te_sma로 나눴다.\n",
    "---"
   ]
  },
  {
   "cell_type": "markdown",
   "metadata": {},
   "source": [
    "### 테스트셋에서 대/소 그룹별 행(row)의 인덱스 저장하기"
   ]
  },
  {
   "cell_type": "markdown",
   "metadata": {},
   "source": [
    "- 아래 과정의 설명: \n",
    "- 테스트셋을 대소 기준으로 두 그룹으로 나눠서 해당 머신에 입력해서 각각 예측값을 얻게 되는데, 문제는 이렇게 각기 구한 **예측값을 원래 테스트셋의 순서에 맞게 재배치**해서 제출해야 된다는 것이다.\n",
    "- 이를 위한 과정."
   ]
  },
  {
   "cell_type": "code",
   "execution_count": 125,
   "metadata": {},
   "outputs": [
    {
     "data": {
      "text/html": [
       "<div>\n",
       "<style scoped>\n",
       "    .dataframe tbody tr th:only-of-type {\n",
       "        vertical-align: middle;\n",
       "    }\n",
       "\n",
       "    .dataframe tbody tr th {\n",
       "        vertical-align: top;\n",
       "    }\n",
       "\n",
       "    .dataframe thead th {\n",
       "        text-align: right;\n",
       "    }\n",
       "</style>\n",
       "<table border=\"1\" class=\"dataframe\">\n",
       "  <thead>\n",
       "    <tr style=\"text-align: right;\">\n",
       "      <th></th>\n",
       "      <th>box_off_num</th>\n",
       "      <th>distributor_ord</th>\n",
       "      <th>genre_scaled</th>\n",
       "      <th>num_staff</th>\n",
       "      <th>release_month_ord</th>\n",
       "      <th>screening_rat_scaled</th>\n",
       "      <th>time_trend</th>\n",
       "      <th>title_(0, 1_</th>\n",
       "      <th>title_(1, 5_</th>\n",
       "      <th>title_(5, 9_</th>\n",
       "      <th>...</th>\n",
       "      <th>dir_prev_num_category_cat1</th>\n",
       "      <th>dir_prev_num_category_cat2</th>\n",
       "      <th>dir_prev_num_category_cat3</th>\n",
       "      <th>dir_prev_num_category_cat4</th>\n",
       "      <th>dir_prev_num_category_cat5</th>\n",
       "      <th>dir_prev_num_category_cat6</th>\n",
       "      <th>director_category_cat1</th>\n",
       "      <th>director_category_cat2</th>\n",
       "      <th>director_category_cat3</th>\n",
       "      <th>director_category_cat4</th>\n",
       "    </tr>\n",
       "  </thead>\n",
       "  <tbody>\n",
       "    <tr>\n",
       "      <th>600</th>\n",
       "      <td>nan</td>\n",
       "      <td>5.000</td>\n",
       "      <td>6.355</td>\n",
       "      <td>304</td>\n",
       "      <td>11.000</td>\n",
       "      <td>0.292</td>\n",
       "      <td>0.558</td>\n",
       "      <td>0</td>\n",
       "      <td>1</td>\n",
       "      <td>0</td>\n",
       "      <td>...</td>\n",
       "      <td>0</td>\n",
       "      <td>1</td>\n",
       "      <td>0</td>\n",
       "      <td>0</td>\n",
       "      <td>0</td>\n",
       "      <td>0</td>\n",
       "      <td>0</td>\n",
       "      <td>1</td>\n",
       "      <td>0</td>\n",
       "      <td>0</td>\n",
       "    </tr>\n",
       "    <tr>\n",
       "      <th>601</th>\n",
       "      <td>nan</td>\n",
       "      <td>5.000</td>\n",
       "      <td>5.629</td>\n",
       "      <td>275</td>\n",
       "      <td>11.000</td>\n",
       "      <td>0.677</td>\n",
       "      <td>0.193</td>\n",
       "      <td>0</td>\n",
       "      <td>0</td>\n",
       "      <td>1</td>\n",
       "      <td>...</td>\n",
       "      <td>0</td>\n",
       "      <td>0</td>\n",
       "      <td>0</td>\n",
       "      <td>1</td>\n",
       "      <td>0</td>\n",
       "      <td>0</td>\n",
       "      <td>1</td>\n",
       "      <td>0</td>\n",
       "      <td>0</td>\n",
       "      <td>0</td>\n",
       "    </tr>\n",
       "    <tr>\n",
       "      <th>602</th>\n",
       "      <td>nan</td>\n",
       "      <td>5.000</td>\n",
       "      <td>5.796</td>\n",
       "      <td>419</td>\n",
       "      <td>11.000</td>\n",
       "      <td>0.677</td>\n",
       "      <td>0.218</td>\n",
       "      <td>0</td>\n",
       "      <td>1</td>\n",
       "      <td>0</td>\n",
       "      <td>...</td>\n",
       "      <td>0</td>\n",
       "      <td>0</td>\n",
       "      <td>1</td>\n",
       "      <td>0</td>\n",
       "      <td>0</td>\n",
       "      <td>0</td>\n",
       "      <td>1</td>\n",
       "      <td>0</td>\n",
       "      <td>0</td>\n",
       "      <td>0</td>\n",
       "    </tr>\n",
       "    <tr>\n",
       "      <th>603</th>\n",
       "      <td>nan</td>\n",
       "      <td>5.000</td>\n",
       "      <td>6.343</td>\n",
       "      <td>408</td>\n",
       "      <td>6.000</td>\n",
       "      <td>1.000</td>\n",
       "      <td>0.230</td>\n",
       "      <td>0</td>\n",
       "      <td>1</td>\n",
       "      <td>0</td>\n",
       "      <td>...</td>\n",
       "      <td>0</td>\n",
       "      <td>1</td>\n",
       "      <td>0</td>\n",
       "      <td>0</td>\n",
       "      <td>0</td>\n",
       "      <td>0</td>\n",
       "      <td>0</td>\n",
       "      <td>1</td>\n",
       "      <td>0</td>\n",
       "      <td>0</td>\n",
       "    </tr>\n",
       "    <tr>\n",
       "      <th>604</th>\n",
       "      <td>nan</td>\n",
       "      <td>5.000</td>\n",
       "      <td>5.771</td>\n",
       "      <td>380</td>\n",
       "      <td>6.000</td>\n",
       "      <td>1.000</td>\n",
       "      <td>0.156</td>\n",
       "      <td>0</td>\n",
       "      <td>1</td>\n",
       "      <td>0</td>\n",
       "      <td>...</td>\n",
       "      <td>1</td>\n",
       "      <td>0</td>\n",
       "      <td>0</td>\n",
       "      <td>0</td>\n",
       "      <td>0</td>\n",
       "      <td>0</td>\n",
       "      <td>0</td>\n",
       "      <td>1</td>\n",
       "      <td>0</td>\n",
       "      <td>0</td>\n",
       "    </tr>\n",
       "  </tbody>\n",
       "</table>\n",
       "<p>5 rows × 25 columns</p>\n",
       "</div>"
      ],
      "text/plain": [
       "     box_off_num  distributor_ord  genre_scaled  num_staff  release_month_ord  \\\n",
       "600          nan            5.000         6.355        304             11.000   \n",
       "601          nan            5.000         5.629        275             11.000   \n",
       "602          nan            5.000         5.796        419             11.000   \n",
       "603          nan            5.000         6.343        408              6.000   \n",
       "604          nan            5.000         5.771        380              6.000   \n",
       "\n",
       "     screening_rat_scaled  time_trend  title_(0, 1_  title_(1, 5_  \\\n",
       "600                 0.292       0.558             0             1   \n",
       "601                 0.677       0.193             0             0   \n",
       "602                 0.677       0.218             0             1   \n",
       "603                 1.000       0.230             0             1   \n",
       "604                 1.000       0.156             0             1   \n",
       "\n",
       "     title_(5, 9_  ...  dir_prev_num_category_cat1  \\\n",
       "600             0  ...                           0   \n",
       "601             1  ...                           0   \n",
       "602             0  ...                           0   \n",
       "603             0  ...                           0   \n",
       "604             0  ...                           1   \n",
       "\n",
       "     dir_prev_num_category_cat2  dir_prev_num_category_cat3  \\\n",
       "600                           1                           0   \n",
       "601                           0                           0   \n",
       "602                           0                           1   \n",
       "603                           1                           0   \n",
       "604                           0                           0   \n",
       "\n",
       "     dir_prev_num_category_cat4  dir_prev_num_category_cat5  \\\n",
       "600                           0                           0   \n",
       "601                           1                           0   \n",
       "602                           0                           0   \n",
       "603                           0                           0   \n",
       "604                           0                           0   \n",
       "\n",
       "     dir_prev_num_category_cat6  director_category_cat1  \\\n",
       "600                           0                       0   \n",
       "601                           0                       1   \n",
       "602                           0                       1   \n",
       "603                           0                       0   \n",
       "604                           0                       0   \n",
       "\n",
       "     director_category_cat2  director_category_cat3  director_category_cat4  \n",
       "600                       1                       0                       0  \n",
       "601                       0                       0                       0  \n",
       "602                       0                       0                       0  \n",
       "603                       1                       0                       0  \n",
       "604                       1                       0                       0  \n",
       "\n",
       "[5 rows x 25 columns]"
      ]
     },
     "execution_count": 125,
     "metadata": {},
     "output_type": "execute_result"
    }
   ],
   "source": [
    "test_new_for_mapping = test_new.copy()\n",
    "test_new_for_mapping.head()"
   ]
  },
  {
   "cell_type": "markdown",
   "metadata": {},
   "source": [
    "- 애초에 훈련셋과 테스트셋을 concatenate한 것을 다시 test_new로 나눈 것이므로, test_new 데이터프레임의 index 값은 600(훈련셋의 갯수600)부터 시작하게 된다.\n",
    "---"
   ]
  },
  {
   "cell_type": "code",
   "execution_count": 126,
   "metadata": {},
   "outputs": [
    {
     "data": {
      "text/plain": [
       "600    True\n",
       "601    True\n",
       "602    True\n",
       "603    True\n",
       "604    True\n",
       "Name: big, dtype: bool"
      ]
     },
     "execution_count": 126,
     "metadata": {},
     "output_type": "execute_result"
    }
   ],
   "source": [
    "test_new_for_mapping.big.head()"
   ]
  },
  {
   "cell_type": "code",
   "execution_count": 127,
   "metadata": {},
   "outputs": [
    {
     "data": {
      "text/html": [
       "<div>\n",
       "<style scoped>\n",
       "    .dataframe tbody tr th:only-of-type {\n",
       "        vertical-align: middle;\n",
       "    }\n",
       "\n",
       "    .dataframe tbody tr th {\n",
       "        vertical-align: top;\n",
       "    }\n",
       "\n",
       "    .dataframe thead th {\n",
       "        text-align: right;\n",
       "    }\n",
       "</style>\n",
       "<table border=\"1\" class=\"dataframe\">\n",
       "  <thead>\n",
       "    <tr style=\"text-align: right;\">\n",
       "      <th></th>\n",
       "      <th>index</th>\n",
       "      <th>big</th>\n",
       "    </tr>\n",
       "  </thead>\n",
       "  <tbody>\n",
       "    <tr>\n",
       "      <th>0</th>\n",
       "      <td>600</td>\n",
       "      <td>True</td>\n",
       "    </tr>\n",
       "    <tr>\n",
       "      <th>1</th>\n",
       "      <td>601</td>\n",
       "      <td>True</td>\n",
       "    </tr>\n",
       "    <tr>\n",
       "      <th>2</th>\n",
       "      <td>602</td>\n",
       "      <td>True</td>\n",
       "    </tr>\n",
       "    <tr>\n",
       "      <th>3</th>\n",
       "      <td>603</td>\n",
       "      <td>True</td>\n",
       "    </tr>\n",
       "    <tr>\n",
       "      <th>4</th>\n",
       "      <td>604</td>\n",
       "      <td>True</td>\n",
       "    </tr>\n",
       "  </tbody>\n",
       "</table>\n",
       "</div>"
      ],
      "text/plain": [
       "   index   big\n",
       "0    600  True\n",
       "1    601  True\n",
       "2    602  True\n",
       "3    603  True\n",
       "4    604  True"
      ]
     },
     "execution_count": 127,
     "metadata": {},
     "output_type": "execute_result"
    }
   ],
   "source": [
    "test_new_for_mapping = test_new_for_mapping.big.reset_index()\n",
    "test_new_for_mapping.head()"
   ]
  },
  {
   "cell_type": "markdown",
   "metadata": {},
   "source": [
    "- reset_index()를 해서, 600부터 시작하는 index 값을 컬럼으로 취했다.\n",
    "---"
   ]
  },
  {
   "cell_type": "code",
   "execution_count": 128,
   "metadata": {},
   "outputs": [
    {
     "data": {
      "text/html": [
       "<div>\n",
       "<style scoped>\n",
       "    .dataframe tbody tr th:only-of-type {\n",
       "        vertical-align: middle;\n",
       "    }\n",
       "\n",
       "    .dataframe tbody tr th {\n",
       "        vertical-align: top;\n",
       "    }\n",
       "\n",
       "    .dataframe thead th {\n",
       "        text-align: right;\n",
       "    }\n",
       "</style>\n",
       "<table border=\"1\" class=\"dataframe\">\n",
       "  <thead>\n",
       "    <tr style=\"text-align: right;\">\n",
       "      <th></th>\n",
       "      <th>index</th>\n",
       "      <th>big</th>\n",
       "    </tr>\n",
       "  </thead>\n",
       "  <tbody>\n",
       "    <tr>\n",
       "      <th>0</th>\n",
       "      <td>0</td>\n",
       "      <td>True</td>\n",
       "    </tr>\n",
       "    <tr>\n",
       "      <th>1</th>\n",
       "      <td>1</td>\n",
       "      <td>True</td>\n",
       "    </tr>\n",
       "    <tr>\n",
       "      <th>2</th>\n",
       "      <td>2</td>\n",
       "      <td>True</td>\n",
       "    </tr>\n",
       "    <tr>\n",
       "      <th>3</th>\n",
       "      <td>3</td>\n",
       "      <td>True</td>\n",
       "    </tr>\n",
       "    <tr>\n",
       "      <th>4</th>\n",
       "      <td>4</td>\n",
       "      <td>True</td>\n",
       "    </tr>\n",
       "  </tbody>\n",
       "</table>\n",
       "</div>"
      ],
      "text/plain": [
       "   index   big\n",
       "0      0  True\n",
       "1      1  True\n",
       "2      2  True\n",
       "3      3  True\n",
       "4      4  True"
      ]
     },
     "execution_count": 128,
     "metadata": {},
     "output_type": "execute_result"
    }
   ],
   "source": [
    "test_new_for_mapping['index'] -= 600 # \"index\" 컬럼의 값이 0부터 시작하도록 변경.\n",
    "test_new_for_mapping.head()"
   ]
  },
  {
   "cell_type": "code",
   "execution_count": 129,
   "metadata": {},
   "outputs": [
    {
     "data": {
      "text/plain": [
       "array([  0,   1,   2,   3,   4,   9,  14,  15,  17,  18,  19,  25,  27,\n",
       "        30,  42,  44,  45,  48,  51,  53,  54,  57,  58,  59,  60,  61,\n",
       "        66,  67,  68,  70,  71,  73,  76,  77,  81,  83,  85,  89,  92,\n",
       "        93,  94,  98,  99, 100, 101, 103, 104, 105, 106, 108, 111, 112,\n",
       "       115, 117, 121, 122, 131, 134, 135, 137, 138, 141, 142, 148, 149,\n",
       "       158, 159, 161, 162, 163, 166, 178, 179, 184, 195, 197, 199, 205,\n",
       "       206, 207, 209, 211, 212, 216, 221, 222, 229])"
      ]
     },
     "execution_count": 129,
     "metadata": {},
     "output_type": "execute_result"
    }
   ],
   "source": [
    "test_big_mapping = test_new_for_mapping[test_new_for_mapping.big]['index'].values\n",
    "test_big_mapping"
   ]
  },
  {
   "cell_type": "code",
   "execution_count": 130,
   "metadata": {},
   "outputs": [
    {
     "data": {
      "text/plain": [
       "array([  5,   6,   7,   8,  10,  11,  12,  13,  16,  20,  21,  22,  23,\n",
       "        24,  26,  28,  29,  31,  32,  33,  34,  35,  36,  37,  38,  39,\n",
       "        40,  41,  43,  46,  47,  49,  50,  52,  55,  56,  62,  63,  64,\n",
       "        65,  69,  72,  74,  75,  78,  79,  80,  82,  84,  86,  87,  88,\n",
       "        90,  91,  95,  96,  97, 102, 107, 109, 110, 113, 114, 116, 118,\n",
       "       119, 120, 123, 124, 125, 126, 127, 128, 129, 130, 132, 133, 136,\n",
       "       139, 140, 143, 144, 145, 146, 147, 150, 151, 152, 153, 154, 155,\n",
       "       156, 157, 160, 164, 165, 167, 168, 169, 170, 171, 172, 173, 174,\n",
       "       175, 176, 177, 180, 181, 182, 183, 185, 186, 187, 188, 189, 190,\n",
       "       191, 192, 193, 194, 196, 198, 200, 201, 202, 203, 204, 208, 210,\n",
       "       213, 214, 215, 217, 218, 219, 220, 223, 224, 225, 226, 227, 228,\n",
       "       230, 231, 232, 233, 234, 235, 236, 237, 238, 239, 240, 241, 242])"
      ]
     },
     "execution_count": 130,
     "metadata": {},
     "output_type": "execute_result"
    }
   ],
   "source": [
    "test_sma_mapping = test_new_for_mapping[~test_new_for_mapping.big]['index'].values\n",
    "test_sma_mapping"
   ]
  },
  {
   "cell_type": "code",
   "execution_count": 131,
   "metadata": {},
   "outputs": [
    {
     "data": {
      "text/plain": [
       "(87, 156)"
      ]
     },
     "execution_count": 131,
     "metadata": {},
     "output_type": "execute_result"
    }
   ],
   "source": [
    "len(test_big_mapping), len(test_sma_mapping)"
   ]
  },
  {
   "cell_type": "markdown",
   "metadata": {},
   "source": [
    "- 테스트셋의 대소 구분에 의한 데이터들의 index값을 차례대로 배열로 저장.\n",
    "- 다만 원래 테스트셋에서의 선후 순서는 유지하면서 big/sma 그룹으로 나누어야 한다는 제한은 있지만, 그룹 분리나 예측 시 입력데이터로 사용할때 셔플하지 않기에 문제없음."
   ]
  },
  {
   "cell_type": "markdown",
   "metadata": {},
   "source": [
    "# 5. Modelling & Learning\n",
    "\n",
    "- **이 Ch.5 부분은 노트북 맨 밑( main()함수 )에서부터 차례로 위로 올라가면서 보면 됩니다.**\n",
    "- 이 Ch.5 부분은 노트북 맨 밑( main()함수 )에서부터 차례로 위로 올라가면서 보면 됩니다.\n",
    "- **이 Ch.5 부분은 노트북 맨 밑( main()함수 )에서부터 차례로 위로 올라가면서 보면 됩니다.**\n",
    "- 이 Ch.5 부분은 노트북 맨 밑( main()함수 )에서부터 차례로 위로 올라가면서 보면 됩니다.\n",
    "- **이 Ch.5 부분은 노트북 맨 밑( main()함수 )에서부터 차례로 위로 올라가면서 보면 됩니다.**"
   ]
  },
  {
   "cell_type": "code",
   "execution_count": 132,
   "metadata": {},
   "outputs": [
    {
     "name": "stderr",
     "output_type": "stream",
     "text": [
      "Using TensorFlow backend.\n"
     ]
    }
   ],
   "source": [
    "import keras\n",
    "from keras import backend as K\n",
    "from keras import layers\n",
    "from keras import regularizers\n",
    "from keras.wrappers.scikit_learn import KerasRegressor\n",
    "from keras.optimizers import Adam, RMSprop, SGD, Adagrad\n",
    "\n",
    "from sklearn.model_selection import ShuffleSplit, KFold, LeaveOneOut\n",
    "from sklearn.model_selection import cross_val_score, train_test_split\n",
    "from sklearn.model_selection import ShuffleSplit, KFold, LeaveOneOut\n",
    "from sklearn.model_selection import cross_val_score\n",
    "from sklearn.metrics import mean_squared_error\n",
    "from keras.layers.normalization import BatchNormalization\n",
    "from sklearn.preprocessing import MinMaxScaler, RobustScaler, Normalizer, StandardScaler\n",
    "\n",
    "# 실제 이 노트북에선 사용되지 않는 리그레서들.\n",
    "from sklearn.linear_model import LinearRegression\n",
    "from sklearn.linear_model import Lasso\n",
    "from sklearn.linear_model import Ridge\n",
    "from sklearn.linear_model import ElasticNet\n",
    "from sklearn.linear_model import SGDRegressor\n",
    "from sklearn.linear_model import BayesianRidge\n",
    "from sklearn.neighbors import KNeighborsRegressor\n",
    "from sklearn.tree import DecisionTreeRegressor\n",
    "from sklearn.svm import LinearSVR\n",
    "from sklearn.svm import SVR\n",
    "from sklearn.neural_network import  MLPRegressor\n",
    "from sklearn.ensemble import RandomForestRegressor\n",
    "from xgboost import XGBRegressor"
   ]
  },
  {
   "cell_type": "markdown",
   "metadata": {},
   "source": [
    "---\n",
    "- 타겟 예측값과 실제값사이의 RMSE를 구하는 함수\n",
    "- root_mean_squared_error()는 Keras의 러닝 과정에서 사용자 정의 Metrics로 사용하기 위한 것이고,\n",
    "- np_root_mean_squared_error()는 Numpy 배열형태로 존재하는 값을 이용해, 수동으로 RMSE를 얻기 위해 사용하는 루틴."
   ]
  },
  {
   "cell_type": "code",
   "execution_count": 133,
   "metadata": {},
   "outputs": [],
   "source": [
    "def root_mean_squared_error(y_true, y_pred):\n",
    "    return K.sqrt(K.mean(K.square(y_pred - y_true))) \n",
    "\n",
    "def np_root_mean_squared_error(y_true, y_pred):\n",
    "    return np.sqrt(np.mean(np.square(y_pred - y_true))) "
   ]
  },
  {
   "cell_type": "markdown",
   "metadata": {},
   "source": [
    "---\n",
    "- **multi_layers_model_with_BN()** 함수:\n",
    "    - 소형 배급사 데이터셋에 적용하고자 강구된 NN 빌드함수.\n",
    "    - 소형 훈련세트에 대한 에러가 상대적으로 더 크게 나타나길레, NN 모델을 조금더 복잡하게 해봄.\n",
    "    - 각 레이어의 크기, 층수, 드랍아웃 비율, BatchNormalization 층 추가 등등은, 각 하이퍼패러미터를 기준으로 grid search 하지는 못했고, 수동으로 적당한 값들 변경으로 나타난 값들이다.\n",
    "    - 따라서 최적(?)의 패러미터라고 보긴 어렵다."
   ]
  },
  {
   "cell_type": "code",
   "execution_count": 134,
   "metadata": {},
   "outputs": [],
   "source": [
    "def multi_layers_model_with_BN():\n",
    "    layer1_size = 128*2\n",
    "    layer2_size = 32*2\n",
    "    \n",
    "    reg1 = None\n",
    "    reg2 = regularizers.l1(0.001)\n",
    "    model = keras.models.Sequential()\n",
    "    model.add(layers.Dense(layer1_size, kernel_initializer='he_normal', kernel_regularizer=reg1, input_dim=features_n)) \n",
    "    model.add(layers.BatchNormalization()) \n",
    "    model.add(layers.Activation('relu'))\n",
    "    \n",
    "    model.add(layers.Dropout(rate=dropout_rate, seed=42)) \n",
    "    \n",
    "    model.add(layers.Dense(layer2_size, kernel_regularizer=reg2, kernel_initializer='he_normal'))\n",
    "    model.add(layers.BatchNormalization())\n",
    "    model.add(layers.Activation('relu'))\n",
    "    \n",
    "    model.add(layers.Dense(1, activation='linear', kernel_initializer='normal'))\n",
    "    \n",
    "    model.compile(optimizer=optimizer, loss=loss_func, metrics=[metrics_func])\n",
    "    return model"
   ]
  },
  {
   "cell_type": "markdown",
   "metadata": {},
   "source": [
    "---\n",
    "- **learn_sma()** 함수:\n",
    "    - learn_big()과 같은 과정을 수행한다.\n",
    "    - 복잡해진 NN(**multi_layers_model_with_BN**) 때문에 **num_epochs을 두배로 증가**시킨 점만 다르다."
   ]
  },
  {
   "cell_type": "code",
   "execution_count": 135,
   "metadata": {},
   "outputs": [],
   "source": [
    "def learn_sma():\n",
    "\n",
    "    global num_epochs, n_splits, batch_size, dropout_rate, loss_func, metrics_func, features_n\n",
    "    global hist_tra, hist_val, x_scaler, y_scaler, regressor, outfile_name, optimizer\n",
    "    \n",
    "    features_n = len(X_tr.columns)\n",
    "    \n",
    "    # learn_big()의 에폭보다 두배로 늘렸다. 복잡해진 NN때문.\n",
    "    num_epochs = 400 #<-------------------------------------------------------------- learn_big()과 다른 부분.\n",
    "    n_splits   = 2\n",
    "    batch_size = 20\n",
    "    dropout_rate = 0.5\n",
    "\n",
    "    loss_func = 'mse'\n",
    "    metrics_func = root_mean_squared_error\n",
    "    hist_tra = 'root_mean_squared_error'\n",
    "    hist_val = 'val_root_mean_squared_error'\n",
    "    \n",
    "    optimizer = Adam(lr=0.0001)\n",
    "    print('- Adam 옵티마이저의 설정값 =', optimizer.get_config(), '\\n')\n",
    "        \n",
    "    x_scaler = StandardScaler()\n",
    "    y_scaler = RobustScaler()\n",
    "    \n",
    "    print(\"- NN 모델 Summary:\")\n",
    "    print(multi_layers_model_with_BN().summary())\n",
    "    \n",
    "    regressor = KerasRegressor(build_fn=multi_layers_model_with_BN) #<--------------- learn_big()과 다른 부분.\n",
    "\n",
    "    learn_and_predict_box_office()"
   ]
  },
  {
   "cell_type": "markdown",
   "metadata": {},
   "source": [
    "---\n",
    "- **add_prediction_to_submission()** 함수:\n",
    "    - 전체 훈련데이터를 통해 최적의 epoch내에서 러닝된 리그레서(regressor)를 입력 받아서, 테스트 데이터(X)의 예측값을 구한다.\n",
    "    - 이 값은 러닝 전에, scale --> log1p 되었기에, 예측값을 다시 expm1 --> scaler.inverse_transform 시켜준다.\n",
    "    - 이 후에 **별도의 부가처리**를 해준다. 이 부분은 리그레서/스케일러 등을 바꾸면서 실험하는 동안에, 최종 변환된 타겟값(관객수)이 음수(-)가 되는 경우가 있었기에, 이런 경우에 음수인 타겟값을 나머지 값들의 중간값으로 치환하는 처리를 해줬었는데, 현재 노트북의 스케일러/리그레서 상에선 이런 경우는 없었던 것 같다. 다만, 혹시 모를 예비책으로 계속 존재시킴.\n",
    "    "
   ]
  },
  {
   "cell_type": "code",
   "execution_count": 136,
   "metadata": {},
   "outputs": [],
   "source": [
    "def add_prediction_to_submission(regressor=None, X=None):\n",
    "    def deal_with_negative(x):\n",
    "        if x < 0:\n",
    "            x = 0\n",
    "        return x\n",
    "    def deal_with_zero(x):\n",
    "        if x == 0:\n",
    "            x = median\n",
    "        return x\n",
    "    \n",
    "    y_pred = regressor.predict(X)\n",
    "    # exp --> scale.\n",
    "    y_pred = np.expm1(y_pred)\n",
    "    predictions = y_scaler.inverse_transform(y_pred.reshape(-1,1))\n",
    "\n",
    "    \n",
    "    # 별도의 부가처리.\n",
    "    # 타겟 예측값이 음수(-)이면 먼저 그 값을 0으로 치환한 후, 전체 데이터의 중간값(median)을 구한 후, 다시 0인 값을 median 값으로 치환하는 처리.\n",
    "    # 주로 사용하는 스케일러 혹은 스케일/로그화 순서 변경 등에서 음수값이 나타나는 경우가 있어서 대비책으로 마련.\n",
    "    tmp_df = pd.DataFrame(predictions, columns=['box_off_num'])\n",
    "    median = tmp_df.box_off_num.apply(deal_with_negative).median()\n",
    "    tmp_df.box_off_num = tmp_df.box_off_num.apply(deal_with_negative).apply(deal_with_zero)\n",
    "\n",
    "    # 대/소 구분에 따라 나눈 데이터셋으로 러닝, 예측을 하고 나서, 그 예측값을 원래 테스트셋의 영화항목 순서에 맞게 끼워맞춰야 한다.\n",
    "    # 이를 위해 대/소 러닝 전에 submission_flag 변수에 big/sma을 대입해서 현재 러닝 대상을 알린 후,\n",
    "    # 그 값에 따라서 앞서 준비했던 테스트셋의 인덱스맵핑을 알맞게 선택한후, **차례대로** submission 데이터프레임에 대입한다.\n",
    "    if submission_flag == 'big':\n",
    "        maps = test_big_mapping\n",
    "    else:\n",
    "        maps = test_sma_mapping\n",
    "    \n",
    "    # 인덱스 맵핑 리스트의 값에 따라, **차례대로** 대입해야 섞이지 않음. \n",
    "    for i in range(len(predictions)):\n",
    "        idx = maps[i]\n",
    "        df_submission_src.loc[idx, 'box_off_num'] = tmp_df.loc[i, 'box_off_num']"
   ]
  },
  {
   "cell_type": "markdown",
   "metadata": {},
   "source": [
    "---\n",
    "- **do_training_with_full_train_data()** 함수:\n",
    "    - 앞서 exploit_epochs() 함수로 주어진 epochs 내에서, cv 검증 에러가 최소가 되는 최적 에폭을 구했다.\n",
    "    - 그후 이 함수에서는 kfold로 나눈 훈련데이터가 아닌, 전체 훈련데이터를 이용해 다시 리그레서를 최적 에폭까지 러닝시킨다.\n",
    "    - 러닝 과정에서 훈련데이터의 RMSE 에러 변화를 그래프로 그려준다.\n",
    "    - 마지막으로 전체훈련데이터의 RMSE를 계산해 출력한다."
   ]
  },
  {
   "cell_type": "code",
   "execution_count": 137,
   "metadata": {},
   "outputs": [],
   "source": [
    "def do_training_with_full_train_data(regressor=None, X=None, y=None):\n",
    "    print('\\n- 전체 train데이터셋을 이용해, 최소 epochs까지 러닝...')\n",
    "    history = regressor.fit(X, y)\n",
    "\n",
    "    tra_rmse_history = history.history[hist_tra]\n",
    "    plt.plot(range(1, len(tra_rmse_history)+1), tra_rmse_history, 'r')\n",
    "    plt.show()\n",
    "    \n",
    "    y_tr_pred = regressor.predict(X)\n",
    "    print(\"\\n전체 train 데이터로 최적 epoch까지 훈련한 결과 RMSE는 {} 입니다.\\n\".format(np_root_mean_squared_error(y.flatten(), y_tr_pred.flatten())))"
   ]
  },
  {
   "cell_type": "markdown",
   "metadata": {},
   "source": [
    "---\n",
    "- **exploit_epochs()** 함수:\n",
    "    - 훈련데이터를 kfold로 나눠서 훈련시키고, 나머지 검증폴드로 검증계산을 하는 과정을 kfold별로 num_epochs 에폭만큼 러닝을 반복한다.\n",
    "    - 그 과정에서 loss/validation lss/metrics/validation metrics 등이 history에 저장이 된다.\n",
    "    - kfold로 데이터를 폴드로 나눠서 각 폴드에 대해서 epochs이 진행된다.\n",
    "    - all_tra_rmse_history/all_val_rmse_history 리스트에는, 각 folds 별로 진행된 epoch 과정에서 RMSE 값들이 담겨있다.\n",
    "    - average_tra_rmse_history/average_val_rmse_history 리스트는, 각 folds의 RMSE 값(all_...리스트)을 같은 epoch 기준으로 평균을 내서, epoch 변화에 따른 평균 훈련/검증 RMSE로 재정렬한 것이다. 즉 all_...이 담고있는 folds->epochs별로 된 RMSE 값들을, average_...는 epochs->folds평균RMSE. 이유는 epochs기준으로 그래프를 그리기 위해.\n",
    "    - 검증 에러가 최소가 되는 epoch 값을 반환한다."
   ]
  },
  {
   "cell_type": "code",
   "execution_count": 138,
   "metadata": {},
   "outputs": [],
   "source": [
    "def exploit_epochs(X=None, y=None, kfold=None, model=None, regressor=None, epochs=None):\n",
    "    print('\\n- 최소/최적 epochs 계산...\\n')\n",
    "    \n",
    "    # 리스트 리셋.\n",
    "    all_tra_rmse_history.clear()\n",
    "    all_val_rmse_history.clear()\n",
    "   \n",
    "    # kfold로 훈련/타겟을 split한 후에, split된 훈련데이터로 regressor에 설정된 에폭만큼 반복해서\n",
    "    #   - 러닝한 후,\n",
    "    #   - 러닝된 리그레서를 이용해 나머지 holdout된 검증데이터를 이용해 RMSE에러를 계산한다.\n",
    "    #   - 러닝과정/검증과정의 각 loss/metrics는 history에 저장되어 반환된다.\n",
    "    for train_index, val_index in tqdm_notebook(kfold.split(X, y)):\n",
    "        history = regressor.fit(\n",
    "            X.iloc[train_index],\n",
    "            y[train_index],\n",
    "            validation_data=(X.iloc[val_index], y[val_index]))\n",
    "\n",
    "        # 한 fold별 훈련/검증 데이터를 리스트에 추가한다.\n",
    "        # 따라서 all_tra_rmse_history/all_val_rmse_history 리스트의 가장 최상의 인덱스는, epoch별이 아니라 fold별이다.\n",
    "        # 실제 에폭별 그래프를 그리기 위해선, 이를 다시 epoch별 fold의 에러 평균으로 재정렬하는 과정을 거친다.(plot_epochs_rmse_history 함수 내에서)\n",
    "        all_tra_rmse_history.append(history.history[hist_tra])\n",
    "        all_val_rmse_history.append(history.history[hist_val])\n",
    "\n",
    "    # folds->epochs 를 epochs->folds평균으로 재정렬.\n",
    "    average_tra_rmse_history = [np.mean([x[i] for x in all_tra_rmse_history]) for i in range(epochs)]\n",
    "    average_val_rmse_history = [np.mean([x[i] for x in all_val_rmse_history]) for i in range(epochs)]\n",
    "\n",
    "    plt.plot(range(1, len(average_tra_rmse_history)+1), average_tra_rmse_history, 'r')      \n",
    "    plt.plot(range(1, len(average_val_rmse_history)+1), average_val_rmse_history, 'b')\n",
    "    plt.show()\n",
    "    \n",
    "    # 검증 RMSE가 최소가 되는 인덱스(argmin), 즉 에폭을 반환.\n",
    "    return np.argmin(average_val_rmse_history)"
   ]
  },
  {
   "cell_type": "markdown",
   "metadata": {},
   "source": [
    "---\n",
    "- **do_data_scaling()** 함수:\n",
    "    - 실질적으로는 X_tr, y_tr, X_te가 이 함수의 입력값이다. 다만 편리성을 위해 함수의 인자로 전달하지 않고, 전역변수로 처리했다.\n",
    "    - 훈련데이터(X_tr)를 바탕으로 fitting을 한 후, 이를 바탕으로 X_tr_scaled/X_te_scaled 두 데이터를 모두 스케일 변환한다.\n",
    "    - 이때 사용될 스케일 방법은 x_scaler/y_scaler 객체로 함수 외부에서 미리 설정하고 호출한다.\n",
    "    - 훈련데이터의 **타겟값(y_tr)에 대한 스케일**은 y_scaler에 의한 스케일링 외에 추가로,\"**로그화**\"를 진행한다. 이는 타겟값(관객수)의 범위가 너무 넓어서\n",
    "    정규분포에 가깝지 않고 한쪽으로 치우쳐진 상태라, 이를 보강하기 위한 추가변환이다. (반대로 먼저 로그화 후에 스케일, 스케일만 등으로 모두 시도해본 결과, **스케일링 후 로그화**가 좋은 결과가 나와서 채택)\n",
    "    - 따라서 테스트셋에 대해 예측을 한 후의 값을 다시 exponentialize하는 하는 것을 누락하면 안된다.\n",
    "    구체적인 변환은 **log1p(x) <--> expm1(x)**이다. (log(1+x) <--> exp(x)-1) 관계)."
   ]
  },
  {
   "cell_type": "code",
   "execution_count": 139,
   "metadata": {},
   "outputs": [],
   "source": [
    "def do_data_scaling():\n",
    "    print('\\n- 데이터 스케일링...\\n')\n",
    "    x_scaler.fit(X_tr)\n",
    "    y_scaler.fit(y_tr.values.reshape(-1,1))\n",
    "\n",
    "    global X_tr_scaled, X_te_scaled, y_tr_scaled\n",
    "    # 훈련/테스트 데이터 모두 훈련데이터를 기준으로 fitting한 결과로 스케일한다.\n",
    "    X_tr_scaled = pd.DataFrame(x_scaler.transform(X_tr), columns=X_tr.columns)\n",
    "    X_te_scaled = pd.DataFrame(x_scaler.transform(X_te), columns=X_te.columns)\n",
    "\n",
    "    # scale --> log.\n",
    "    y_tr_scaled = y_scaler.transform(y_tr.values.reshape(-1,1)) # scaler에 의한 scaling.\n",
    "    y_tr_scaled = np.log1p(y_tr_scaled) # log화."
   ]
  },
  {
   "cell_type": "markdown",
   "metadata": {},
   "source": [
    "---\n",
    "- **learn_and_predict_box_office()** 함수:\n",
    "    - 러닝 전에 데이터/타겟값을 스케일링 한다.\n",
    "    - num_epochs까지 folds 별로 러닝(folds-1 폴드의 훈련데이터 이용)/검증을 수행한 후, 검증 에러가 최소가 되는 epoch을 구한다.\n",
    "    - 이제 이 구한 epoch까지, 전체 훈련데이터를 이용해 러닝 시킨 후, 그 훈련된 리그레서로 테스트 타겟값을 예측/저장한다."
   ]
  },
  {
   "cell_type": "code",
   "execution_count": 140,
   "metadata": {},
   "outputs": [],
   "source": [
    "def learn_and_predict_box_office():\n",
    "    # step.1: \n",
    "    # 훈련/테스트셋, 타겟값에 대한 스케일링 작업. NN 특성상 고른 입력값으로 준비.\n",
    "    do_data_scaling()\n",
    "\n",
    "    # step.2:\n",
    "    # num_epochs 이내에서 validation RMSE error가 최소가 되는 epochs_opt를 구한다.\n",
    "    regressor.set_params(batch_size=batch_size, epochs=num_epochs, verbose=False) # 리그레서의 패러미터 설정. 각 값들은 이 루틴 밖의 global한 값.\n",
    "    epochs_opt = exploit_epochs(\n",
    "        X=X_tr_scaled,\n",
    "        y=y_tr_scaled,\n",
    "        epochs=num_epochs,\n",
    "        regressor=regressor,\n",
    "        kfold=KFold(n_splits=n_splits, shuffle=True, random_state=42)\n",
    "    )\n",
    "    print('최소 epochs_opt는 {}입니다.'.format(epochs_opt))\n",
    "\n",
    "    # step.3:\n",
    "    # 리그레서가 앞서 구한 epochs_opt 에폭까지만 러닝하도록 설정한후, 전체 훈련데이터를 사용해 러닝.\n",
    "    regressor.set_params(batch_size=batch_size, epochs=epochs_opt, verbose=False)\n",
    "    do_training_with_full_train_data(\n",
    "        regressor=regressor,\n",
    "        X=X_tr_scaled,\n",
    "        y=y_tr_scaled)\n",
    "\n",
    "    # step.4:\n",
    "    # 훈련된 리그레서를 이용해, 테스트 데이터의 예측값을 계산 후, submission용 파일로 저장.\n",
    "    add_prediction_to_submission(regressor=regressor, X=X_te_scaled)"
   ]
  },
  {
   "cell_type": "markdown",
   "metadata": {},
   "source": [
    "---\n",
    "- **simple_layer_model()** 함수:\n",
    "    - NN을 빌드하는 함수, KerasRegress 생성시 내부적으로 호출되면, 생성한 model을 반환하는 역할.\n",
    "    - 이 심플레이어 모델은 입력과 출력 두 레이어로만 구성됨.\n",
    "    - 여러 러닝 과정 중에는 Dropout/중간층/층크기/레귤라이저 종류 등에 변화를 줘 봤지만, 현재 모델로 에러가 낮아서 이용됨."
   ]
  },
  {
   "cell_type": "code",
   "execution_count": 141,
   "metadata": {},
   "outputs": [],
   "source": [
    "def simple_layer_model():\n",
    "    layer1_size = 128\n",
    "    layer2_size = 32*2\n",
    "    \n",
    "    reg1 = None\n",
    "    model = keras.models.Sequential()\n",
    "    model.add(layers.Dense(layer1_size, activation='relu', kernel_initializer='normal', kernel_regularizer=reg1, input_dim=features_n)) \n",
    "    model.add(layers.Dense(1, activation='linear', kernel_initializer='normal'))\n",
    "    \n",
    "    model.compile(optimizer=optimizer, loss=loss_func, metrics=[metrics_func])\n",
    "    return model"
   ]
  },
  {
   "cell_type": "markdown",
   "metadata": {},
   "source": [
    "---\n",
    "- **learn_big()** 함수:\n",
    "    - 데이터/타겟에 대한 각각의 **스케일러 지정**\n",
    "    - 사용할 Neural Network(NN)를 Sklearn 툴 내에서 사용하기 위해 **KerasRegressor 선택**. \n",
    "    - 참고로 Sklearn 내의 각종 리그레서와 이를 Stacking한 모델 등으로 시도해봐도, 이 모델보다 에러가 높게 나왔음.\n",
    "    - 기타 설정 값들은, 사실 NN를 빌드하는 루틴 내에서 지정해되 되는 값들인데, 다만 big/sma 각각의 러닝에 대해 각기 다른 설정값을 지정할 가능성에 대비해 NN빌드 루틴 밖, 이곳에서 설정하도록 했다.\n",
    "    - 이 함수는 실제 러닝에 필요한 리그레서 생성과 기타 관련 하이퍼패러미터를 설정하는게 주목적이고, 실제 러닝은 learn_and_predict_box_office() 함수에서 수행된다.\n",
    "    "
   ]
  },
  {
   "cell_type": "code",
   "execution_count": 142,
   "metadata": {},
   "outputs": [],
   "source": [
    "def learn_big():\n",
    "    # 편의를 위해, 많은 경우 함수 인자 대신에 전역변수로 처리했다.\n",
    "    global num_epochs, n_splits, batch_size, dropout_rate, loss_func, metrics_func, features_n\n",
    "    global hist_tra, hist_val, x_scaler, y_scaler, regressor, outfile_name, optimizer\n",
    "    \n",
    "    # feature 갯수 (이는 NN의 첫 레이어의 입력갯수를 정하는데 사용된다.\n",
    "    features_n = len(X_tr.columns)\n",
    "    \n",
    "    num_epochs = 200\n",
    "    n_splits   = 2  # CV를 위한 folds는 보통 5,10을 사용하는데, 초반 빠른 결과를 위해 시도해돈 2값이 오히려 에러가 적게 나와서 2 사용.\n",
    "    batch_size = 20\n",
    "\n",
    "    # Loss function으로 MSE 선정.\n",
    "    loss_func = 'mse'\n",
    "    # 러닝 과정에서 계산할 메트릭으로는 사용자 정의한 RMSE 함수 지정.\n",
    "    metrics_func = root_mean_squared_error\n",
    "    # history에서 훈련데이터로 계산한 RMSE 메트릭에 대한 Key 이름.\n",
    "    hist_tra = 'root_mean_squared_error'\n",
    "    # history에서 검증데이터로 계산한 RMSE 메트릭에 대한 Key 이름.\n",
    "    hist_val = 'val_root_mean_squared_error'\n",
    "    \n",
    "    # Adam 옵티마이저 사용.\n",
    "    # 옵티미이저를 NN 빌드 함수 내에서 직접 지정하지 않고 여기서 한 이유는, big/sma 별로 다른 옵티~를 설정할 가능성에 대비해서다.\n",
    "    # 다만, 실제 결과물 노트북에선 둘다 같은 패러미터의 옵티마이저를 사용.\n",
    "    optimizer = Adam(lr=0.0001)\n",
    "    print('- Adam 옵티마이저의 설정값 =', optimizer.get_config(), '\\n')\n",
    "    \n",
    "    # 데이터에 대한 스케일러 지정. 이 선정된 Scaler는 Normalizer, MinMaxScaler 등 몇가지를 테스트한 후에 결과를 바탕으로 선정된 것.\n",
    "    x_scaler = StandardScaler()\n",
    "    # 훈련데이터의 타겟값에 대한 스케일러 지정.\n",
    "    y_scaler = RobustScaler()\n",
    "    \n",
    "    print(\"- NN 모델 Summary:\")\n",
    "    print(simple_layer_model().summary())\n",
    "    \n",
    "    # KerasRegressor 이용.\n",
    "    regressor = KerasRegressor(build_fn=simple_layer_model)\n",
    "    \n",
    "    # KerasRegressor 모델을 이용해 러닝 및 예측.\n",
    "    learn_and_predict_box_office()"
   ]
  },
  {
   "cell_type": "markdown",
   "metadata": {},
   "source": [
    "---\n",
    "- **main()** 함수:\n",
    "    - 크게 두번(big/sma 데이터셋 각각)의 루프를 반복하면서, 두번의 러닝/예측을 실시한다.\n",
    "    - 결과를 CSV로 저장하고, 총 소요시간을 출력."
   ]
  },
  {
   "cell_type": "code",
   "execution_count": 143,
   "metadata": {},
   "outputs": [],
   "source": [
    "def main():\n",
    "    # 초반 노트북 작성시에는 함수로 나누지 않고 작성한 것을, 가독성있게 함수로 나누고 하는 과정에서 각 변수를 함수의 parameter로 정리하려니 너무 복잡해지고\n",
    "    # 자칫 에러가 생길까봐, 그냥 global로 처리했음.\n",
    "    global X_tr, y_tr, X_te, X_tr_big, y_tr_big, X_te_big, X_tr_sma, y_tr_sma, X_te_sma, start_time\n",
    "    global all_val_rmse_history, all_tra_rmse_history, features_n, df_submission_src, submission_flag\n",
    "    \n",
    "    # epoch 마다, validation의 rmse 이력을 저장하는 리스트.\n",
    "    all_val_rmse_history = []\n",
    "    # epoch 마다, training의 rmse 이력을 저장하는 리스트.\n",
    "    all_tra_rmse_history = []\n",
    "    # submission CSV 읽음.\n",
    "    df_submission_src = pd.read_csv('./submission.csv')\n",
    "\n",
    "    for flag in [\"big\", \"sma\"]:\n",
    "        submission_flag = flag\n",
    "\n",
    "        # learning 관련한 루틴들은 모두 입력이 X_tr, 타겟이 y_tr, 테스트가 X_te로 가정하고 진행됩니다.\n",
    "        # 이에 맞게 big/sma인 경우 각각의 데이터셋을 맞게 할당하는 과정.\n",
    "        if flag == 'big':\n",
    "            X_tr = X_tr_big\n",
    "            y_tr = y_tr_big\n",
    "            X_te = X_te_big\n",
    "        else:\n",
    "            X_tr = X_tr_sma\n",
    "            y_tr = y_tr_sma\n",
    "            X_te = X_te_sma   \n",
    "\n",
    "        print('\\n' * 5)\n",
    "        print(\"=\" * 80)\n",
    "        print(\"=\" * 80)\n",
    "        print(\"=\" * 80)\n",
    "        print(\"submission_flag는\", flag)\n",
    "        print(\"=\" * 80)\n",
    "        print(\"=\" * 80)\n",
    "        print(\"=\" * 80)\n",
    "        print('\\n\\n- train 데이터 갯수 =',len(X_tr), ', test 데이터 갯수 =', len(X_te), '\\n')\n",
    "\n",
    "        if flag == 'big':\n",
    "            learn_big()\n",
    "        else:\n",
    "            learn_sma()\n",
    "\n",
    "    # 루틴 반복시, 출력 csv가 겹치지 않도록.\n",
    "    outfile_name = './lee-kyung-joon-submission-{}.csv'.format(datetime.now().strftime(\"%Y-%m-%d-%H-%M-%S\"))\n",
    "    df_submission_src.to_csv(outfile_name, index=False)\n",
    "    print('\\n- 제출 파일 {}를 저장했습니다...\\n'.format(outfile_name))\n",
    "    print('\\n')\n",
    "    print('\\n- 제출할 예측 데이터의 정보.\\n')\n",
    "    print(df_submission_src.describe())\n",
    "\n",
    "    elapsed = timeit.default_timer() - start_time\n",
    "    mins, secs = divmod(elapsed, 60)\n",
    "    print('\\n\\n노트북 총 소요시간 = %d분 %d초\\n' % (mins, secs))"
   ]
  },
  {
   "cell_type": "markdown",
   "metadata": {},
   "source": [
    "---\n",
    "### 대략적인 전체 흐름 설명.\n",
    "\n",
    "- main() 함수를 호출 하기 전에 미리 준비되어 있어야 하는 데이터 상황\n",
    "    - EDA&FE를 통해 원본 데이터 컬럼을 머신러닝을 위한 feature로 변환 완료.\n",
    "    - 배급사(distributor)별 평균관객수를 기반으로, 평균관객수가 큰 그룹과 작은 그룹으로 훈련/테스트셋이 나눠져 있어야 함.\n",
    "        - 대형 배급사 데이터셋 그룹: X_tr_big, y_tr_big, X_te_big\n",
    "        - 소형 배급사 데이터셋 그룹: X_tr_sma, y_tr_sma, X_te_sma\n",
    "        - 즉 len(X_tr) = len(X_tr_big) + len(X_tr_sma) 식이다.\n",
    "        - 이때 나누는 기준 값이 BIG_PERCENTILE=0.9, 이 값은 넓은 의미로 하이퍼패러미터가 되어, 이를 조정해서 최종에러를 줄이는 반복잡업을 진행한다.\n",
    "- **main()**의 역할:\n",
    "    - 대소 배급사 기준 두 데이터셋 그룹에 대해, 다른 모델로 각각 러닝/예측(**learn_big/learn_sma**)한다.\n",
    "    - 대소 데이터셋 그룹에 대해, 이 노트북에서 실제 사용하는 러닝/예측 과정 거의 같다. 구성하기에 따라서는, 두개가 별개이므로 각각 다른 머신러닝 알고리즘으로 구성하거나 등등으로 할 수 있지만, 이 노트북에서는 전체적인 러닝 과정은 동일하고 다만 뉴럴네트워크 구성을 단순/약간복잡하게 구성한 정도의 차이만 뒀다.\n",
    "- **learn_big/sma()** 역할:\n",
    "    - 러닝에 필요한 \"Optimizer\", \"Scaler\", \"KerasRegressor에서 사용할 NN 모델\" 지정 등을 한 후에, 실제 메인 러닝 루틴인 **learn_and_predict_box_office()** 호출한다.\n",
    "    - Optimizer, Scaler 등은 NN 모델 구성 함수(simple_layer_model/multi_layers_model_with_BN)에서 직접 지정해도 되지만, 이 종류도 hyperparameter화 해서, 반복적인 선택과정을 프로그램적으로 지정할 가능성을 위해, 이곳에서 러닝전에 일괄 지정하도록 한것.\n",
    "- **learn_and_predict_box_office()** 역할:\n",
    "    - 데이터 스케일링 작업(**do_data_scaling()**):\n",
    "        - 훈련데이터의 타겟(y)값의 큰 범위 때문에 log화하는 등 추가 작업. 이제 러닝에 필요한 완전한 데이터 준비 끝.\n",
    "    - 최적/최소 epochs 값 구하기(**exploit_epochs()**): \n",
    "        - 훈련데이터를 kfolds로 나눠서, 훈련/검증을 num_epochs(200/400)만큼 진행한다. 그 과정 중에 얻는 history값을 이용해서, 전체 num_epochs 내에서 검증RMSE가 최소가 되는 epochs_opt 값을 얻는게 목적.\n",
    "    - 리그레서를 최종 러닝시킴(**do_training_with_full_train_data()**): \n",
    "        - 앞서 얻은 epochs_opt 에폭까지 전체훈련데이터를 이용해 다시 러닝. \n",
    "    - 최종 러닝된 리그레서로 예측 및 저장(**add_prediction_to_submission()**):\n",
    "        - 예측한 후 다시 그 값을 역변환(scale-->log의 역순) 시킨 후,\n",
    "        - 제출csv 데이터프레임의 해당되는 행(index)에 순차적으로 예측값 대입.\n",
    "            - 테스트셋을 대소(big/sma) 기준에 맞춰서 두 그룹으로 나눠서 예측했기에, 여기서 문제는 예측한 값들을 원래 테스트셋의 원래 위치에 맞게 대입하는 것인데, 이를 위해 Data Preparation 마지막 과정에서 해당 index를 순차적으로 대/소에 맞게 각각 저장해뒀다. 이를 이용해 순차적으로 저장하면 됨.\n",
    "    "
   ]
  },
  {
   "cell_type": "code",
   "execution_count": 144,
   "metadata": {},
   "outputs": [
    {
     "name": "stdout",
     "output_type": "stream",
     "text": [
      "\n",
      "\n",
      "\n",
      "\n",
      "\n",
      "\n",
      "================================================================================\n",
      "================================================================================\n",
      "================================================================================\n",
      "submission_flag는 big\n",
      "================================================================================\n",
      "================================================================================\n",
      "================================================================================\n",
      "\n",
      "\n",
      "- train 데이터 갯수 = 208 , test 데이터 갯수 = 87 \n",
      "\n",
      "- Adam 옵티마이저의 설정값 = {'lr': 9.999999747378752e-05, 'beta_1': 0.8999999761581421, 'beta_2': 0.9990000128746033, 'decay': 0.0, 'epsilon': 1e-07, 'amsgrad': False} \n",
      "\n",
      "- NN 모델 Summary:\n",
      "_________________________________________________________________\n",
      "Layer (type)                 Output Shape              Param #   \n",
      "=================================================================\n",
      "dense_1 (Dense)              (None, 128)               3072      \n",
      "_________________________________________________________________\n",
      "dense_2 (Dense)              (None, 1)                 129       \n",
      "=================================================================\n",
      "Total params: 3,201\n",
      "Trainable params: 3,201\n",
      "Non-trainable params: 0\n",
      "_________________________________________________________________\n",
      "None\n",
      "\n",
      "- 데이터 스케일링...\n",
      "\n",
      "\n",
      "- 최소/최적 epochs 계산...\n",
      "\n"
     ]
    },
    {
     "data": {
      "application/vnd.jupyter.widget-view+json": {
       "model_id": "51e66efc83e146a9b55e35db95b260c7",
       "version_major": 2,
       "version_minor": 0
      },
      "text/plain": [
       "HBox(children=(IntProgress(value=1, bar_style='info', max=1), HTML(value='')))"
      ]
     },
     "metadata": {},
     "output_type": "display_data"
    },
    {
     "name": "stdout",
     "output_type": "stream",
     "text": [
      "\n"
     ]
    },
    {
     "data": {
      "image/png": "[encoded data removed]",
      "text/plain": [
       "<Figure size 432x288 with 1 Axes>"
      ]
     },
     "metadata": {
      "needs_background": "light"
     },
     "output_type": "display_data"
    },
    {
     "name": "stdout",
     "output_type": "stream",
     "text": [
      "최소 epochs_opt는 104입니다.\n",
      "\n",
      "- 전체 train데이터셋을 이용해, 최소 epochs까지 러닝...\n"
     ]
    },
    {
     "data": {
      "image/png": "[encoded data removed]",
      "text/plain": [
       "<Figure size 432x288 with 1 Axes>"
      ]
     },
     "metadata": {
      "needs_background": "light"
     },
     "output_type": "display_data"
    },
    {
     "name": "stdout",
     "output_type": "stream",
     "text": [
      "\n",
      "전체 train 데이터로 최적 epoch까지 훈련한 결과 RMSE는 0.4098438899035622 입니다.\n",
      "\n",
      "\n",
      "\n",
      "\n",
      "\n",
      "\n",
      "\n",
      "================================================================================\n",
      "================================================================================\n",
      "================================================================================\n",
      "submission_flag는 sma\n",
      "================================================================================\n",
      "================================================================================\n",
      "================================================================================\n",
      "\n",
      "\n",
      "- train 데이터 갯수 = 392 , test 데이터 갯수 = 156 \n",
      "\n",
      "- Adam 옵티마이저의 설정값 = {'lr': 9.999999747378752e-05, 'beta_1': 0.8999999761581421, 'beta_2': 0.9990000128746033, 'decay': 0.0, 'epsilon': 1e-07, 'amsgrad': False} \n",
      "\n",
      "- NN 모델 Summary:\n",
      "_________________________________________________________________\n",
      "Layer (type)                 Output Shape              Param #   \n",
      "=================================================================\n",
      "dense_9 (Dense)              (None, 256)               6144      \n",
      "_________________________________________________________________\n",
      "batch_normalization_1 (Batch (None, 256)               1024      \n",
      "_________________________________________________________________\n",
      "activation_1 (Activation)    (None, 256)               0         \n",
      "_________________________________________________________________\n",
      "dropout_1 (Dropout)          (None, 256)               0         \n",
      "_________________________________________________________________\n",
      "dense_10 (Dense)             (None, 64)                16448     \n",
      "_________________________________________________________________\n",
      "batch_normalization_2 (Batch (None, 64)                256       \n",
      "_________________________________________________________________\n",
      "activation_2 (Activation)    (None, 64)                0         \n",
      "_________________________________________________________________\n",
      "dense_11 (Dense)             (None, 1)                 65        \n",
      "=================================================================\n",
      "Total params: 23,937\n",
      "Trainable params: 23,297\n",
      "Non-trainable params: 640\n",
      "_________________________________________________________________\n",
      "None\n",
      "\n",
      "- 데이터 스케일링...\n",
      "\n",
      "\n",
      "- 최소/최적 epochs 계산...\n",
      "\n"
     ]
    },
    {
     "data": {
      "application/vnd.jupyter.widget-view+json": {
       "model_id": "7ca957ed09904a49a0deb24a999e11f0",
       "version_major": 2,
       "version_minor": 0
      },
      "text/plain": [
       "HBox(children=(IntProgress(value=1, bar_style='info', max=1), HTML(value='')))"
      ]
     },
     "metadata": {},
     "output_type": "display_data"
    },
    {
     "name": "stdout",
     "output_type": "stream",
     "text": [
      "\n"
     ]
    },
    {
     "data": {
      "image/png": "[encoded data removed]",
      "text/plain": [
       "<Figure size 432x288 with 1 Axes>"
      ]
     },
     "metadata": {
      "needs_background": "light"
     },
     "output_type": "display_data"
    },
    {
     "name": "stdout",
     "output_type": "stream",
     "text": [
      "최소 epochs_opt는 386입니다.\n",
      "\n",
      "- 전체 train데이터셋을 이용해, 최소 epochs까지 러닝...\n"
     ]
    },
    {
     "data": {
      "image/png": "[encoded data removed]",
      "text/plain": [
       "<Figure size 432x288 with 1 Axes>"
      ]
     },
     "metadata": {
      "needs_background": "light"
     },
     "output_type": "display_data"
    },
    {
     "name": "stdout",
     "output_type": "stream",
     "text": [
      "\n",
      "전체 train 데이터로 최적 epoch까지 훈련한 결과 RMSE는 0.49510683531617095 입니다.\n",
      "\n",
      "\n",
      "- 제출 파일 ./lee-kyung-joon-submission-2019-05-22-16-25-23.csv를 저장했습니다...\n",
      "\n",
      "\n",
      "\n",
      "\n",
      "- 제출할 예측 데이터의 정보.\n",
      "\n",
      "         box_off_num\n",
      "count        243.000\n",
      "mean     549_989.136\n",
      "std    1_218_855.404\n",
      "min           65.480\n",
      "25%        3_834.292\n",
      "50%       15_748.027\n",
      "75%      645_055.469\n",
      "max   10_838_123.000\n",
      "\n",
      "\n",
      "노트북 총 소요시간 = 1분 8초\n",
      "\n"
     ]
    }
   ],
   "source": [
    "main()"
   ]
  },
  {
   "cell_type": "markdown",
   "metadata": {},
   "source": [
    "---\n",
    "# Epilogue\n",
    "- 최적(최소) epochs 값을 단순히 지정된 범위 내에서 검증 에러가 산술적으로 최소가 되는 epoch으로 프로그래밍적(min)으로 간단히 하다보니, 위 small셋에 대한 검증/학습 에러 그래프에서처럼, 검증에러의 변화폭이 매우 작은 상태로 오래 지속되는 경우에, 이미 오버피팅이 꽤 진행된 epoch지점을 자동으로 골라, 이 지점으로 다시 러닝하는 격이 된다.\n",
    "- 그래프를 참조해 수동으로 최소 epoch 지점을 강제지정하거나, 변화폭 margin 등을 적용해야 할 것같다.\n",
    "- 이 노트북에선 배급사별 평균관객수를 대/소로 2등분만 하였는데, 중/ 정도를 더 추가하면 결과에 어떨지도 궁금\n",
    "- sklearn의 여러 그리레서와 xgboost 등도 적용해보고, stacking도 해봤지만, 이 노트북이 어쨋든 (순간적인, 돌릴때마다 값의 차이가 난다.) 결과가 제일 높게 나왔다. 러닝할 데이터가 예측할 데이터의 2배 정도되는 극히 제한된 데이터 예측 문제라, stacking 등이 큰 효력을 발휘하지 못한거 아닌가...추측함. 물론 stacking 이전에 각 리그레서에 대한 철저한 gridsearch는 하지 못한 이유도 있겠지만."
   ]
  }
 ],
 "metadata": {
  "kernelspec": {
   "display_name": "Python 3",
   "language": "python",
   "name": "python3"
  },
  "language_info": {
   "codemirror_mode": {
    "name": "ipython",
    "version": 3
   },
   "file_extension": ".py",
   "mimetype": "text/x-python",
   "name": "python",
   "nbconvert_exporter": "python",
   "pygments_lexer": "ipython3",
   "version": "3.6.7"
  }
 },
 "nbformat": 4,
 "nbformat_minor": 2
}
